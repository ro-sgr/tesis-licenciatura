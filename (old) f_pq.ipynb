{
 "cells": [
  {
   "cell_type": "code",
   "execution_count": 58,
   "id": "77733b38-4880-4816-b523-1a87d3384c93",
   "metadata": {},
   "outputs": [],
   "source": [
    "import numpy as np\n",
    "from scipy.special import erf"
   ]
  },
  {
   "cell_type": "markdown",
   "id": "a50667e7-7ee6-46f4-98ae-ac300177afbd",
   "metadata": {},
   "source": [
    "La base de funciones a considerar es\n",
    "$$ \\chi_1 = \\psi_+ \\alpha \\,, \\quad\n",
    "\\chi_2 = \\psi_+ \\beta \\,, \\quad\n",
    "\\chi_3 = \\psi_- \\alpha \\,, \\quad\n",
    "\\chi_4 = \\psi_- \\beta \\,,\n",
    "$$\n",
    "\n",
    "donde $\\psi_\\pm = c_\\pm (\\varphi_A \\pm \\varphi_B)$ con\n",
    "\n",
    "$$ c_\\pm = \\frac{1}{\\sqrt{2 (1 \\pm S)}}\\,, $$\n",
    "\n",
    "la constante de normalización y\n",
    "\n",
    "$$ \\varphi = \\varphi(r, \\theta, \\phi) = R_{1\\mathrm{s}}^k(r) Y_{00} (\\theta, \\phi) \\,$$\n",
    "\n",
    "las funciones espaciales."
   ]
  },
  {
   "cell_type": "markdown",
   "id": "25ec8ac5-aef4-4378-9ac9-5b7a476633df",
   "metadata": {},
   "source": [
    "En esto último $R_{1\\mathrm{s}}^{k}(\\zeta, \\vec{d}, \\vec{\\alpha}, r) = \\sum_{i=1}^{k} d_i R_{0}^{\\mathrm{GTO}} (\\zeta^2 \\alpha_i, r)$ donde\n",
    "\n",
    "$$ R_0^{\\mathrm{GTO}} (\\alpha, r) = \\frac{2(2\\alpha)^{3/4}}{\\pi^{1/4}} \\exp(-\\alpha r^2) $$"
   ]
  },
  {
   "cell_type": "markdown",
   "id": "d64a279a-96de-4178-b86f-eea2f18d56ce",
   "metadata": {},
   "source": [
    "<div class=\"alert alert-block alert-info\">\n",
    "        <strong>Integral de traslape, $S$</strong>\n",
    "</div>"
   ]
  },
  {
   "cell_type": "markdown",
   "id": "feb32f66-073b-4d91-9d70-95b2103864ab",
   "metadata": {},
   "source": [
    "Aquí $S = \\braket{\\varphi_A|\\varphi_B} = \\braket{\\varphi_B|\\varphi_A}$ es la integral de traslape dada por\n",
    "\n",
    "$$ \\begin{align}\n",
    "    S \n",
    "    &= \\int R_{1s}^k (r_A) Y_{00}(\\theta, \\phi) \\, R_{1s}^k (r_B) Y_{00}(\\theta, \\phi) \\,\\mathrm{d}V \\\\\n",
    "    &= \\int R_{1s}^k (r_A) \\, R_{1s}^k (r_B) \\,\\mathrm{d}\\mathbf{r} \\int Y_{00}(\\theta, \\phi)^2 d\\Omega \\\\\n",
    "    &= \\int \\sum_{i=1}^{k} \\left[ d_i \\frac{2(2\\alpha_i)^{3/4}}{\\pi^{1/4}} \\exp(-\\alpha_i r^2_A) \\right]\n",
    "    \\sum_{j=1}^{k} \\left[ d_j \\frac{2(2\\beta_j)^{3/4}}{\\pi^{1/4}} \\exp(- \\beta_j \\, r^2_B) \\right] \\,\\mathrm{d}\\mathbf{r} \\\\\n",
    "    &= \\frac{2^{7/2}}{\\pi^{1/2}} \\sum_{i=1}^{k} \\sum_{j=1}^{k} d_i d_j (\\alpha_i \\, \\beta_j)^{3/4} \\, \\int \\exp(-\\alpha_i r^2_A) \\exp(-\\beta_j \\, r^2_B) \\,\\mathrm{d}\\mathbf{r}\n",
    "\\end{align}\n",
    "$$\n",
    "\n",
    "Esta última integral de acuerdo con Szabo y Ostlund es:\n",
    "\n",
    "$$ \\int \\exp(-a r^2_A) \\exp(-b \\, r^2_B) \\,\\mathrm{d}\\mathbf{r}\n",
    "= \\left( \\frac{\\pi}{a + b} \\right)^{3/2} \\exp\\left( -\\frac{a b}{a + b} |\\mathbf{R}_A - \\mathbf{R}_B|^2 \\right)\n",
    "$$\n",
    "\n",
    "No obstante, ellos integran sobre todo el espacio, así que hay un factor de $4\\pi$ adicional. Así pues, en nuestro caso se obtendría\n",
    "\n",
    "$$ \\int \\exp(-a r^2_A) \\exp(-b \\, r^2_B) \\,\\mathrm{d}\\mathbf{r}\n",
    "= \\frac{1}{4\\pi} \\left( \\frac{\\pi}{a + b} \\right)^{3/2} \\exp\\left( -\\frac{a b}{a + b} |\\mathbf{R}_A - \\mathbf{R}_B|^2 \\right)\n",
    "$$"
   ]
  },
  {
   "cell_type": "markdown",
   "id": "dda493db-b644-4657-a574-bfc28bca8b2c",
   "metadata": {},
   "source": [
    "El término exponencial aparece a lo largo de las integrales por calcular, motivo por el cual considere las siguientes convenciones:\n",
    "\n",
    "$$ \\mathrm{arg} = -\\frac{a b}{a + b} |\\mathbf{R}_A - \\mathbf{R}_B|^2 \\,, \\qquad\n",
    "K = \\exp(\\mathrm{arg}) \\,.$$"
   ]
  },
  {
   "cell_type": "code",
   "execution_count": 59,
   "id": "bc1d14b7-f153-4453-8f42-8c0596de6bef",
   "metadata": {},
   "outputs": [
    {
     "data": {
      "text/plain": [
       "np.float64(4.0)"
      ]
     },
     "execution_count": 59,
     "metadata": {},
     "output_type": "execute_result"
    }
   ],
   "source": [
    "RA = np.array([0,0,0])\n",
    "RB = np.array([2,0,0])\n",
    "np.square(np.linalg.norm(RA-RB))"
   ]
  },
  {
   "cell_type": "code",
   "execution_count": 60,
   "id": "fcc51937-bda2-4fc4-8743-749960e384df",
   "metadata": {},
   "outputs": [],
   "source": [
    "def arg(a, b, RA, RB):\n",
    "    \"\"\"\n",
    "    z : exponente orbital de Slater\n",
    "    \"\"\"\n",
    "    p = a+b\n",
    "    mu = a*b/p\n",
    "    RAB2 = np.square(np.linalg.norm(RA-RB))\n",
    "    return -mu*RAB2"
   ]
  },
  {
   "cell_type": "code",
   "execution_count": 61,
   "id": "a37e4ad6-9aa0-4d22-83e5-5911c3ce0e25",
   "metadata": {},
   "outputs": [],
   "source": [
    "def K(a, b, RA, RB):\n",
    "    return np.exp(arg(a, b, RA, RB))"
   ]
  },
  {
   "cell_type": "markdown",
   "id": "a455596e-0067-4c2b-9365-da262790749e",
   "metadata": {},
   "source": [
    "La expresión final de la integral de traslape $S$ es\n",
    "\n",
    "$$ \\boxed{ S = 2^{3/2} \\sum_{i=1}^{k} \\sum_{j=1}^{k} d_i d_j\n",
    "    \\frac{(\\alpha_i \\, \\beta_j)^{3/4}}{(\\alpha_i + \\beta_j)^{3/2}}\n",
    "    \\exp\\left( -\\frac{\\alpha_i \\beta_j}{\\alpha_i + \\beta_j} |\\mathbf{R}_A - \\mathbf{R}_B|^2 \\right) }\n",
    "$$"
   ]
  },
  {
   "cell_type": "code",
   "execution_count": 62,
   "id": "66795742-b8c4-4a8c-a216-2505c68196f1",
   "metadata": {},
   "outputs": [],
   "source": [
    "def SAB(d, a, RA, RB):\n",
    "    \"\"\"\n",
    "        Integral de traslape S\n",
    "    z : exponente orbital de Slater\n",
    "    \"\"\"\n",
    "    suma = 0\n",
    "    k = len(d)\n",
    "    for i in range(k):\n",
    "        for j in range(k):\n",
    "            suma += d[i]*d[j] * np.power(a[i]*a[j], 3/4) / np.power(a[i]+a[j], 3/2) * K(a[i], a[j], RA, RB)\n",
    "            # print(i,j)\n",
    "    return np.power(2, 3/2) * suma"
   ]
  },
  {
   "cell_type": "code",
   "execution_count": 63,
   "id": "a23b07a5-cc31-42be-9b2f-7dae6f3f263b",
   "metadata": {
    "jupyter": {
     "source_hidden": true
    }
   },
   "outputs": [
    {
     "data": {
      "text/plain": [
       "np.float64(4.62538896564451)"
      ]
     },
     "execution_count": 63,
     "metadata": {},
     "output_type": "execute_result"
    }
   ],
   "source": [
    "d = np.array([1,2,3])\n",
    "a = np.array([1,2,3])\n",
    "RA = np.array([0,0,0])\n",
    "RB = np.array([1.4,0,0])\n",
    "SAB(d, a, RA, RB)"
   ]
  },
  {
   "cell_type": "markdown",
   "id": "24efc0de-db3b-4099-81ad-7ad82a0be3d7",
   "metadata": {},
   "source": [
    "<div class=\"alert alert-block alert-info\">\n",
    "<strong>Coeficiente de normalización, $c_{\\pm}$</strong>\n",
    "</div>"
   ]
  },
  {
   "cell_type": "code",
   "execution_count": 64,
   "id": "7187c7b8-47be-43c3-b44f-8dac3e533224",
   "metadata": {},
   "outputs": [],
   "source": [
    "def cPM(d, a, RA, RB, signo):\n",
    "    S = SAB(d, a, RA, RB)\n",
    "    if signo == 'plus':\n",
    "        return 1/np.sqrt(2*(1+S))\n",
    "    else:\n",
    "        return 1/np.sqrt(2*(1-S))"
   ]
  },
  {
   "cell_type": "markdown",
   "id": "5737f7c3-5f98-42e4-add7-42a3f83aae25",
   "metadata": {},
   "source": [
    "<div class=\"alert alert-block alert-info\">\n",
    "<strong>Término $f_1^{(AB)}$</strong>\n",
    "</div>"
   ]
  },
  {
   "cell_type": "markdown",
   "id": "d1b01a45-8378-468c-a536-254ddd5dc27c",
   "metadata": {},
   "source": [
    "Términos $f_{1}^{(AB)}$, de la forma:\n",
    "\n",
    "$$ \\begin{align*}\n",
    "    f_1^{(AB)}\n",
    "    &= \\int \\varphi_A \\left( -\\frac{\\nabla^2}{2} \\right) \\varphi_B \\, \\mathrm{d}V \\\\\n",
    "    &= \\int R_{1s}^k (r_A) Y_{00}(\\theta, \\phi) \\left( -\\frac{\\nabla^2}{2} \\right) R_{1s}^k (r_B) Y_{00}(\\theta, \\phi) \\, \\mathrm{d}V \\\\\n",
    "    &= \\int \\sum_{i=1}^{k} \\left[ d_i \\frac{2(2\\alpha_j)^{3/4}}{\\pi^{1/4}} \\exp(-\\alpha_i r^2_A) \\right]\n",
    "        \\left( -\\frac{\\nabla^2}{2} \\right)\n",
    "        \\sum_{j=1}^{k} \\left[ d_j \\frac{2(2\\beta_j)^{3/4}}{\\pi^{1/4}} \\exp(-\\beta_j r^2_B) \\right] \\mathrm{d}\\mathbf{r}\n",
    "        \\, \\int  Y_{00}^2 \\, \\mathrm{d}\\Omega \\\\\n",
    "    &= \\frac{2^{7/2}}{\\pi^{1/2}} \\sum_{i=1}^{k} \\sum_{j=1}^{k} d_i d_j (\\alpha_i \\beta_j)^{3/4}\n",
    "        \\int \\exp(-\\alpha_i \\, r^2_A)\n",
    "        \\left( -\\frac{\\nabla^2}{2} \\right)\n",
    "        \\exp(-\\beta_j \\, r^2_B) \\, \\mathrm{d}\\mathbf{r}\n",
    "\\end{align*} $$\n",
    "\n",
    "Esta última integral de acuerdo con Szabo y Ostlund es:\n",
    "\n",
    "$$ (A|-\\tfrac{\\nabla^2}{2}|B)\n",
    "    = \\int \\exp(-\\alpha r^2_A) \\left( -\\frac{\\nabla^2}{2} \\right) \\exp(-\\beta r^2_A) \\mathrm{d}\\mathbf{r}\n",
    "    = \\frac{\\alpha \\beta}{\\alpha + \\beta} \\left[ 3 - \\frac{2 \\alpha \\beta}{\\alpha + \\beta} |\\mathbf{R}_A - \\mathbf{R}_B|^2 \\right] \\left[ \\frac{\\pi}{\\alpha + \\beta} \\right]^{3/2} \\, \\exp \\left[ -\\frac{\\alpha \\beta}{(\\alpha + \\beta)} |\\mathbf{R}_A - \\mathbf{R}_B|^2 \\right]$$\n",
    "\n",
    "No obstante, ellos integran sobre todo el espacio, así que hay un factor de $4\\pi$ adicional. En cuyo caso, nosotros obtendríamos\n",
    "\n",
    "$$ (A|-\\tfrac{\\nabla^2}{2}|B) = \\int \\exp(-\\alpha r^2_A) \\left( -\\frac{\\nabla^2}{2} \\right) \\exp(-\\beta r^2_A) \\mathrm{d}\\mathbf{r}\n",
    "= \\frac{1}{4\\pi} \\frac{\\alpha \\beta}{\\alpha + \\beta} \\left[ 3 - \\frac{2 \\alpha \\beta}{\\alpha + \\beta} |\\mathbf{R}_A - \\mathbf{R}_B|^2 \\right] \\left[ \\frac{\\pi}{\\alpha + \\beta} \\right]^{3/2} \\, \\exp \\left[ -\\frac{\\alpha \\beta}{(\\alpha + \\beta)} |\\mathbf{R}_A - \\mathbf{R}_B|^2 \\right]$$"
   ]
  },
  {
   "cell_type": "markdown",
   "id": "6d517e8a-2d7c-4059-8762-20cbb861605f",
   "metadata": {},
   "source": [
    "La expresión final para el término $f_1^{(AB)}$ es\n",
    "\n",
    "$$\\begin{align*}\n",
    "f_1^{(AB)}\n",
    "    &= \\frac{1}{4\\pi} \\frac{2^{7/2}}{\\pi^{1/2}} \\sum_{i=1}^{k} \\sum_{j=1}^{k} d_i d_j (\\alpha_i \\beta_j)^{3/4}\n",
    "    \\frac{\\alpha_i \\beta_j}{\\alpha_i + \\beta_j} \\left[ 3 - \\frac{2 \\alpha_i \\beta_j}{\\alpha_i + \\beta_j} |\\mathbf{R}_A - \\mathbf{R}_B|^2 \\right] \\left[ \\frac{\\pi}{\\alpha_i + \\beta_j} \\right]^{3/2} \\, \\exp \\left[ -\\frac{\\alpha_i \\beta_j}{(\\alpha_i + \\beta_j)} |\\mathbf{R}_A - \\mathbf{R}_B|^2 \\right] \\\\\n",
    "    &= \\boxed{ 2^{3/2} \\sum_{i=1}^{k} \\sum_{j=1}^{k} d_i d_j \\frac{(\\alpha_i \\beta_j)^{7/4}}{(\\alpha_i + \\beta_j)^{5/2}}\n",
    "    \\left[ 3 - \\frac{2 \\alpha_i \\beta_j}{\\alpha_i + \\beta_j} |\\mathbf{R}_A - \\mathbf{R}_B|^2 \\right] \\, \\exp \\left[ -\\frac{\\alpha_i \\beta_j}{(\\alpha_i + \\beta_j)} |\\mathbf{R}_A - \\mathbf{R}_B|^2 \\right] }\n",
    "\\end{align*}\n",
    "$$\n",
    "\n",
    "<br>"
   ]
  },
  {
   "cell_type": "code",
   "execution_count": 65,
   "id": "0b20304a-b31f-46e7-8483-656a27093a6c",
   "metadata": {},
   "outputs": [],
   "source": [
    "def f1AB(d, a, RA, RB):\n",
    "    suma = 0\n",
    "    k = len(d)\n",
    "    for i in range(k):\n",
    "        for j in range(k):\n",
    "            suma += d[i]*d[j] * np.power(a[i]*a[j], 7/4) / np.power(a[i]+a[j], 5/2) * (3 + 2*arg(a[i], a[j], RA, RB)) * K(a[i], a[j], RA, RB)\n",
    "            # el signo + en 2*arg(...) se debe a que arg(...) ya considera el negativo\n",
    "    return np.power(2, 3/2) * suma"
   ]
  },
  {
   "cell_type": "markdown",
   "id": "f8ca5a6b-2fd9-4286-8129-dd767c19de22",
   "metadata": {},
   "source": [
    "<div class=\"alert alert-block alert-info\">\n",
    "<strong>Término $f_1^{(AA)}$</strong>\n",
    "</div>"
   ]
  },
  {
   "cell_type": "markdown",
   "id": "f6a82f41-272d-453a-b1b6-83469afa5b4d",
   "metadata": {},
   "source": [
    "De este último es posible obtener el término $f_{1}^{(AA)}$ el cuál no sería otra cosa más que\n",
    "\n",
    "$$ \\boxed{f_1^{(AA)} = 3 (2^{3/2}) \\sum_{i=1}^{k} \\sum_{j=1}^{k} d_i d_j \\frac{(\\alpha_i \\beta_j)^{7/4}}{(\\alpha_i + \\beta_j)^{5/2}}} $$"
   ]
  },
  {
   "cell_type": "code",
   "execution_count": 66,
   "id": "42761eb7-ab95-4cd1-979b-550e914fe290",
   "metadata": {},
   "outputs": [],
   "source": [
    "def f1AA(d, a):\n",
    "    suma = 0\n",
    "    k = len(d)\n",
    "    for i in range(k):\n",
    "        for j in range(k):\n",
    "            suma += d[i]*d[j] * np.power(a[i]*a[j], 7/4) / np.power(a[i]+a[j], 5/2)\n",
    "            # el signo + en 2*arg(...) se debe a que arg(...) ya considera el negativo\n",
    "    return 3*np.power(2, 3/2)*suma"
   ]
  },
  {
   "cell_type": "markdown",
   "id": "b7a96cf8-54ee-4697-9bfc-4a2cd83492cd",
   "metadata": {},
   "source": [
    "<div class=\"alert alert-block alert-info\">\n",
    "<strong>Término $f_2^{(AB)}$</strong>\n",
    "</div>"
   ]
  },
  {
   "cell_type": "markdown",
   "id": "d70582c7-82b2-417a-849d-6e6a99483c0e",
   "metadata": {},
   "source": [
    "Términos $f_{2}^{(AB)}$, de la forma:\n",
    "\n",
    "$$ \\begin{align*}\n",
    "    f_2^{(AB)}\n",
    "    &= \\int \\varphi_A \\left( \\sum_C -\\frac{Z_C}{r_C} \\right) \\varphi_B \\, \\mathrm{d}V \\\\\n",
    "    &= \\int R_{1s}^k (r_A) Y_{00}(\\theta, \\phi) \\left( \\sum_C -\\frac{Z_C}{r_C} \\right) R_{1s}^k (r_B) Y_{00}(\\theta, \\phi) \\, \\mathrm{d}V \\\\\n",
    "    &= \\int \\sum_{i=1}^{k} \\left[ d_i \\frac{2(2\\alpha_j)^{3/4}}{\\pi^{1/4}} \\exp(-\\alpha_i r^2_A) \\right]\n",
    "        \\left( \\sum_C -\\frac{Z_C}{r_C} \\right)\n",
    "        \\sum_{j=1}^{k} \\left[ d_j \\frac{2(2\\beta_j)^{3/4}}{\\pi^{1/4}} \\exp(-\\beta_j r^2_B) \\right] \\mathrm{d}\\mathbf{r}\n",
    "        \\, \\int  Y_{00}^2 \\, \\mathrm{d}\\Omega \\\\\n",
    "    &= \\frac{2^{7/2}}{\\pi^{1/2}} \\sum_{i=1}^{k} \\sum_{j=1}^{k} d_i d_j (\\alpha_i \\, \\beta_j)^{3/4}\n",
    "        \\sum_C \\int \\exp(-\\alpha_i \\, r^2_A)\n",
    "        \\left( -\\frac{Z_C}{r_C} \\right)\n",
    "        \\exp(-\\beta_j \\, r^2_B) \\, \\mathrm{d}\\mathbf{r}\n",
    "\\end{align*} $$\n",
    "\n",
    "Esta última integral de acuerdo con Szabo y Ostlund es:\n",
    "\n",
    "$$ (A|-\\frac{Z_C}{r_C}|B)\n",
    "    = \\int \\exp(-\\alpha \\, r^2_A) \\left( -\\frac{Z_C}{r_C} \\right) \\exp(-\\beta \\, r^2_B) \\mathrm{d}\\mathbf{r}\n",
    "    = -\\frac{2\\pi}{\\alpha + \\beta} Z_C \\, \\exp \\left[ -\\frac{\\alpha \\beta}{(\\alpha + \\beta)} |\\mathbf{R}_A - \\mathbf{R}_B|^2 \\right]\n",
    "    F_0 \\Big[ (\\alpha+\\beta) |\\mathbf{R}_P - \\mathbf{R}_C|^2 \\Big]\n",
    "$$\n",
    "\n",
    "donde $F_0(t)$ es\n",
    "\n",
    "$$ F_0(t) = \\frac{1}{2} \\left( \\frac{\\pi}{t} \\right)^{1/2} \\mathrm{erf}(t^{1/2}) \\,;\n",
    "\\quad\n",
    "\\text{donde} \\quad \\mathrm{erf}(z) = \\frac{2}{\\sqrt{\\pi}} \\int_0^{z} e^{-t^2} \\, \\mathrm{d}t\n",
    "$$\n",
    "\n",
    "y $\\mathbf{R}_P$ es\n",
    "\n",
    "$$ \\mathbf{R}_P = \\frac{\\alpha \\mathbf{R}_A + \\beta \\, \\mathbf{R}_B}{\\alpha + \\beta} \\,.$$"
   ]
  },
  {
   "cell_type": "markdown",
   "id": "7ddbe275-ebe4-47c4-9025-caf611bb725d",
   "metadata": {},
   "source": [
    "No obstante, ellos integran sobre todo el espacio, así que hay un factor de $4\\pi$ adicional. En cuyo caso, nosotros obtendríamos\n",
    "\n",
    "$$ (A|-\\frac{Z_C}{r_C}|B)\n",
    "    = \\int \\exp(-\\alpha \\, r^2_A) \\left( -\\frac{Z_C}{r_C} \\right) \\exp(-\\beta \\, r^2_B) \\mathrm{d}\\mathbf{r}\n",
    "    = -\\frac{Z_C}{2(\\alpha + \\beta)} \\, \\exp \\left[ -\\frac{\\alpha \\beta}{(\\alpha + \\beta)} |\\mathbf{R}_A - \\mathbf{R}_B|^2 \\right]\n",
    "    F_0 \\Big[ (\\alpha+\\beta) |\\mathbf{R}_P - \\mathbf{R}_C|^2 \\Big]\n",
    "$$"
   ]
  },
  {
   "cell_type": "code",
   "execution_count": 67,
   "id": "b78f197e-ddaa-4830-9bea-ed11f291c7ba",
   "metadata": {
    "jupyter": {
     "source_hidden": true
    }
   },
   "outputs": [],
   "source": [
    "def F0(t):\n",
    "    return (1/2) * np.sqrt(np.pi/t) * erf(np.sqrt(t))"
   ]
  },
  {
   "cell_type": "code",
   "execution_count": 68,
   "id": "0c369417-74d8-4d13-af3a-d471c9c86583",
   "metadata": {
    "jupyter": {
     "source_hidden": true
    }
   },
   "outputs": [],
   "source": [
    "def RP(a:int, b:int, RA, RB):\n",
    "    \"\"\"\n",
    "    a : valor numérico\n",
    "    b : valor numérico\n",
    "    \"\"\"\n",
    "    return (a*RA+b*RB)/(a+b)"
   ]
  },
  {
   "cell_type": "markdown",
   "id": "bd3c09e6-3d0e-4849-838e-ad87fe2665a7",
   "metadata": {},
   "source": [
    "La expresión final para el elemento $f_2^{(AB)}$ es\n",
    "\n",
    "$$ \\begin{align*}\n",
    "f_2^{(AB)}\n",
    "    &= \\frac{2^{7/2}}{\\pi^{1/2}}\n",
    "        \\sum_{i=1}^{k} \\sum_{j=1}^{k} d_i d_j (\\alpha_i \\, \\beta_j)^{3/4}\n",
    "        \\sum_C -\\frac{Z_C}{2(\\alpha_i + \\beta_j)} \\, \\exp \\left[ -\\frac{\\alpha_i \\beta_j}{(\\alpha_i + \\beta_j)} |\\mathbf{R}_A - \\mathbf{R}_B|^2 \\right]\n",
    "        F_0 \\Big[ (\\alpha_i + \\beta_j) |\\mathbf{R}_P - \\mathbf{R}_C|^2 \\Big] \\\\\n",
    "    &= \\boxed{\\frac{2^{3/2}}{\\pi^{1/2}}\n",
    "        \\sum_{i=1}^{k} \\sum_{j=1}^{k} d_i d_j\n",
    "        \\frac{(\\alpha_i \\, \\beta_j)^{3/4}}{\\alpha_i + \\beta_j}\n",
    "        \\exp \\left[ -\\frac{\\alpha_i \\beta_j}{(\\alpha_i + \\beta_j)} |\\mathbf{R}_A - \\mathbf{R}_B|^2 \\right]\n",
    "        \\sum_C -Z_C \\, F_0 \\Big[ (\\alpha_i + \\beta_j) |\\mathbf{R}_P - \\mathbf{R}_C|^2 \\Big]}\n",
    "\\end{align*}\n",
    "$$\n",
    "\n",
    "<br>"
   ]
  },
  {
   "cell_type": "code",
   "execution_count": 69,
   "id": "36ea3c62-4bfa-4c0e-a56d-f8807fe6731f",
   "metadata": {},
   "outputs": [],
   "source": [
    "def f2AB(d, a, RA, RB, Z):\n",
    "    \"\"\"\n",
    "        Suma sobre núcleos\n",
    "    Z : vector de cargas nucleares [ZA, ZB, ..., ZC] donde type(ZA) = float\n",
    "    a : vector de coeficientes Gaussianos [a1, a2, a3]\n",
    "    \"\"\"\n",
    "    R = [RA, RB]\n",
    "    RAB2 = np.square(np.linalg.norm(RA-RB))\n",
    "    \n",
    "    suma = 0\n",
    "    k = len(d)\n",
    "    for i in range(k):\n",
    "        for j in range(k):\n",
    "            Rp = RP(a[i], a[j], RA, RB)\n",
    "            suma_ZC = 0\n",
    "            for C in range(len(Z)):\n",
    "                RPC2 = np.square(np.linalg.norm(Rp-R[C]))\n",
    "                suma_ZC += -Z[C] * F0((a[i]+a[j])*RPC2)\n",
    "                # print(i,j,C)\n",
    "            suma += d[i]*d[j] * np.power(a[i]*a[j], 3/4) / (a[i]+a[j]) * K(a[i], a[j], RA, RB) * suma_ZC\n",
    "    return np.power(2, 3/2) / np.sqrt(np.pi) * suma"
   ]
  },
  {
   "cell_type": "code",
   "execution_count": 70,
   "id": "f479baef-67f0-4a8b-8241-bbad9a2b0294",
   "metadata": {},
   "outputs": [
    {
     "name": "stderr",
     "output_type": "stream",
     "text": [
      "C:\\Users\\rodri\\AppData\\Local\\Temp\\ipykernel_3176\\2407126611.py:6: RuntimeWarning: invalid value encountered in divide\n",
      "  return (a*RA+b*RB)/(a+b)\n",
      "C:\\Users\\rodri\\AppData\\Local\\Temp\\ipykernel_3176\\3734718454.py:20: RuntimeWarning: invalid value encountered in scalar divide\n",
      "  suma += d[i]*d[j] * np.power(a[i]*a[j], 3/4) / (a[i]+a[j]) * K(a[i], a[j], RA, RB) * suma_ZC\n",
      "C:\\Users\\rodri\\AppData\\Local\\Temp\\ipykernel_3176\\3664876648.py:6: RuntimeWarning: invalid value encountered in scalar divide\n",
      "  mu = a*b/p\n"
     ]
    },
    {
     "data": {
      "text/plain": [
       "np.float64(nan)"
      ]
     },
     "execution_count": 70,
     "metadata": {},
     "output_type": "execute_result"
    }
   ],
   "source": [
    "d = np.array([0,0,0])\n",
    "a = np.array([0,0,0])\n",
    "RA = np.array([0,0,0])\n",
    "RB = np.array([0,0,0])\n",
    "Z = [1,2]\n",
    "f2AB(d, a, RA, RB, Z)"
   ]
  },
  {
   "cell_type": "markdown",
   "id": "323c1ee7-cfc9-442c-a1b1-21b865504f1c",
   "metadata": {},
   "source": [
    "<div class=\"alert alert-block alert-info\">\n",
    "<strong>Término $f_2^{(AA)}$</strong>\n",
    "</div>"
   ]
  },
  {
   "cell_type": "markdown",
   "id": "896d4ed7-9c5e-4a89-90f7-fcef1cd75527",
   "metadata": {},
   "source": [
    "Términos $f_{2}^{(AA)}$, de la forma:\n",
    "\n",
    "$$ \\begin{align*}\n",
    "    f_2^{(AA)}\n",
    "    &= \\int \\varphi_A \\left( \\sum_C -\\frac{Z_C}{r_C} \\right) \\varphi_A \\, \\mathrm{d}V \\\\\n",
    "    &= \\int R_{1s}^k (r_A) Y_{00}(\\theta, \\phi) \\left( \\sum_C -\\frac{Z_C}{r_C} \\right) R_{1s}^k (r_A) Y_{00}(\\theta, \\phi) \\, \\mathrm{d}V \\\\\n",
    "    &= \\int \\sum_{i=1}^{k} \\left[ d_i \\frac{2(2\\alpha_i)^{3/4}}{\\pi^{1/4}} \\exp(-\\alpha_i r^2_A) \\right]\n",
    "        \\left( \\sum_C -\\frac{Z_C}{r_C} \\right)\n",
    "        \\sum_{j=1}^{k} \\left[ d_j \\frac{2(2\\alpha_j)^{3/4}}{\\pi^{1/4}} \\exp(-\\alpha_j r^2_A) \\right] \\mathrm{d}\\mathbf{r}\n",
    "        \\, \\int  Y_{00}^2 \\, \\mathrm{d}\\Omega \\\\\n",
    "    &= \\frac{2^{7/2}}{\\pi^{1/2}} \\sum_{i=1}^{k} \\sum_{j=1}^{k} d_i d_j (\\alpha_i \\, \\alpha_j)^{3/4}\n",
    "        \\int \\exp(-\\alpha_i \\, r^2_A)\n",
    "        \\left( \\sum_C -\\frac{Z_C}{r_C} \\right)\n",
    "        \\exp(-\\alpha_j \\, r^2_A) \\, \\mathrm{d}\\mathbf{r} \\\\\n",
    "    &= \\frac{2^{7/2}}{\\pi^{1/2}} \\sum_{i=1}^{k} \\sum_{j=1}^{k} d_i d_j (\\alpha_i \\, \\alpha_j)^{3/4}\n",
    "        \\left[ \\int \\exp(-\\alpha_i \\, r^2_A)\n",
    "        \\left( -\\frac{Z_A}{r_A} + \\sum_{C \\neq A} -\\frac{Z_C}{r_C} \\right)\n",
    "        \\exp(-\\alpha_j \\, r^2_A) \\, \\mathrm{d}\\mathbf{r} \\right] \\\\\n",
    "\\end{align*} $$\n",
    "\n",
    "Para la primer integral se sigue que\n",
    "\n",
    "$$ (A |  -\\frac{Z_A}{r_A} | A)\n",
    "    = \\int \\exp(-\\alpha_i \\, r^2_A) \\left( -\\frac{Z_A}{r_A} \\right) \\exp(-\\alpha_j \\, r^2_A) \\, \\mathrm{d}\\mathbf{r}\n",
    "    = -Z_A \\int \\frac{1}{r_A} \\exp \\Big[ -(\\alpha_i + \\alpha_j) \\, r^2_A \\Big] \\, \\mathrm{d}\\mathbf{r}\n",
    "    = -\\frac{Z_A}{2(\\alpha_i + \\alpha_j)}\n",
    "$$\n",
    "\n",
    "Para la segunda integral se sigue que\n",
    "\n",
    "$$ (A |  -\\frac{Z_C}{r_C} | A)\n",
    "    = \\int \\exp(-\\alpha_i \\, r^2_A) \\left( \\sum_{C \\neq A} -\\frac{Z_C}{r_C} \\right) \\, \\exp(-\\alpha_j \\, r^2_A) \\, \\mathrm{d}\\mathbf{r}\n",
    "    = \\sum_{C\\neq A} \\int \\exp(-\\alpha_i \\, r^2_A) \\left( -\\frac{Z_C}{r_C} \\right) \\exp(-\\alpha_j \\, r^2_A) \\, \\mathrm{d}\\mathbf{r}\n",
    "$$\n",
    "\n",
    "lo cual no es más un caso de la integral $(A | -\\frac{Z_C}{r_C} | B)$."
   ]
  },
  {
   "cell_type": "markdown",
   "id": "b5c21f22-a44b-4168-ae2b-56179d6824da",
   "metadata": {},
   "source": [
    "Es decir,\n",
    "\n",
    "$$ (A |  -\\frac{Z_C}{r_C} | A)\n",
    "    = \\sum_{C\\neq A} -\\frac{Z_C}{2(\\alpha_i + \\alpha_j)} \\, F_0 \\Big[ (\\alpha_i + \\alpha_j) |\\mathbf{R}_A - \\mathbf{R}_C|^2 \\Big]\n",
    "$$\n",
    "\n",
    "La expresión final para el término $f_2^{(AA)}$ será\n",
    "\n",
    "$$ \\begin{align*}\n",
    "f_2^{(AA)}\n",
    "    &= \\frac{2^{7/2}}{\\pi^{1/2}} \\sum_{i=1}^{k} \\sum_{j=1}^{k} d_i d_j (\\alpha_i \\, \\alpha_j)^{3/4}\n",
    "    \\left[ -\\frac{Z_A}{2(\\alpha_i + \\alpha_j)}\n",
    "    + \\sum_{C\\neq A} -\\frac{Z_C}{2(\\alpha_i + \\alpha_j)} \\, F_0 \\Big[ (\\alpha_i + \\alpha_j) |\\mathbf{R}_A - \\mathbf{R}_C|^2 \\Big]\n",
    "    \\right] \\\\\n",
    "    &= \\frac{2^{3/2}}{\\pi^{1/2}} \\sum_{i=1}^{k} \\sum_{j=1}^{k} d_i d_j \\frac{(\\alpha_i \\, \\alpha_j)^{3/4}}{\\alpha_i + \\alpha_j}\n",
    "    \\left[ -Z_A + \\sum_{C\\neq A} - Z_C \\, F_0 \\Big[ (\\alpha_i + \\alpha_j) |\\mathbf{R}_A - \\mathbf{R}_C|^2 \\Big]\n",
    "    \\right]\n",
    "\\end{align*}\n",
    "$$\n",
    "\n",
    "<br>"
   ]
  },
  {
   "cell_type": "code",
   "execution_count": 71,
   "id": "6b2ecec0-5dee-4c6e-8bf9-82c00c279559",
   "metadata": {},
   "outputs": [],
   "source": [
    "def f2AA(d, a, RA, RB, Z):\n",
    "    \"\"\"\n",
    "        Suma sobre núcleos\n",
    "    Z : vector de cargas nucleares [ZA, ZB, ..., ZC] donde type(ZA) = float\n",
    "    \"\"\"\n",
    "    RAB2 = np.square(np.linalg.norm(RA-RB))\n",
    "    ZA = Z[0]\n",
    "    ZB = Z[1]\n",
    "    \n",
    "    suma = 0\n",
    "    k = len(d)\n",
    "    for i in range(k):\n",
    "        for j in range(k):\n",
    "            suma_ZC = -ZB * F0((a[i]+a[j])*RAB2)\n",
    "            suma += d[i]*d[j] * np.power(a[i]*a[j], 3/4) / (a[i]+a[j]) * (-ZA + suma_ZC)\n",
    "    return np.power(2, 3/2) / np.sqrt(np.pi) * suma"
   ]
  },
  {
   "cell_type": "markdown",
   "id": "8426dc24-845e-49dc-bfe4-174fbe10a283",
   "metadata": {},
   "source": [
    "<div class=\"alert alert-block alert-info\">\n",
    "<strong>Elemento de matriz $f_{pp}$</strong>\n",
    "</div>"
   ]
  },
  {
   "cell_type": "markdown",
   "id": "26c8778c-a6b1-4ef7-866d-9ff792c897ed",
   "metadata": {},
   "source": [
    "$$ f_{pp} = 2 |c_\\pm|^2 \\left[ f_{1}^{(AA)} \\pm f_{1}^{(AB)} + f_{2}^{(AA)} \\pm f_{2}^{(AB)} \\right] $$"
   ]
  },
  {
   "cell_type": "code",
   "execution_count": 91,
   "id": "8c96a733-e4f7-4c1a-9e4b-565bd7d953c8",
   "metadata": {},
   "outputs": [],
   "source": [
    "def fpp(p, d, a, RA, RB, Z):\n",
    "    \"\"\"\n",
    "    Z : vector de cargas nucleares [ZA, ZB, ..., ZC] donde type(ZA) = float\n",
    "    \"\"\"\n",
    "    t1AA = f1AA(d,a)\n",
    "    t1AB = f1AB(d, a, RA, RB)\n",
    "    t2AA = f2AA(d, a, RA, RB, Z)\n",
    "    t2AB = f2AB(d, a, RA, RB, Z)\n",
    "\n",
    "    if p in [1,2]:\n",
    "        c2 = np.square(cPM(d, a, RA, RB, 'plus')) \n",
    "        return 2*c2*(t1AA + t1AB + t2AA + t2AB)\n",
    "    else:\n",
    "        c2 = np.square(cPM(d, a, RA, RB, 'minus'))\n",
    "        return 2*c2*(t1AA - t1AB + t2AA - t2AB)"
   ]
  },
  {
   "cell_type": "code",
   "execution_count": 92,
   "id": "646a2f36-e441-4786-8647-2a9fc4aa04e9",
   "metadata": {},
   "outputs": [],
   "source": [
    "# Parámetros Gaussianos obtenidos en `(1) STO-3G.ipynb` para zeta=1.24\n",
    "dSeg = np.array([0.44471812476789035, 0.5352716544572346, 0.1543000507808527])\n",
    "aSeg = np.array([0.16887939463273338, 0.6240343336327064, 3.4256944279866635])\n",
    "aSeg = np.array([0.10983311305458726, 0.40584959263313375, 2.227949029647934])\n",
    "\n",
    "dSte = np.array([0.444635, 0.535328, 0.154329])\n",
    "aSte = np.array([0.109818, 0.405771, 2.22766])\n",
    "\n",
    "RA = np.array([0, 0, 0])\n",
    "RB = np.array([1.401, 0, 0]) # distancia interatómica de 1.4\n",
    "ZA, ZB = 1, 1 # carga nuclear del hidrógeno\n",
    "Z = [ZA, ZB]"
   ]
  },
  {
   "cell_type": "code",
   "execution_count": 93,
   "id": "61cd1555-a035-4e55-bae5-9e4ea8a59997",
   "metadata": {},
   "outputs": [
    {
     "name": "stdout",
     "output_type": "stream",
     "text": [
      "f11 & f22: -0.38796370395015933\n",
      "f33 & f44: 0.28231619430235233\n"
     ]
    }
   ],
   "source": [
    "f11Seg = fpp(1, dSeg, aSeg, RA, RB, Z)\n",
    "f33Seg = fpp(3, dSeg, aSeg, RA, RB, Z)\n",
    "\n",
    "print('f11 & f22:', f11Seg)\n",
    "print('f33 & f44:', f33Seg)"
   ]
  },
  {
   "cell_type": "code",
   "execution_count": 94,
   "id": "b9e6ee3e-3ff9-4dc9-aff2-c2e0dd80f8d0",
   "metadata": {},
   "outputs": [
    {
     "name": "stdout",
     "output_type": "stream",
     "text": [
      "f11 & f22: -0.3879647165768662\n",
      "f33 & f44: 0.2823147754129697\n"
     ]
    }
   ],
   "source": [
    "f11Ste = fpp(1, dSte, aSte, RA, RB, Z)\n",
    "f33Ste = fpp(3, dSte, aSte, RA, RB, Z)\n",
    "\n",
    "print('f11 & f22:', f11Ste)\n",
    "print('f33 & f44:', f33Ste)"
   ]
  },
  {
   "cell_type": "code",
   "execution_count": null,
   "id": "4a484cf4-3107-4db3-ba8f-c23b18782679",
   "metadata": {},
   "outputs": [],
   "source": []
  }
 ],
 "metadata": {
  "kernelspec": {
   "display_name": "Python 3 (ipykernel)",
   "language": "python",
   "name": "python3"
  },
  "language_info": {
   "codemirror_mode": {
    "name": "ipython",
    "version": 3
   },
   "file_extension": ".py",
   "mimetype": "text/x-python",
   "name": "python",
   "nbconvert_exporter": "python",
   "pygments_lexer": "ipython3",
   "version": "3.13.1"
  }
 },
 "nbformat": 4,
 "nbformat_minor": 5
}
