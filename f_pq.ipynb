{
 "cells": [
  {
   "cell_type": "markdown",
   "id": "d2e74aa7-0425-40d5-a086-5784a78eda7b",
   "metadata": {},
   "source": [
    "La explicación de qué es cada término y como se obtuvo se encuentra en las notas."
   ]
  },
  {
   "cell_type": "code",
   "execution_count": 1,
   "id": "5e023b1c-7ad3-420e-bdef-a1ce92c3c760",
   "metadata": {},
   "outputs": [],
   "source": [
    "import numpy as np\n",
    "from scipy.special import erf"
   ]
  },
  {
   "cell_type": "markdown",
   "id": "34f8ec83-b958-4f3c-b25a-7539186ba632",
   "metadata": {},
   "source": [
    "$$ f_1^{(AA)} = 3(2^{3/2}) \\sum_{i=1}^k \\sum_{j=1}^k d_i d_j \\frac{(\\alpha_i \\alpha_j)^{7/4}}{(\\alpha_i + \\alpha_j)^{5/2}} $$"
   ]
  },
  {
   "cell_type": "code",
   "execution_count": 2,
   "id": "e84cfea7-e9dd-4701-90d1-af72698dc371",
   "metadata": {},
   "outputs": [],
   "source": [
    "def f1AA(d, a):\n",
    "    suma = 0\n",
    "    k = len(d)\n",
    "    for i in range(k):\n",
    "        for j in range(k):\n",
    "            suma += d[i]*d[j] * np.power(a[i]*a[j], 7/4) / np.power(a[i]+a[j], 5/2)\n",
    "    return 3*np.power(2, 3/2) * suma"
   ]
  },
  {
   "cell_type": "markdown",
   "id": "3dde29f8-6a76-45f0-907a-48b9a478deec",
   "metadata": {},
   "source": [
    "$$ \\mathrm{arg} = -\\frac{a b}{a+b} |\\mathbf{R}_A - \\mathbf{R}_B|^2 \\,, \\qquad\n",
    "K = \\exp(\\mathrm{arg})$$"
   ]
  },
  {
   "cell_type": "code",
   "execution_count": 3,
   "id": "b76934dc-bb50-4fbe-a9b1-813788c0ea46",
   "metadata": {},
   "outputs": [],
   "source": [
    "def arg(a, b, RA, RB):\n",
    "    p = a+b\n",
    "    mu = a*b/p\n",
    "    RAB2 = np.square(np.linalg.norm(RA-RB))\n",
    "    return -mu*RAB2"
   ]
  },
  {
   "cell_type": "code",
   "execution_count": 4,
   "id": "63bd09bf-8273-4e3a-b05a-fd6ebf4ab123",
   "metadata": {},
   "outputs": [],
   "source": [
    "def K(a, b, RA, RB):\n",
    "    return np.exp(arg(a, b, RA, RB))"
   ]
  },
  {
   "cell_type": "markdown",
   "id": "d0941634-536e-420c-9d94-cc6e41bde35d",
   "metadata": {},
   "source": [
    "$$ f_1^{(AB)} = 2^{3/2} \\sum_{i=1}^k \\sum_{j=1}^k d_i d_j \\frac{(\\alpha_i \\alpha_j)^{7/4}}{(\\alpha_i + \\alpha_j)^{5/2}}\n",
    "\\left( 3 + 2 \\mathrm{arg} \\right) \\, K\n",
    "$$"
   ]
  },
  {
   "cell_type": "code",
   "execution_count": 5,
   "id": "00a0d37d-53cf-4938-b648-fab0e8b3753a",
   "metadata": {},
   "outputs": [],
   "source": [
    "def f1AB(d, a, RA, RB):\n",
    "    suma = 0\n",
    "    k = len(d)\n",
    "    for i in range(k):\n",
    "        for j in range(k):\n",
    "            suma += d[i]*d[j] * np.power(a[i]*a[j], 7/4) / np.power(a[i]+a[j], 5/2) * (3 + 2*arg(a[i], a[j], RA, RB)) * K(a[i], a[j], RA, RB)\n",
    "    return np.power(2, 3/2) * suma"
   ]
  },
  {
   "cell_type": "markdown",
   "id": "8b464c5e-19fe-493a-9485-5eb9ab5b1159",
   "metadata": {},
   "source": [
    "$$ F_0(t) = \\frac{1}{2} \\sqrt{\\frac{\\pi}{t}} \\mathrm{erf} (\\sqrt{t}) $$"
   ]
  },
  {
   "cell_type": "code",
   "execution_count": 6,
   "id": "b882e2cd-5f17-41d5-a5bf-2fdec4e413a4",
   "metadata": {},
   "outputs": [],
   "source": [
    "def F0(t):\n",
    "    return (1/2) * np.sqrt(np.pi/t) * erf(np.sqrt(t))"
   ]
  },
  {
   "cell_type": "markdown",
   "id": "a70f6b1f-ba01-4be7-840e-8f50c8518d35",
   "metadata": {},
   "source": [
    "$$ \\sum_{C} Z_C F_0 \\big[ (\\alpha + \\beta) |\\mathbf{R}_P - \\mathbf{R}_C|^2 \\big] \\,, \\qquad\n",
    "\\mathbf{R}_P = \\frac{\\alpha \\mathbf{R}_A + \\beta \\, \\mathbf{R}_B}{\\alpha + \\beta}\n",
    "$$"
   ]
  },
  {
   "cell_type": "code",
   "execution_count": 7,
   "id": "3a1b6b65-1c88-41f1-a25d-3392a72dce36",
   "metadata": {},
   "outputs": [],
   "source": [
    "def ZC(a, b, RA, RB, Z, R):\n",
    "    \"\"\"\n",
    "        Suma sobre núcleos\n",
    "    Z : vector de cargas nucleares [ZA, ZB, ..., ZC] donde type(ZA) = float\n",
    "    R : vector de coords. de centros [RA, RB, ..., RC] donde RA = [a1, a2, a3]\n",
    "\n",
    "    len(R) = len(Z)\n",
    "    \"\"\"\n",
    "    if np.array_equal(RA,RB): # RA = RB\n",
    "        RP = RA\n",
    "    else: # RA != RB\n",
    "        RP = (a*RA+b*RB)/(a+b)\n",
    "    \n",
    "    suma = 0\n",
    "    for C in range(len(Z)):\n",
    "        RPC2 = np.square(np.linalg.norm(RP-R[C]))\n",
    "        suma += Z[C] * F0((a+b)*RPC2)\n",
    "    return suma"
   ]
  },
  {
   "cell_type": "markdown",
   "id": "bb92fea6-84f7-4c72-ae5b-47f25e4ae29d",
   "metadata": {},
   "source": [
    "$$ f_2^{(AA)} = -\\frac{2^{5/2}}{\\pi^{1/2}} Z_A \\sum_{i=1}^k \\sum_{j=1}^k d_i d_j \\frac{(\\alpha_i \\alpha_j)^{3/4}}{\\alpha_i + \\beta_j} + f_2^{(AB)} $$\n",
    "\n",
    "Para el término $f_2^{(AB)}$ hay que considerar que $\\mathbf{R}_A = \\mathbf{R}_B$ y nunca ocurre que $\\mathbf{R}_C = \\mathbf{R}_A$."
   ]
  },
  {
   "cell_type": "code",
   "execution_count": 8,
   "id": "15bc1201-372a-43aa-9875-a74fcc62c329",
   "metadata": {},
   "outputs": [],
   "source": [
    "def f2AA(d, a, RA, RB, Z):\n",
    "    \"\"\"\n",
    "    Z : vector de cargas nucleares [ZA, ZB, ..., ZC] donde type(ZA) = float\n",
    "    \"\"\"\n",
    "    k = len(d)\n",
    "\n",
    "    ZA = Z[0]\n",
    "    suma1 = 0\n",
    "    for i in range(k):\n",
    "        for j in range(k):\n",
    "            suma1 = d[i]*d[j] * np.power(a[i]*a[j], 3/4) / (a[i]+a[j])\n",
    "    suma1 = ZA*suma1\n",
    "\n",
    "    ZB = Z[1]\n",
    "    suma2 = 0\n",
    "    for i in range(k):\n",
    "        for j in range(k):\n",
    "            suma2 = d[i]*d[j] * np.power(a[i]*a[j], 3/4) / (a[i]+a[j]) * ZC(a[i], a[j], RA, RA, [ZB], [RB])\n",
    "    \n",
    "    return -np.power(2, 5/2) / np.sqrt(np.pi) * (suma1 + suma2)"
   ]
  },
  {
   "cell_type": "markdown",
   "id": "b0816773-65b3-4314-a675-b82679405593",
   "metadata": {},
   "source": [
    "$$ f_2^{(AB)} = -\\frac{2^{5/2}}{\\pi^{1/2}} \\sum_{i=1}^k \\sum_{j=1}^k d_i d_j \\frac{(\\alpha_i \\alpha_j)^{3/4}}{\\alpha_i + \\beta_j} \\, K\n",
    "\\sum_C Z_C F_0 \\big[ (\\alpha + \\beta) |\\mathbf{R}_P - \\mathbf{R}_C|^2 \\big]\n",
    "$$\n"
   ]
  },
  {
   "cell_type": "code",
   "execution_count": 9,
   "id": "2adb90db-4b7f-44bc-a606-c47d004c03dc",
   "metadata": {},
   "outputs": [],
   "source": [
    "def f2AB(d, a, RA, RB, Z):\n",
    "    \"\"\"\n",
    "        Suma sobre núcleos\n",
    "    Z : vector de cargas nucleares [ZA, ZB, ..., ZC] donde type(ZA) = float\n",
    "    \"\"\"\n",
    "    R = [RA, RB]\n",
    "    RAB2 = np.square(np.linalg.norm(RA-RB))\n",
    "    \n",
    "    suma = 0\n",
    "    k = len(d)\n",
    "    for i in range(k):\n",
    "        for j in range(k):\n",
    "            suma += d[i]*d[j] * np.power(a[i]*a[j], 3/4) / (a[i]+a[j]) * K(a[i], a[j], RA, RB) * ZC(a[i], a[j], RA, RB, Z, R)\n",
    "    return -np.power(2, 5/2) / np.sqrt(np.pi)"
   ]
  },
  {
   "cell_type": "markdown",
   "id": "e5384796-acc5-4de1-9e7e-7fcd3e182bad",
   "metadata": {},
   "source": [
    "$$ f_{pp} = 2 \\left[ f_{1}^{(AA)} \\pm_p f_{1}^{(AB)} + f_{2}^{(AA)} \\pm_p f_{2}^{(AB)} \\right] $$"
   ]
  },
  {
   "cell_type": "code",
   "execution_count": 10,
   "id": "e98e4d9f-3bbe-4f3a-8cde-882a52564424",
   "metadata": {},
   "outputs": [],
   "source": [
    "def fpp(p, d, a, RA, RB, Z):\n",
    "    \"\"\"\n",
    "    Z : vector de cargas nucleares [ZA, ZB, ..., ZC] donde type(ZA) = float\n",
    "    \"\"\"\n",
    "    t1AA = f1AA(d,a)\n",
    "    t1AB = f1AB(d, a, RA, RB)\n",
    "    t2AA = f2AA(d, a, RA, RB, Z)\n",
    "    t2AB = f2AB(d, a, RA, RB, Z)\n",
    "\n",
    "    if p in [1,2]:\n",
    "        return 2*(t1AA + t1AB + t2AA + t2AB)\n",
    "    else:\n",
    "        return 2*(t1AA - t1AB + t2AA - t2AB)"
   ]
  },
  {
   "cell_type": "code",
   "execution_count": 11,
   "id": "829cbbf3-a046-478f-8034-abea79cbe827",
   "metadata": {},
   "outputs": [
    {
     "name": "stdout",
     "output_type": "stream",
     "text": [
      "f11 & f22: -4.564734200242766\n",
      "f33 & f44: 7.255605621340926\n"
     ]
    }
   ],
   "source": [
    "# Parámetros Gaussianos obtenidos en `(1) STO-3G.ipynb` para zeta=1.24\n",
    "d = np.array([0.44471812476789035, 0.5352716544572346, 0.1543000507808527])\n",
    "a = np.array([0.16887939463273338, 0.6240343336327064, 3.4256944279866635])\n",
    "\n",
    "RA = np.array([0, 0, 0])\n",
    "RB = np.array([1.4, 0, 0]) # distancia interatómica de 1.4\n",
    "ZA, ZB = 1, 1 # carga nuclear del hidrógeno\n",
    "Z = [ZA, ZB]\n",
    "\n",
    "f11 = fpp(1, d, a, RA, RB, Z)\n",
    "f33 = fpp(3, d, a, RA, RB, Z)\n",
    "\n",
    "print('f11 & f22:', f11)\n",
    "print('f33 & f44:', f33)"
   ]
  },
  {
   "cell_type": "code",
   "execution_count": null,
   "id": "73ba5712-597e-47bf-af52-70ef29e6765d",
   "metadata": {},
   "outputs": [],
   "source": []
  },
  {
   "cell_type": "code",
   "execution_count": 12,
   "id": "86885c97-468d-4182-82d5-35a8cf580469",
   "metadata": {},
   "outputs": [
    {
     "name": "stdout",
     "output_type": "stream",
     "text": [
      "f1AA: 0.7600435455041736\n"
     ]
    }
   ],
   "source": [
    "# revisión: fAA\n",
    "print('f1AA:', f1AA(d, a))"
   ]
  },
  {
   "cell_type": "code",
   "execution_count": 13,
   "id": "f08ee6fe-a580-4592-8224-8a0b0a1a44d7",
   "metadata": {},
   "outputs": [
    {
     "name": "stdout",
     "output_type": "stream",
     "text": [
      "f1AB: 0.2364532878155391\n",
      "f1BA: 0.2364532878155391\n"
     ]
    }
   ],
   "source": [
    "# revisión: f1AB = f1BA\n",
    "print('f1AB:', f1AB(d, a, RA, RB))\n",
    "print('f1BA:', f1AB(d, a, RB, RA))"
   ]
  },
  {
   "cell_type": "code",
   "execution_count": 14,
   "id": "ba0586e0-aad9-4ce2-a35d-b1f914d2a34b",
   "metadata": {},
   "outputs": [
    {
     "name": "stdout",
     "output_type": "stream",
     "text": [
      "f2AA: -0.08732569022963345\n",
      "f2BB: -0.08732569022963345\n"
     ]
    }
   ],
   "source": [
    "# revisión: f2AA = f2BB\n",
    "print('f2AA:', f2AA(d, a, RA, RB, Z))\n",
    "print('f2BB:', f2AA(d, a, RB, RA, Z))"
   ]
  },
  {
   "cell_type": "code",
   "execution_count": 15,
   "id": "2d37ee4c-a9d9-467c-994b-36ecaca293cc",
   "metadata": {},
   "outputs": [
    {
     "name": "stdout",
     "output_type": "stream",
     "text": [
      "f2AB: -3.191538243211462\n",
      "f2BA: -3.191538243211462\n"
     ]
    }
   ],
   "source": [
    "# revisión: f2AA = f2BB\n",
    "print('f2AB:', f2AB(d, a, RA, RB, Z))\n",
    "print('f2BA:', f2AB(d, a, RB, RA, Z))"
   ]
  },
  {
   "cell_type": "code",
   "execution_count": null,
   "id": "dbb77def-11fa-47bd-b60d-f3a5ec85d7c8",
   "metadata": {},
   "outputs": [],
   "source": []
  },
  {
   "cell_type": "code",
   "execution_count": null,
   "id": "fd95f17d-cbaa-42e9-9c65-1547eda76636",
   "metadata": {},
   "outputs": [],
   "source": []
  }
 ],
 "metadata": {
  "kernelspec": {
   "display_name": "Python 3 (ipykernel)",
   "language": "python",
   "name": "python3"
  },
  "language_info": {
   "codemirror_mode": {
    "name": "ipython",
    "version": 3
   },
   "file_extension": ".py",
   "mimetype": "text/x-python",
   "name": "python",
   "nbconvert_exporter": "python",
   "pygments_lexer": "ipython3",
   "version": "3.13.1"
  }
 },
 "nbformat": 4,
 "nbformat_minor": 5
}
