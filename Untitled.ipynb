{
 "cells": [
  {
   "cell_type": "code",
   "execution_count": 1,
   "id": "bff103f0-ee52-4b31-8f11-e81e478b759b",
   "metadata": {},
   "outputs": [],
   "source": [
    "import matplotlib.pyplot as plt\n",
    "import matplotlib.animation as animation\n",
    "from elementos_matriz import *"
   ]
  },
  {
   "cell_type": "code",
   "execution_count": 2,
   "id": "18731421-7aa3-4be1-a76a-54468dd5b551",
   "metadata": {},
   "outputs": [],
   "source": [
    "def elementos_matriz(d, a, RA, RB, ZA, ZB):\n",
    "    \"\"\" Elementos de matriz para H2 con la base STO-3G\n",
    "\n",
    "    Parámetros:\n",
    "        d: vector de coeficientes de contracción\n",
    "        a: vector de exponentes orbitales gaussianos\n",
    "        (RA, RB): coord. del núcleo (A, B)\n",
    "        (ZA, ZB): carga del núcleo (A, B)\n",
    "    \"\"\"\n",
    "    # elementos de un cuerpo\n",
    "    f11 = fpp(1, d, a, RA, RB, ZA, ZB)\n",
    "    f33 = fpp(3, d, a, RA, RB, ZA, ZB)\n",
    "    # elementos de dos cuerpos\n",
    "    g1212 = gpqrs([1,2,1,2], d, a, RA, RB)\n",
    "    g3434 = gpqrs([3,4,3,4], d, a, RA, RB)\n",
    "    g1313 = gpqrs([1,3,1,3], d, a, RA, RB)\n",
    "    g1331 = gpqrs([1,3,3,1], d, a, RA, RB)\n",
    "\n",
    "    return f11, f33, g1212, g3434, g1313, g1331"
   ]
  },
  {
   "cell_type": "code",
   "execution_count": 3,
   "id": "e3c11f56-0ba5-48d2-a563-5e439465bd31",
   "metadata": {},
   "outputs": [],
   "source": [
    "def E(H11, H22, H12, signo):\n",
    "    b = H11 + H22\n",
    "    d = (H11 - H22)**2 + 4*(H12**2)\n",
    "    if signo == '+':\n",
    "        return (b + np.sqrt(d)) / 2\n",
    "    else:\n",
    "        return (b - np.sqrt(d)) / 2"
   ]
  },
  {
   "cell_type": "code",
   "execution_count": 4,
   "id": "ff9ca932-0bb2-459f-995e-68b580db6000",
   "metadata": {},
   "outputs": [],
   "source": [
    "def denominador(H11, H22, H12, signo):\n",
    "    energia = E(H11, H22, H12, signo)\n",
    "    return np.sqrt((energia - H11)**2 + H12**2)\n",
    "\n",
    "def c0(H11, H22, H12, signo):\n",
    "    energia = E(H11, H22, H12, signo)\n",
    "    d = denominador(H11, H22, H12, signo)\n",
    "    print('E 0 = ', energia)\n",
    "    print('Denominador 0 = ', d, '\\n')\n",
    "    return H12 / d\n",
    "\n",
    "def c1(H11, H22, H12, signo):\n",
    "    energia = E(H11, H22, H12, signo)\n",
    "    d = denominador(H11, H22, H12, signo)\n",
    "    print('E 1= ', energia)\n",
    "    print('Denominador 1 = ', d, '\\n')\n",
    "    return (energia - H11) / d"
   ]
  },
  {
   "cell_type": "code",
   "execution_count": 5,
   "id": "f12b0d82-fd9f-41f0-a1fb-0de465eaa9ad",
   "metadata": {
    "jupyter": {
     "source_hidden": true
    }
   },
   "outputs": [],
   "source": [
    "def energy_HF(d, a, RA, RB, ZA, ZB):\n",
    "    \"\"\" Cálculo de la energía mediante el método de Hartree-Fock (HF)\n",
    "    \n",
    "     Parámetros:\n",
    "        d: vector de coeficientes de contracción\n",
    "        a: vector de exponentes orbitales gaussianos\n",
    "        (RA, RB): coord. del núcleo (A, B)\n",
    "        (ZA, ZB): carga del núcleo (A, B)\n",
    "    \"\"\"\n",
    "    f11, f33, g1212, g3434, g1313, g1331 = elementos_matriz(d, a, RA, RB, ZA, ZB)\n",
    "    h_nuc = 1/(np.linalg.norm(RA-RB))\n",
    "    E0 = 2*f11 + g1212\n",
    "    print('f11: ', f11)\n",
    "    print('f33: ', f33)\n",
    "    print('g1212: ', g1212)\n",
    "    print('g3434: ', g3434)\n",
    "    print('g1313: ', g1313)\n",
    "    print('g1331: ', g1331, '\\n')\n",
    "    Etot = E0 + h_nuc\n",
    "\n",
    "    print('H11 = ', 2*f11 + g1212)\n",
    "    print('H22 = ', 2*f33 + g3434)\n",
    "    print('H12 = ', 2*f33 + g3434)\n",
    "    \n",
    "    return Etot"
   ]
  },
  {
   "cell_type": "code",
   "execution_count": 6,
   "id": "0eeb88b8-1359-470f-86dc-c0ec9d2569db",
   "metadata": {},
   "outputs": [],
   "source": [
    "# H11^core = f11 + f22 = 2*f11\n",
    "# Hee^core = <X1 X2 | X1 X2> ="
   ]
  },
  {
   "cell_type": "code",
   "execution_count": 7,
   "id": "5f74fac1-fbf4-4bf7-81b5-0c3fac7c5759",
   "metadata": {
    "jupyter": {
     "source_hidden": true
    }
   },
   "outputs": [
    {
     "name": "stdout",
     "output_type": "stream",
     "text": [
      "f11:  -1.252807825156638\n",
      "f33:  -0.47561604552995956\n",
      "g1212:  0.6756011864877296\n",
      "g3434:  0.7213418728496461\n",
      "g1313:  0.6586691015495469\n",
      "g1331:  0.18125770682654677 \n",
      "\n",
      "H11 =  -1.8300144638255462\n",
      "H22 =  -0.229890218210273\n",
      "H12 =  -0.229890218210273\n"
     ]
    },
    {
     "data": {
      "text/plain": [
       "np.float64(-1.1157287495398318)"
      ]
     },
     "execution_count": 7,
     "metadata": {},
     "output_type": "execute_result"
    }
   ],
   "source": [
    "RB = np.array([1.4, 0, 0]);\n",
    "# print(RB)\n",
    "energy_HF(d, a, RA, RB, ZA, ZB)"
   ]
  },
  {
   "cell_type": "code",
   "execution_count": 8,
   "id": "2010030c-fcee-4744-98c1-4665d083ba74",
   "metadata": {
    "jupyter": {
     "source_hidden": true
    }
   },
   "outputs": [
    {
     "name": "stdout",
     "output_type": "stream",
     "text": [
      "f11:  -0.4665901279620661\n",
      "f33:  -0.4665901279620661\n",
      "g1212:  0.3873040305302032\n",
      "g3434:  0.3873040305302032\n",
      "g1313:  0.3873040305302032\n",
      "g1331:  0.3873039305300557 \n",
      "\n",
      "H11 =  -0.5458762253939291\n",
      "H22 =  -0.5458762253939291\n",
      "H12 =  -0.5458762253939291\n"
     ]
    },
    {
     "data": {
      "text/plain": [
       "np.float64(-0.5458761253939292)"
      ]
     },
     "execution_count": 8,
     "metadata": {},
     "output_type": "execute_result"
    }
   ],
   "source": [
    "RB = np.array([10000000, 0, 0]);\n",
    "# print(RB)\n",
    "energy_HF(d, a, RA, RB, ZA, ZB)"
   ]
  },
  {
   "cell_type": "code",
   "execution_count": null,
   "id": "0cc0f255-e5a5-453c-9ec5-6b5151c0de14",
   "metadata": {},
   "outputs": [],
   "source": []
  },
  {
   "cell_type": "code",
   "execution_count": 9,
   "id": "e6a63766-6cce-4c5f-9c72-1f71f0817c0e",
   "metadata": {},
   "outputs": [],
   "source": [
    "def coeffs(d, a, RA, RB, ZA, ZB):\n",
    "    f11, f33, g1212, g3434, g1313, g1331 = elementos_matriz(d, a, RA, RB, ZA, ZB)\n",
    "\n",
    "    H11core = 2*f11\n",
    "    H22core = 2*f33\n",
    "    \n",
    "    print('H11 core = ', H11core)\n",
    "    print('H22 core = ', H22core, '\\n')\n",
    "\n",
    "    h_nuc = 1/(np.linalg.norm(RA-RB))\n",
    "    \n",
    "    H11 = H11core + g1212 + h_nuc\n",
    "    H22 = H22core + g3434 + h_nuc\n",
    "    H12 = g1313 + h_nuc\n",
    "    \n",
    "    print('H11 = ', H11)\n",
    "    print('H22 = ', H22)\n",
    "    print('H12 = ', H12, '\\n')\n",
    "\n",
    "    C0 = c0(H11, H22, H12, '-')\n",
    "    C1 = c1(H11, H22, H12, '-')\n",
    "\n",
    "    return C0, C1"
   ]
  },
  {
   "cell_type": "code",
   "execution_count": null,
   "id": "d4b34d2a-34ad-4dcc-b5a9-3ab5f1cd5c6c",
   "metadata": {},
   "outputs": [],
   "source": []
  },
  {
   "cell_type": "code",
   "execution_count": 66,
   "id": "78243348-0871-4584-ad23-64d71a9c6789",
   "metadata": {},
   "outputs": [
    {
     "name": "stdout",
     "output_type": "stream",
     "text": [
      "T_AA: 0.7600584704774266\n",
      "T_AB: 0.23645821621430846 \n",
      "\n",
      "V1_AA: -1.226648498439419\n",
      "V1_AB: -0.597421431195225\n",
      "V1_BB: -0.6538293950694781 \n",
      "\n",
      "V2_AA: -0.6538293950694781\n",
      "V2_AB: -0.5974214311952252\n",
      "V2_BB: -1.226648498439419 \n",
      "\n",
      "-2.0788040692076115\n",
      "-0.16203477685532872\n"
     ]
    }
   ],
   "source": [
    "RB = np.array([1.4, 0, 0]);\n",
    "\n",
    "TAA = Tmn(d, a, RA, RA)\n",
    "TAB = Tmn(d, a, RA, RB)\n",
    "V1_AA, V1_AB, V1_BB = Vmn1(d, a, RA, RB, RA, ZA)\n",
    "V2_AA, V2_AB, V2_BB = Vmn1(d, a, RA, RB, RB, ZB)\n",
    "\n",
    "H11 = 4*c2*( TAA + TAB + (V1_AA + V1_BB) + (V1_AB + V2_AB) )\n",
    "H22 = 4*c2*( TAA - TAB + (V1_AA + V1_BB) - (V1_AB + V2_AB) )\n",
    "\n",
    "# coef = coeffs(d, a, RA, RB, ZA, ZB)\n",
    "\n",
    "print('T_AA:', TAA)\n",
    "print('T_AB:', TAB, '\\n')\n",
    "# print('T_BB:', TBB, '\\n')\n",
    "\n",
    "print('V1_AA:', V1_AA)\n",
    "print('V1_AB:', V1_AB)\n",
    "print('V1_BB:', V1_BB, '\\n')\n",
    "\n",
    "print('V2_AA:', V2_AA)\n",
    "print('V2_AB:', V2_AB)\n",
    "print('V2_BB:', V2_BB, '\\n')\n",
    "\n",
    "print(H11/2)\n",
    "print(H22/2)\n",
    "# print('coef:', coef)"
   ]
  },
  {
   "cell_type": "code",
   "execution_count": 29,
   "id": "a24ff055-4ac2-49d3-8e48-08a5238b5570",
   "metadata": {},
   "outputs": [],
   "source": [
    "sgn = 1\n",
    "c2 = np.square(cPM(d, a, RA, RB, sgn))"
   ]
  },
  {
   "cell_type": "code",
   "execution_count": 67,
   "id": "54c4f6f3-ffd0-421e-bc31-0252f1d7907a",
   "metadata": {},
   "outputs": [
    {
     "name": "stdout",
     "output_type": "stream",
     "text": [
      "T_AA: 0.7600584704774266\n",
      "T_AB: 0.0 \n",
      "\n",
      "V1_AA: -1.226648498439419\n",
      "V1_AB: 0.0\n",
      "V1_BB: -1.000000737492718e-06 \n",
      "\n",
      "V2_AA: -1.000000737492718e-06\n",
      "V2_AB: 0.0\n",
      "V2_BB: -1.226648498439419 \n",
      "\n",
      "-0.4665910279627299\n",
      "-0.4665910279627299\n"
     ]
    }
   ],
   "source": [
    "RB = np.array([1000000, 0, 0]);\n",
    "\n",
    "TAA = Tmn(d, a, RA, RA)\n",
    "TAB = Tmn(d, a, RA, RB)\n",
    "V1_AA, V1_AB, V1_BB = Vmn1(d, a, RA, RB, RA, ZA)\n",
    "V2_AA, V2_AB, V2_BB = Vmn1(d, a, RA, RB, RB, ZB)\n",
    "\n",
    "H11 = 4*c2*( TAA + TAB + (V1_AA + V1_BB) + (V1_AB + V2_AB) )\n",
    "H22 = 4*c2*( TAA - TAB + (V1_AA + V1_BB) - (V1_AB + V2_AB) )\n",
    "\n",
    "# coef = coeffs(d, a, RA, RB, ZA, ZB)\n",
    "\n",
    "print('T_AA:', TAA)\n",
    "print('T_AB:', TAB, '\\n')\n",
    "# print('T_BB:', TBB, '\\n')\n",
    "\n",
    "print('V1_AA:', V1_AA)\n",
    "print('V1_AB:', V1_AB)\n",
    "print('V1_BB:', V1_BB, '\\n')\n",
    "\n",
    "print('V2_AA:', V2_AA)\n",
    "print('V2_AB:', V2_AB)\n",
    "print('V2_BB:', V2_BB, '\\n')\n",
    "\n",
    "print(H11/2)\n",
    "print(H22/2)\n",
    "# print('coef:', coef)"
   ]
  },
  {
   "cell_type": "code",
   "execution_count": 69,
   "id": "e0d27b5e-1bbe-4001-98d3-727f35be0b7e",
   "metadata": {},
   "outputs": [
    {
     "data": {
      "text/plain": [
       "-0.5459"
      ]
     },
     "execution_count": 69,
     "metadata": {},
     "output_type": "execute_result"
    }
   ],
   "source": [
    "2*(-0.4666) + 0.3873 "
   ]
  },
  {
   "cell_type": "code",
   "execution_count": null,
   "id": "9675c27a-b35e-434c-aa6f-497e8840d2a3",
   "metadata": {},
   "outputs": [],
   "source": []
  }
 ],
 "metadata": {
  "kernelspec": {
   "display_name": "Python 3 (ipykernel)",
   "language": "python",
   "name": "python3"
  },
  "language_info": {
   "codemirror_mode": {
    "name": "ipython",
    "version": 3
   },
   "file_extension": ".py",
   "mimetype": "text/x-python",
   "name": "python",
   "nbconvert_exporter": "python",
   "pygments_lexer": "ipython3",
   "version": "3.13.2"
  }
 },
 "nbformat": 4,
 "nbformat_minor": 5
}
