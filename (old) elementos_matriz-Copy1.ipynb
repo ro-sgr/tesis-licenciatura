{
 "cells": [
  {
   "cell_type": "markdown",
   "id": "f8e29090-4fe1-408b-9880-97b122826a03",
   "metadata": {},
   "source": [
    "Archivo de Jupyter para cálculo simbólico de elementos de matriz"
   ]
  },
  {
   "cell_type": "code",
   "execution_count": 1,
   "id": "77edf5a3-0e5d-40ac-9f65-ca81307c28b7",
   "metadata": {},
   "outputs": [],
   "source": [
    "# Computación numérica\n",
    "import numpy as np\n",
    "from scipy.special import erf\n",
    "# Computación simbólica\n",
    "from sympy import symbols, simplify, integrate, oo, E\n",
    "from sympy.vector import CoordSys3D, laplacian"
   ]
  },
  {
   "cell_type": "code",
   "execution_count": 2,
   "id": "94902e71-4300-4e90-aafd-e90bd7d43c27",
   "metadata": {},
   "outputs": [],
   "source": [
    "A = CoordSys3D('A', transformation='spherical') # Sistema coordenado esférico, centrado en A\n",
    "B = CoordSys3D('B', transformation='spherical') # Sistema coordenado esférico, centrado en B\n",
    "\n",
    "a1, a2, a3 = symbols('a1 a2 a3', positive=True) # exponentes orbitales Gaussianos\n",
    "d1, d2, d3 = symbols('d1 d2 d3', real=True) # coeficientes de contracción"
   ]
  },
  {
   "cell_type": "markdown",
   "id": "0815853a-68f5-452e-b410-c6eee19579d7",
   "metadata": {},
   "source": [
    "En general un elemento de matriz $f_{pq}$ será dado por\n",
    "$$\n",
    "f_{pq} = \\int \\chi_p (\\hat{f}_1 + \\hat{f}_2) \\chi_q \\, \\mathrm{d}\\mathbf{x}\n",
    "    = \\int \\psi_p (\\hat{f}_1 + \\hat{f}_2) \\psi_q \\, \\mathrm{d}\\mathbf{r} \\int Y_{00}^2 \\, \\mathrm{d}\\Omega \\int \\sigma_p(\\omega) \\sigma_q(\\omega) \\, \\mathrm{d}\\omega\n",
    "$$\n",
    "\n",
    "La parte angular es 1 y la parte espinorial se trata de una delta de Kronecker, por lo cual solo los elementos de matriz $f_{pq}$ tal que sus partes espinoriales coincidan serán diferentes de cero."
   ]
  },
  {
   "cell_type": "markdown",
   "id": "63af3ddc-84c4-4d3e-80e1-bd697b114178",
   "metadata": {},
   "source": [
    "Desarrollando la parte radial donde $\\mathrm{d}\\mathbf{r} = r^2$ es\n",
    "$$\n",
    "\\begin{align}\n",
    "\\int \\psi_p (\\hat{f}_1 + \\hat{f}_2) \\psi_q \\, \\mathrm{d}\\mathbf{r}\n",
    "    &= \\int (\\varphi_A \\pm_p \\varphi_B) (\\hat{f}_1 + \\hat{f}_2) (\\varphi_A \\pm_q \\varphi_B) \\, \\mathrm{d}\\mathbf{r} \\\\\n",
    "    &= (\\varphi_A | \\hat{f}_1 | \\varphi_A) \\pm_p (\\varphi_B | \\hat{f}_1 | \\varphi_A) \\pm_q (\\varphi_A | \\hat{f}_1 | \\varphi_B) \\pm_p \\pm_q (\\varphi_B | \\hat{f}_1 | \\varphi_B)\n",
    "    + (\\varphi_A | \\hat{f}_2 | \\varphi_A) \\pm_p (\\varphi_B | \\hat{f}_2 | \\varphi_A) \\pm_q (\\varphi_A | \\hat{f}_2 | \\varphi_B) \\pm_p \\pm_q (\\varphi_B | \\hat{f}_2 | \\varphi_B)\n",
    "\\end{align}\n",
    "$$\n",
    "\n",
    "Aquí $\\varphi_C$ se trata de una $k$-contracción Gaussiana $1\\mathrm{s}$ centrada en $C$ de la forma:\n",
    "\n",
    "$$ \\varphi_C = \\sum_{i=1}^{k} d_i \\phi_i^{(C)} $$\n",
    "\n",
    "donde $\\phi_i^{(C)} = \\exp(-\\alpha_i |\\mathbf{r} - \\mathbf{R}_C|^2) = \\exp(-\\alpha_i r_C^2)$ es una Gaussiana $1\\mathrm{s}$ no normalizada. Es importante hacer notar esto pues la constante de normalización para las Gaussianas $1\\mathrm{s}$ dependen únicamente del exponente orbital $\\alpha_i$ y por tanto serán añadidas hasta el final del cálculo."
   ]
  },
  {
   "cell_type": "code",
   "execution_count": 3,
   "id": "8b9d876f-e633-43ae-9ac0-aa2c7b1cb1cc",
   "metadata": {},
   "outputs": [],
   "source": [
    "def const(a):\n",
    "    \"\"\"\n",
    "        Constante de normalización de una función tipo Gaussiana 1s\n",
    "    a : exponente orbital Gaussiano\n",
    "    \"\"\"\n",
    "    return 2*np.power(2*a,3/4)/np.power(np.pi,1/4)"
   ]
  },
  {
   "cell_type": "markdown",
   "id": "cc3b5659-b02b-4032-9dbc-d90e2dd31ebf",
   "metadata": {},
   "source": [
    "Por simplicidad, se empleará la convención de notación $f_{i}^{(CD)} = (\\varphi_C | \\hat{f}_i | \\varphi_D)$ donde $i \\in \\{1,2\\}$ y $C, D \\in \\{A,B\\}$. Esto para cada uno de los términos del elemento de matriz. En cuyo caso, el elemento de matriz $f_{pq}$ luciría como\n",
    "\n",
    "$$ f_{pq} =\n",
    "    f_{1}^{(AA)} \\pm_p f_{1}^{(BA)} \\pm_q f_{1}^{(AB)} \\pm_p \\pm_q f_{1}^{(BB)}\n",
    "    + f_{2}^{(AA)} \\pm_p f_{2}^{(BA)} \\pm_q f_{2}^{(AB)} \\pm_p \\pm_q f_{2}^{(BB)}\n",
    "$$"
   ]
  },
  {
   "cell_type": "markdown",
   "id": "2e144914-c716-44ce-aeee-11a2b4f132f6",
   "metadata": {},
   "source": [
    "Recuerde que cada función $\\varphi_C$ se trata de una $k$-contracción Gaussiana $1\\mathrm{s}$ centrada en $C$. Más aún, note que las funciones $\\varphi_A$ y $\\varphi_B$ comparten el mismo conjunto de parámetros Gaussianos $\\{ \\mathbf{d}, \\mathbf{a} \\}$ y su única diferencia es estar centradas en núcleos distintos. Sin embargo, matemáticamente el estar centrada en otro núcleo no es más que un etiquetado, i.e. $A$ y $B$ son mudas. Por lo tanto, $f_{1}^{(AA)} = f_{1}^{(BB)}$, $f_{1}^{(AB)} = f_{1}^{(BA)}$, $f_{2}^{(AA)} = f_{2}^{(BB)}$ y $f_{2}^{(AB)} = f_{2}^{(BA)}$, así pues el elemento de matriz $f_{pq}$ será:\n",
    "\n",
    "$$ f_{pq} = 2\\delta_{pq} \\left[ f_{1}^{(AA)} \\pm_p f_{1}^{(AB)} + f_{2}^{(AA)} \\pm_p f_{2}^{(AB)} \\right] $$\n",
    "\n",
    "Entonces los elementos de matriz fuera de la diagonal $f_{pq}$, aunque $p$ y $q$ sean ambos pares o nones, son cero. Es decir, solo los elementos en la diagonal son diferentes de cero.\n",
    "\n",
    "$$ f_{pp} = 2 \\left[ f_{1}^{(AA)} \\pm_p f_{1}^{(AB)} + f_{2}^{(AA)} \\pm_p f_{2}^{(AB)} \\right] $$"
   ]
  },
  {
   "cell_type": "markdown",
   "id": "f7781d2d-b3dc-4e7f-8d12-b3c3545c063c",
   "metadata": {},
   "source": [
    "<div class='alert alert-block alert-info'><strong>Término $f_{1}^{(AA)}$</strong></div>\n",
    "\n",
    "El término $f_{1}^{(AA)}$ puede ser integrado simbólicamente con facilidad y evaluado de la misma manera.\n",
    "\n",
    "$$\n",
    "f_{1}^{AA}\n",
    "= (\\varphi_A | \\hat{f}_1 | \\varphi_A) = \\int r^2 \\left( \\sum_i^{k} d_i \\phi_{i}^{(A)} \\right) \\hat{f}_1 \\left( \\sum_j^{k} d_j \\phi_{j}^{(A)} \\right) \\mathrm{d}r\n",
    "= \\sum_i^{k} \\sum_j^{k} d_i d_j \\int r^2 \\phi_{i}^{(A)} \\hat{f}_1 \\phi_{j}^{(A)} \\mathrm{d}r\n",
    "$$\n",
    "\n",
    "Para los términos $\\hat{f}_1 \\phi_{j}^{(A)}$ se tiene que\n",
    "\n",
    "$$\n",
    "\\hat{f}_1 \\phi_{j}^{(A)} = \\left( -\\frac{1}{2} \\nabla^2 \\right) \\exp(-\\alpha_j r^2)\n",
    "= -\\frac{1}{2} \\frac{1}{r^2} \\frac{\\partial}{\\partial r} \\left( r^2 \\frac{\\partial}{\\partial r}\\exp\\left[-\\alpha_j r^2 \\right] \\right)\n",
    "= \\alpha_j (3 - 2 \\alpha_j r^2) \\exp(-\\alpha_j r^2)\n",
    "= \\alpha_j (3 - 2 \\alpha_j r^2) \\phi_{j}^{(A)}\n",
    "$$"
   ]
  },
  {
   "cell_type": "code",
   "execution_count": 4,
   "id": "13c9c18f-2a4e-41b7-aaee-40cdb92f5b35",
   "metadata": {},
   "outputs": [
    {
     "data": {
      "text/latex": [
       "$\\displaystyle a_{2} \\left(- 2.0 \\mathbf{{r}_{A}}^{2} a_{2} + 3.0\\right) e^{- \\mathbf{{r}_{A}}^{2} a_{2}}$"
      ],
      "text/plain": [
       "a2*(-2.0*A.r**2*a2 + 3.0)*exp(-A.r**2*a2)"
      ]
     },
     "execution_count": 4,
     "metadata": {},
     "output_type": "execute_result"
    }
   ],
   "source": [
    "# corroboración trabajo previo\n",
    "lap = simplify((-1/2) * laplacian(E**(-a2*(A.r**2))))\n",
    "lap"
   ]
  },
  {
   "cell_type": "code",
   "execution_count": 5,
   "id": "3b1c7430-22b5-4a40-b52e-04e066e388a4",
   "metadata": {},
   "outputs": [
    {
     "data": {
      "text/latex": [
       "$\\displaystyle \\frac{0.75 \\sqrt{\\pi} a_{1} a_{2}}{\\left(a_{1} + a_{2}\\right)^{\\frac{5}{2}}}$"
      ],
      "text/plain": [
       "0.75*sqrt(pi)*a1*a2/(a1 + a2)**(5/2)"
      ]
     },
     "execution_count": 5,
     "metadata": {},
     "output_type": "execute_result"
    }
   ],
   "source": [
    "ind_f1AA = simplify((A.r**2) * E**(-a1*(A.r**2)) * lap) # integrando\n",
    "int_f1AA = simplify(integrate(ind_f1AA, (A.r,0,oo))) # integral\n",
    "int_f1AA\n",
    "# Nota: Al integrando se añade el elemento radial r^2 pues SymPy no lo añade a pesar que A.r es una coordenada radial"
   ]
  },
  {
   "cell_type": "markdown",
   "id": "cd2988dd-ee66-4b26-8cde-0daf014095dc",
   "metadata": {},
   "source": [
    "De este modo, el elemento de matriz $f_1^{AA}$ será dado por\n",
    "$$\n",
    "f_{1}^{AA} = \\sum_i^{k} \\sum_j^{k} d_i d_j \\int r^2 \\phi_{i}^{(A)} \\alpha_j(3 - 2 \\, \\alpha_j \\, r^2) \\phi_{j}^{(A)} \\mathrm{d}r\n",
    "= \\frac{3}{4} \\sqrt{\\pi} \\sum_i^{k} \\sum_j^{k} d_i d_j \\frac{\\alpha_i \\alpha_j}{(\\alpha_i + \\alpha_j)^{5/2}}\n",
    "$$"
   ]
  },
  {
   "cell_type": "code",
   "execution_count": 6,
   "id": "dce7af01-6023-434c-be69-4ef36d7256ed",
   "metadata": {},
   "outputs": [],
   "source": [
    "# término f_1^AA del elemento de matriz f_pq, cómputo directo\n",
    "\n",
    "def f1AA_term(di:float, dj:float, ai:float, aj:float):\n",
    "    \"\"\"\n",
    "        Término f_1^AA\n",
    "    di : i-ésimo coeficiente de contracción\n",
    "    dj : j-ésimo coeficiente de contracción\n",
    "    ai : i-ésimo exponente orbital Gaussiano\n",
    "    aj : j-ésimo exponente orbital Gaussiano\n",
    "    \"\"\"\n",
    "    return di*dj*ai*aj/np.power(ai+aj,5/2)\n",
    "    \n",
    "def f1AA(d, a):\n",
    "    \"\"\"\n",
    "        Término f_1^AA. Suma de funciones base\n",
    "    d : vector de coeficientes de contracción [d1, d2, ..., dn]\n",
    "    a : vector de exponentes orbitales Gaussianos [a1, a2, ..., an]\n",
    "    \"\"\"\n",
    "    k = len(d)\n",
    "    suma = 0\n",
    "    for i in range(k):\n",
    "        for j in range(k):\n",
    "            # const(a) = const. de normalización de Gaussianas 1s\n",
    "            suma += const(a[i]) * const(a[j]) * f1AA_term(d[i], d[j], a[i], a[j])\n",
    "    return (3/4)*np.sqrt(np.pi)*suma"
   ]
  },
  {
   "cell_type": "code",
   "execution_count": 7,
   "id": "c4dccaf8-4eb3-4cc4-92bf-5d2bc28be6b0",
   "metadata": {},
   "outputs": [
    {
     "name": "stdout",
     "output_type": "stream",
     "text": [
      "Se fijan todos los parámetros igual a 1.\n",
      "Cómputo directo:   1.4999999999999998\n",
      "Cómputo simbólico: 1.50000000000000\n"
     ]
    }
   ],
   "source": [
    "print(\"Se fijan todos los parámetros igual a 1.\")\n",
    "print(\"Cómputo directo:  \", f1AA([1],[1]))\n",
    "print(\"Cómputo simbólico:\", const(1)*const(1)*int_f1AA.subs({a1:1, a2:1}).evalf())"
   ]
  },
  {
   "cell_type": "markdown",
   "id": "9196a5d2-b992-46f0-beb0-e2e60e517f60",
   "metadata": {},
   "source": [
    "<div class='alert alert-block alert-info'><strong>Término $f_{1}^{(AB)}$</strong></div>\n",
    "\n",
    "Observe que $f_{1}^{(AB)}$ constará de $k^2$ términos pues\n",
    "\n",
    "$$ f_{1}^{(AB)} = (\\varphi_A | \\hat{f}_1 | \\varphi_B)\n",
    "= \\int r^2 \\left( \\sum_i^{k} d_i \\phi_{i}^{(A)} \\right) \\hat{f}_1 \\left( \\sum_j^{k} d_j \\phi_{j}^{(B)} \\right) \\, \\mathrm{d}r\n",
    "= \\sum_i^{k} \\sum_j^{k} d_i d_j \\int r^2 \\phi_{i}^{(A)} \\hat{f}_1 \\phi_{j}^{(B)} \\, \\mathrm{d}r\n",
    "$$\n",
    "\n",
    "Esta última integral tiene solución y es de la forma [2, pág. 412]:\n",
    "$$\n",
    "\\begin{align}\n",
    "    f_{1}^{(AB)}\n",
    "    &= \\sum_i^{k} \\sum_j^{k} d_i d_j \\frac{\\alpha_i \\alpha_j}{\\alpha_i + \\alpha_j} \\left[ \\frac{3 - 2\\alpha_i \\alpha_j}{\\alpha_i + \\alpha_j} |\\mathbf{R}_A - \\mathbf{R}_B|^2 \\right] \\left[ \\frac{\\pi}{\\alpha_i + \\alpha_j} \\right]^{3/2} \\exp \\left[ -\\frac{\\alpha_i \\alpha_j}{\\alpha_i + \\alpha_j}|\\mathbf{R}_A - \\mathbf{R}_B|^2 \\right] \\\\\n",
    "    &= \\pi^{3/2} \\sum_i^{k} \\sum_j^{k} d_i d_j \\frac{\\alpha_i \\alpha_j}{(\\alpha_i + \\alpha_j)^{7/2}} (3 - 2\\alpha_i \\alpha_j) |\\mathbf{R}_A - \\mathbf{R}_B|^2 \\exp \\left[ -\\frac{\\alpha_i \\alpha_j}{\\alpha_i + \\alpha_j}|\\mathbf{R}_A - \\mathbf{R}_B|^2 \\right]\n",
    "\\end{align}\n",
    "$$\n",
    "\n",
    "la expresión general para $f_{1}^{(AB)}$."
   ]
  },
  {
   "cell_type": "code",
   "execution_count": 8,
   "id": "5afb1cb8-9f01-46a1-9d0d-be64c9207795",
   "metadata": {},
   "outputs": [],
   "source": [
    "def f1AB_term(di:float, dj:float, ai:float, aj:float, RA, RB):\n",
    "    \"\"\"\n",
    "    di : i-ésimo coeficiente de contracción\n",
    "    dj : j-ésimo coeficiente de contracción\n",
    "    ai : i-ésimo exponente orbital Gaussiano\n",
    "    aj : j-ésimo exponente orbital Gaussiano\n",
    "    RA : coord. núcleo A, [A1, A2, A3]\n",
    "    RB : coord. núcleo B, [B1, B2, B3]\n",
    "    \"\"\"\n",
    "    R = np.linalg.norm(np.array(RA)-np.array(RB), ord=1) # distancia interatómica al cuadrado\n",
    "    return di*dj*ai*aj/np.power(ai+aj, 7/2)*(3-2*ai*aj)*R*np.exp(-ai*aj*R/(ai+aj))\n",
    "\n",
    "def f1AB(d, a, RA, RB):\n",
    "    \"\"\"\n",
    "    d : vector de coeficientes de contracción [d1, d2, ..., dn]\n",
    "    a : vector de exponentes orbitales Gaussianos [a1, a2, ..., an]\n",
    "    R : vector de núcleos [Ra, Rb] donde Rc = [C1, C2, C3]\n",
    "    RA : coord. núcleo A, [A1, A2, A3]\n",
    "    RB : coord. núcleo B, [B1, B2, B3]\n",
    "    \"\"\"\n",
    "    suma = 0\n",
    "    k = len(d)\n",
    "    for i in range(k):\n",
    "        for j in range(k):\n",
    "            # const(a) = const. de normalización de Gaussianas 1s\n",
    "            suma += const(a[i]) * const(a[j]) * f1AB_term(d[i], d[j], a[i], a[j], RA, RB)\n",
    "    return np.power(np.pi, 3/2) * suma"
   ]
  },
  {
   "cell_type": "markdown",
   "id": "2fbf6e7c-9b6c-4cdb-9e68-eb74fb19fc5f",
   "metadata": {},
   "source": [
    "<div class='alert alert-block alert-info'><strong>Términos $f_{2}^{(AA)}$ y $f_{2}^{(AB)}$</strong></div>\n",
    "\n",
    "Para $f_{2}^{(AB)}$ se tiene\n",
    "\n",
    "$$\n",
    "\\begin{align}\n",
    "f_{2}^{(AA)} = (\\varphi_A | \\hat{f}_2 | \\varphi_B)\n",
    "&= \\int \\left( \\sum_i^{k} d_i \\phi_{i}^{(A)} \\right) \\hat{f}_2 \\left( \\sum_j^{k} d_j \\phi_{j}^{(B)} \\right) \\, \\mathrm{d}\\mathbf{r}\\\\\n",
    "&= \\sum_i^{k} \\sum_j^{k} d_i d_j \\int \\phi_{i}^{(A)}  \\left( - \\sum_C \\frac{Z_C}{r_C} \\right) \\phi_{j}^{(B)} \\, \\mathrm{d}\\mathbf{r}\\\\\n",
    "&= \\sum_i^{k} \\sum_j^{k} d_i d_j \\Big( - \\sum_C Z_C \\underbrace{\\int \\frac{\\phi_{i}^{(A)} \\phi_{j}^{(B)}}{r_C} \\, \\mathrm{d}\\mathbf{r}}_{I_2^{AB}} \\Big)\n",
    "\\end{align}\n",
    "$$\n",
    "\n",
    "donde $r_A = |\\mathbf{r} - \\mathbf{R}_A|$ y $r_C = |\\mathbf{r} - \\mathbf{R}_C|$ con $\\mathbf{r}$ la coordenada del electrón en cuestión y $\\mathbf{R}_A$, $\\mathbf{R}_C$ del núcleo $A$, $C$ respectivamente."
   ]
  },
  {
   "cell_type": "markdown",
   "id": "b319b697-3feb-466b-8df3-d551380297de",
   "metadata": {},
   "source": [
    "Para la multiplicación de Gaussianas $\\phi^{(A)} \\phi^{(B)}$ de la integral $I_2^{AB}$ considere el resultado [2, pág. 341]:\n",
    "\n",
    "$$ \\phi^{(A)} \\phi^{(B)} = \\exp(-\\alpha |\\mathbf{r} - \\mathbf{R}_A|^2) \\exp(-\\beta |\\mathbf{r} - \\mathbf{R}_B|^2)\n",
    "= \\tilde{K}_{AB} \\exp(-p|\\mathbf{r} - \\mathbf{R}_P|^2)\n",
    "= \\tilde{K}_{AB} \\exp(-p \\, r_P^2)\n",
    "$$\n",
    "\n",
    "con\n",
    "\n",
    "$$\\tilde{K}_{AB} = \\exp\\Big( - \\frac{\\alpha \\beta}{\\alpha + \\beta} |\\mathbf{R}_A - \\mathbf{R}_B|^2 \\Big)\\,, \\qquad\n",
    "p = \\alpha + \\beta \\,, \\qquad\n",
    "\\mathbf{R}_P = \\frac{\\alpha \\mathbf{R}_A + \\beta \\mathbf{R}_B}{\\alpha + \\beta} $$\n",
    "\n",
    "donde $\\tilde{K}_{AB}$ es el factor pre-exponencial, $p$ es el exponente total y $\\mathbf{R}_P$ es la coordenada del centro de carga."
   ]
  },
  {
   "cell_type": "markdown",
   "id": "c73cee14-dc0c-4522-a775-f5225f3c5b5e",
   "metadata": {},
   "source": [
    "Para el término $1/r_C$ de la integral $I_2^{AB}$ considere que [2, pág.344]\n",
    "\n",
    "$$ \\int_{-\\infty}^{\\infty} \\exp(-a x^2) \\, \\mathrm{d}x = \\sqrt{\\frac{\\pi}{a}} \\,, \\quad \\alpha \\in \\mathbb{R}_{> 0} $$\n",
    "\n",
    "de lo cual\n",
    "\n",
    "$$ \\frac{1}{r_C} = \\frac{1}{\\sqrt{\\pi}} \\int_{-\\infty}^{\\infty} \\exp(-r_C^2 t^2) \\, \\mathrm{d}t $$"
   ]
  },
  {
   "cell_type": "markdown",
   "id": "fa2ef168-8324-4e14-ad9f-1ab6aad64446",
   "metadata": {},
   "source": [
    "Del trabajo previo se tendrá que la integral $I_2^{AB}$ es\n",
    "\n",
    "$$ I_2^{AB} = \\tilde{K}_{AB} \\int \\exp(-p \\, r_P^2) \\left[ \\frac{1}{\\sqrt{\\pi}} \\int_{-\\infty}^{\\infty} \\exp(-r_C^2 t^2) \\, \\mathrm{d}t \\right] \\, \\mathrm{d}\\mathbf{r} $$\n",
    "\n",
    "Se multiplican ambas Gaussianas [2, pág341] similarmente a como se hizo previamente con $\\phi^{A}$ y $\\phi^{B}$:\n",
    "\n",
    "$$ \\exp(-p |\\mathbf{r} - \\mathbf{R}_P|^2) \\exp(-t^2 |\\mathbf{r} - \\mathbf{R}_C|^2)\n",
    "= \\tilde{K}_{PC} \\exp(- (p + t^2) |\\mathbf{r} - \\mathbf{R}_S|^2)\n",
    "= \\tilde{K}_{PC} \\exp(- (p + t^2) \\, r_S^2)\n",
    "$$\n",
    "\n",
    "donde\n",
    "\n",
    "$$ \\tilde{K}_{PC} = \\exp \\left( - \\frac{p \\, t^2}{p + t^2} R_{PC}^2 \\right)\\,, \\qquad\n",
    "\\mathbf{R}_S = \\frac{p \\mathbf{R}_P + t^2 \\mathbf{R}_C}{p + t^2} $$\n",
    "\n",
    "con $R_{PC} = |\\mathbf{R}_P - \\mathbf{R}_C|$ y $\\mathbf{R}_S$ es un punto en la línea que conecta a $\\mathbf{R}_P$ y $\\mathbf{R}_C$."
   ]
  },
  {
   "cell_type": "markdown",
   "id": "cc3c6e22-3742-486e-925b-bf9d5cd42455",
   "metadata": {},
   "source": [
    "Así pues, la integral $I_2^{AB}$ es entonces\n",
    "\n",
    "$$ I_2^{AB} = \\frac{\\tilde{K}_{AB}}{\\sqrt{\\pi}} \\int_{-\\infty}^{\\infty} \\Bigg\\{ \\underbrace{\\int \\exp[- (p + t^2) \\, r_S^2] \\, \\mathrm{d}\\mathbf{r}}_{I_S} \\Bigg\\} \\exp \\left( - \\frac{p \\, t^2}{p + t^2} R_{PC}^2 \\right) \\, \\mathrm{d}t $$\n",
    "\n",
    "Helgaker la efectúa a la integral $I_{S}$ sobre todo el espacio [2, pág.362], es decir considera $\\mathrm{d}\\mathbf{r} = r^2 \\sin \\theta \\, \\mathrm{d}r \\, \\mathrm{d}\\theta \\, \\mathrm{d}\\phi$. Para el presente trabajo ya se integró sobre las coordenadas angulares lo cual resultaba en un factor de 1 debido al armónico esférico $Y_{00}$. Por lo discutido previamente, aquí $\\mathrm{d}\\mathbf{r} = r^2 \\mathrm{d}r$ en cuyo caso la integral $I_S$ será\n",
    "\n",
    "$$ I_S = \\frac{\\sqrt{\\pi}}{4 \\, (p + t^2)^{3/2}} $$"
   ]
  },
  {
   "cell_type": "markdown",
   "id": "72b542b5-9eb9-49e0-9903-ada494c9f6a7",
   "metadata": {},
   "source": [
    "Mas aún, fíjese que tanto $I_S$ como $\\exp \\left( - \\frac{p \\, t^2}{p + t^2} R_{PC}^2 \\right)$ son funciones pares, así puede tomarse dos veces la integral original con límites de integración de 0 a $\\infty$. La integral $I_{2}^{AB}$ se reduce a\n",
    "\n",
    "$$ I_2^{AB}\n",
    "= \\tfrac{1}{2} \\tilde{K}_{AB} \\int_{0}^{\\infty} (p + t^2)^{-3/2} \\exp \\left( - p \\, R_{PC}^2 \\frac{t^2}{p + t^2} \\right) \\, \\mathrm{d}t\n",
    "$$\n",
    "\n",
    "Haciendo el cambio de variable $u^2 = t^2/(p + t^2)$ que lleva a $\\mathrm{d}t = \\sqrt{p}(1-u^2)^{-3/2}$ se sigue que\n",
    "\n",
    "$$ I_2^{AB} = \\frac{\\tilde{K}_{AB}}{2 p} \\int_{0}^{1} \\exp \\left( - p \\, R_{PC}^2 \\, u^2 \\right) \\, \\mathrm{d}u $$"
   ]
  },
  {
   "cell_type": "markdown",
   "id": "97416e40-9662-4f3d-9821-09459432f9c8",
   "metadata": {},
   "source": [
    "Esta última integral pertenece a una clase de funciones conocidas por *funciones de Boys* y son de la forma\n",
    "$$ F_n(x) = \\int_0^1 \\exp(-x t^2) t^{2n} \\, \\mathrm{d}t $$\n",
    "\n",
    "Así, el valor final de la integral buscada es\n",
    "\n",
    "$$ \\boxed{I_2^{AB} = \\frac{\\tilde{K}_{AB}}{2 p} F_{0}(p \\, R_{PC}^2)} $$"
   ]
  },
  {
   "cell_type": "markdown",
   "id": "8f029e2f-12e6-4c99-958a-1b282669b07f",
   "metadata": {},
   "source": [
    "Finalmente, para $f_{2}^{(AB)}$ se tiene entonces que\n",
    "\n",
    "$$ f_{2}^{(AB)} =\n",
    "\\sum_i^{k} \\sum_j^{k} d_i d_j \\Big[ - \\sum_C Z_C \\frac{\\tilde{K}_{AB}}{2 p} \\int_{0}^{1} F_{0}(p \\, R_{PC}^2) \\Big]\n",
    "= \\boxed{-\\frac{1}{2} \\sum_i^{k} \\sum_j^{k} \\left\\{ \\frac{d_i d_j}{\\alpha_i + \\alpha_j} \\tilde{K}_{AB} \\Bigg[ \\sum_C Z_C F_{0}((\\alpha_i + \\alpha_j) \\, R_{PC}^2) \\Bigg] \\right\\}}\n",
    "$$\n",
    "\n",
    "donde\n",
    "\n",
    "$$ \\tilde{K}_{AB} = \\exp\\Big( - \\frac{\\alpha_i \\alpha_j}{\\alpha_i + \\alpha_j} |\\mathbf{R}_A - \\mathbf{R}_B|^2 \\Big)\\,, \\qquad\n",
    "R_{PC} = |\\mathbf{R}_P - \\mathbf{R}_C|\\,, \\qquad\n",
    "\\mathbf{R}_P = \\frac{\\alpha_i \\mathbf{R}_A + \\alpha_j \\mathbf{R}_B}{\\alpha_i + \\alpha_j}\n",
    "$$"
   ]
  },
  {
   "cell_type": "code",
   "execution_count": 7,
   "id": "c984e833-dc9f-4b5f-8d4f-c9c098148d02",
   "metadata": {},
   "outputs": [],
   "source": [
    "def K(a, b, RA, RB):\n",
    "    \"\"\"\n",
    "        Factor pre-exponencial\n",
    "    (a, b) : exponente orbital Gaussiano de la función centrada en (A, B)\n",
    "    (RA, RB) : coordenadas del núcleo (A, B)\n",
    "    \"\"\"\n",
    "    RAB = np.linalg.norm(np.array(RA)-np.array(RB), ord=1) # distancia interatómica al cuadrado, |RA - RB|^2\n",
    "    return -(a*b)/(a+b)*RAB"
   ]
  },
  {
   "cell_type": "code",
   "execution_count": 8,
   "id": "70d6a7c3-f9a2-43ce-a203-1da2de609c8b",
   "metadata": {},
   "outputs": [],
   "source": [
    "def RP(a, b, RA, RB):\n",
    "    \"\"\"\n",
    "        Coordenada del centro de carga RP\n",
    "    (a, b) : exponente orbital Gaussiano de la función centrada en (A, B)\n",
    "    (RA, RB) : coordenadas del núcleo (A, B)\n",
    "    \"\"\"\n",
    "    return (a*np.array(RA) + b*np.array(RB))/(a+b)"
   ]
  },
  {
   "cell_type": "code",
   "execution_count": null,
   "id": "9aebb4e8-c611-4892-ad70-f2a4777f0c3e",
   "metadata": {},
   "outputs": [],
   "source": [
    "def f2AB_term(di, dj, ai, aj, RA, RB, ZA, ZB, RP):\n",
    "    # la suma sobre los núcleos C solo son 2 términos, núcleo A y B\n",
    "    RPA = np.linalg.norm(np.array(RP)-np.array(RA), ord=1) # distancia interatómica al cuadrado, |RP - RC|^2\n",
    "    tA = ZA * Boys(0, (ai+aj)*RPA)\n",
    "\n",
    "    RPB = np.linalg.norm(np.array(RP)-np.array(RB), ord=1) # distancia interatómica al cuadrado, |RP - RC|^2\n",
    "    tB = ZB * Boys(0, (ai+aj)*RPB)\n",
    "    \n",
    "    return di*dj/(ai+aj) * K(ai, aj, RA, RB) * (tA + tB)"
   ]
  },
  {
   "cell_type": "code",
   "execution_count": null,
   "id": "716e3116-da29-4133-8eab-e0b0dde8f7ea",
   "metadata": {},
   "outputs": [],
   "source": [
    "def f2AB(d, a, RA, RB):\n",
    "    \"\"\"\n",
    "    d : vector de coeficientes de contracción [d1, d2, ..., dn]\n",
    "    a : vector de exponentes orbitales Gaussianos [a1, a2, ..., an]\n",
    "    R : vector de núcleos [Ra, Rb] donde Rc = [C1, C2, C3]\n",
    "    RA : coord. núcleo A, [A1, A2, A3]\n",
    "    RB : coord. núcleo B, [B1, B2, B3]\n",
    "    \"\"\"\n",
    "    suma = 0\n",
    "    k = len(d)\n",
    "    for i in range(k):\n",
    "        for j in range(k):\n",
    "            # const(a) = const. de normalización de Gaussianas 1s\n",
    "            RP = RP(a[i], a[j], RA, RB) # coordenada del centro de carga\n",
    "            suma += const(a[i]) * const(a[j]) * f1AB_term(d[i], d[j], a[i], a[j], RA, RB, ZA, ZB, RP)\n",
    "    return (-1/2) * suma"
   ]
  },
  {
   "cell_type": "markdown",
   "id": "a067ad8c-cb18-4c9f-a87b-2a350c94e02b",
   "metadata": {},
   "source": [
    "<div class='alert alert-block alert-info'><strong>Término $f_{2}^{(AA)}$</strong></div>\n",
    "\n",
    "Para $f_{2}^{(AA)}$ se tiene\n",
    "\n",
    "$$\n",
    "\\begin{align}\n",
    "f_{2}^{(AA)} = (\\varphi_A | \\hat{f}_2 | \\varphi_A)\n",
    "&= \\int r^2_A \\left( \\sum_i^{k} d_i \\phi_{i}^{(A)} \\right) \\hat{f}_2 \\left( \\sum_j^{k} d_j \\phi_{j}^{(A)} \\right) \\, \\mathrm{d}r_A\\\\\n",
    "&= \\sum_i^{k} \\sum_j^{k} d_i d_j \\int r_A^2 \\phi_{i}^{(A)}  \\left( - \\sum_C \\frac{Z_C}{r_C} \\right) \\phi_{j}^{(A)} \\, \\mathrm{d}r_A\\\\\n",
    "&= \\sum_i^{k} \\sum_j^{k} d_i d_j \\left( - \\sum_C Z_C \\int r_A^2 \\phi_{i}^{(A)} \\frac{1}{r_C} \\phi_{j}^{(A)} \\, \\mathrm{d}r_A \\right)\n",
    "\\end{align}\n",
    "$$\n",
    "\n",
    "donde $r_A = |\\mathbf{r} - \\mathbf{R}_A|$ y $r_C = |\\mathbf{r} - \\mathbf{R}_C|$ con $\\mathbf{r}$ la coordenada del electrón en cuestión y $\\mathbf{R}_A$, $\\mathbf{R}_C$ del núcleo $A$, $C$ respectivamente."
   ]
  },
  {
   "cell_type": "markdown",
   "id": "e8de0a2d-aff2-4a08-a6b6-558504637d0c",
   "metadata": {},
   "source": [
    "Se busca escribir a la $r_C$ en términos de $r_A$ y de $R_{AC} = |\\mathbf{R}_A - \\mathbf{R}_C|$, la distancia entre los núcleos $A$ y $C$. Por la ley de cosenos es posible hacer esto, tendiendo así\n",
    "\n",
    "$$ r_C^2 = r_A^2 + R_{AC}^2 - 2 r_A R_{AC} \\cos\\theta $$\n",
    "\n",
    "donde $\\theta$ es el ángulo entre el vector $\\mathbf{r} - \\mathbf{R}_A$ y el vector $\\mathbf{R}_{A} - \\mathbf{R}_B$. Así la integral de interés por resolver es\n",
    "\n",
    "$$ \\int r_A^2 \\phi_{i}^{(A)} \\frac{1}{r_C} \\phi_{j}^{(A)} \\, \\mathrm{d}r_A\n",
    "= \\int r_A^2 \\frac{\\exp[-(\\alpha_i + \\alpha_j) r_A^2]}{r_C} \\, \\mathrm{d}r_A\n",
    "$$"
   ]
  },
  {
   "cell_type": "markdown",
   "id": "1aefa409-7847-4367-bcb9-fb5d3023782c",
   "metadata": {},
   "source": [
    "<div class='alert alert-block alert-warning'>\n",
    "    1. Se tendría que integrar sobre la coordenada angular? (en cuyo caso hay que introducir el elemento $\\Omega$ que no estábamos considerando ya) <br>\n",
    "    2. ¿Se podría calcular numéricamente?\n",
    "</div>"
   ]
  },
  {
   "cell_type": "code",
   "execution_count": null,
   "id": "50597cbf-5ed1-40fd-aff6-4a1c3c85cc49",
   "metadata": {},
   "outputs": [],
   "source": []
  },
  {
   "cell_type": "markdown",
   "id": "f0cefef8-2b5c-4f24-989c-e58efc0ef47c",
   "metadata": {},
   "source": [
    "<div class='alert alert-block alert-info'><strong>Término $f_{2}^{(AB)}$</strong></div>\n",
    "\n",
    "Para $f_{2}^{(AB)}$ se tiene\n",
    "$$\n",
    "\\begin{align}\n",
    "    f_{2}^{(AB)} = (\\varphi_A | \\hat{f}_2 | \\varphi_B)\n",
    "    &= \\int \\left( \\sum_i^{k} d_i \\phi_{i}^{(A)} \\right) \\left( - \\sum_C \\frac{Z_C}{r_C} \\right) \\left( \\sum_j^{k} d_j \\phi_{j}^{(B)} \\right) \\, \\mathrm{d}\\mathbf{r}\\\\\n",
    "    &= \\sum_i^{k} \\sum_j^{k} d_i d_j \\sum_C \\left\\{ \\int \\phi_{i}^{(A)} \\left( - \\frac{Z_C}{r_C} \\right) \\phi_{j}^{(B)} \\, \\mathrm{d}\\mathbf{r} \\right\\} \\\\\n",
    "    &= \\sum_i^{k} \\sum_j^{k} d_i d_j \\sum_C \\left\\{ -\\frac{2\\pi}{\\alpha_i + \\alpha_j} Z_C \\, \\exp\\left[ -\\frac{\\alpha_i \\alpha_j}{\\alpha_i + \\alpha_j} |\\mathbf{R}_A - \\mathbf{R}_B|^2 \\right]\n",
    "    F_0 \\left[ (\\alpha_i + \\alpha_j) |\\mathbf{R}_P - \\mathbf{R}_C|^2 \\right] \\right\\} \\\\\n",
    "    &= -2\\pi \\sum_i^{k} \\sum_j^{k} \\left\\{ \\frac{d_i d_j}{\\alpha_i + \\alpha_j} \\exp\\left[ -\\frac{\\alpha_i \\alpha_j}{\\alpha_i + \\alpha_j} |\\mathbf{R}_A - \\mathbf{R}_B|^2 \\right]\n",
    "    \\sum_C Z_C \\,\n",
    "    F_0 \\left[ (\\alpha_i + \\alpha_j) |\\mathbf{R}_P - \\mathbf{R}_C|^2 \\right] \\right\\}\n",
    "\\end{align}\n",
    "$$\n",
    "\n",
    "donde $C \\in \\{A, B\\}$ es alguno de los dos núcleos posibles, $\\mathbf{R}_P$ es un punto en la línea que une a los centros $A$ y $B$ dado por\n",
    "$$\n",
    "\\begin{align}\n",
    "    \\mathrm{R}_P = \\frac{\\alpha_i \\mathbf{R}_A + \\alpha_j \\, \\mathbf{R}_B}{\\alpha_i + \\alpha_j}\n",
    "\\end{align}\n",
    "$$\n",
    "\n",
    "y $F_0$ es la función dada por\n",
    "$$\n",
    "\\begin{align}\n",
    "    F_0 (t) = \\frac{1}{2} \\sqrt{\\frac{\\pi}{t}} \\mathrm{erf} (\\sqrt{t})\n",
    "\\end{align}\n",
    "$$\n",
    "\n",
    "con $\\mathrm{erf}$ la función de error."
   ]
  },
  {
   "cell_type": "code",
   "execution_count": 9,
   "id": "bb73fd00-adef-49c2-aeb3-c6786eb0c9f6",
   "metadata": {},
   "outputs": [],
   "source": [
    "def Rp(a, b, RA, RB):\n",
    "    return (a*np.array(RA) + b*np.array(RB))/(a+b)\n",
    "\n",
    "def F0(t):\n",
    "    return (1/2)*np.sqrt(np.pi/t) * erf(np.sqrt(t))"
   ]
  },
  {
   "cell_type": "code",
   "execution_count": 10,
   "id": "81703932-8e99-477c-afc6-4da3ed2e7fe7",
   "metadata": {},
   "outputs": [],
   "source": [
    "def f2AB_term(di:float, dj:float, ai:float, aj:float, R, Z):\n",
    "    \"\"\"\n",
    "    di : i-ésimo coeficiente de contracción\n",
    "    dj : j-ésimo coeficiente de contracción\n",
    "    ai : i-ésimo exponente orbital Gaussiano\n",
    "    aj : j-ésimo exponente orbital Gaussiano\n",
    "    Ra : coord. núcleo A, [A1, A2, A3]\n",
    "    Rb : coord. núcleo B, [B1, B2, B3]\n",
    "    Za : carga nuclear núcleo A\n",
    "    Zb : carga nuclear núcleo B\n",
    "    \"\"\"\n",
    "    # len(R) = len(Z) = 2\n",
    "    Rab = np.linalg.norm(np.array(R[0])-np.array(R[1]), ord=1) # distancia interatómica al cuadrado, |RA-RB|^2\n",
    "    RP = Rp(ai, aj, R[0], R[1])\n",
    "    \n",
    "    suma = 0\n",
    "    for C in range(2):\n",
    "        Rpc = np.linalg.norm(RP - R[C], ord=1) # distancia al cuadrado entre el centro P y C |RP-RC|^2\n",
    "        suma += di*dj / (ai+aj) * np.exp(-ai*aj*Rab/(ai+aj)) * Z[C] * F0((ai+aj)*Rpc)\n",
    "    return suma\n",
    "\n",
    "def f2AB(d, a, RA, RB, ZA, ZB):\n",
    "    \"\"\"\n",
    "    d : vector de coeficientes de contracción [d1, d2, ..., dn]\n",
    "    a : vector de exponentes orbitales Gaussianos [a1, a2, ..., an]\n",
    "    RA : coord. núcleo A, [A1, A2, A3]\n",
    "    RB : coord. núcleo B, [B1, B2, B3]\n",
    "    ZA : carga nuclear núcleo A\n",
    "    ZB : carga nuclear núcleo B\n",
    "    \"\"\"\n",
    "    # len(d) = len(a) = k\n",
    "    suma = 0\n",
    "    k = len(d)\n",
    "    for i in range(k):\n",
    "        for j in range(k):\n",
    "            # const(a) = const. de normalización de Gaussianas 1s\n",
    "            suma += const(a[i]) * const(a[j]) * f2AB_term(d[i], d[j], a[i], a[j], [RA, RB], [ZA, ZB])\n",
    "    return -2*np.pi * suma"
   ]
  },
  {
   "cell_type": "markdown",
   "id": "fc47b9c3-bf51-4087-8e21-2ca99e17b565",
   "metadata": {},
   "source": [
    "<div class='alert alert-block alert-success'><strong>Elemento de matriz $f_{pp}$</strong></div>\n",
    "\n",
    "Finalmente, es posible calcular el elemento de matriz $f_{pp} = 2 \\left[ f_{1}^{(AA)} \\pm_p f_{1}^{(AB)} + f_{2}^{(AA)} \\pm_p f_{2}^{(AB)} \\right]$. Si $p=1,2$ entonces el signo es positivo, mientras que si $p=3,4$ el signo será negativo."
   ]
  },
  {
   "cell_type": "code",
   "execution_count": 11,
   "id": "e00543ab-b748-4254-af98-84d3723585e4",
   "metadata": {},
   "outputs": [],
   "source": [
    "def fpp(p, d, a, RA, RB, ZA, ZB):\n",
    "    \"\"\"\n",
    "        Elemento de matriz f_pp\n",
    "    p : p-ésimo elemento de la base ordenada\n",
    "    d : vector de coeficientes de contracción [d1, d2, ..., dn]\n",
    "    a : vector de exponentes orbitales Gaussianos [a1, a2, ..., an]\n",
    "    RA : coord. núcleo A, [A1, A2, A3]\n",
    "    RB : coord. núcleo B, [B1, B2, B3]\n",
    "    ZA : carga nuclear núcleo A\n",
    "    ZB : carga nuclear núcleo B\n",
    "    \"\"\"\n",
    "    term1AA = f1AA(d, a)\n",
    "    term1AB = f1AB(d, a, RA, RB)\n",
    "    term2AA = f2AB(d, a, RA, RA, ZA, ZB)\n",
    "    term2AB = f2AB(d, a, RA, RB, ZA, ZB)\n",
    "\n",
    "    if p in [1,2]:\n",
    "        return 2*(term1AA + term1AB + term2AA + term2AB)\n",
    "    else:\n",
    "        return 2*(term1AA - term1AB + term2AA - term2AB)"
   ]
  },
  {
   "cell_type": "code",
   "execution_count": 12,
   "id": "509dcf92-66bd-4070-8e3d-5ea44fa40c22",
   "metadata": {},
   "outputs": [
    {
     "name": "stderr",
     "output_type": "stream",
     "text": [
      "C:\\Users\\rodri\\AppData\\Local\\Temp\\ipykernel_13580\\2150372359.py:5: RuntimeWarning: divide by zero encountered in scalar divide\n",
      "  return (1/2)*np.sqrt(np.pi/t) * erf(np.sqrt(t))\n",
      "C:\\Users\\rodri\\AppData\\Local\\Temp\\ipykernel_13580\\2150372359.py:5: RuntimeWarning: invalid value encountered in scalar multiply\n",
      "  return (1/2)*np.sqrt(np.pi/t) * erf(np.sqrt(t))\n"
     ]
    }
   ],
   "source": [
    "# Parámetros Gaussianos obtenidos en `(1) STO-3G.ipynb`\n",
    "d = [0.44471812476789035, 0.5352716544572346, 0.1543000507808527]\n",
    "a = [0.10983311305458726, 0.40584959263313375, 2.227949029647934]\n",
    "\n",
    "RA = [0, 0, 0]\n",
    "RB = [1.401, 0, 0]\n",
    "ZA = 1\n",
    "ZB = 1\n",
    "\n",
    "f11 = fpp(1, d, a, RA, RB, ZA, ZB)\n",
    "f33 = fpp(3, d, a, RA, RB, ZA, ZB)"
   ]
  },
  {
   "cell_type": "code",
   "execution_count": 13,
   "id": "c382275b-6310-4a51-bc50-52e7096d9d41",
   "metadata": {},
   "outputs": [
    {
     "data": {
      "text/plain": [
       "np.float64(0.49430511544236067)"
      ]
     },
     "execution_count": 13,
     "metadata": {},
     "output_type": "execute_result"
    }
   ],
   "source": [
    "f1AA(d, a)"
   ]
  },
  {
   "cell_type": "code",
   "execution_count": 14,
   "id": "bce2135a-ea01-4c54-8217-c33441afa77a",
   "metadata": {},
   "outputs": [
    {
     "data": {
      "text/plain": [
       "np.float64(7.701115573801517)"
      ]
     },
     "execution_count": 14,
     "metadata": {},
     "output_type": "execute_result"
    }
   ],
   "source": [
    "f1AB(d, a, RA, RB)"
   ]
  },
  {
   "cell_type": "code",
   "execution_count": 15,
   "id": "04b0654f-f5fd-4bae-b732-de831cca7714",
   "metadata": {},
   "outputs": [
    {
     "data": {
      "text/plain": [
       "np.float64(-15.727157569842069)"
      ]
     },
     "execution_count": 15,
     "metadata": {},
     "output_type": "execute_result"
    }
   ],
   "source": [
    "f2AB(d, a, RA, RB, ZA, ZB)"
   ]
  },
  {
   "cell_type": "code",
   "execution_count": null,
   "id": "1bb15edb-a7c9-40d3-bca1-8f29b1209f20",
   "metadata": {},
   "outputs": [],
   "source": []
  },
  {
   "cell_type": "code",
   "execution_count": 16,
   "id": "332ad587-9c43-456e-9f69-5a0fcfc0e002",
   "metadata": {},
   "outputs": [
    {
     "data": {
      "text/plain": [
       "np.float64(-7.53173688059819)"
      ]
     },
     "execution_count": 16,
     "metadata": {},
     "output_type": "execute_result"
    }
   ],
   "source": [
    "f1AA(d, a) + f1AB(d, a, RA, RB) + f2AB(d, a, RA, RB, ZA, ZB)"
   ]
  },
  {
   "cell_type": "code",
   "execution_count": null,
   "id": "33e25d4e-1850-42d8-a70d-43307b2954f4",
   "metadata": {},
   "outputs": [],
   "source": []
  }
 ],
 "metadata": {
  "kernelspec": {
   "display_name": "Python 3 (ipykernel)",
   "language": "python",
   "name": "python3"
  },
  "language_info": {
   "codemirror_mode": {
    "name": "ipython",
    "version": 3
   },
   "file_extension": ".py",
   "mimetype": "text/x-python",
   "name": "python",
   "nbconvert_exporter": "python",
   "pygments_lexer": "ipython3",
   "version": "3.13.1"
  }
 },
 "nbformat": 4,
 "nbformat_minor": 5
}
