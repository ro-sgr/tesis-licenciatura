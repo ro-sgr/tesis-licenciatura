{
 "cells": [
  {
   "cell_type": "markdown",
   "id": "ddee75ba-6c9c-44c5-a971-1ebb58b07e3b",
   "metadata": {},
   "source": [
    "# Teoría y Computación Cuántica para Sistemas Moleculares:\n",
    "# Un Estudio desde la Molécula de Hidrógeno\n",
    "\n",
    "## Universidad Nacional Autónoma de México\n",
    "\n",
    "### Facultad de Ciencias\n",
    "\n",
    "**Presenta:** Rodrigo Segura Moreno\n",
    "\n",
    "**Tutor:** Dr. Ricardo Gutiérrez Jáuregui\n",
    "\n",
    "---"
   ]
  },
  {
   "cell_type": "code",
   "execution_count": null,
   "id": "fe5d94fa-da5c-4518-9ca4-85ec1e80843f",
   "metadata": {},
   "outputs": [],
   "source": []
  }
 ],
 "metadata": {
  "kernelspec": {
   "display_name": "Python 3 (ipykernel)",
   "language": "python",
   "name": "python3"
  },
  "language_info": {
   "codemirror_mode": {
    "name": "ipython",
    "version": 3
   },
   "file_extension": ".py",
   "mimetype": "text/x-python",
   "name": "python",
   "nbconvert_exporter": "python",
   "pygments_lexer": "ipython3",
   "version": "3.13.2"
  }
 },
 "nbformat": 4,
 "nbformat_minor": 5
}
