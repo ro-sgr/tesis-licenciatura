{
 "cells": [
  {
   "cell_type": "code",
   "execution_count": 21,
   "id": "09cdcb9b-75ac-441e-bddd-f26fa7ee4554",
   "metadata": {},
   "outputs": [],
   "source": [
    "import numpy as np\n",
    "import matplotlib.pyplot as plt\n",
    "from matplotlib.colors import ListedColormap"
   ]
  },
  {
   "cell_type": "code",
   "execution_count": 22,
   "id": "793b2c3e-8d7b-4c6b-a568-84ad6c1f6b14",
   "metadata": {},
   "outputs": [],
   "source": [
    "def gpqrs(P : np.array, d : np.array, a : np.array, RA : np.array, RB : np.array):\n",
    "    \"\"\" Elemento de matriz g_pqrs\n",
    "    \n",
    "    P : vector de elementos de la base, P = (p,q,r,s)\n",
    "    d : vector de coeficientes de expansión (d1, d2, ..., dk)\n",
    "    a : vector de exponentes orbitales Gaussianos (a1, a2, ..., ak)\n",
    "    (RA, RB) : coordenada del núcleo (A, B)\n",
    "    \"\"\"\n",
    "    p,q,r,s = P\n",
    "    nucleos = [RA, RB]\n",
    "\n",
    "    Mpqrs = 0 # elemento de tensor\n",
    "\n",
    "    sgn_p = 1 if p in [1,2] else -1 # signo de p\n",
    "    sgn_q = 1 if q in [1,2] else -1 # signo de q\n",
    "    sgn_r = 1 if r in [1,2] else -1 # signo de r\n",
    "    sgn_s = 1 if s in [1,2] else -1 # signo de s\n",
    "\n",
    "    # coeficientes de normalización (p,q,r,s)\n",
    "    cp = cPM(d, a, RA, RB, sgn_p)\n",
    "    cq = cPM(d, a, RA, RB, sgn_q)\n",
    "    cr = cPM(d, a, RA, RB, sgn_r)\n",
    "    cs = cPM(d, a, RA, RB, sgn_s)\n",
    "    \n",
    "    for A in nucleos:\n",
    "        for B in nucleos:\n",
    "            for C in nucleos:\n",
    "                for D in nucleos:\n",
    "                    sign = 1\n",
    "                    if np.array_equal(A, RB):\n",
    "                        sign *= sgn_p\n",
    "                    if np.array_equal(B, RB):\n",
    "                        sign *= sgn_q\n",
    "                    if np.array_equal(C, RB):\n",
    "                        sign *= sgn_r\n",
    "                    if np.array_equal(D, RB):\n",
    "                        sign *= sgn_s\n",
    "\n",
    "                    mpqrs = sign*Vmn(d, a, A, B, C, D)\n",
    "                    Mpqrs += mpqrs\n",
    "    \n",
    "    Mpqrs = cp*cq*cr*cs*Mpqrs # multiplicar Mpqrs por coefs. de normalización\n",
    "        \n",
    "    return Mpqrs"
   ]
  },
  {
   "cell_type": "code",
   "execution_count": 23,
   "id": "0355bdaf-a40c-406e-b25b-0cdd0867f9df",
   "metadata": {},
   "outputs": [],
   "source": [
    "elementos = set()\n",
    "terminos = dict()\n",
    "\n",
    "for p in range(1,5):\n",
    "    for q in range(1,5):\n",
    "        for r in range(1,5):\n",
    "            for s in range(1,5):\n",
    "                elemento = float(np.round(gpqrs([p,q,r,s], d, a, RA, RB),vdecimal))\n",
    "                if elemento == 0:\n",
    "                    continue\n",
    "                else:\n",
    "                    if elemento in elementos:\n",
    "                        terminos[f'{elemento}'].append(f'{p}{q}{r}{s}')\n",
    "                    else:\n",
    "                        elementos.add(elemento)\n",
    "                        terminos[f'{elemento}'] = [f'{p}{q}{r}{s}']"
   ]
  },
  {
   "cell_type": "code",
   "execution_count": 24,
   "id": "afbd580a-a768-42a4-9d24-cb083101bb7d",
   "metadata": {},
   "outputs": [],
   "source": [
    "n = 4\n",
    "matriz = []\n",
    "\n",
    "for i in range(n):\n",
    "    matriz.append([])\n",
    "    for j in range(n):\n",
    "        matriz[i].append(np.zeros(shape=(n,n)))\n",
    "\n",
    "factor = 100\n",
    "\n",
    "for elemento in elementos:\n",
    "    for termino in terminos[f'{elemento}']:\n",
    "        p, q, r, s = int(termino[0])-1, int(termino[1])-1, int(termino[2])-1, int(termino[3])-1\n",
    "        # print(p,q,r,s)\n",
    "        if elemento == 0.18129:\n",
    "            matriz[s][r][q][p] = 1*factor\n",
    "        if elemento == 0.658591:\n",
    "            matriz[s][r][q][p] = 2*factor\n",
    "        if elemento == 0.675502:\n",
    "            matriz[s][r][q][p] = 3*factor\n",
    "        if elemento == 0.721182:\n",
    "            matriz[s][r][q][p] = 4*factor"
   ]
  },
  {
   "cell_type": "code",
   "execution_count": 25,
   "id": "fb04f56a-a777-4099-8ca6-0f94604d893b",
   "metadata": {},
   "outputs": [
    {
     "data": {
      "image/png": "[encoded data removed]",
      "text/plain": [
       "<Figure size 640x480 with 4 Axes>"
      ]
     },
     "metadata": {},
     "output_type": "display_data"
    },
    {
     "data": {
      "image/png": "[encoded data removed]",
      "text/plain": [
       "<Figure size 640x480 with 4 Axes>"
      ]
     },
     "metadata": {},
     "output_type": "display_data"
    },
    {
     "data": {
      "image/png": "[encoded data removed]",
      "text/plain": [
       "<Figure size 640x480 with 4 Axes>"
      ]
     },
     "metadata": {},
     "output_type": "display_data"
    },
    {
     "data": {
      "image/png": "[encoded data removed]",
      "text/plain": [
       "<Figure size 640x480 with 4 Axes>"
      ]
     },
     "metadata": {},
     "output_type": "display_data"
    }
   ],
   "source": [
    "vmax = n*factor\n",
    "\n",
    "for p in range(n):\n",
    "    m1 = matriz[p][0]\n",
    "    m2 = matriz[p][1]\n",
    "    m3 = matriz[p][2]\n",
    "    m4 = matriz[p][3]\n",
    "\n",
    "    fig, (ax1, ax2, ax3, ax4) = plt.subplots(1, n)\n",
    "\n",
    "    ax1.matshow(m1, cmap=plt.cm.Blues, vmin=0, vmax=vmax)\n",
    "    ax2.matshow(m2, cmap=plt.cm.Blues, vmin=0, vmax=vmax)\n",
    "    ax3.matshow(m3, cmap=plt.cm.Blues, vmin=0, vmax=vmax)\n",
    "    ax4.matshow(m4, cmap=plt.cm.Blues, vmin=0, vmax=vmax)\n",
    "\n",
    "    # for i in range(n):\n",
    "    #     for j in range(n):\n",
    "    #         c = m1[j,i]\n",
    "    #         if c != 0:\n",
    "    #             ax1.text(i, j, str(c/factor), va='center', ha='center')\n",
    "    \n",
    "    # for i in range(n):\n",
    "    #     for j in range(n):\n",
    "    #         c = m2[j,i]\n",
    "    #         if c != 0:\n",
    "    #             ax2.text(i, j, str(c/factor), va='center', ha='center')\n",
    "    \n",
    "    # for i in range(n):\n",
    "    #     for j in range(n):\n",
    "    #         c = m3[j,i]\n",
    "    #         if c != 0:\n",
    "    #             ax3.text(i, j, str(c/factor), va='center', ha='center')\n",
    "    \n",
    "    # for i in range(n):\n",
    "    #     for j in range(n):\n",
    "    #         c = m4[j,i]\n",
    "    #         if c != 0:\n",
    "    #           ax4.text(i, j, str(c/factor), va='center', ha='center')\n",
    "\n",
    "    plt.show()\n",
    "    fig.savefig(f'matrix/matrix-{p}.png');"
   ]
  },
  {
   "cell_type": "code",
   "execution_count": 26,
   "id": "2cc38c2f-b0a6-4641-acbe-aa52b5ad204d",
   "metadata": {},
   "outputs": [],
   "source": [
    "import glob\n",
    "import contextlib\n",
    "from PIL import Image"
   ]
  },
  {
   "cell_type": "code",
   "execution_count": 27,
   "id": "ed5eb57b-7b74-443c-9cca-e3e3f7cbec08",
   "metadata": {},
   "outputs": [],
   "source": [
    "# filepaths\n",
    "fp_in = \"matrix/matrix-*.png\"\n",
    "fp_out = \"matrix/matrix.gif\"\n",
    "\n",
    "# use exit stack to automatically close opened images\n",
    "with contextlib.ExitStack() as stack:\n",
    "\n",
    "    # lazily load images\n",
    "    imgs = (stack.enter_context(Image.open(f))\n",
    "            for f in sorted(glob.glob(fp_in)))\n",
    "\n",
    "    # extract  first image from iterator\n",
    "    img = next(imgs)\n",
    "\n",
    "    # https://pillow.readthedocs.io/en/stable/handbook/image-file-formats.html#gif\n",
    "    img.save(fp=fp_out, format='GIF', append_images=imgs, save_all=True, duration=300, loop=0)"
   ]
  }
 ],
 "metadata": {
  "kernelspec": {
   "display_name": "Python 3 (ipykernel)",
   "language": "python",
   "name": "python3"
  },
  "language_info": {
   "codemirror_mode": {
    "name": "ipython",
    "version": 3
   },
   "file_extension": ".py",
   "mimetype": "text/x-python",
   "name": "python",
   "nbconvert_exporter": "python",
   "pygments_lexer": "ipython3",
   "version": "3.13.2"
  }
 },
 "nbformat": 4,
 "nbformat_minor": 5
}
