{
 "cells": [
  {
   "cell_type": "code",
   "execution_count": 1,
   "id": "77733b38-4880-4816-b523-1a87d3384c93",
   "metadata": {},
   "outputs": [],
   "source": [
    "# paqueterías\n",
    "import numpy as np\n",
    "from numpy.typing import NDArray # type annotation\n",
    "from scipy.special import erf # función de error\n",
    "\n",
    "from math import floor, log10"
   ]
  },
  {
   "cell_type": "markdown",
   "id": "aa1320ce-c23c-4a43-9875-6bc45566a44c",
   "metadata": {},
   "source": [
    "# Elementos de matriz $f_{pq}$\n",
    "\n",
    "El presente archivo provee una explicación y cálculo para los elementos de matriz de un solo cuerpo $f_{pq}$ para la molécula de hidrógeno empleando la base STO-3G. Considere el hamiltoniano electrónico en segunda cuantización para la molécula de hidrógeno es de la forma\n",
    "\n",
    "$$ \\mathcal{H} = \\sum_{pq} f_{pq} a^\\dagger_p a_q + \\sum_{pqrs} g_{pqrs} a^\\dagger_p a^\\dagger_s a_r a_q \\,.$$\n",
    "\n",
    "---"
   ]
  },
  {
   "cell_type": "markdown",
   "id": "cb8fe97b-c884-4f49-ad88-b2fff4608fce",
   "metadata": {},
   "source": [
    "## STO-3G\n",
    "\n",
    "Se cargan los coeficientes de contracción $d_{\\mu \\, \\nu}$ y los coeficientes Gaussianos $\\alpha_\\nu$ de Szabo & Ostlund y aquellos calculados previamente en el cuaderno de Jupyter `(1) STO-3G.ipynb`."
   ]
  },
  {
   "cell_type": "code",
   "execution_count": 2,
   "id": "190f418f-fdca-4a87-85e2-9d7f4a6611c2",
   "metadata": {},
   "outputs": [],
   "source": [
    "# Szabo & Ostlund\n",
    "d_Szabo: NDArray = np.array([0.444635, 0.535328, 0.154329]) # coeficientes de contracción\n",
    "a_Szabo: NDArray = np.array([0.168856, 0.623913, 3.42525]) # exponentes orbitales Gaussianos\n",
    "\n",
    "# Este trabajo\n",
    "data: NDArray = np.loadtxt(\"data/H2_STO3G.csv\", dtype=('str'), delimiter=\",\", skiprows=1, usecols=(0,1)) # cargar valores calculados\n",
    "valores = dict()\n",
    "for valor in data:\n",
    "    valores[str(valor[0])] = float(valor[1])\n",
    "    \n",
    "d: NDArray = np.array([valores['d1'], valores['d2'], valores['d3']]) # coeficientes de contracción\n",
    "a: NDArray = np.array([valores['a1_2'], valores['a2_2'], valores['a3_2']]) # exponentes orbitales Gaussianos"
   ]
  },
  {
   "cell_type": "code",
   "execution_count": 3,
   "id": "e062e0d3-318e-4482-8dd0-af35e9efca06",
   "metadata": {},
   "outputs": [],
   "source": [
    "# distancia interatómica de 1.4 radios de Bohr (a0)\n",
    "RA: NDArray = np.array([0, 0, 0])\n",
    "RB: NDArray = np.array([1.4, 0, 0])"
   ]
  },
  {
   "cell_type": "markdown",
   "id": "a8eaf76b-75c5-4154-8ee4-5fd00ebd9bc6",
   "metadata": {},
   "source": [
    "---\n",
    "## Integrales"
   ]
  },
  {
   "cell_type": "markdown",
   "id": "0dd29b31-8fdf-4165-8ac6-b93de9895cf7",
   "metadata": {},
   "source": [
    "Se buscan los elementos de matriz $f_{pq}$ dados por la expresión siguiente:\n",
    "\n",
    "$$ f_{pq} = \\int \\chi_p^* \\left( -\\frac{\\nabla^2}{2} + \\sum_C - \\frac{Z_C}{r_C} \\right) \\chi_q \\, \\mathrm{d}\\vec{\\mathbf{x}} \\,;\n",
    "\\quad\n",
    "\\vec{\\mathbf{x}} = (\\vec{\\mathbf{r}}, \\omega)\n",
    "$$"
   ]
  },
  {
   "cell_type": "markdown",
   "id": "a50667e7-7ee6-46f4-98ae-ac300177afbd",
   "metadata": {},
   "source": [
    "La base de funciones a considerar es\n",
    "$$ \\chi_1 = \\psi_+ \\alpha \\,, \\quad\n",
    "\\chi_2 = \\psi_+ \\beta \\,, \\quad\n",
    "\\chi_3 = \\psi_- \\alpha \\,, \\quad\n",
    "\\chi_4 = \\psi_- \\beta \\,,\n",
    "$$\n",
    "\n",
    "donde $\\psi_\\pm = c_\\pm (\\varphi_A \\pm \\varphi_B)$ con\n",
    "\n",
    "$$ c_\\pm = \\frac{1}{\\sqrt{2 (1 \\pm S)}}\\,, $$\n",
    "\n",
    "la constante de normalización y\n",
    "\n",
    "$$ \\varphi_A = R_{1\\mathrm{s}}^{k}(\\vec{\\mathbf{d}}, \\vec{\\mathbf{\\alpha}}, r_A) Y_{lm}(\\theta,\\phi) \\,,\n",
    "\\quad\n",
    "\\varphi_B = R_{1\\mathrm{s}}^{k}(\\vec{\\mathbf{d}}, \\vec{\\mathbf{\\beta}}, r_B) Y_{lm}(\\theta,\\phi)\n",
    "$$\n",
    "\n",
    "las funciones espaciales centradas en el núcleo $A$ y $B$, respectivamente. En esto último $R_{1\\mathrm{s}}^{k}$ no es más que una combinación lineal de $k$ funciones Gaussianas $1\\mathrm{s}$, también conocido como una $k$-contracción de Gaussianas $1\\mathrm{s}$:\n",
    "\n",
    "$$ R_{1\\mathrm{s}}^{k}(\\vec{\\mathbf{d}}, \\vec{\\mathbf{\\alpha}}, r) = \\sum_{\\nu=1}^{k} d_\\nu R_{0}^{\\mathrm{GTO}} (\\alpha_\\nu, r) \\,;\n",
    "\\qquad \\qquad\n",
    "R_0^{\\mathrm{GTO}} (\\alpha, r) = \\frac{2(2\\alpha)^{3/4}}{\\pi^{1/4}} \\exp(-\\alpha \\, r^2) \\,.\n",
    "$$"
   ]
  },
  {
   "cell_type": "markdown",
   "id": "25ec8ac5-aef4-4378-9ac9-5b7a476633df",
   "metadata": {},
   "source": [
    "La función $\\varphi_A$ ($\\varphi_B$) es entonces de la forma:\n",
    "\n",
    "$$ \\varphi_A = \\sum_{\\nu = 1}^{k} d_\\nu \\left( \\frac{2\\alpha_\\nu}{\\pi} \\right)^{3/4} \\exp(-\\alpha_\\nu \\, r_A^2) \\,.$$"
   ]
  },
  {
   "cell_type": "markdown",
   "id": "5531a3eb-bedd-42a3-959d-a3819a133256",
   "metadata": {},
   "source": [
    "Para simplificar notación considere\n",
    "\n",
    "$$ G (\\vec{\\mathbf{r}}, \\alpha_\\nu, \\vec{A}) = \\left( \\frac{2\\alpha_\\nu}{\\pi} \\right)^{3/4} g(\\vec{\\mathbf{r}}, \\alpha_\\nu, \\vec{A})\n",
    "\\,; \\qquad \\qquad\n",
    "g(\\vec{\\mathbf{r}}, \\alpha_\\nu, \\vec{A}) = \\exp(-\\alpha_\\nu \\, r_A^2) \\,.$$\n",
    "\n",
    "En cuyo caso, la función $\\varphi_A$ será reescrita como\n",
    "\n",
    "$$ \\varphi_A\n",
    "= G_{\\mu} (\\vec{\\mathbf{r}}, \\vec{\\mathbf{d}}, \\vec{\\mathbf{\\alpha}}, \\vec{A})\n",
    "= \\sum_{\\nu = 1}^{k} d_{\\nu \\mu} G (\\vec{\\mathbf{r}}, \\alpha_{\\nu \\mu}, \\vec{A})\n",
    "= \\sum_{\\nu = 1}^{k} d_{\\nu \\mu} \\left( \\frac{2\\alpha_{\\nu \\mu}}{\\pi} \\right)^{3/4} \\exp(-\\alpha_{\\nu \\mu} \\, r_A^2) \\,.\n",
    "$$"
   ]
  },
  {
   "cell_type": "code",
   "execution_count": 4,
   "id": "a0c7b0f8-578c-4cc1-9302-7e753080166d",
   "metadata": {},
   "outputs": [],
   "source": [
    "def GaussNorm(α: int) -> float:\n",
    "    \"\"\" Factor de normalización Gaussiano 1s\n",
    "\n",
    "    Parámetro\n",
    "        α : exponente orbital aussiano\n",
    "    \"\"\"\n",
    "    return np.power(2*α/np.pi, 3/4)"
   ]
  },
  {
   "cell_type": "markdown",
   "id": "d64a279a-96de-4178-b86f-eea2f18d56ce",
   "metadata": {},
   "source": [
    "<div class=\"alert alert-block alert-info\">\n",
    "    <strong>Integral de traslape, $S_{\\mu \\, \\nu}$</strong>\n",
    "</div>"
   ]
  },
  {
   "cell_type": "markdown",
   "id": "feb32f66-073b-4d91-9d70-95b2103864ab",
   "metadata": {},
   "source": [
    "Aquí $S_{\\mu \\, \\nu} = \\braket{\\varphi_A|\\varphi_B} = \\braket{\\varphi_B|\\varphi_A}$ es la integral de traslape dada por\n",
    "\n",
    "$$ \\begin{align}\n",
    "    S_{\\mu \\, \\nu} \n",
    "    &= \\int G_{\\mu}^* (\\vec{\\mathbf{r}}, \\vec{\\mathbf{\\alpha}}, \\vec{A}) G_{\\nu} (\\vec{\\mathbf{r}}, \\vec{\\mathbf{\\beta}}, \\vec{B}) \\,\\mathrm{d}V \\\\\n",
    "    &= \\int \\sum_{p=1}^{k} d_{p \\mu}^* \\, G^* (\\vec{\\mathbf{r}}, \\alpha_{p \\mu}, \\vec{A}) \\,\n",
    "        \\sum_{q=1}^{k} d_{q \\nu} \\, G (\\vec{\\mathbf{r}}, \\beta_{q \\nu}, \\vec{B}) \\,\\mathrm{d}V \\\\\n",
    "    &= \\sum_{p=1}^{k} \\sum_{q=1}^{k} d_{p \\mu}^* d_{q \\nu} \\int G (\\vec{\\mathbf{r}}, \\alpha_{p \\mu}, \\vec{A}) \\,\n",
    "         G (\\vec{\\mathbf{r}}, \\beta_{q \\nu}, \\vec{B}) \\,\\mathrm{d}V \\\\\n",
    "    &= \\sum_{p=1}^{k} \\sum_{q=1}^{k} d_{p \\mu}^* d_{q \\nu} S_{pq}\n",
    "\\end{align}\n",
    "$$\n",
    "\n",
    "Esta última integral de acuerdo con Szabo y Ostlund es:\n",
    "\n",
    "$$ \\begin{align}\n",
    "    S_{pq}\n",
    "    &= \\int G (\\vec{\\mathbf{r}}, \\alpha_{p \\mu}, \\vec{A}) \\, G (\\vec{\\mathbf{r}}, \\beta_{q \\nu}, \\vec{B}) \\,\\mathrm{d}V \\\\\n",
    "    &= \\left( \\frac{2\\alpha_{p \\mu}}{\\pi} \\right)^{3/4} \\left( \\frac{2\\beta_{q \\nu}}{\\pi} \\right)^{3/4}\n",
    "        \\int \\exp(-\\alpha_{p \\mu} r^2_A) \\exp(-\\beta_{q \\nu} \\, r^2_B) \\,\\mathrm{d}V \\\\\n",
    "    &= \\left( \\frac{2\\alpha_{p \\mu}}{\\pi} \\right)^{3/4} \\left( \\frac{2\\beta_{q \\nu}}{\\pi} \\right)^{3/4}\n",
    "        \\left( \\frac{\\pi}{\\alpha_{p \\mu} + \\beta_{q \\nu}} \\right)^{3/2} \\exp\\left( -\\frac{\\alpha_{p \\mu} \\, \\beta_{q \\nu}}{\\alpha_{p \\mu} + \\beta_{q \\nu}} |\\mathbf{R}_A - \\mathbf{R}_B|^2 \\right)\n",
    "\\end{align}\n",
    "$$\n",
    "\n",
    "Dentro del código esta última integral será dada por la función `Spq`.\n",
    "<br>"
   ]
  },
  {
   "cell_type": "markdown",
   "id": "dda493db-b644-4657-a574-bfc28bca8b2c",
   "metadata": {},
   "source": [
    "El término exponencial aparece a lo largo de las integrales por calcular, motivo por el cual considere las siguientes convenciones:\n",
    "\n",
    "$$ K = \\exp(\\mathrm{arg})\\,, \\qquad \\mathrm{arg} = -\\frac{a b}{a + b} |\\mathbf{R}_A - \\mathbf{R}_B|^2 .$$\n",
    "\n",
    "Valores que serán representados en el código por las funciones `K` y `arg`, respectivamente."
   ]
  },
  {
   "cell_type": "code",
   "execution_count": 5,
   "id": "fcc51937-bda2-4fc4-8743-749960e384df",
   "metadata": {},
   "outputs": [],
   "source": [
    "def arg(α: float, β: float, RA:np.array, RB:np.array) -> float:\n",
    "    \"\"\" Argumento del factor pre-exponencial K\n",
    "\n",
    "    Parámetros\n",
    "        (α, b) : exponente orbital Gaussiano\n",
    "        (RA, RB) : coordenada del núcleo (A, B)\n",
    "    \"\"\"\n",
    "    p: float = α + β # exponente total\n",
    "    μ: float = α*β / p\n",
    "    RAB2: float = np.square(np.linalg.norm(RA - RB))\n",
    "    \n",
    "    return -μ*RAB2"
   ]
  },
  {
   "cell_type": "code",
   "execution_count": 6,
   "id": "a37e4ad6-9aa0-4d22-83e5-5911c3ce0e25",
   "metadata": {},
   "outputs": [],
   "source": [
    "def K(α: float, β: float, RA: NDArray, RB: NDArray) -> float:\n",
    "    \"\"\" Factor pre-exponencial\n",
    "\n",
    "    Parámetros\n",
    "        (α, β) : exponente orbital Gaussiano\n",
    "        (RA, RB) : coordenada del núcleo (A, B)\n",
    "    \"\"\"\n",
    "    return np.exp(arg(α, β, RA, RB))"
   ]
  },
  {
   "cell_type": "markdown",
   "id": "a455596e-0067-4c2b-9365-da262790749e",
   "metadata": {},
   "source": [
    "La expresión final de la integral de traslape $S_{\\mu \\nu}$ es\n",
    "\n",
    "$$ S_{\\mu \\nu} \n",
    "=  \\sum_{p=1}^{k} \\sum_{q=1}^{k} d_{p \\mu}^* d_{q \\nu}  S_{pq}\\,;\n",
    "\\qquad\n",
    "S_{pq} = \\left( \\frac{2\\alpha_{p \\mu}}{\\pi} \\right)^{3/4} \\left( \\frac{2\\beta_{q \\nu}}{\\pi} \\right)^{3/4}\n",
    "        \\left( \\frac{\\pi}{\\alpha_{p \\mu} + \\beta_{q \\nu}} \\right)^{3/2} \\exp\\left( -\\frac{\\alpha_{p \\mu} \\, \\beta_{q \\nu}}{\\alpha_{p \\mu} + \\beta_{q \\nu}} |\\mathbf{R}_A - \\mathbf{R}_B|^2 \\right) \\,,$$\n",
    "\n",
    "con $\\mathbf{R}_A$ y $\\mathbf{R}_B$ la posición del núcleo $A$ y $B$ en unidades atómicas."
   ]
  },
  {
   "cell_type": "code",
   "execution_count": 7,
   "id": "d80e9b77-7ded-4146-ad7d-bbec9f046dd0",
   "metadata": {},
   "outputs": [],
   "source": [
    "def Spq(α: float, β: float, RA: NDArray, RB: NDArray) -> float:\n",
    "    \"\"\" Integral de traslape S_pq (normalizada)\n",
    "    \n",
    "    Parámetros\n",
    "        (a, b) : exponente orbital Gaussiano\n",
    "        (RA, RB) : coordenada del núcleo (A, B)\n",
    "    \"\"\"\n",
    "    return GaussNorm(α) * GaussNorm(β) * np.power(np.pi/(α + β), 3/2) * K(α, β, RA, RB)"
   ]
  },
  {
   "cell_type": "code",
   "execution_count": 8,
   "id": "66795742-b8c4-4a8c-a216-2505c68196f1",
   "metadata": {},
   "outputs": [],
   "source": [
    "def Smn(d: NDArray, a: NDArray, RA: NDArray, RB: NDArray) -> float:\n",
    "    \"\"\" Integral de traslape total S_mn\n",
    "    \n",
    "    Parámetros\n",
    "        d : vector de coeficientes de expansión (d1, d2, ..., dk)\n",
    "        a : vector de exponentes orbitales Gaussianos (α1, α2, ..., αk)\n",
    "        (RA, RB) : coordenada del núcleo (A, B)\n",
    "    \"\"\"\n",
    "    Mmn: float = 0.0 # elemento de matriz\n",
    "    \n",
    "    for dp, αp in zip(d, a):\n",
    "        for dq, αq in zip(d, a):\n",
    "            Mmn += dp * dq * Spq(αp, αq, RA, RB) # elemento de matriz\n",
    "            \n",
    "    return Mmn"
   ]
  },
  {
   "cell_type": "code",
   "execution_count": 9,
   "id": "a23b07a5-cc31-42be-9b2f-7dae6f3f263b",
   "metadata": {},
   "outputs": [
    {
     "name": "stdout",
     "output_type": "stream",
     "text": [
      "S_AA y S_BB: 1.0000007374927182\n",
      "S_AB y S_BA: 0.6593169268818938\n"
     ]
    }
   ],
   "source": [
    "SAA: float = Smn(d, a, RA, RA) # elemento de matriz S_AA y S_BB\n",
    "SAB: float = Smn(d, a, RA, RB) # elemento de matriz S_AB y S_BA\n",
    "\n",
    "print(\"S_AA y S_BB:\", SAA)\n",
    "print(\"S_AB y S_BA:\", SAB)"
   ]
  },
  {
   "cell_type": "markdown",
   "id": "bce52040-35b2-4954-bed0-5ac7feaf3159",
   "metadata": {},
   "source": [
    "Los elementos de la diagonal no son más que la condición de normalización. Dado que es hasta el séptimo decimal de estos elementos que aparece un valor diferente de cero, todos los valores serán truncados a 6 cifras de precisión decimal. Recuerde que en este caso se está tomando una distancia interatómica de $R_{AB} = 1.4 a_0$, por lo que la precisión no es necesariamente igual para todas las distancias interatómicas. La función `decimal_no_cero` se encarga de indicar la primer posición decimal diferente de cero, mientras que la función `valor_truncado` devuelve el valor en cuestión truncado de acuerdo a la cifra decimal obtenida previamente."
   ]
  },
  {
   "cell_type": "code",
   "execution_count": 10,
   "id": "f1bae7c4-fffa-4445-b049-228f6925358d",
   "metadata": {},
   "outputs": [],
   "source": [
    "def decimal_no_cero(valor: float | NDArray) -> int:\n",
    "    \"\"\" Devuelve la posición decimal del primer dígito diferente de cero de un cierto 'valor'\n",
    "    \"\"\"\n",
    "    try:\n",
    "        decimal: int = abs(floor(log10(abs(float(valor) % 1)))+1)\n",
    "    except ValueError:\n",
    "        decimal: int = 0\n",
    "        \n",
    "    return decimal"
   ]
  },
  {
   "cell_type": "code",
   "execution_count": 11,
   "id": "2e093d0d-f26c-4f93-b5f6-13affb3f4e0e",
   "metadata": {},
   "outputs": [
    {
     "name": "stdout",
     "output_type": "stream",
     "text": [
      "Primer posición decimal diferente de zero: 6\n"
     ]
    }
   ],
   "source": [
    "decimal_SAB = decimal_no_cero(SAA)\n",
    "print(f'Primer posición decimal diferente de zero: {decimal_SAB}')"
   ]
  },
  {
   "cell_type": "code",
   "execution_count": 12,
   "id": "3600454a-ab06-4706-912e-0c4b4a8f77a0",
   "metadata": {},
   "outputs": [],
   "source": [
    "def valor_truncado(valor: float | NDArray, decimal: int) -> float:\n",
    "    \"\"\" Devuelve un 'valor' truncado hasta una cierta precisión 'decimal'\n",
    "    \"\"\"\n",
    "    ord_mag = np.power(10, decimal) # orden de magnitud\n",
    "    return np.trunc(valor * ord_mag) / ord_mag"
   ]
  },
  {
   "cell_type": "code",
   "execution_count": 13,
   "id": "f4178a63-8f17-4dd4-9f29-4be7783d07dd",
   "metadata": {},
   "outputs": [
    {
     "name": "stdout",
     "output_type": "stream",
     "text": [
      "S_AA y S_BB: 1.0\n",
      "S_AB y S_BA: 0.659316\n"
     ]
    }
   ],
   "source": [
    "SAA: float = valor_truncado(SAA, decimal_SAB) # elemento de matriz S_AA y S_BB\n",
    "SAB: float = valor_truncado(SAB, decimal_SAB) # elemento de matriz S_AB y S_BA\n",
    "\n",
    "print(\"S_AA y S_BB:\", SAA)\n",
    "print(\"S_AB y S_BA:\", SAB)"
   ]
  },
  {
   "cell_type": "markdown",
   "id": "b9ffb843-3a25-4552-b0de-25b978cd1d4c",
   "metadata": {},
   "source": [
    "La matriz de traslape $\\mathbf{S}$ con una distancia interatómica de $1.4 a_0$ es de la forma\n",
    "\n",
    "$$ \\boxed{\\mathbf{S}\n",
    "= \\begin{pmatrix} S_{AA} & S_{AB} \\\\ S_{BA} & S_{BB} \\end{pmatrix}\n",
    "= \\begin{pmatrix} 1.0 & 0.659316 \\\\ 0.659316 & 1.0 \\end{pmatrix}}\n",
    "$$"
   ]
  },
  {
   "cell_type": "markdown",
   "id": "981138f0-e2a2-44f7-b728-62e6e848590c",
   "metadata": {},
   "source": [
    "<div class=\"alert alert-block alert-info\">\n",
    "        <strong>Integral cinética, $T_{\\mu \\, \\nu}$</strong>\n",
    "</div>"
   ]
  },
  {
   "cell_type": "markdown",
   "id": "fd4e0e6b-5112-4a19-8977-475caea750e1",
   "metadata": {},
   "source": [
    "La integral cinética está dada por\n",
    "$$T_{\\mu \\, \\nu}  = \\braket{\\varphi_A| -\\frac{\\nabla^2}{2} |\\varphi_B} = \\braket{\\varphi_B| -\\frac{\\nabla^2}{2} |\\varphi_A} \\,.$$\n",
    "\n",
    "Desarrollando,\n",
    "$$ T_{\\mu \\, \\nu} \n",
    "    = \\int G_{\\mu}^* (\\vec{\\mathbf{r}}, \\vec{\\mathbf{\\alpha}}, \\vec{A}) \\left( -\\frac{\\nabla^2}{2} \\right)\n",
    "        G_{\\nu} (\\vec{\\mathbf{r}}, \\vec{\\mathbf{\\beta}}, \\vec{B}) \\,\\mathrm{d}V\n",
    "    = \\sum_{p=1}^{k} \\sum_{q=1}^{k} d_{p \\mu}^* d_{q \\nu} \\underbrace{\\int G (\\vec{\\mathbf{r}}, \\alpha_{p \\mu}, \\vec{A}) \\,\n",
    "        \\left( -\\frac{\\nabla^2}{2} \\right)\n",
    "         G (\\vec{\\mathbf{r}}, \\beta_{q \\nu}, \\vec{B}) \\,\\mathrm{d}V}_{\\displaystyle T_{pq}} \\,.\n",
    "$$"
   ]
  },
  {
   "cell_type": "markdown",
   "id": "06b0e06c-684b-44fa-ac48-876438e5b75f",
   "metadata": {},
   "source": [
    "Desarrollando para $T_{pq}$ se obtiene\n",
    "$$ T_{pq}\n",
    "    = \\left( \\frac{2\\alpha_{p \\mu}}{\\pi} \\right)^{3/4} \\left( \\frac{2\\beta_{q \\nu}}{\\pi} \\right)^{3/4}\n",
    "        \\underbrace{\\int \\exp(-\\alpha_{p \\mu} r^2_A) \\left( -\\frac{\\nabla^2}{2} \\right) \\exp(-\\beta_{q \\nu} \\, r^2_B) \\,\\mathrm{d}V}_{\\displaystyle I_1} \\,.\n",
    "$$\n",
    "\n",
    "La integral $I_1$ de la expresión previa de acuerdo con Szabo y Ostlund es:\n",
    "$$ I_1 = \\frac{\\alpha_{p \\mu} \\, \\beta_{q \\nu}}{\\alpha_{p \\mu} + \\beta_{q \\nu}}\n",
    "    \\left[ 3 - \\frac{2 \\alpha_{p \\mu} \\, \\beta_{q \\nu}}{\\alpha_{p \\mu} + \\beta_{q \\nu}} |\\mathbf{R}_A - \\mathbf{R}_B|^2 \\right]\n",
    "    \\left( \\frac{\\pi}{\\alpha_{p \\mu} + \\beta_{q \\nu}} \\right)^{3/2}\n",
    "    \\exp\\left( -\\frac{\\alpha_{p \\mu} \\, \\beta_{q \\nu}}{\\alpha_{p \\mu} + \\beta_{q \\nu}} |\\mathbf{R}_A - \\mathbf{R}_B|^2 \\right) \\,.$$\n",
    "\n",
    "Observe que los últimos dos factores de $I_1$ multiplicados por los respectivos coeficientes de normalización no es más que $S_{pq}$, i.e.\n",
    "$$ T_{pq}\n",
    "    = \\frac{\\alpha_{p \\mu} \\, \\beta_{q \\nu}}{\\alpha_{p \\mu} + \\beta_{q \\nu}}\n",
    "    \\left[ 3 - \\frac{2 \\alpha_{p \\mu} \\, \\beta_{q \\nu}}{\\alpha_{p \\mu} + \\beta_{q \\nu}} |\\mathbf{R}_A - \\mathbf{R}_B|^2 \\right]\n",
    "    S_{pq} \\,.\n",
    "$$"
   ]
  },
  {
   "cell_type": "code",
   "execution_count": 14,
   "id": "208e820b-3edd-4071-9665-448e1b67196f",
   "metadata": {},
   "outputs": [],
   "source": [
    "def Tpq(a: NDArray, b: NDArray, RA: NDArray, RB: NDArray) -> float:\n",
    "    \"\"\" Integral cinética T_pq (normalizada)\n",
    "\n",
    "    Parámetros\n",
    "        d : vector de coeficientes de expansión (d1, d2, ..., dk)\n",
    "        a : vector de exponentes orbitales Gaussianos (α1, α2, ..., αk)\n",
    "        (RA, RB) : coordenada del núcleo (A, B)\n",
    "    \"\"\"\n",
    "    RAB2: float = np.square(np.linalg.norm(RA - RB)) # cuadrado de diferencia internuclear\n",
    "    \n",
    "    return (a*b)/(a+b) * (3 - 2*(a*b)/(a+b)*RAB2 ) * Spq(a, b, RA, RB)"
   ]
  },
  {
   "cell_type": "markdown",
   "id": "fed65532-66a1-4bf8-8256-07498527b987",
   "metadata": {},
   "source": [
    "De lo cual, la expresión final de la integral cinética $T_{\\mu \\nu}$ no es más que\n",
    "\n",
    "$$ T_{\\mu \\nu} \n",
    "=  \\sum_{p=1}^{k} \\sum_{q=1}^{k} d_{p \\mu}^* d_{q \\nu}\n",
    "        \\frac{\\alpha_{p \\mu} \\, \\beta_{q \\nu}}{\\alpha_{p \\mu} + \\beta_{q \\nu}} \\left[ 3 - \\frac{2 \\alpha_{p \\mu} \\, \\beta_{q \\nu}}{\\alpha_{p \\mu} + \\beta_{q \\nu}} |\\mathbf{R}_A - \\mathbf{R}_B|^2 \\right] S_{pq} \\,,\n",
    "$$\n",
    "\n",
    "con $\\mathbf{R}_A$ y $\\mathbf{R}_B$ la posición del núcleo $A$ y $B$ en unidades atómicas."
   ]
  },
  {
   "cell_type": "code",
   "execution_count": 15,
   "id": "83a97c73-a684-4cf6-a378-fc348d024700",
   "metadata": {},
   "outputs": [],
   "source": [
    "def Tmn(d: NDArray, a: NDArray, RA: NDArray, RB: NDArray) -> float:\n",
    "    \"\"\" Integral cinética total T_mn\n",
    "\n",
    "    Parámetros\n",
    "        d : vector de coeficientes de expansión (d1, d2, ..., dk)\n",
    "        a : vector de exponentes orbitales Gaussianos (α1, α2, ..., αk)\n",
    "        (RA, RB) : coordenada del núcleo (A, B)\n",
    "    \"\"\"\n",
    "    Mmn: float = 0.0 # elemento de matriz\n",
    "    \n",
    "    for dp, αp in zip(d, a):\n",
    "        for dq, αq in zip(d, a):\n",
    "            Mmn += dp * dq * Tpq(αp, αq, RA, RB) # elemento de matriz\n",
    "            \n",
    "    return Mmn"
   ]
  },
  {
   "cell_type": "markdown",
   "id": "51a8e011-2cf2-44e6-980d-45629aff6a48",
   "metadata": {},
   "source": [
    "A modo de control se calculan los elementos de la matriz $\\mathbf{T}_{AB}$ para $R_{AB} = 1.4a_0$."
   ]
  },
  {
   "cell_type": "code",
   "execution_count": 16,
   "id": "c6cb93a7-7397-48d7-b2a8-875509d843da",
   "metadata": {},
   "outputs": [
    {
     "name": "stdout",
     "output_type": "stream",
     "text": [
      "T_AA & T_BB: 0.7600584704774266\n",
      "T_AB & T_BA: 0.23645821621430846\n"
     ]
    }
   ],
   "source": [
    "TAA: float = Tmn(d, a, RA, RA) # elemento de matriz T_AA y T_BB\n",
    "TAB: float = Tmn(d, a, RA, RB) # elemento de matriz T_AB y T_BA\n",
    "\n",
    "print(\"T_AA & T_BB:\", TAA)\n",
    "print(\"T_AB & T_BA:\", TAB)"
   ]
  },
  {
   "cell_type": "markdown",
   "id": "304de54c-c95b-4f9b-bb8d-52f3edd05161",
   "metadata": {},
   "source": [
    "La matriz cinética $\\mathbf{T}_{AB}$ es de la forma\n",
    "\n",
    "$$ \\boxed{\\mathbf{T}_{AB}\n",
    "= \\begin{pmatrix} T_{AA} & T_{AB} \\\\ T_{BA} & T_{BB} \\end{pmatrix}\n",
    "= \\begin{pmatrix} 0.7600584704774266 & 0.23645821621430846 \\\\ 0.23645821621430846 & 0.7600584704774266 \\end{pmatrix}}\n",
    "$$"
   ]
  },
  {
   "cell_type": "markdown",
   "id": "e1b215e5-6396-479c-85c9-57210588c625",
   "metadata": {},
   "source": [
    "<div class=\"alert alert-block alert-info\">\n",
    "        <strong>Integral Coulombiana del i-ésimo núcleo, $V^i_{\\mu \\, \\nu}$</strong>\n",
    "</div>"
   ]
  },
  {
   "cell_type": "markdown",
   "id": "003bc754-bafa-4ceb-9c95-8fdfacde19dc",
   "metadata": {},
   "source": [
    "La integral Coulombiana del $i$-ésimo núcleo está dada por\n",
    "\n",
    "$$V^i_{\\mu \\, \\nu}  = \\braket{\\varphi_A| \\sum_C  - \\frac{Z_C}{r_c} |\\varphi_B} = \\braket{\\varphi_B| \\sum_C  -\\frac{Z_C}{r_c} |\\varphi_A} \\,.$$\n",
    "\n",
    "Desarrollando,\n",
    "\n",
    "$$ \\begin{align}\n",
    "    V^i_{\\mu \\, \\nu} \n",
    "    = \\int G_{\\mu}^* (\\vec{\\mathbf{r}}, \\vec{\\mathbf{\\alpha}}, \\vec{A}) \\left( \\sum_C -\\frac{Z_C}{r_c} \\right)\n",
    "        G_{\\nu} (\\vec{\\mathbf{r}}, \\vec{\\mathbf{\\beta}}, \\vec{B}) \\,\\mathrm{d}V\n",
    "    = \\sum_{p=1}^{k} \\sum_{q=1}^{k} d_{p \\mu}^* d_{q \\nu} \\sum_C\n",
    "    \\underbrace{\\int G^* (\\vec{\\mathbf{r}}, \\alpha_{p \\mu}, \\vec{A}) \\,\n",
    "        \\left( -\\frac{Z_C}{r_c} \\right)\n",
    "         G (\\vec{\\mathbf{r}}, \\beta_{q \\nu}, \\vec{B}) \\,\\mathrm{d}V}_{\\displaystyle V_{pq} (C)}\n",
    "\\end{align}\n",
    "$$"
   ]
  },
  {
   "cell_type": "markdown",
   "id": "27c22c5f-09fc-4549-95ef-b7f5a59c6ab6",
   "metadata": {},
   "source": [
    "Esta última integral de acuerdo con Szabo y Ostlund es\n",
    "\n",
    "$$ \\begin{align}\n",
    "    V_{pq} (C)\n",
    "    &= \\left( \\frac{2\\alpha_{p \\mu}}{\\pi} \\right)^{3/4} \\left( \\frac{2\\beta_{q \\nu}}{\\pi} \\right)^{3/4}\n",
    "        \\left( -\\frac{2\\pi}{\\alpha_{p \\mu} + \\beta_{q \\nu}} \\right) Z_C \\,\n",
    "        \\exp\\left( -\\frac{\\alpha_{p \\mu} \\, \\beta_{q \\nu}}{\\alpha_{p \\mu} + \\beta_{q \\nu}} |\\mathbf{R}_A - \\mathbf{R}_B|^2 \\right)\n",
    "        F_0 \\left[ (\\alpha_{p \\mu} + \\beta_{q \\nu}) |\\mathbf{R}_P - \\mathbf{R}_C|^2 \\right]\n",
    "\\end{align}\n",
    "$$\n",
    "\n",
    "donde $F_0(t)$ es la función de Boys con $n=0$ dada por\n",
    "\n",
    "$$ F_0(t) = \\frac{1}{2} \\left( \\frac{\\pi}{t} \\right)^{1/2} \\mathrm{erf}(t^{1/2})\n",
    "\\quad\n",
    "\\text{con} \\quad \\mathrm{erf}(z) = \\frac{2}{\\sqrt{\\pi}} \\int_0^{z} e^{-t^2} \\, \\mathrm{d}t\n",
    "$$\n",
    "\n",
    "y $\\mathbf{R}_P$ es la coordenada de centro de carga\n",
    "\n",
    "$$ \\mathbf{R}_P = \\frac{\\alpha \\mathbf{R}_A + \\beta \\, \\mathbf{R}_B}{\\alpha + \\beta} \\,.$$"
   ]
  },
  {
   "cell_type": "code",
   "execution_count": 17,
   "id": "b78f197e-ddaa-4830-9bea-ed11f291c7ba",
   "metadata": {},
   "outputs": [],
   "source": [
    "def F0(t: float) -> float:\n",
    "    \"\"\" Función de Boys, n=0\n",
    "\n",
    "    Parámetro\n",
    "        t : argumento de la función\n",
    "    \"\"\"\n",
    "    return (1/2) * np.sqrt(np.pi/t) * erf(np.sqrt(t))"
   ]
  },
  {
   "cell_type": "code",
   "execution_count": 18,
   "id": "0c369417-74d8-4d13-af3a-d471c9c86583",
   "metadata": {},
   "outputs": [],
   "source": [
    "def RP(α: float, β: float, RA: NDArray, RB: NDArray) -> NDArray:\n",
    "    \"\"\" Coordenada de centro de carga\n",
    "    \n",
    "    Parámetro\n",
    "        (a, b) : exponente orbital Gaussiano\n",
    "        (RA, RB) : coordenada del núcleo (A, B)\n",
    "    \"\"\"\n",
    "    p: float = α + β # exponente total\n",
    "    return (α*RA + β*RB) / p"
   ]
  },
  {
   "cell_type": "markdown",
   "id": "18db02c7-986d-40ae-aefd-6d032f6f0479",
   "metadata": {},
   "source": [
    "<div class=\"alert alert-block alert-warning\">\n",
    "        <strong>Caso particular.</strong> Todos los núcleos son iguales.\n",
    "</div>"
   ]
  },
  {
   "cell_type": "markdown",
   "id": "7a0c8b35-75e1-4145-b214-2ce5b8dd6655",
   "metadata": {},
   "source": [
    "$$\\begin{align}\n",
    "    \\int \\exp(-\\alpha \\, r^2_A) \\left( -\\frac{Z_A}{r_A} \\right) \\exp(-\\beta \\, r^2_A) \\,\\mathrm{d}V\n",
    "    &= -Z_A \\int \\frac{\\exp[ - (\\alpha + \\beta) \\, r^2]}{r} \\,\\mathrm{d}V \\\\\n",
    "    &= -Z_A \\int \\mathrm{d}\\Omega \\int r \\exp[ - (\\alpha + \\beta) \\, r^2] \\,\\mathrm{d}r \\\\\n",
    "    &= - Z_A (4 \\pi) \\frac{1}{2(\\alpha + \\beta)} \\\\\n",
    "    &= - \\frac{2 \\pi Z_A}{\\alpha + \\beta}\n",
    "\\end{align}\n",
    "$$"
   ]
  },
  {
   "cell_type": "code",
   "execution_count": 19,
   "id": "1a6ced53-0415-4e01-93d0-f9dcbfe20328",
   "metadata": {},
   "outputs": [],
   "source": [
    "def Vpq_AB(α: float, β: float, RA: NDArray, RB: NDArray, RC: NDArray, ZC: float) -> float:\n",
    "    \"\"\" Integral cinética V_pq(C)\n",
    "\n",
    "    Parámetros\n",
    "        (α, β) : exponente orbital Gaussiano\n",
    "        (RA, RB, RC) : coordenada del núcleo (A, B, C)\n",
    "        ZC : carga del núcleo C\n",
    "    \"\"\"\n",
    "    factor: float = -2*np.pi / (α + β) * ZC # factor común del término pq\n",
    "    \n",
    "    if np.array_equal(RA, RB) and np.array_equal(RB, RC): # todos los núcleos iguales\n",
    "        Vpq: float = factor\n",
    "    else: # cualquier otro caso\n",
    "        RAB2: float = np.square(np.linalg.norm(RA - RB))\n",
    "        Rp: NDArray = RP(α, β, RA, RB) # coordenada de centro de carga\n",
    "        RPC2: float = np.square(np.linalg.norm(Rp - RC))\n",
    "        Vpq: float = factor * K(α, β, RA, RB) * F0((α + β)*RPC2)\n",
    "        \n",
    "    return Vpq"
   ]
  },
  {
   "cell_type": "markdown",
   "id": "663b2b94-c0d5-4ee7-bd27-94dcc0fd1144",
   "metadata": {},
   "source": [
    "La expresión final para el elemento de matriz $V^i_{\\mu \\, \\nu}$ es\n",
    "\n",
    "$$ V^i_{\\mu \\, \\nu}\n",
    "= \\sum_{p=1}^{k} \\sum_{q=1}^{k} d_{p \\mu}^* d_{q \\nu} \\left[ V^i_{pq}(A) + V^i_{pq}(B) \\right]\n",
    "= \\sum_{p=1}^{k} \\sum_{q=1}^{k} d_{p \\mu}^* d_{q \\nu} V^i_{pq}(A)\n",
    "    + \\sum_{p=1}^{k} \\sum_{q=1}^{k} d_{p \\mu}^* d_{q \\nu}  V^i_{pq}(B)\n",
    "$$"
   ]
  },
  {
   "cell_type": "code",
   "execution_count": 20,
   "id": "e611609b-8dff-4e00-a221-51eb8e47d294",
   "metadata": {},
   "outputs": [],
   "source": [
    "def Vmn(d: NDArray, a: NDArray, RA: NDArray, RB: NDArray, RC: NDArray, ZC: float) -> NDArray:\n",
    "    \"\"\" Integral cinética V_mn\n",
    "\n",
    "    Parámetros\n",
    "        d : vector de coeficientes de expansión (d1, d2, ..., dk)\n",
    "        a : vector de exponentes orbitales Gaussianos (α1, α2, ..., αk)\n",
    "        (RA, RB, RC) : coordenada del núcleo (A, B, C)\n",
    "        ZC : carga del núcleo C\n",
    "    \"\"\"\n",
    "    Mmn1: float = 0.0 # elemento de matriz V^i_AA\n",
    "    Mmn2: float = 0.0 # elemento de matriz V^i_AB y V^i_BA\n",
    "    Mmn3: float = 0.0 # elemento de matriz V^i_BB\n",
    "\n",
    "    for dp, αp in zip(d, a):\n",
    "        for dq, αq in zip(d, a):\n",
    "            factor: float = dp * dq * GaussNorm(αp) * GaussNorm(αq) # factor común del elemento pq\n",
    "            Mmn1 += factor * Vpq_AB(αp, αq, RA, RA, RC, ZC)\n",
    "            Mmn2 += factor * Vpq_AB(αp, αq, RA, RB, RC, ZC)\n",
    "            Mmn3 += factor * Vpq_AB(αp, αq, RB, RB, RC, ZC)\n",
    "    \n",
    "    return np.array([Mmn1, Mmn2, Mmn3]) # elementos de matriz V^i_AA, V^i_AB, V^i_BB"
   ]
  },
  {
   "cell_type": "code",
   "execution_count": 21,
   "id": "91bd23b6-4007-4bf9-bec2-218f1537e631",
   "metadata": {},
   "outputs": [
    {
     "name": "stdout",
     "output_type": "stream",
     "text": [
      "VA: [-1.226648498439419  -0.597421431195225  -0.6538293950694781]\n",
      "VB: [-0.6538293950694781 -0.5974214311952252 -1.226648498439419 ]\n"
     ]
    }
   ],
   "source": [
    "ZA, ZB = 1, 1 # cargas de los núcleos A y B\n",
    "\n",
    "VA: NDArray = Vmn(d, a, RA, RB, RA, ZA) # elementos de matriz V^A (centrada en núcleo A)\n",
    "VB: NDArray = Vmn(d, a, RA, RB, RB, ZB) # elementos de matriz V^B (centrada en núcleo B)\n",
    "\n",
    "np.set_printoptions(precision=18) # precisión decimal máxima para valores de tipo np.float64\n",
    "print(\"VA:\", VA)\n",
    "print(\"VB:\", VB)"
   ]
  },
  {
   "cell_type": "markdown",
   "id": "f3d97aef-e577-4987-85ad-c8802afe8674",
   "metadata": {},
   "source": [
    "Los valores en las antidiagonales de $\\mathbf{V}^A$ y $\\mathbf{V}^B$ si bien son matemáticamente idénticos, numéricamente no coinciden. Así pues, de forma similar que se hizo para la integral de traslape $S_{pq}$, se calculará mediante `decimal_no_cero` la posición de la primer cifra decimal diferente de cero y mediante `valor_truncado` los valores truncados de las matrices Coulombianas de acuerdo a la precisión decimal encontrada previamente."
   ]
  },
  {
   "cell_type": "code",
   "execution_count": 22,
   "id": "9216ebde-7efb-4b68-b80c-458151cbfcb3",
   "metadata": {},
   "outputs": [
    {
     "name": "stdout",
     "output_type": "stream",
     "text": [
      "Primer posición decimal diferente de zero: 15\n"
     ]
    }
   ],
   "source": [
    "decimal_VAB = decimal_no_cero(VA[1] - VB[1])\n",
    "print(f'Primer posición decimal diferente de zero: {decimal_VAB}')"
   ]
  },
  {
   "cell_type": "code",
   "execution_count": 23,
   "id": "d96870f7-bcc2-4397-a2bf-58b8260b3237",
   "metadata": {},
   "outputs": [
    {
     "name": "stdout",
     "output_type": "stream",
     "text": [
      "S_AA y S_BB: [-1.226648498439419 -0.597421431195225 -0.653829395069478]\n",
      "S_AB y S_BA: [-0.653829395069478 -0.597421431195225 -1.226648498439419]\n"
     ]
    }
   ],
   "source": [
    "VA: float = valor_truncado(VA, decimal_VAB) # elemento de matriz S_AA y S_BB\n",
    "VB: float = valor_truncado(VB, decimal_VAB) # elemento de matriz S_AB y S_BA\n",
    "\n",
    "print(\"S_AA y S_BB:\", VA)\n",
    "print(\"S_AB y S_BA:\", VB)"
   ]
  },
  {
   "cell_type": "markdown",
   "id": "a1a88e0f-5adf-4c6d-8da6-82d801af9172",
   "metadata": {},
   "source": [
    "La matriz Coulombiana $\\mathbf{V}^A$ y $\\mathbf{V}^B$ son entonces\n",
    "\n",
    "$$ \\boxed{\\mathbf{V}^A\n",
    "= \\begin{pmatrix} V^A_{AA} & V^A_{AB} \\\\ V^A_{BA} & V^A_{BB} \\end{pmatrix}\n",
    "= \\begin{pmatrix} -1.226648498439419 & -0.597421431195225 \\\\ -0.597421431195225 & -0.653829395069478 \\end{pmatrix}}\n",
    "$$\n",
    "\n",
    "$$ \\boxed{\\mathbf{V}^B\n",
    "= \\begin{pmatrix} V^B_{AA} & V^B_{AB} \\\\ V^B_{BA} & V^B_{BB} \\end{pmatrix}\n",
    "= \\begin{pmatrix} -0.653829395069478 & -0.597421431195225 \\\\ -0.597421431195225 & -1.226648498439419 \\end{pmatrix}}\n",
    "$$"
   ]
  },
  {
   "cell_type": "markdown",
   "id": "24efc0de-db3b-4099-81ad-7ad82a0be3d7",
   "metadata": {},
   "source": [
    "<div class=\"alert alert-block alert-info\">\n",
    "<strong>Coeficiente de normalización, $c_{\\pm}$</strong>\n",
    "</div>\n",
    "\n",
    "El coeficiente de normalización para los orbitales moleculares es\n",
    "\n",
    "$$ c_\\pm = \\frac{1}{\\sqrt{2(1+S_{AB})}} $$\n",
    "\n",
    "donde $S_{AB}$ es el traslape entre el orbital atómico $\\varphi_A$ y $\\varphi_B$."
   ]
  },
  {
   "cell_type": "code",
   "execution_count": 24,
   "id": "7187c7b8-47be-43c3-b44f-8dac3e533224",
   "metadata": {},
   "outputs": [],
   "source": [
    "def cPM(d: NDArray, a: NDArray, RA: NDArray, RB: NDArray, signo: int) -> float:\n",
    "    \"\"\" Constante de normalización c±\n",
    "            Psi = c± (Phi_A ± Phi_B)\n",
    "\n",
    "    Parámetros\n",
    "        d : vector de coeficientes de expansión (d1, d2, ..., dk)\n",
    "        a : vector de exponentes orbitales Gaussianos (α1, α2, ..., αk)\n",
    "        (RA, RB) : coordenada del núcleo (A, B)\n",
    "        signo : signo de S en la normalización (1, postivo) y (-1, negativo)\n",
    "    \"\"\"\n",
    "    SAA: float = Smn(d, a, RA, RA) # S_AA y S_BB\n",
    "    decimal: int = decimal_no_cero(SAA) # primer cifra decimal diferente de cero para S_AA\n",
    "    SAB: float = Smn(d, a, RA, RB) # S_AB y S_BA\n",
    "    \n",
    "    S: float = valor_truncado(SAB, decimal) # S_AB truncado a la precisión decimal de normalización\n",
    "    \n",
    "    return 1 / np.sqrt(2*(1 + signo*S))"
   ]
  },
  {
   "cell_type": "markdown",
   "id": "8426dc24-845e-49dc-bfe4-174fbe10a283",
   "metadata": {},
   "source": [
    "<div class=\"alert alert-block alert-info\">\n",
    "<strong>Elemento de matriz $f_{pp}$</strong>\n",
    "</div>"
   ]
  },
  {
   "cell_type": "markdown",
   "id": "26c8778c-a6b1-4ef7-866d-9ff792c897ed",
   "metadata": {},
   "source": [
    "$$ f_{pp}\n",
    "    = |c_\\pm|^2 \\left[ 2 ( T_{AA} \\pm_p T_{AB} )\n",
    "    + (V^1_{AA} + V^1_{BB}) + (V^2_{AA} + V^2_{BB})\n",
    "    \\pm_p 2 ( V^1_{AB} + V^2_{AB} ) \\right]\n",
    "$$"
   ]
  },
  {
   "cell_type": "code",
   "execution_count": 25,
   "id": "ddb15429-f5ca-45b4-a54d-88fb2d675d67",
   "metadata": {},
   "outputs": [],
   "source": [
    "V1_AA, V1_AB, V1_BB = Vmn(d, a, RA, RB, RA, ZA) # elementos de matriz V^1_AA, V^1_AB y V^1_BB\n",
    "V2_AA, V2_AB, V2_BB = Vmn(d, a, RA, RB, RB, ZB) # elementos de matriz V^2_AA, V^2_AB y V^2_BB"
   ]
  },
  {
   "cell_type": "code",
   "execution_count": 26,
   "id": "8c96a733-e4f7-4c1a-9e4b-565bd7d953c8",
   "metadata": {},
   "outputs": [],
   "source": [
    "def fpp(p: int, d: NDArray, a: NDArray, RA: NDArray, RB: NDArray, ZA: float, ZB: float) -> float:\n",
    "    \"\"\" Elemento de matriz f_pp\n",
    "    \n",
    "    Parámetros\n",
    "        p : elemento de la base, base = {X_1, X_2, X_3, X_4}\n",
    "            p = 1, 2, 3, 4\n",
    "        d : vector de coeficientes de expansión (d1, d2, ..., dk)\n",
    "        a : vector de exponentes orbitales Gaussianos (α1, α2, ..., αk)\n",
    "        (RA, RB) : coordenada del núcleo (A, B)\n",
    "        (ZA, ZB) : carga del núcleo (A, B)\n",
    "    \"\"\"\n",
    "    TAA: float = Tmn(d, a, RA, RA) # elemento de matriz T_AA y T_BB\n",
    "    TAB: float = Tmn(d, a, RA, RB) # elemento de matriz T_AB y T_BA\n",
    "\n",
    "    V1_AA, V1_AB, V1_BB = Vmn(d, a, RA, RB, RA, ZA) # elementos de matriz V^1_AA, V^1_AB y V^1_BB\n",
    "    V2_AA, V2_AB, V2_BB = Vmn(d, a, RA, RB, RB, ZB) # elementos de matriz V^2_AA, V^2_AB y V^2_BB\n",
    "\n",
    "    # corrección decimal de términos Coulombianos\n",
    "    decimal: int = decimal_no_cero(V1_AB - V2_AB) # primer cifra decimal diferente de cero para S_AA\n",
    "    V1_AB: float = V1_AB if (decimal == 0) else valor_truncado(V1_AB, decimal) # si 0, no hay corrección\n",
    "    V2_AB: float = V2_AB if (decimal == 0) else valor_truncado(V2_AB, decimal)# si 0, no hay corrección\n",
    "\n",
    "    sgn: int = 1 if p in [1,2] else -1 # signo del coef. de normalización según el elemento de la base\n",
    "    c2: float = np.square(cPM(d, a, RA, RB, sgn)) # coef. de normalización al cuadrado\n",
    "\n",
    "    return c2*( 2*(TAA + sgn*TAB) + (V1_AA + V1_BB) + (V2_AA + V2_BB) + 2*sgn*(V1_AB + V2_AB) )"
   ]
  },
  {
   "cell_type": "code",
   "execution_count": 27,
   "id": "4a484cf4-3107-4db3-ba8f-c23b18782679",
   "metadata": {},
   "outputs": [
    {
     "name": "stdout",
     "output_type": "stream",
     "text": [
      "--- Szabo & Ostlund ---\n",
      "f11 & f22: -1.2528050205173507\n",
      "f33 & f44: -0.4755920274114115\n",
      "\n",
      "--- Este trabajo ---\n",
      "f11 & f22: -1.252807825156638\n",
      "f33 & f44: -0.47561604552996023\n"
     ]
    }
   ],
   "source": [
    "# Szabo y Oslund\n",
    "f11_SO = fpp(1, d_Szabo, a_Szabo, RA, RB, ZA, ZB)\n",
    "f33_SO = fpp(3, d_Szabo, a_Szabo, RA, RB, ZA, ZB)\n",
    "print(\"--- Szabo & Ostlund ---\")\n",
    "print(\"f11 & f22:\", f11_SO)\n",
    "print(\"f33 & f44:\", f33_SO)\n",
    "\n",
    "# Este trabajo\n",
    "f11 = fpp(1, d, a, RA, RB, ZA, ZB)\n",
    "f33 = fpp(3, d, a, RA, RB, ZA, ZB)\n",
    "print(\"\\n--- Este trabajo ---\")\n",
    "print(\"f11 & f22:\", f11)\n",
    "print(\"f33 & f44:\", f33)"
   ]
  },
  {
   "cell_type": "code",
   "execution_count": null,
   "id": "ff73d5aa-2377-484f-be50-4182a40b489f",
   "metadata": {},
   "outputs": [],
   "source": []
  }
 ],
 "metadata": {
  "kernelspec": {
   "display_name": "Python 3 (ipykernel)",
   "language": "python",
   "name": "python3"
  },
  "language_info": {
   "codemirror_mode": {
    "name": "ipython",
    "version": 3
   },
   "file_extension": ".py",
   "mimetype": "text/x-python",
   "name": "python",
   "nbconvert_exporter": "python",
   "pygments_lexer": "ipython3",
   "version": "3.13.5"
  }
 },
 "nbformat": 4,
 "nbformat_minor": 5
}
