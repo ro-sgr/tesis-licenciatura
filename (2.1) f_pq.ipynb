{
 "cells": [
  {
   "cell_type": "code",
   "execution_count": 1,
   "id": "77733b38-4880-4816-b523-1a87d3384c93",
   "metadata": {},
   "outputs": [],
   "source": [
    "import numpy as np\n",
    "from scipy.special import erf\n",
    "from math import floor, log10"
   ]
  },
  {
   "cell_type": "code",
   "execution_count": 2,
   "id": "190f418f-fdca-4a87-85e2-9d7f4a6611c2",
   "metadata": {},
   "outputs": [],
   "source": [
    "# Segura\n",
    "d = np.array([0.1545314772435472, 0.5354555247125108, 0.4443376735387033])\n",
    "a = np.array([3.423766464751332, 0.6234266839478166, 0.1687830644383135])\n",
    "\n",
    "# Stewart\n",
    "# d = np.array([0.444635, 0.535328, 0.154329])\n",
    "# a = np.array([0.168856, 0.623913, 3.42525])"
   ]
  },
  {
   "cell_type": "code",
   "execution_count": 3,
   "id": "e062e0d3-318e-4482-8dd0-af35e9efca06",
   "metadata": {},
   "outputs": [],
   "source": [
    "# distancia interatómica de 1.401 u.a.\n",
    "RA = np.array([0, 0, 0])\n",
    "RB = np.array([1.401, 0, 0])"
   ]
  },
  {
   "cell_type": "markdown",
   "id": "0dd29b31-8fdf-4165-8ac6-b93de9895cf7",
   "metadata": {},
   "source": [
    "Se buscan los elementos de matriz $f_{pq}$ dados por la expresión siguiente:\n",
    "\n",
    "$$ f_{pq} = \\int \\chi_p^* \\left( -\\frac{\\nabla^2}{2} + \\sum_C - \\frac{Z_C}{r_C} \\right) \\chi_q \\, \\mathrm{d}\\vec{\\mathbf{x}} \\,;\n",
    "\\quad\n",
    "\\vec{\\mathbf{x}} = (\\vec{\\mathbf{r}}, \\omega)\n",
    "$$"
   ]
  },
  {
   "cell_type": "markdown",
   "id": "a50667e7-7ee6-46f4-98ae-ac300177afbd",
   "metadata": {},
   "source": [
    "La base de funciones a considerar es\n",
    "$$ \\chi_1 = \\psi_+ \\alpha \\,, \\quad\n",
    "\\chi_2 = \\psi_+ \\beta \\,, \\quad\n",
    "\\chi_3 = \\psi_- \\alpha \\,, \\quad\n",
    "\\chi_4 = \\psi_- \\beta \\,,\n",
    "$$\n",
    "\n",
    "donde $\\psi_\\pm = c_\\pm (\\varphi_A \\pm \\varphi_B)$ con\n",
    "\n",
    "$$ c_\\pm = \\frac{1}{\\sqrt{2 (1 \\pm S)}}\\,, $$\n",
    "\n",
    "la constante de normalización y\n",
    "\n",
    "$$ \\varphi_A = R_{1\\mathrm{s}}^{k}(\\vec{\\mathbf{d}}, \\vec{\\mathbf{\\alpha}}, r_A) Y_{lm}(\\theta,\\phi) \\,,\n",
    "\\quad\n",
    "\\varphi_B = R_{1\\mathrm{s}}^{k}(\\vec{\\mathbf{d}}, \\vec{\\mathbf{\\beta}}, r_B) Y_{lm}(\\theta,\\phi)\n",
    "$$\n",
    "\n",
    "las funciones espaciales centradas en el núcleo $A$ y $B$, respectivamente. En esto último $R_{1\\mathrm{s}}^{k}$ no es más que una combinación lineal de $k$ funciones Gaussianas $1\\mathrm{s}$, también conocido como una $k$-contracción de Gaussianas $1\\mathrm{s}$:\n",
    "\n",
    "$$ R_{1\\mathrm{s}}^{k}(\\vec{\\mathbf{d}}, \\vec{\\mathbf{\\alpha}}, r) = \\sum_{\\nu=1}^{k} d_\\nu R_{0}^{\\mathrm{GTO}} (\\alpha_\\nu, r) \\,;\n",
    "\\qquad \\qquad\n",
    "R_0^{\\mathrm{GTO}} (\\alpha, r) = \\frac{2(2\\alpha)^{3/4}}{\\pi^{1/4}} \\exp(-\\alpha \\, r^2) \\,.\n",
    "$$"
   ]
  },
  {
   "cell_type": "markdown",
   "id": "25ec8ac5-aef4-4378-9ac9-5b7a476633df",
   "metadata": {},
   "source": [
    "La función $\\varphi_A$ ($\\varphi_B$) es entonces de la forma:\n",
    "\n",
    "$$ \\varphi_A = \\sum_{\\nu = 1}^{k} d_\\nu \\left( \\frac{2\\alpha_\\nu}{\\pi} \\right)^{3/4} \\exp(-\\alpha_\\nu \\, r_A^2) \\,.$$"
   ]
  },
  {
   "cell_type": "markdown",
   "id": "5531a3eb-bedd-42a3-959d-a3819a133256",
   "metadata": {},
   "source": [
    "Para simplificar notación considere\n",
    "\n",
    "$$ G (\\vec{\\mathbf{r}}, \\alpha_\\nu, \\vec{A}) = \\left( \\frac{2\\alpha_\\nu}{\\pi} \\right)^{3/4} g(\\vec{\\mathbf{r}}, \\alpha_\\nu, \\vec{A})\n",
    "\\,; \\qquad \\qquad\n",
    "g(\\vec{\\mathbf{r}}, \\alpha_\\nu, \\vec{A}) = \\exp(-\\alpha_\\nu \\, r_A^2) \\,.$$\n",
    "\n",
    "En cuyo caso, la función $\\varphi_A$ será reescrita como\n",
    "\n",
    "$$ \\varphi_A\n",
    "= G_{\\mu} (\\vec{\\mathbf{r}}, \\vec{\\mathbf{d}}, \\vec{\\mathbf{\\alpha}}, \\vec{A})\n",
    "= \\sum_{\\nu = 1}^{k} d_{\\nu \\mu} G (\\vec{\\mathbf{r}}, \\alpha_{\\nu \\mu}, \\vec{A})\n",
    "= \\sum_{\\nu = 1}^{k} d_{\\nu \\mu} \\left( \\frac{2\\alpha_{\\nu \\mu}}{\\pi} \\right)^{3/4} \\exp(-\\alpha_{\\nu \\mu} \\, r_A^2) \\,.\n",
    "$$"
   ]
  },
  {
   "cell_type": "code",
   "execution_count": 4,
   "id": "a0c7b0f8-578c-4cc1-9302-7e753080166d",
   "metadata": {},
   "outputs": [],
   "source": [
    "def GaussNorm(a:int):\n",
    "    \"\"\"\n",
    "        Factor de normalización Gaussiano 1s\n",
    "    a : exponente Gaussiano\n",
    "    \"\"\"\n",
    "    return np.power(2*a/np.pi, 3/4)"
   ]
  },
  {
   "cell_type": "markdown",
   "id": "d979cc72-2ffa-4590-a3ef-e39f40fa6f6b",
   "metadata": {},
   "source": [
    "Los coeficientes de contracción $d_{\\mu \\, \\nu}$ y los coeficientes Gaussianos $\\alpha_\\nu$ fueron calculados previamente en el cuaderno de Jupyter `(1) STO-3G.ipynb` ."
   ]
  },
  {
   "cell_type": "markdown",
   "id": "d64a279a-96de-4178-b86f-eea2f18d56ce",
   "metadata": {},
   "source": [
    "<div class=\"alert alert-block alert-info\">\n",
    "    <strong>Integral de traslape, $S_{\\mu \\, \\nu}$</strong>\n",
    "</div>"
   ]
  },
  {
   "cell_type": "markdown",
   "id": "feb32f66-073b-4d91-9d70-95b2103864ab",
   "metadata": {},
   "source": [
    "Aquí $S_{\\mu \\, \\nu} = \\braket{\\varphi_A|\\varphi_B} = \\braket{\\varphi_B|\\varphi_A}$ es la integral de traslape dada por\n",
    "\n",
    "$$ \\begin{align}\n",
    "    S_{\\mu \\, \\nu} \n",
    "    &= \\int G_{\\mu}^* (\\vec{\\mathbf{r}}, \\vec{\\mathbf{\\alpha}}, \\vec{A}) G_{\\nu} (\\vec{\\mathbf{r}}, \\vec{\\mathbf{\\beta}}, \\vec{B}) \\,\\mathrm{d}V \\\\\n",
    "    &= \\int \\sum_{p=1}^{k} d_{p \\mu}^* \\, G^* (\\vec{\\mathbf{r}}, \\alpha_{p \\mu}, \\vec{A}) \\,\n",
    "        \\sum_{q=1}^{k} d_{q \\nu} \\, G (\\vec{\\mathbf{r}}, \\beta_{q \\nu}, \\vec{B}) \\,\\mathrm{d}V \\\\\n",
    "    &= \\sum_{p=1}^{k} \\sum_{q=1}^{k} d_{p \\mu}^* d_{q \\nu} \\int G (\\vec{\\mathbf{r}}, \\alpha_{p \\mu}, \\vec{A}) \\,\n",
    "         G (\\vec{\\mathbf{r}}, \\beta_{q \\nu}, \\vec{B}) \\,\\mathrm{d}V \\\\\n",
    "    &= \\sum_{p=1}^{k} \\sum_{q=1}^{k} d_{p \\mu}^* d_{q \\nu} S_{pq}\n",
    "\\end{align}\n",
    "$$\n",
    "\n",
    "Esta última integral de acuerdo con Szabo y Ostlund es:\n",
    "\n",
    "$$ \\begin{align}\n",
    "    S_{pq}\n",
    "    &= \\int G (\\vec{\\mathbf{r}}, \\alpha_{p \\mu}, \\vec{A}) \\, G (\\vec{\\mathbf{r}}, \\beta_{q \\nu}, \\vec{B}) \\,\\mathrm{d}V \\\\\n",
    "    &= \\left( \\frac{2\\alpha_{p \\mu}}{\\pi} \\right)^{3/4} \\left( \\frac{2\\beta_{q \\nu}}{\\pi} \\right)^{3/4}\n",
    "        \\int \\exp(-\\alpha_{p \\mu} r^2_A) \\exp(-\\beta_{q \\nu} \\, r^2_B) \\,\\mathrm{d}V \\\\\n",
    "    &= \\left( \\frac{2\\alpha_{p \\mu}}{\\pi} \\right)^{3/4} \\left( \\frac{2\\beta_{q \\nu}}{\\pi} \\right)^{3/4}\n",
    "        \\left( \\frac{\\pi}{\\alpha_{p \\mu} + \\beta_{q \\nu}} \\right)^{3/2} \\exp\\left( -\\frac{\\alpha_{p \\mu} \\, \\beta_{q \\nu}}{\\alpha_{p \\mu} + \\beta_{q \\nu}} |\\mathbf{R}_A - \\mathbf{R}_B|^2 \\right)\n",
    "\\end{align}\n",
    "$$\n",
    "<br>"
   ]
  },
  {
   "cell_type": "markdown",
   "id": "dda493db-b644-4657-a574-bfc28bca8b2c",
   "metadata": {},
   "source": [
    "El término exponencial aparece a lo largo de las integrales por calcular, motivo por el cual considere las siguientes convenciones:\n",
    "\n",
    "$$ K = \\exp(\\mathrm{arg})\\,; \\qquad \\mathrm{arg} = -\\frac{a b}{a + b} |\\mathbf{R}_A - \\mathbf{R}_B|^2$$"
   ]
  },
  {
   "cell_type": "code",
   "execution_count": 5,
   "id": "fcc51937-bda2-4fc4-8743-749960e384df",
   "metadata": {},
   "outputs": [],
   "source": [
    "def arg(a:float, b:float, RA:np.array, RB:np.array):\n",
    "    \"\"\"\n",
    "        Argumento del factor pre-exponencial K\n",
    "    (a, b) : exponente orbital Gaussiano\n",
    "    (RA, RB) : coordenada del núcleo (A, B)\n",
    "    \"\"\"\n",
    "    p = a+b # exponente total\n",
    "    mu = a*b/p\n",
    "    RAB2 = np.square(np.linalg.norm(RA-RB))\n",
    "    return -mu*RAB2"
   ]
  },
  {
   "cell_type": "code",
   "execution_count": 6,
   "id": "a37e4ad6-9aa0-4d22-83e5-5911c3ce0e25",
   "metadata": {},
   "outputs": [],
   "source": [
    "def K(a:float, b:float, RA:np.ndarray, RB:np.ndarray):\n",
    "    \"\"\"\n",
    "        Factor pre-exponencial\n",
    "    (a, b) : exponente orbital Gaussiano\n",
    "    (RA, RB) : coordenada del núcleo (A, B)\n",
    "    \"\"\"\n",
    "    return np.exp(arg(a, b, RA, RB))"
   ]
  },
  {
   "cell_type": "code",
   "execution_count": 7,
   "id": "d80e9b77-7ded-4146-ad7d-bbec9f046dd0",
   "metadata": {},
   "outputs": [],
   "source": [
    "def Spq(a:float, b:float, RA:np.ndarray, RB:np.ndarray):\n",
    "    \"\"\"\n",
    "        Integral de traslape S_pq (normalizada)\n",
    "    (a, b) : exponente orbital Gaussiano\n",
    "    (RA, RB) : coordenada del núcleo (A, B)\n",
    "    \"\"\"\n",
    "    return GaussNorm(a) * GaussNorm(b) * np.power(np.pi/(a+b), 3/2) * K(a, b, RA, RB)"
   ]
  },
  {
   "cell_type": "markdown",
   "id": "a455596e-0067-4c2b-9365-da262790749e",
   "metadata": {},
   "source": [
    "La expresión final de la integral de traslape $S_{\\mu \\nu}$ es\n",
    "\n",
    "$$ S_{\\mu \\nu} \n",
    "=  \\sum_{p=1}^{k} \\sum_{q=1}^{k} d_{p \\mu}^* d_{q \\nu}  \\left( \\frac{2\\alpha_{p \\mu}}{\\pi} \\right)^{3/4} \\left( \\frac{2\\beta_{q \\nu}}{\\pi} \\right)^{3/4}\n",
    "        \\left( \\frac{\\pi}{\\alpha_{p \\mu} + \\beta_{q \\nu}} \\right)^{3/2} \\exp\\left( -\\frac{\\alpha_{p \\mu} \\, \\beta_{q \\nu}}{\\alpha_{p \\mu} + \\beta_{q \\nu}} |\\mathbf{R}_A - \\mathbf{R}_B|^2 \\right) $$\n",
    "\n",
    "con $\\mathbf{R}_A$ y $\\mathbf{R}_B$ la posición del núcleo $A$ y $B$ en unidades atómicas."
   ]
  },
  {
   "cell_type": "code",
   "execution_count": 8,
   "id": "66795742-b8c4-4a8c-a216-2505c68196f1",
   "metadata": {},
   "outputs": [],
   "source": [
    "def Smn(d:np.ndarray, a:np.ndarray, RA:np.ndarray, RB:np.ndarray):\n",
    "    \"\"\"\n",
    "        Integral de traslape total S_mn\n",
    "    d : vector de coeficientes de expansión (d1, d2, ..., dk)\n",
    "    a : vector de exponentes orbitales Gaussianos (a1, a2, ..., ak)\n",
    "    (RA, RB) : coordenada del núcleo (A, B)\n",
    "    \"\"\"\n",
    "    Mmn = 0 # elemento de matriz\n",
    "    k = len(d)\n",
    "    for p in range(k):\n",
    "        for q in range(k):\n",
    "            Mmn += d[p] * d[q] * Spq(a[p], a[q], RA, RB) # elemento de matriz\n",
    "    return Mmn"
   ]
  },
  {
   "cell_type": "code",
   "execution_count": 9,
   "id": "a23b07a5-cc31-42be-9b2f-7dae6f3f263b",
   "metadata": {},
   "outputs": [
    {
     "name": "stdout",
     "output_type": "stream",
     "text": [
      "S_AA y S_BB: 1.0000002270615276\n",
      "S_AB y S_BA: 0.6589699557825579\n"
     ]
    }
   ],
   "source": [
    "SAA = Smn(d, a, RA, RA) # elemento de matriz S_AA y S_BB\n",
    "SAB = Smn(d, a, RA, RB) # elemento de matriz S_AB y S_BA\n",
    "\n",
    "print(\"S_AA y S_BB:\", SAA)\n",
    "print(\"S_AB y S_BA:\", SAB)"
   ]
  },
  {
   "cell_type": "markdown",
   "id": "bce52040-35b2-4954-bed0-5ac7feaf3159",
   "metadata": {},
   "source": [
    "Los elementos de la diagonal no son más que la condición de normalización. Dado que es hasta el séptimo decimal de estos elementos que aparece un valor diferente de cero, todos los valores serán redondeados a 6 cifras de precisión decimal."
   ]
  },
  {
   "cell_type": "code",
   "execution_count": 10,
   "id": "f1bae7c4-fffa-4445-b049-228f6925358d",
   "metadata": {},
   "outputs": [],
   "source": [
    "# cifra decimal a la cual se redondearán los elementos de matriz S\n",
    "# la cifra será el magnitud superior del orden de magnitud del primer dígito diferente de cero para la condición de normalización.\n",
    "vdecimal = abs(floor(log10(abs(float(SAA) % 1)))+1)"
   ]
  },
  {
   "cell_type": "code",
   "execution_count": 11,
   "id": "0342877e-1990-41b7-9510-bbfb3819b551",
   "metadata": {},
   "outputs": [],
   "source": [
    "def truncar_float(valor:float, decimal:int):\n",
    "    \"\"\" Remueve los decimales de 'valor' después de la posición 'decimal'\n",
    "    \"\"\"\n",
    "    factor = 10 ** decimal\n",
    "    return int(valor * factor) / factor"
   ]
  },
  {
   "cell_type": "markdown",
   "id": "b9ffb843-3a25-4552-b0de-25b978cd1d4c",
   "metadata": {},
   "source": [
    "La matriz de traslape $S$ con una distncia interatómica de $1.401$ u.a. es de la forma\n",
    "\n",
    "$$ \\boxed{S\n",
    "= \\begin{pmatrix} S_{AA} & S_{AB} \\\\ S_{BA} & S_{BB} \\end{pmatrix}\n",
    "= \\begin{pmatrix} 1.0 & 0.658969 \\\\ 0.658969 & 1.0 \\end{pmatrix}}\n",
    "$$"
   ]
  },
  {
   "cell_type": "markdown",
   "id": "981138f0-e2a2-44f7-b728-62e6e848590c",
   "metadata": {},
   "source": [
    "<div class=\"alert alert-block alert-info\">\n",
    "        <strong>Integral cinética, $T_{\\mu \\, \\nu}$</strong>\n",
    "</div>"
   ]
  },
  {
   "cell_type": "markdown",
   "id": "fd4e0e6b-5112-4a19-8977-475caea750e1",
   "metadata": {},
   "source": [
    "La integral cinética está dada por\n",
    "\n",
    "$$T_{\\mu \\, \\nu}  = \\braket{\\varphi_A| -\\frac{\\nabla^2}{2} |\\varphi_B} = \\braket{\\varphi_B| -\\frac{\\nabla^2}{2} |\\varphi_A} \\,.$$\n",
    "\n",
    "Desarrollando,\n",
    "\n",
    "$$ \\begin{align}\n",
    "    T_{\\mu \\, \\nu} \n",
    "    &= \\int G_{\\mu}^* (\\vec{\\mathbf{r}}, \\vec{\\mathbf{\\alpha}}, \\vec{A}) \\left( -\\frac{\\nabla^2}{2} \\right)\n",
    "        G_{\\nu} (\\vec{\\mathbf{r}}, \\vec{\\mathbf{\\beta}}, \\vec{B}) \\,\\mathrm{d}V \\\\\n",
    "    &= \\int \\sum_{p=1}^{k} d_{p \\mu}^* \\, G (\\vec{\\mathbf{r}}, \\alpha_{p \\mu}, \\vec{A}) \\,\n",
    "        \\left( -\\frac{\\nabla^2}{2} \\right)\n",
    "        \\sum_{q=1}^{k} d_{q \\nu} \\, G (\\vec{\\mathbf{r}}, \\beta_{q \\nu}, \\vec{B}) \\,\\mathrm{d}V \\\\\n",
    "    &= \\sum_{p=1}^{k} \\sum_{q=1}^{k} d_{p \\mu}^* d_{q \\nu} \\underbrace{\\int G (\\vec{\\mathbf{r}}, \\alpha_{p \\mu}, \\vec{A}) \\,\n",
    "        \\left( -\\frac{\\nabla^2}{2} \\right)\n",
    "         G (\\vec{\\mathbf{r}}, \\beta_{q \\nu}, \\vec{B}) \\,\\mathrm{d}V}_{T_{pq}}\n",
    "\\end{align}\n",
    "$$\n",
    "\n",
    "La expresión a resolver es \n",
    "\n",
    "$$ T_{\\mu \\, \\nu} = \\sum_{p=1}^{k} \\sum_{q=1}^{k} d_{p \\mu}^* d_{q \\nu} \\, T_{pq} \\,.$$"
   ]
  },
  {
   "cell_type": "markdown",
   "id": "06b0e06c-684b-44fa-ac48-876438e5b75f",
   "metadata": {},
   "source": [
    "Desarrollando para $T_{pq}$ se obtiene\n",
    "\n",
    "$$ \\begin{align}\n",
    "    T_{pq}\n",
    "    &= \\int G (\\vec{\\mathbf{r}}, \\alpha_{p \\mu}, \\vec{A}) \\left( -\\frac{\\nabla^2}{2} \\right) G (\\vec{\\mathbf{r}}, \\beta_{q \\nu}, \\vec{B}) \\,\\mathrm{d}V \\\\\n",
    "    &= \\left( \\frac{2\\alpha_{p \\mu}}{\\pi} \\right)^{3/4} \\left( \\frac{2\\beta_{q \\nu}}{\\pi} \\right)^{3/4}\n",
    "        \\underbrace{\\int \\exp(-\\alpha_{p \\mu} r^2_A) \\left( -\\frac{\\nabla^2}{2} \\right) \\exp(-\\beta_{q \\nu} \\, r^2_B) \\,\\mathrm{d}V}_{I_1} \\,.\n",
    "\\end{align}\n",
    "$$\n",
    "\n",
    "La integral $I_1$ de la expresión previa de acuerdo con Szabo y Ostlund es:\n",
    "\n",
    "$$ I_1 = \\frac{\\alpha_{p \\mu} \\, \\beta_{q \\nu}}{\\alpha_{p \\mu} + \\beta_{q \\nu}}\n",
    "    \\left[ 3 - \\frac{2 \\alpha_{p \\mu} \\, \\beta_{q \\nu}}{\\alpha_{p \\mu} + \\beta_{q \\nu}} |\\mathbf{R}_A - \\mathbf{R}_B|^2 \\right]\n",
    "    \\left( \\frac{\\pi}{\\alpha_{p \\mu} + \\beta_{q \\nu}} \\right)^{3/2}\n",
    "    \\exp\\left( -\\frac{\\alpha_{p \\mu} \\, \\beta_{q \\nu}}{\\alpha_{p \\mu} + \\beta_{q \\nu}} |\\mathbf{R}_A - \\mathbf{R}_B|^2 \\right) \\,.$$\n",
    "\n",
    "Observe que los últimos dos factores de $I_1$ multiplicados por los respectivos coeficientes de normalización no es más que $S_{pq}$."
   ]
  },
  {
   "cell_type": "code",
   "execution_count": 12,
   "id": "208e820b-3edd-4071-9665-448e1b67196f",
   "metadata": {},
   "outputs": [],
   "source": [
    "def Tpq(a:np.ndarray, b:np.ndarray, RA:np.ndarray, RB:np.ndarray):\n",
    "    \"\"\"\n",
    "        Integral cinética S_mn (normalizada)\n",
    "    d : vector de coeficientes de expansión (d1, d2, ..., dk)\n",
    "    a : vector de exponentes orbitales Gaussianos (a1, a2, ..., ak)\n",
    "    (RA, RB) : coordenada del núcleo (A, B)\n",
    "    \"\"\"\n",
    "    RAB2 = np.square(np.linalg.norm(RA-RB))\n",
    "    return (a*b)/(a+b) * (3 - 2*(a*b)/(a+b)*RAB2 ) * Spq(a, b, RA, RB)"
   ]
  },
  {
   "cell_type": "markdown",
   "id": "fed65532-66a1-4bf8-8256-07498527b987",
   "metadata": {},
   "source": [
    "De lo cual, la expresión final de la integral cinética $T_{\\mu \\nu}$ no es más que:\n",
    "\n",
    "$$ T_{\\mu \\nu} \n",
    "=  \\sum_{p=1}^{k} \\sum_{q=1}^{k} d_{p \\mu}^* d_{q \\nu}  \\left( \\frac{2\\alpha_{p \\mu}}{\\pi} \\right)^{3/4} \\left( \\frac{2\\beta_{q \\nu}}{\\pi} \\right)^{3/4}\n",
    "        \\frac{\\alpha_{p \\mu} \\, \\beta_{q \\nu}}{\\alpha_{p \\mu} + \\beta_{q \\nu}} \\left[ 3 - \\frac{2 \\alpha_{p \\mu} \\, \\beta_{q \\nu}}{\\alpha_{p \\mu} + \\beta_{q \\nu}} |\\mathbf{R}_A - \\mathbf{R}_B|^2 \\right]\n",
    "        \\left( \\frac{\\pi}{\\alpha_{p \\mu} + \\beta_{q \\nu}} \\right)^{3/2} \\exp\\left( -\\frac{\\alpha_{p \\mu} \\, \\beta_{q \\nu}}{\\alpha_{p \\mu} + \\beta_{q \\nu}} |\\mathbf{R}_A - \\mathbf{R}_B|^2 \\right) \\,.\n",
    "$$\n",
    "\n",
    "con $\\mathbf{R}_A$ y $\\mathbf{R}_B$ la posición del núcleo $A$ y $B$ en unidades atómicas."
   ]
  },
  {
   "cell_type": "code",
   "execution_count": 13,
   "id": "83a97c73-a684-4cf6-a378-fc348d024700",
   "metadata": {},
   "outputs": [],
   "source": [
    "def Tmn(d:np.ndarray, a:np.ndarray, RA:np.ndarray, RB:np.ndarray):\n",
    "    \"\"\"\n",
    "        Integral cinética total S_mn\n",
    "    d : vector de coeficientes de expansión (d1, d2, ..., dk)\n",
    "    a : vector de exponentes orbitales Gaussianos (a1, a2, ..., ak)\n",
    "    (RA, RB) : coordenada del núcleo (A, B)\n",
    "    \"\"\"\n",
    "    Mmn = 0 # elemento de matriz\n",
    "    k = len(d)\n",
    "    for p in range(k):\n",
    "        for q in range(k):\n",
    "            Mmn += d[p] * d[q] * Tpq(a[p], a[q], RA, RB) # elemento de matriz\n",
    "    return Mmn"
   ]
  },
  {
   "cell_type": "code",
   "execution_count": 14,
   "id": "c6cb93a7-7397-48d7-b2a8-875509d843da",
   "metadata": {},
   "outputs": [
    {
     "name": "stdout",
     "output_type": "stream",
     "text": [
      "T_AA & T_BB: 0.7601270778257048\n",
      "T_AB & T_BA: 0.2361332038713467\n"
     ]
    }
   ],
   "source": [
    "TAA = Tmn(d, a, RA, RA) # elemento de matriz T_AA y T_BB\n",
    "TAB = Tmn(d, a, RA, RB) # elemento de matriz T_AB y T_BA\n",
    "\n",
    "print(\"T_AA & T_BB:\", TAA)\n",
    "print(\"T_AB & T_BA:\", TAB)"
   ]
  },
  {
   "cell_type": "markdown",
   "id": "304de54c-c95b-4f9b-bb8d-52f3edd05161",
   "metadata": {},
   "source": [
    "La matriz cinética $T$ es de la forma\n",
    "\n",
    "$$ \\boxed{T\n",
    "= \\begin{pmatrix} T_{AA} & T_{AB} \\\\ T_{BA} & T_{BB} \\end{pmatrix}\n",
    "= \\begin{pmatrix} 0.7601270778257048 & 0.2361332038713467 \\\\ 0.2361332038713467 & 0.7601270778257048 \\end{pmatrix}}\n",
    "$$"
   ]
  },
  {
   "cell_type": "markdown",
   "id": "e1b215e5-6396-479c-85c9-57210588c625",
   "metadata": {},
   "source": [
    "<div class=\"alert alert-block alert-info\">\n",
    "        <strong>Integral Coulombiana del i-ésimo núcleo, $V^i_{\\mu \\, \\nu}$</strong>\n",
    "</div>"
   ]
  },
  {
   "cell_type": "markdown",
   "id": "003bc754-bafa-4ceb-9c95-8fdfacde19dc",
   "metadata": {},
   "source": [
    "La integral Coulombiana del $i$-ésimo núcleo está dada por\n",
    "\n",
    "$$V^i_{\\mu \\, \\nu}  = \\braket{\\varphi_A| \\sum_C  - \\frac{Z_C}{r_c} |\\varphi_B} = \\braket{\\varphi_B| \\sum_C  -\\frac{Z_C}{r_c} |\\varphi_A} \\,.$$\n",
    "\n",
    "Desarrollando,\n",
    "\n",
    "$$ \\begin{align}\n",
    "    V^i_{\\mu \\, \\nu} \n",
    "    &= \\int G_{\\mu}^* (\\vec{\\mathbf{r}}, \\vec{\\mathbf{\\alpha}}, \\vec{A}) \\left( \\sum_C -\\frac{Z_C}{r_c} \\right)\n",
    "        G_{\\nu} (\\vec{\\mathbf{r}}, \\vec{\\mathbf{\\beta}}, \\vec{B}) \\,\\mathrm{d}V \\\\\n",
    "    &= \\int \\sum_{p=1}^{k} d_{p \\mu}^* \\, G^* (\\vec{\\mathbf{r}}, \\alpha_{p \\mu}, \\vec{A}) \\,\n",
    "        \\left( \\sum_C -\\frac{Z_C}{r_c} \\right)\n",
    "        \\sum_{q=1}^{k} d_{q \\nu} \\, G (\\vec{\\mathbf{r}}, \\beta_{q \\nu}, \\vec{B}) \\,\\mathrm{d}V \\\\\n",
    "    &= \\sum_{p=1}^{k} \\sum_{q=1}^{k} d_{p \\mu}^* d_{q \\nu} \\int G^* (\\vec{\\mathbf{r}}, \\alpha_{p \\mu}, \\vec{A}) \\,\n",
    "        \\left( \\sum_C -\\frac{Z_C}{r_c} \\right)\n",
    "         G (\\vec{\\mathbf{r}}, \\beta_{q \\nu}, \\vec{B}) \\,\\mathrm{d}V \\\\\n",
    "    &= \\sum_{p=1}^{k} \\sum_{q=1}^{k} d_{p \\mu}^* d_{q \\nu} \\sum_C \\int G^* (\\vec{\\mathbf{r}}, \\alpha_{p \\mu}, \\vec{A}) \\,\n",
    "        \\left( -\\frac{Z_C}{r_c} \\right)\n",
    "         G (\\vec{\\mathbf{r}}, \\beta_{q \\nu}, \\vec{B}) \\,\\mathrm{d}V\n",
    "\\end{align}\n",
    "$$\n",
    "\n",
    "La expresión por evaluar es entonces\n",
    "\n",
    "$$ V^i_{\\mu \\, \\nu} = \\sum_{p=1}^{k} \\sum_{q=1}^{k} d_{p \\mu}^* d_{q \\nu} \\sum_C V^i_{pq} (C) $$"
   ]
  },
  {
   "cell_type": "markdown",
   "id": "27c22c5f-09fc-4549-95ef-b7f5a59c6ab6",
   "metadata": {},
   "source": [
    "Esta última integral de acuerdo con Szabo y Ostlund es:\n",
    "\n",
    "$$ \\begin{align}\n",
    "    V^i_{pq} (C)\n",
    "    &= \\int G^* (\\vec{\\mathbf{r}}, \\alpha_{p \\mu}, \\vec{A}) \\left( -\\frac{Z_C}{r_c} \\right) G (\\vec{\\mathbf{r}}, \\beta_{q \\nu}, \\vec{B}) \\,\\mathrm{d}V \\\\\n",
    "    &= \\left( \\frac{2\\alpha_{p \\mu}}{\\pi} \\right)^{3/4} \\left( \\frac{2\\beta_{q \\nu}}{\\pi} \\right)^{3/4}\n",
    "        \\int \\exp(-\\alpha_{p \\mu} r^2_A) \\left( -\\frac{Z_C}{r_c} \\right) \\exp(-\\beta_{q \\nu} \\, r^2_B) \\,\\mathrm{d}V \\\\\n",
    "    &= \\left( \\frac{2\\alpha_{p \\mu}}{\\pi} \\right)^{3/4} \\left( \\frac{2\\beta_{q \\nu}}{\\pi} \\right)^{3/4}\n",
    "        \\left( -\\frac{2\\pi}{\\alpha_{p \\mu} + \\beta_{q \\nu}} \\right) Z_C \\,\n",
    "        \\exp\\left( -\\frac{\\alpha_{p \\mu} \\, \\beta_{q \\nu}}{\\alpha_{p \\mu} + \\beta_{q \\nu}} |\\mathbf{R}_A - \\mathbf{R}_B|^2 \\right)\n",
    "        F_0 \\left[ (\\alpha_{p \\mu} + \\beta_{q \\nu}) |\\mathbf{R}_P - \\mathbf{R}_C|^2 \\right]\n",
    "\\end{align}\n",
    "$$\n",
    "\n",
    "donde $F_0(t)$ es\n",
    "\n",
    "$$ F_0(t) = \\frac{1}{2} \\left( \\frac{\\pi}{t} \\right)^{1/2} \\mathrm{erf}(t^{1/2}) \\,;\n",
    "\\quad\n",
    "\\text{con} \\quad \\mathrm{erf}(z) = \\frac{2}{\\sqrt{\\pi}} \\int_0^{z} e^{-t^2} \\, \\mathrm{d}t\n",
    "$$\n",
    "\n",
    "y $\\mathbf{R}_P$ es\n",
    "\n",
    "$$ \\mathbf{R}_P = \\frac{\\alpha \\mathbf{R}_A + \\beta \\, \\mathbf{R}_B}{\\alpha + \\beta} \\,.$$"
   ]
  },
  {
   "cell_type": "code",
   "execution_count": 15,
   "id": "b78f197e-ddaa-4830-9bea-ed11f291c7ba",
   "metadata": {},
   "outputs": [],
   "source": [
    "def F0(t:float):\n",
    "    \"\"\"\n",
    "        Función de Boys, n=0\n",
    "    t : argumento de la función\n",
    "    \"\"\"\n",
    "    return (1/2) * np.sqrt(np.pi/t) * erf(np.sqrt(t))"
   ]
  },
  {
   "cell_type": "code",
   "execution_count": 16,
   "id": "0c369417-74d8-4d13-af3a-d471c9c86583",
   "metadata": {},
   "outputs": [],
   "source": [
    "def RP(a:float, b:float, RA:np.ndarray, RB:np.ndarray):\n",
    "    \"\"\"\n",
    "        Coordenada de centro de carga\n",
    "    (a, b) : exponente orbital Gaussiano\n",
    "    (RA, RB) : coordenada del núcleo (A, B)\n",
    "    \"\"\"\n",
    "    p = a + b # exponente total\n",
    "    return (a*RA+b*RB)/p"
   ]
  },
  {
   "cell_type": "markdown",
   "id": "18db02c7-986d-40ae-aefd-6d032f6f0479",
   "metadata": {},
   "source": [
    "<div class=\"alert alert-block alert-info\">\n",
    "        <strong>Caso particular.</strong> Todos los núcleos son iguales.\n",
    "</div>"
   ]
  },
  {
   "cell_type": "markdown",
   "id": "7a0c8b35-75e1-4145-b214-2ce5b8dd6655",
   "metadata": {},
   "source": [
    "$$\\begin{align}\n",
    "    \\int \\exp(-\\alpha \\, r^2_A) \\left( -\\frac{Z_A}{r_A} \\right) \\exp(-\\beta \\, r^2_A) \\,\\mathrm{d}V\n",
    "    &= -Z_A \\int \\frac{\\exp[ - (\\alpha + \\beta) \\, r^2]}{r} \\,\\mathrm{d}V \\\\\n",
    "    &= -Z_A \\int \\mathrm{d}\\Omega \\int r \\exp[ - (\\alpha + \\beta) \\, r^2] \\,\\mathrm{d}r \\\\\n",
    "    &= - Z_A (4 \\pi) \\frac{1}{2(\\alpha + \\beta)} \\\\\n",
    "    &= - \\frac{2 \\pi Z_A}{\\alpha + \\beta}\n",
    "\\end{align}\n",
    "$$"
   ]
  },
  {
   "cell_type": "code",
   "execution_count": 17,
   "id": "1a6ced53-0415-4e01-93d0-f9dcbfe20328",
   "metadata": {},
   "outputs": [],
   "source": [
    "def Vpq_AB(a:float, b:float, RA:np.ndarray, RB:np.ndarray, RC:np.ndarray, ZC:float):\n",
    "    \"\"\"\n",
    "    (a, b) : exponente orbital Gaussiano\n",
    "    (RA, RB, RC) : coordenada del núcleo (A, B, C)\n",
    "    ZC : carga del núcleo C\n",
    "    \"\"\"\n",
    "    factor = -2*np.pi/(a+b) * ZC # factor común del término pq\n",
    "    \n",
    "    if np.array_equal(RA, RB) and np.array_equal(RB, RC): # todos los núcleos iguales\n",
    "        Vpq = factor\n",
    "    else: # cualquier otro caso\n",
    "        RAB2 = np.square(np.linalg.norm(RA-RB))\n",
    "        Rp = RP(a, b, RA, RB) # coordenada de centro de carga\n",
    "        RPC2 = np.square(np.linalg.norm(Rp-RC))\n",
    "        Vpq = factor * K(a, b, RA, RB) * F0((a+b)*RPC2)\n",
    "    return Vpq"
   ]
  },
  {
   "cell_type": "markdown",
   "id": "663b2b94-c0d5-4ee7-bd27-94dcc0fd1144",
   "metadata": {},
   "source": [
    "La expresión final para el elemento de matriz $V^i_{\\mu \\, \\nu}$ es\n",
    "\n",
    "$$ V^i_{\\mu \\, \\nu}\n",
    "= \\sum_{p=1}^{k} \\sum_{q=1}^{k} d_{p \\mu}^* d_{q \\nu} \\left[ V^i_{pq}(A) + V^i_{pq}(B) \\right]\n",
    "= \\sum_{p=1}^{k} \\sum_{q=1}^{k} d_{p \\mu}^* d_{q \\nu} V^i_{pq}(A)\n",
    "    + \\sum_{p=1}^{k} \\sum_{q=1}^{k} d_{p \\mu}^* d_{q \\nu}  V^i_{pq}(B)\n",
    "$$"
   ]
  },
  {
   "cell_type": "code",
   "execution_count": 18,
   "id": "e611609b-8dff-4e00-a221-51eb8e47d294",
   "metadata": {},
   "outputs": [],
   "source": [
    "def Vmn(d:np.ndarray, a:np.ndarray, RA:np.ndarray, RB:np.ndarray, RC:np.ndarray, ZC:float):\n",
    "    \"\"\"\n",
    "        Integral cinética S_mn\n",
    "    d : vector de coeficientes de expansión (d1, d2, ..., dk)\n",
    "    a : vector de exponentes orbitales Gaussianos (a1, a2, ..., ak)\n",
    "    (RA, RB, RC) : coordenada del núcleo (A, B, C)\n",
    "    ZC : carga del núcleo C\n",
    "    \"\"\"\n",
    "    Mmn1 = 0 # elemento de matriz V^i_AA\n",
    "    Mmn2 = 0 # elemento de matriz V^i_AB y V^i_BA\n",
    "    Mmn3 = 0 # elemento de matriz V^i_BB\n",
    "    k = len(d)\n",
    "\n",
    "    for p in range(k):\n",
    "        for q in range(k):\n",
    "            factor = d[p] * d[q] * GaussNorm(a[p]) * GaussNorm(a[q]) # factor común del término p, q\n",
    "            Mmn1 += factor * Vpq_AB(a[p], a[q], RA, RA, RC, ZC)\n",
    "            Mmn2 += factor * Vpq_AB(a[p], a[q], RA, RB, RC, ZC)\n",
    "            Mmn3 += factor * Vpq_AB(a[p], a[q], RB, RB, RC, ZC)\n",
    "    \n",
    "    return [Mmn1, Mmn2, Mmn3] # elementos de matriz (V^i_AA, V^i_AB, V^i_BB)"
   ]
  },
  {
   "cell_type": "code",
   "execution_count": 19,
   "id": "91bd23b6-4007-4bf9-bec2-218f1537e631",
   "metadata": {},
   "outputs": [
    {
     "name": "stdout",
     "output_type": "stream",
     "text": [
      "V1: [np.float64(-1.2266836047073328), np.float64(-0.5969507766237366), np.float64(-0.653481099086147)]\n",
      "V2: [np.float64(-0.653481099086147), np.float64(-0.5969507766237366), np.float64(-1.2266836047073328)]\n"
     ]
    }
   ],
   "source": [
    "ZA, ZB = 1, 1\n",
    "\n",
    "V1 = Vmn(d, a, RA, RB, RA, ZA) # matriz V^1 (núcleo A)\n",
    "V2 = Vmn(d, a, RA, RB, RB, ZB) # matriz V^2 (núcleo B)\n",
    "\n",
    "print(\"V1:\", V1)\n",
    "print(\"V2:\", V2)"
   ]
  },
  {
   "cell_type": "markdown",
   "id": "a1a88e0f-5adf-4c6d-8da6-82d801af9172",
   "metadata": {},
   "source": [
    "La matriz Coulombiana $V^1$ y $V^2$ son entonces\n",
    "\n",
    "$$ \\boxed{V^1\n",
    "= \\begin{pmatrix} V^1_{AA} & V^1_{AB} \\\\ V^1_{BA} & V^1_{BB} \\end{pmatrix}\n",
    "= \\begin{pmatrix} -1.2266836047073328 & -0.5969507766237366 \\\\ -0.5969507766237366 & -0.653481099086147 \\end{pmatrix}}\n",
    "$$\n",
    "\n",
    "$$ \\boxed{V^2\n",
    "= \\begin{pmatrix} V^2_{AA} & V^2_{AB} \\\\ V^2_{BA} & V^2_{BB} \\end{pmatrix}\n",
    "= \\begin{pmatrix} -0.653481099086147 & -0.5969507766237366 \\\\ -0.5969507766237366 & -1.2266836047073328 \\end{pmatrix}}\n",
    "$$"
   ]
  },
  {
   "cell_type": "markdown",
   "id": "24efc0de-db3b-4099-81ad-7ad82a0be3d7",
   "metadata": {},
   "source": [
    "<div class=\"alert alert-block alert-info\">\n",
    "<strong>Coeficiente de normalización, $c_{\\pm}$</strong>\n",
    "</div>"
   ]
  },
  {
   "cell_type": "code",
   "execution_count": 20,
   "id": "7187c7b8-47be-43c3-b44f-8dac3e533224",
   "metadata": {},
   "outputs": [],
   "source": [
    "def cPM(d:np.array, a:np.array, RA:np.array, RB:np.array, signo:str):\n",
    "    \"\"\"\n",
    "        Constante de normalización c+-\n",
    "            Psi = c+- (Phi_A +- Phi_B)\n",
    "    d : vector de coeficientes de expansión (d1, d2, ..., dk)\n",
    "    a : vector de exponentes orbitales Gaussianos (a1, a2, ..., ak)\n",
    "    (RA, RB) : coordenada del núcleo (A, B)\n",
    "    signo : signo de S en la normalización\n",
    "         1 -> positivo\n",
    "        -1 -> negativo\n",
    "    \"\"\"\n",
    "    S = truncar_float(Smn(d, a, RA, RB), vdecimal)\n",
    "    if signo == 'plus':\n",
    "        return 1/np.sqrt(2*(1+S))\n",
    "    else:\n",
    "        return 1/np.sqrt(2*(1-S))"
   ]
  },
  {
   "cell_type": "markdown",
   "id": "8426dc24-845e-49dc-bfe4-174fbe10a283",
   "metadata": {},
   "source": [
    "<div class=\"alert alert-block alert-info\">\n",
    "<strong>Elemento de matriz $f_{pp}$</strong>\n",
    "</div>"
   ]
  },
  {
   "cell_type": "markdown",
   "id": "26c8778c-a6b1-4ef7-866d-9ff792c897ed",
   "metadata": {},
   "source": [
    "$$ f_{pp}\n",
    "    = |c_\\pm|^2 \\left[ 2 ( T_{AA} \\pm_p T_{AB} )\n",
    "    + (V^1_{AA} + V^1_{BB}) + (V^2_{AA} + V^2_{BB})\n",
    "    \\pm_p 2 ( V^1_{AB} + V^2_{AB} ) \\right]\n",
    "$$"
   ]
  },
  {
   "cell_type": "code",
   "execution_count": 21,
   "id": "8c96a733-e4f7-4c1a-9e4b-565bd7d953c8",
   "metadata": {},
   "outputs": [],
   "source": [
    "def fpp(p:int, d:np.ndarray, a:np.ndarray, RA:np.ndarray, RB:np.ndarray, ZA:float, ZB:float):\n",
    "    \"\"\"\n",
    "        Elemento de matriz f_pp\n",
    "    p : elemento de la base, base = {X_1, X_2, X_3, X_4}\n",
    "        p = 1, 2, 3, 4\n",
    "    d : vector de coeficientes de expansión (d1, d2, ..., dk)\n",
    "    a : vector de exponentes orbitales Gaussianos (a1, a2, ..., ak)\n",
    "    (RA, RB) : coordenada del núcleo (A, B)\n",
    "    (ZA, ZB) : carga del núcleo (A, B)\n",
    "    \"\"\"\n",
    "    TAA = Tmn(d, a, RA, RA) # elemento de matriz T_AA y T_BB\n",
    "    TAB = Tmn(d, a, RA, RB) # elemento de matriz T_AB y T_BA\n",
    "    V1_AA, V1_AB, V1_BB = Vmn(d, a, RA, RB, RA, ZA) # elementos de matriz V^1_AA, V^1_AB y V^1_BB\n",
    "    V2_AA, V2_AB, V2_BB = Vmn(d, a, RA, RB, RB, ZB) # elementos de matriz V^2_AA, V^2_AB y V^2_BB\n",
    "\n",
    "    if p in [1,2]:\n",
    "        c2 = np.square(cPM(d, a, RA, RB, 'plus'))\n",
    "        term = c2*( 2*(TAA + TAB) + (V1_AA + V1_BB) + (V2_AA + V2_BB) + 2*(V1_AB + V2_AB) )\n",
    "    else:\n",
    "        c2 = np.square(cPM(d, a, RA, RB, 'minus'))\n",
    "        term = c2*( 2*(TAA - TAB) + (V1_AA + V1_BB) + (V2_AA + V2_BB) - 2*(V1_AB + V2_AB) )\n",
    "    return term"
   ]
  },
  {
   "cell_type": "code",
   "execution_count": 22,
   "id": "4a484cf4-3107-4db3-ba8f-c23b18782679",
   "metadata": {},
   "outputs": [
    {
     "name": "stdout",
     "output_type": "stream",
     "text": [
      "f11 & f22: -1.252468234996496\n",
      "f33 & f44: -0.47581972486855656\n"
     ]
    }
   ],
   "source": [
    "# Segura\n",
    "d = np.array([0.1545314772435472, 0.5354555247125108, 0.4443376735387033])\n",
    "a = np.array([3.423766464751332, 0.6234266839478166, 0.1687830644383135])\n",
    "\n",
    "f11 = fpp(1, d, a, RA, RB, ZA, ZB)\n",
    "f33 = fpp(3, d, a, RA, RB, ZA, ZB)\n",
    "\n",
    "print(\"f11 & f22:\", f11)\n",
    "print(\"f33 & f44:\", f33)"
   ]
  },
  {
   "cell_type": "code",
   "execution_count": 23,
   "id": "3e456369-e065-4aae-99f3-89df8012ae2b",
   "metadata": {},
   "outputs": [
    {
     "name": "stdout",
     "output_type": "stream",
     "text": [
      "f11 & f22: -1.2524790585335392\n",
      "f33 & f44: -0.4759356598814759\n"
     ]
    }
   ],
   "source": [
    "# Stewart\n",
    "d = np.array([0.444635, 0.535328, 0.154329])\n",
    "a = np.array([0.168856, 0.623913, 3.42525])\n",
    "\n",
    "f11 = fpp(1, d, a, RA, RB, ZA, ZB)\n",
    "f33 = fpp(3, d, a, RA, RB, ZA, ZB)\n",
    "\n",
    "print(\"f11 & f22:\", f11)\n",
    "print(\"f33 & f44:\", f33)"
   ]
  },
  {
   "cell_type": "code",
   "execution_count": null,
   "id": "ff73d5aa-2377-484f-be50-4182a40b489f",
   "metadata": {},
   "outputs": [],
   "source": []
  }
 ],
 "metadata": {
  "kernelspec": {
   "display_name": "Python 3 (ipykernel)",
   "language": "python",
   "name": "python3"
  },
  "language_info": {
   "codemirror_mode": {
    "name": "ipython",
    "version": 3
   },
   "file_extension": ".py",
   "mimetype": "text/x-python",
   "name": "python",
   "nbconvert_exporter": "python",
   "pygments_lexer": "ipython3",
   "version": "3.13.2"
  }
 },
 "nbformat": 4,
 "nbformat_minor": 5
}
