{
 "cells": [
  {
   "cell_type": "code",
   "execution_count": 1,
   "id": "89c6faac-1bd0-4b50-84ca-ea0728cd9cd7",
   "metadata": {},
   "outputs": [],
   "source": [
    "from qiskit import QuantumCircuit\n",
    "from qiskit.quantum_info import SparsePauliOp\n",
    "from qiskit.circuit.library import TwoLocal\n",
    "import numpy as np"
   ]
  },
  {
   "cell_type": "code",
   "execution_count": 2,
   "id": "62dee78c-8f7d-4142-8d5b-71d4348f1762",
   "metadata": {},
   "outputs": [
    {
     "data": {
      "text/html": [
       "<pre style=\"word-wrap: normal;white-space: pre;background: #fff0;line-height: 1.1;font-family: &quot;Courier New&quot;,Courier,monospace\">     ┌───────────┐┌──────────┐┌──────────┐     ┌──────────┐┌──────────┐\n",
       "q_0: ┤ U3(π,0,π) ├┤ Rz(θ[0]) ├┤ Ry(θ[2]) ├──■──┤ Rz(θ[4]) ├┤ Ry(θ[6]) ├\n",
       "     └┬──────────┤├──────────┤└──────────┘┌─┴─┐├──────────┤├──────────┤\n",
       "q_1: ─┤ Rz(θ[1]) ├┤ Ry(θ[3]) ├────────────┤ X ├┤ Rz(θ[5]) ├┤ Ry(θ[7]) ├\n",
       "      └──────────┘└──────────┘            └───┘└──────────┘└──────────┘</pre>"
      ],
      "text/plain": [
       "     ┌───────────┐┌──────────┐┌──────────┐     ┌──────────┐┌──────────┐\n",
       "q_0: ┤ U3(π,0,π) ├┤ Rz(θ[0]) ├┤ Ry(θ[2]) ├──■──┤ Rz(θ[4]) ├┤ Ry(θ[6]) ├\n",
       "     └┬──────────┤├──────────┤└──────────┘┌─┴─┐├──────────┤├──────────┤\n",
       "q_1: ─┤ Rz(θ[1]) ├┤ Ry(θ[3]) ├────────────┤ X ├┤ Rz(θ[5]) ├┤ Ry(θ[7]) ├\n",
       "      └──────────┘└──────────┘            └───┘└──────────┘└──────────┘"
      ]
     },
     "execution_count": 2,
     "metadata": {},
     "output_type": "execute_result"
    }
   ],
   "source": [
    "theta_list = (2 * np.pi * np.random.rand(1, 8)).tolist()\n",
    "observable=SparsePauliOp.from_list([(\"II\", 2), (\"XX\", -2), (\"YY\", 3), (\"ZZ\", -3)])\n",
    "\n",
    "reference_circuit = QuantumCircuit(2)\n",
    "reference_circuit.x(0)\n",
    "\n",
    "variational_form = TwoLocal(\n",
    "    2,\n",
    "    rotation_blocks=[\"rz\", \"ry\"],\n",
    "    entanglement_blocks=\"cx\",\n",
    "    entanglement=\"linear\",\n",
    "    reps=1,\n",
    ")\n",
    "ansatz = reference_circuit.compose(variational_form)\n",
    "\n",
    "ansatz.decompose().draw()"
   ]
  },
  {
   "cell_type": "code",
   "execution_count": 3,
   "id": "3d10294a-e654-46c7-94fe-3b8ef1c126b2",
   "metadata": {},
   "outputs": [],
   "source": [
    "def cost_func_vqe(parameters, ansatz, hamiltonian, estimator):\n",
    "    \"\"\"Return estimate of energy from estimator\n",
    "\n",
    "    Parameters:\n",
    "        params (ndarray): Array of ansatz parameters\n",
    "        ansatz (QuantumCircuit): Parameterized ansatz circuit\n",
    "        hamiltonian (SparsePauliOp): Operator representation of Hamiltonian\n",
    "        estimator (Estimator): Estimator primitive instance\n",
    "\n",
    "    Returns:\n",
    "        float: Energy estimate\n",
    "    \"\"\"\n",
    "\n",
    "    estimator_job = estimator.run([(ansatz, hamiltonian, [parameters])])\n",
    "    estimator_result = estimator_job.result()[0]\n",
    "\n",
    "    cost = estimator_result.data.evs[0]\n",
    "    return cost"
   ]
  },
  {
   "cell_type": "code",
   "execution_count": 4,
   "id": "d7776960-3daa-4e42-973b-b38d5fac71c0",
   "metadata": {},
   "outputs": [],
   "source": [
    "from qiskit.primitives import StatevectorEstimator\n",
    "estimator = StatevectorEstimator()"
   ]
  },
  {
   "cell_type": "code",
   "execution_count": 5,
   "id": "e8891506-3fdb-400c-ba36-1c4b47312c82",
   "metadata": {},
   "outputs": [
    {
     "data": {
      "text/plain": [
       " message: Optimization terminated successfully.\n",
       " success: True\n",
       "  status: 1\n",
       "     fun: -5.999999957125782\n",
       "       x: [ 1.739e+00  9.302e-01  1.571e+00  1.167e-05  1.910e+00\n",
       "            1.231e+00  6.226e-01  6.227e-01]\n",
       "    nfev: 131\n",
       "   maxcv: 0.0"
      ]
     },
     "execution_count": 5,
     "metadata": {},
     "output_type": "execute_result"
    }
   ],
   "source": [
    "# SciPy minimizer routine\n",
    "from scipy.optimize import minimize\n",
    "\n",
    "x0 = np.ones(8)\n",
    "\n",
    "result = minimize(cost_func_vqe, x0, args=(ansatz, observable, estimator), method=\"COBYLA\")\n",
    "\n",
    "result"
   ]
  },
  {
   "cell_type": "markdown",
   "id": "43a5d6f2-79cc-435d-9752-06b8e543a843",
   "metadata": {},
   "source": [
    "---"
   ]
  },
  {
   "cell_type": "code",
   "execution_count": 6,
   "id": "2085062a-f15a-4504-be93-47106a9e0e9d",
   "metadata": {},
   "outputs": [],
   "source": [
    "from qiskit_ibm_runtime import SamplerV2 as Sampler\n",
    "from qiskit_ibm_runtime import EstimatorV2 as Estimator\n",
    "from qiskit_ibm_runtime import Session, EstimatorOptions\n",
    "from qiskit_ibm_runtime import QiskitRuntimeService"
   ]
  },
  {
   "cell_type": "code",
   "execution_count": 25,
   "id": "61d584e8-5b49-4fa3-84ea-dcb5714ca002",
   "metadata": {},
   "outputs": [],
   "source": [
    "# Leer el API token\n",
    "with open(\"ibm_token.txt\", \"r\") as file:\n",
    "    api_token = file.read().strip()\n",
    "\n",
    "service = QiskitRuntimeService(\n",
    "    channel='ibm_quantum',\n",
    "    instance='events/q2b24-participan/user-24',\n",
    "    token=api_token\n",
    ")\n",
    "\n",
    "# Or save your credentials on disk.\n",
    "# QiskitRuntimeService.save_account(channel='ibm_quantum', instance='events/q2b24-participan/user-24', token='<IBM Quantum API key>')"
   ]
  },
  {
   "cell_type": "code",
   "execution_count": 26,
   "id": "08bfebe0-0fe6-4eb4-b811-34b4ec98c0b7",
   "metadata": {},
   "outputs": [
    {
     "name": "stdout",
     "output_type": "stream",
     "text": [
      "<IBMBackend('ibm_cusco')>\n"
     ]
    }
   ],
   "source": [
    "backend = service.least_busy(operational=True, simulator=False)\n",
    "print(backend)"
   ]
  },
  {
   "cell_type": "code",
   "execution_count": 27,
   "id": "f6345f6f-17ee-4a70-92bb-6a13e7a7c83a",
   "metadata": {},
   "outputs": [],
   "source": [
    "from qiskit.transpiler.preset_passmanagers import generate_preset_pass_manager\n",
    "\n",
    "pm = generate_preset_pass_manager(backend=backend, optimization_level=3)\n",
    "isa_ansatz = pm.run(ansatz)\n",
    "isa_observable = observable.apply_layout(layout = isa_ansatz.layout)"
   ]
  },
  {
   "cell_type": "code",
   "execution_count": 28,
   "id": "06db195e-7c15-4af4-8dbc-5e9d16878778",
   "metadata": {},
   "outputs": [
    {
     "name": "stdout",
     "output_type": "stream",
     "text": [
      " message: Maximum number of function evaluations has been exceeded.\n",
      " success: False\n",
      "  status: 2\n",
      "     fun: -0.9049907104875393\n",
      "       x: [ 1.000e+00  1.000e+00  1.000e+00  1.000e+00  1.000e+00\n",
      "            1.000e+00  1.000e+00  1.000e+00]\n",
      "    nfev: 5\n",
      "   maxcv: 0.0\n"
     ]
    }
   ],
   "source": [
    "x0 = np.ones(8)\n",
    "\n",
    "estimator_options = EstimatorOptions(\n",
    "    resilience_level=1,\n",
    "    default_shots = 1000\n",
    ")\n",
    "\n",
    "num_jobs = 5 # amount of jobs that will run in one workload ~ 15 max\n",
    "\n",
    "with Session(backend=backend) as session:\n",
    "    estimator = Estimator(mode=session, options = estimator_options)\n",
    "    result = minimize(cost_func_vqe, x0, args=(isa_ansatz, isa_observable, estimator), method=\"COBYLA\", options={'maxiter': num_jobs, 'disp': True})\n",
    "session.close()\n",
    "print(result)"
   ]
  },
  {
   "cell_type": "code",
   "execution_count": null,
   "id": "828a0bb3-62a4-46e5-b2a2-9d8fa69b35ec",
   "metadata": {},
   "outputs": [],
   "source": []
  }
 ],
 "metadata": {
  "kernelspec": {
   "display_name": "Python 3 (ipykernel)",
   "language": "python",
   "name": "python3"
  },
  "language_info": {
   "codemirror_mode": {
    "name": "ipython",
    "version": 3
   },
   "file_extension": ".py",
   "mimetype": "text/x-python",
   "name": "python",
   "nbconvert_exporter": "python",
   "pygments_lexer": "ipython3",
   "version": "3.13.1"
  }
 },
 "nbformat": 4,
 "nbformat_minor": 5
}
