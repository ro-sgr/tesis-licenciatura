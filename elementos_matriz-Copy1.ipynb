{
 "cells": [
  {
   "cell_type": "markdown",
   "id": "f8e29090-4fe1-408b-9880-97b122826a03",
   "metadata": {},
   "source": [
    "Archivo de Jupyter para cálculo simbólico de elementos de matriz"
   ]
  },
  {
   "cell_type": "code",
   "execution_count": 93,
   "id": "77edf5a3-0e5d-40ac-9f65-ca81307c28b7",
   "metadata": {},
   "outputs": [],
   "source": [
    "import numpy as np\n",
    "from scipy.special import erf\n",
    "from sympy import *\n",
    "from sympy.vector import CoordSys3D, laplacian"
   ]
  },
  {
   "cell_type": "code",
   "execution_count": 2,
   "id": "94902e71-4300-4e90-aafd-e90bd7d43c27",
   "metadata": {},
   "outputs": [],
   "source": [
    "A = CoordSys3D('A', transformation='spherical') # Sistema coordenado esférico, centrado en A\n",
    "B = CoordSys3D('B', transformation='spherical') # Sistema coordenado esférico, centrado en B\n",
    "\n",
    "a = Symbol('a', positive=True) # exponente orbital Gaussiano"
   ]
  },
  {
   "cell_type": "markdown",
   "id": "96e3c62a-02e7-48b3-ab53-108e60aa7454",
   "metadata": {},
   "source": [
    "Gaussiana $\\ket{1\\mathrm{s}}$ sin normalizar"
   ]
  },
  {
   "cell_type": "markdown",
   "id": "05af4cea-218e-4b8e-8c2f-eaaa08e22bb5",
   "metadata": {},
   "source": [
    "$$ \\phi_{1\\mathrm{s}}^{(A)} (\\mathbf{r} - \\mathbf{R}_A) = e^{-\\alpha |\\mathbf{r} - \\mathbf{R}_A|^2} = e^{-\\alpha \\, r^2_A} $$\n",
    "\n",
    "donde $r = |\\mathbf{r} - \\mathbf{R}|$."
   ]
  },
  {
   "cell_type": "markdown",
   "id": "fd2cd14a-b495-4403-964f-37733f61f5e5",
   "metadata": {},
   "source": [
    "Se busca calcular a la integral de la forma\n",
    "$$\n",
    "\\int e^{-\\alpha \\, r^2} \\left(- \\frac{1}{2} \\nabla^2\\right) e^{-\\alpha \\, r^2}\\, \\mathrm{d}r\n",
    "$$"
   ]
  },
  {
   "cell_type": "code",
   "execution_count": 50,
   "id": "11682416-f716-42e0-bf78-71279e537607",
   "metadata": {},
   "outputs": [],
   "source": [
    "gauss = E**(-a*(A.r**2)) # función gaussiana 1s sin normalizar\n",
    "integrand = simplify( gauss * (-1/2) * laplacian(gauss) ) # integrando\n",
    "integral = simplify(integrate(integrand, (A.r, 0, oo)))"
   ]
  },
  {
   "cell_type": "code",
   "execution_count": 4,
   "id": "8925b596-61af-460d-917d-c6724066508c",
   "metadata": {},
   "outputs": [
    {
     "data": {
      "text/latex": [
       "$\\displaystyle 0.625 \\sqrt{2} \\sqrt{\\pi} \\sqrt{a}$"
      ],
      "text/plain": [
       "0.625*sqrt(2)*sqrt(pi)*sqrt(a)"
      ]
     },
     "execution_count": 4,
     "metadata": {},
     "output_type": "execute_result"
    }
   ],
   "source": [
    "integral"
   ]
  },
  {
   "cell_type": "markdown",
   "id": "2ab43fe3-d4c7-4dd0-b307-19d619078fbf",
   "metadata": {},
   "source": [
    "Es decir,\n",
    "$$\n",
    "\\int_{0}^{\\infty} e^{-\\alpha \\, r^2} \\left(- \\frac{1}{2} \\nabla^2\\right) e^{-\\alpha \\, r^2}\\, \\mathrm{d}r\n",
    "= \\frac{5}{8} \\sqrt{2 \\pi \\alpha}\n",
    "= \\boxed{\\frac{5}{4} \\sqrt{\\frac{\\pi \\alpha}{2}}}\n",
    "$$"
   ]
  },
  {
   "cell_type": "markdown",
   "id": "14e2c3f9-ff2e-4631-8ab0-2cbff057eaa3",
   "metadata": {},
   "source": [
    "Así pues, para la función Gaussiana $\\ket{1\\mathrm{s}}$ normalizada se tendrá:\n",
    "$$\n",
    "\\left( \\frac{2(2\\alpha)^{3/4}}{\\pi^{1/4}} \\right)^2 \\int_{0}^{\\infty} e^{-\\alpha \\, r^2} \\left(- \\frac{1}{2} \\nabla^2\\right) e^{-\\alpha \\, r^2} \\, \\mathrm{d}r\n",
    "= \\left( \\frac{4(2\\alpha)^{3/2}}{\\pi^{1/2}} \\right) \\frac{5}{4} \\sqrt{\\frac{\\pi \\alpha}{2}}\n",
    "= \\boxed{10 a^2}\n",
    "$$"
   ]
  },
  {
   "cell_type": "code",
   "execution_count": 5,
   "id": "e982c094-d1db-406f-a095-98ab454bc72d",
   "metadata": {},
   "outputs": [],
   "source": [
    "def coeff(a):\n",
    "    \"\"\"\n",
    "        Coeficiente de normalización para función radial Gaussiana 1s\n",
    "    a : exponente orbital Gaussiano\n",
    "    \"\"\"\n",
    "    return 2 * (2*a)**(3/4) / pi**(1/4)"
   ]
  },
  {
   "cell_type": "code",
   "execution_count": 6,
   "id": "46a50d6b-e4b9-478c-9247-fd768847dc06",
   "metadata": {},
   "outputs": [],
   "source": [
    "def R1s_(a, C):\n",
    "    \"\"\"\n",
    "        Función radial Gaussiana 1s sin normalizar\n",
    "    a : exponente orbital Gaussiano\n",
    "    C : CoordSys3D(C,spherical)\n",
    "    \"\"\"\n",
    "    return E**(-a*(C.r**2))"
   ]
  },
  {
   "cell_type": "code",
   "execution_count": 7,
   "id": "c220ae44-3fe2-472e-811e-4f350c77d8d4",
   "metadata": {},
   "outputs": [],
   "source": [
    "def R1s(a, C):\n",
    "    \"\"\"\n",
    "        Función radial Gaussiana 1s normalizada\n",
    "    a : exponente orbital Gaussiano\n",
    "    C : CoordSys3D(C,spherical)\n",
    "    \"\"\"\n",
    "    return coeff(a) * R1s_(a,C)"
   ]
  },
  {
   "cell_type": "code",
   "execution_count": 8,
   "id": "ceb9411d-1293-4726-a61c-235213d88e5c",
   "metadata": {},
   "outputs": [
    {
     "data": {
      "text/latex": [
       "$\\displaystyle \\frac{3.36358566101486 a^{0.75} e^{- \\mathbf{{r}_{A}}^{2} a}}{\\pi^{0.25}}$"
      ],
      "text/plain": [
       "3.36358566101486*a**0.75*exp(-A.r**2*a)/pi**0.25"
      ]
     },
     "execution_count": 8,
     "metadata": {},
     "output_type": "execute_result"
    }
   ],
   "source": [
    "R1s(a, A)"
   ]
  },
  {
   "cell_type": "markdown",
   "id": "80a66a0b-bb5f-4b52-8c10-3e01041b4e5e",
   "metadata": {},
   "source": [
    "<div class=\"alert alert-block alert-info\">\n",
    "    El factor de $3.3635[\\cdots]$ que aparece en la expresión de arriba es $2 \\cdot 2^{3/4} = 2^{7/4}$ .\n",
    "</div>"
   ]
  },
  {
   "cell_type": "code",
   "execution_count": 9,
   "id": "35398bc2-48d7-4f50-a284-ce9df14b3f14",
   "metadata": {},
   "outputs": [],
   "source": [
    "integrand = simplify( R1s(a, A) * (-1/2) * laplacian(R1s(a, A)) ) # integrando\n",
    "integral = simplify(integrate(integrand, (A.r, 0, oo)))"
   ]
  },
  {
   "cell_type": "code",
   "execution_count": 10,
   "id": "c45a35a6-3b2a-44c6-8e78-b5f3d024c954",
   "metadata": {},
   "outputs": [
    {
     "data": {
      "text/latex": [
       "$\\displaystyle 7.07106781186547 \\sqrt{2} a^{2.0}$"
      ],
      "text/plain": [
       "7.07106781186547*sqrt(2)*a**2.0"
      ]
     },
     "execution_count": 10,
     "metadata": {},
     "output_type": "execute_result"
    }
   ],
   "source": [
    "integral"
   ]
  },
  {
   "cell_type": "markdown",
   "id": "6f40dab6-baf8-4f34-90f5-d3b7658dd559",
   "metadata": {},
   "source": [
    "<div class=\"alert alert-block alert-info\">\n",
    "    El factor de $7.0710[\\cdots]$ que aparece en la expresión de arriba es $5\\sqrt{2}$ .\n",
    "</div>"
   ]
  },
  {
   "cell_type": "markdown",
   "id": "1d898a9f-a6d4-4498-8d12-9aa420966788",
   "metadata": {},
   "source": [
    "---\n",
    "3-contracción Gaussiana $\\ket{1s}$"
   ]
  },
  {
   "cell_type": "code",
   "execution_count": 11,
   "id": "ff3a9dd0-89be-4025-a791-cec2c3e1049b",
   "metadata": {},
   "outputs": [],
   "source": [
    "def RSTO3G_(d, a, C):\n",
    "    \"\"\"\n",
    "        3-contracción Gaussiana 1s\n",
    "        Sin factor de normalización de Gaussianas\n",
    "    d : vector de coeficientes de contracción\n",
    "    a : vector de exponentes orbitales Gaussianos\n",
    "    C : CoordSys3D(C,spherical)\n",
    "    \"\"\"\n",
    "    d1, d2, d3 = d\n",
    "    a1, a2, a3 = a\n",
    "    return d1*R1s_(a1,C) + d2*R1s_(a2,C) + d3*R1s_(a3,C)"
   ]
  },
  {
   "cell_type": "code",
   "execution_count": 12,
   "id": "2cc0d4ed-a111-425e-9586-5b813b956c64",
   "metadata": {},
   "outputs": [],
   "source": [
    "def RSTO3G(d, a, C):\n",
    "    \"\"\"\n",
    "        3-contracción Gaussiana 1s\n",
    "        Con factor de normalización de Gaussianas\n",
    "    d : vector de coeficientes de contracción\n",
    "    a : vector de exponentes orbitales Gaussianos\n",
    "    C : CoordSys3D(C,spherical)\n",
    "    \"\"\"\n",
    "    d1, d2, d3 = d\n",
    "    a1, a2, a3 = a\n",
    "    return d1*R1s(a1,C) + d2*R1s(a2,C) + d3*R1s(a3,C)"
   ]
  },
  {
   "cell_type": "code",
   "execution_count": 13,
   "id": "ceeefb16-cd6a-4ada-8d6c-4ce7f94317b7",
   "metadata": {},
   "outputs": [],
   "source": [
    "a1, a2, a3 = symbols('a1 a2 a3', positive=True) # exponentes orbitales Gaussianos\n",
    "d1, d2, d3 = symbols('d1 d2 d3', real=True) # coeficientes de contracción\n",
    "\n",
    "dvec = [d1, d2, d3]\n",
    "avec = [a1, a2, a3]"
   ]
  },
  {
   "cell_type": "code",
   "execution_count": 14,
   "id": "a6ba34aa-9b37-46f3-8024-386e5990de7f",
   "metadata": {},
   "outputs": [
    {
     "data": {
      "text/latex": [
       "$\\displaystyle d_{1} e^{- \\mathbf{{r}_{A}}^{2} a_{1}} + d_{2} e^{- \\mathbf{{r}_{A}}^{2} a_{2}} + d_{3} e^{- \\mathbf{{r}_{A}}^{2} a_{3}}$"
      ],
      "text/plain": [
       "d1*exp(-A.r**2*a1) + d2*exp(-A.r**2*a2) + d3*exp(-A.r**2*a3)"
      ]
     },
     "execution_count": 14,
     "metadata": {},
     "output_type": "execute_result"
    }
   ],
   "source": [
    "RSTO3G_(dvec, avec, A)"
   ]
  },
  {
   "cell_type": "markdown",
   "id": "a3a5cf43-4847-4786-b922-85049ca2f540",
   "metadata": {},
   "source": [
    "---\n",
    "Base espacial\n",
    "\n",
    "Dado que una $k$-contracción poseé el mismo factor de normalización para cada una de las Gaussianas, se realizará la computación simbólica sin este ya que sería lo mismo que multiplicar a la contracción total por dicho factor después de la computación. Observe que la convención para declarar a una función `f` sin dicho factor de normalización es `f_` ."
   ]
  },
  {
   "cell_type": "code",
   "execution_count": 15,
   "id": "31cb0a9a-8e29-41e2-9178-b492033302c8",
   "metadata": {},
   "outputs": [],
   "source": [
    "phiA_ = RSTO3G_(dvec, avec, A)\n",
    "phiB_ = RSTO3G_(dvec, avec, B)"
   ]
  },
  {
   "cell_type": "code",
   "execution_count": null,
   "id": "073e6f3f-11d1-45e1-af3f-03f65ca1a225",
   "metadata": {},
   "outputs": [],
   "source": []
  },
  {
   "cell_type": "code",
   "execution_count": null,
   "id": "81c46d56-630b-4b05-9ee4-c0a5fabc02a0",
   "metadata": {},
   "outputs": [],
   "source": []
  },
  {
   "cell_type": "code",
   "execution_count": null,
   "id": "0c801669-b266-4db7-ad4e-112f3a270aa7",
   "metadata": {},
   "outputs": [],
   "source": []
  },
  {
   "cell_type": "code",
   "execution_count": null,
   "id": "84b8df5c-5e18-4aa7-901a-9285f0544e4e",
   "metadata": {},
   "outputs": [],
   "source": []
  },
  {
   "cell_type": "code",
   "execution_count": null,
   "id": "114aaef4-78e3-49e0-bfa1-fc59b2f3e163",
   "metadata": {},
   "outputs": [],
   "source": []
  },
  {
   "cell_type": "markdown",
   "id": "0815853a-68f5-452e-b410-c6eee19579d7",
   "metadata": {},
   "source": [
    "En general un elemento de matriz $f_{pq}$ será dado por\n",
    "$$\n",
    "f_{pq} = \\int \\chi_p (\\hat{f}_1 + \\hat{f}_2) \\chi_q \\, \\mathrm{d}\\mathbf{x}\n",
    "    = \\int \\psi_p (\\hat{f}_1 + \\hat{f}_2) \\psi_q \\, \\mathrm{d}\\mathbf{r} \\int Y_{00}^2 \\, \\mathrm{d}\\Omega \\int \\sigma_p(\\omega) \\sigma_q(\\omega) \\, \\mathrm{d}\\omega\n",
    "$$\n",
    "\n",
    "La parte angular es 1 y la parte espinorial se trata de una delta de Kronecker, por lo cual solo los elementos de matriz $f_{pq}$ tal que sus partes espinoriales coincidan serán diferentes de cero."
   ]
  },
  {
   "cell_type": "markdown",
   "id": "63af3ddc-84c4-4d3e-80e1-bd697b114178",
   "metadata": {},
   "source": [
    "Desarrollando la parte radial donde $\\mathrm{d}\\mathbf{r} = r^2$ es\n",
    "$$\n",
    "\\begin{align}\n",
    "\\int \\psi_p (\\hat{f}_1 + \\hat{f}_2) \\psi_q \\, \\mathrm{d}\\mathbf{r}\n",
    "    &= \\int (\\varphi_A \\pm_p \\varphi_B) (\\hat{f}_1 + \\hat{f}_2) (\\varphi_A \\pm_q \\varphi_B) \\, \\mathrm{d}\\mathbf{r} \\\\\n",
    "    &= (\\varphi_A | \\hat{f}_1 | \\varphi_A) \\pm_p (\\varphi_B | \\hat{f}_1 | \\varphi_A) \\pm_q (\\varphi_A | \\hat{f}_1 | \\varphi_B) \\pm_p \\pm_q (\\varphi_B | \\hat{f}_1 | \\varphi_B)\n",
    "    + (\\varphi_A | \\hat{f}_2 | \\varphi_A) \\pm_p (\\varphi_B | \\hat{f}_2 | \\varphi_A) \\pm_q (\\varphi_A | \\hat{f}_2 | \\varphi_B) \\pm_p \\pm_q (\\varphi_B | \\hat{f}_2 | \\varphi_B)\n",
    "\\end{align}\n",
    "$$"
   ]
  },
  {
   "cell_type": "markdown",
   "id": "cc3b5659-b02b-4032-9dbc-d90e2dd31ebf",
   "metadata": {},
   "source": [
    "Por simplicidad, se empleará la convención de notación $f_{i}^{(CD)} = (\\varphi_C | \\hat{f}_i | \\varphi_D)$ donde $i \\in \\{1,2\\}$ y $C, D \\in \\{A,B\\}$. Esto para cada uno de los términos del elemento de matriz. En cuyo caso, el elemento de matriz $f_{pq}$ luciría como\n",
    "$$\n",
    "\\begin{align}\n",
    "    f_{pq} &=\n",
    "    f_{1}^{(AA)} \\pm_p f_{1}^{(BA)} \\pm_q f_{1}^{(AB)} \\pm_p \\pm_q f_{1}^{(BB)}\n",
    "    + f_{2}^{(AA)} \\pm_p f_{2}^{(BA)} \\pm_q f_{2}^{(AB)} \\pm_p \\pm_q f_{2}^{(BB)}\n",
    "\\end{align}\n",
    "$$"
   ]
  },
  {
   "cell_type": "markdown",
   "id": "2e144914-c716-44ce-aeee-11a2b4f132f6",
   "metadata": {},
   "source": [
    "Recuerde que cada función $\\varphi_C$ se trata de una $k$-contracción Gaussiana $1\\mathrm{s}$ centrada en $C$. Más aún, note que las funciones $\\varphi_A$ y $\\varphi_B$ comparten el mismo conjunto de parámetros Gaussianos $\\{ \\mathbf{d}, \\mathbf{a} \\}$ y su única diferencia es estar centradas en núcleos distintos. Sin embargo, matemáticamente el estar centrada en otro núcleo no es más que un etiquetado, i.e. $A$ y $B$ son mudas. Por lo tanto, $f_{1}^{(AA)} = f_{1}^{(BB)}$, $f_{1}^{(AB)} = f_{1}^{(BA)}$, $f_{2}^{(AA)} = f_{2}^{(BB)}$ y $f_{2}^{(AB)} = f_{2}^{(BA)}$, así pues el elemento de matriz $f_{pq}$ será:\n",
    "\n",
    "$$ f_{pq} = 2\\delta_{pq} \\left[ f_{1}^{(AA)} \\pm_p f_{1}^{(AB)} + f_{2}^{(AA)} \\pm_p f_{2}^{(AB)} \\right] $$\n",
    "\n",
    "Entonces los elementos de matriz fuera de la diagonal $f_{pq}$, aunque $p$ y $q$ sean ambos pares o nones, son cero. Es decir, solo los elementos en la diagonal son diferentes de cero.\n",
    "\n",
    "$$ f_{pp} = 2 \\left[ f_{1}^{(AA)} \\pm_p f_{1}^{(AB)} + f_{2}^{(AA)} \\pm_p f_{2}^{(AB)} \\right] $$"
   ]
  },
  {
   "cell_type": "markdown",
   "id": "f7781d2d-b3dc-4e7f-8d12-b3c3545c063c",
   "metadata": {},
   "source": [
    "El término $f_{1}^{AA}$ puede ser integrado simbólicamente con facilidad y evaluado de la misma manera.\n",
    "\n",
    "$$\n",
    "f_{1}^{AA}\n",
    "= (\\varphi_A | \\hat{f}_1 | \\varphi_A) = \\int r^2 \\left( \\sum_i^{k} d_i \\phi_{i}^{(A)} \\right) \\hat{f}_1 \\left( \\sum_j^{k} d_j \\phi_{j}^{(A)} \\right) \\mathrm{d}r\n",
    "= \\sum_i^{k} \\sum_j^{k} d_i d_j \\int r^2 \\phi_{i}^{(A)} \\hat{f}_1 \\phi_{j}^{(A)} \\mathrm{d}r\n",
    "$$\n",
    "\n",
    "Para los términos $\\hat{f}_1 \\phi_{j}^{(A)}$ se tiene que\n",
    "\n",
    "$$\n",
    "\\hat{f}_1 \\phi_{j}^{(A)} = \\left( -\\frac{1}{2} \\nabla^2 \\right) \\exp(-\\alpha_j r^2)\n",
    "= -\\frac{1}{2} \\frac{1}{r^2} \\frac{\\partial}{\\partial r} \\left( r^2 \\frac{\\partial}{\\partial r}\\exp\\left[-\\alpha_j r^2 \\right] \\right)\n",
    "= \\alpha_j (3 - 2 \\alpha_j r^2) \\exp(-\\alpha_j r^2)\n",
    "= \\alpha_j (3 - 2 \\alpha_j r^2) \\phi_{j}^{(A)}\n",
    "$$"
   ]
  },
  {
   "cell_type": "code",
   "execution_count": 311,
   "id": "13c9c18f-2a4e-41b7-aaee-40cdb92f5b35",
   "metadata": {},
   "outputs": [
    {
     "data": {
      "text/latex": [
       "$\\displaystyle a_{2} \\left(- 2.0 \\mathbf{{r}_{A}}^{2} a_{2} + 3.0\\right) e^{- \\mathbf{{r}_{A}}^{2} a_{2}}$"
      ],
      "text/plain": [
       "a2*(-2.0*A.r**2*a2 + 3.0)*exp(-A.r**2*a2)"
      ]
     },
     "execution_count": 311,
     "metadata": {},
     "output_type": "execute_result"
    }
   ],
   "source": [
    "# corroboración trabajo previo\n",
    "lap = simplify((-1/2) * laplacian(E**(-a2*(A.r**2))))\n",
    "lap"
   ]
  },
  {
   "cell_type": "code",
   "execution_count": 336,
   "id": "3b1c7430-22b5-4a40-b52e-04e066e388a4",
   "metadata": {},
   "outputs": [
    {
     "data": {
      "text/latex": [
       "$\\displaystyle - \\frac{0.375 \\sqrt{\\pi} a_{1} a_{2}}{\\left(a_{1} + a_{2}\\right)^{\\frac{5}{2}}}$"
      ],
      "text/plain": [
       "-0.375*sqrt(pi)*a1*a2/(a1 + a2)**(5/2)"
      ]
     },
     "execution_count": 336,
     "metadata": {},
     "output_type": "execute_result"
    }
   ],
   "source": [
    "ind_f1AA = simplify((A.r**2) * E**(-a1*(A.r**2)) * (-1/2)*lap) # integrando\n",
    "int_f1AA = simplify(integrate(ind_f1AA, (A.r,0,oo))) # integral\n",
    "int_f1AA"
   ]
  },
  {
   "cell_type": "markdown",
   "id": "cd2988dd-ee66-4b26-8cde-0daf014095dc",
   "metadata": {},
   "source": [
    "De este modo, el elemento de matriz $f_1^{AA}$ será dado por\n",
    "$$\n",
    "f_{1}^{AA} = \\sum_i^{k} \\sum_j^{k} d_i d_j \\int r^2 \\phi_{i}^{(A)} \\alpha_j(3 - 2 \\, \\alpha_j \\, r^2) \\phi_{j}^{(A)} \\mathrm{d}r\n",
    "= -\\frac{3}{8} \\sqrt{\\pi} \\sum_i^{k} \\sum_j^{k} d_i d_j \\frac{\\alpha_i \\alpha_j}{(\\alpha_i + \\alpha_j)^{5/2}}\n",
    "$$"
   ]
  },
  {
   "cell_type": "code",
   "execution_count": 341,
   "id": "dce7af01-6023-434c-be69-4ef36d7256ed",
   "metadata": {},
   "outputs": [],
   "source": [
    "# término f_1^AA del elemento de matriz f_pq, cómputo directo\n",
    "\n",
    "def f1AA_term(di:float, dj:float, ai:float, aj:float):\n",
    "    \"\"\"\n",
    "    di : i-ésimo coeficiente de contracción\n",
    "    dj : j-ésimo coeficiente de contracción\n",
    "    ai : i-ésimo exponente orbital Gaussiano\n",
    "    aj : j-ésimo exponente orbital Gaussiano\n",
    "    \"\"\"\n",
    "    return di*dj*ai*aj/np.power(ai+aj,5/2)\n",
    "    \n",
    "def f1AA(d, a):\n",
    "    \"\"\"\n",
    "    d : vector de coeficientes de contracción [d1, d2, ..., dn]\n",
    "    a : vector de exponentes orbitales Gaussianos [a1, a2, ..., an]\n",
    "    \"\"\"\n",
    "    k = len(d)\n",
    "    suma = 0\n",
    "    for i in range(k):\n",
    "        for j in range(k):\n",
    "            suma += f1AA_term(d[i], d[j], a[i], a[j])\n",
    "    return (-3/8)*np.sqrt(np.pi)*suma"
   ]
  },
  {
   "cell_type": "code",
   "execution_count": 346,
   "id": "c4dccaf8-4eb3-4cc4-92bf-5d2bc28be6b0",
   "metadata": {},
   "outputs": [
    {
     "name": "stdout",
     "output_type": "stream",
     "text": [
      "Se fijan todos los parámetros igual a 1.\n",
      "Cómputo directo:   -0.11749820037332814\n",
      "Cómputo simbólico: -0.117498200373328\n"
     ]
    }
   ],
   "source": [
    "print(\"Se fijan todos los parámetros igual a 1.\")\n",
    "print(\"Cómputo directo:  \", f1AA([1],[1]))\n",
    "print(\"Cómputo simbólico:\", int_f1AA.subs({a1:1, a2:1}).evalf())"
   ]
  },
  {
   "cell_type": "markdown",
   "id": "22fc1038-780f-473f-9eae-c17c5a3c51bc",
   "metadata": {},
   "source": [
    "Observe que $f_{1}^{(AB)}$ constará de $k^2$ términos pues\n",
    "$$\n",
    "\\begin{align}\n",
    "f_{1}^{(AB)} &= (\\varphi_A | \\hat{f}_1 | \\varphi_B)\n",
    "= \\int r^2 \\left( \\sum_i^{k} d_i \\phi_{i}^{(A)} \\right) \\hat{f}_1 \\left( \\sum_j^{k} d_j \\phi_{j}^{(B)} \\right) \\, \\mathrm{d}r\n",
    "= \\sum_i^{k} \\sum_j^{k} d_i d_j \\int r^2 \\phi_{i}^{(A)} \\hat{f}_1 \\phi_{j}^{(B)} \\, \\mathrm{d}r\n",
    "\\end{align}\n",
    "$$\n",
    "\n",
    "donde la función $\\phi_m^{(C)}$ es una función Gaussiana $1\\mathrm{s}$ dada por\n",
    "$$\n",
    "\\phi_m^{(C)} = \\exp(-\\alpha_m |\\mathbf{r} - \\mathbf{R}_C|^2) = \\exp(-\\alpha_m r_C^2)\n",
    "$$\n",
    "\n",
    "Esta última integral tiene solución y es de la forma [2, pág. 412]:\n",
    "$$\n",
    "\\begin{align}\n",
    "    f_{1}^{(AB)}\n",
    "    &= \\sum_i^{k} \\sum_j^{k} d_i d_j \\frac{\\alpha_i \\alpha_j}{\\alpha_i + \\alpha_j} \\left[ \\frac{3 - 2\\alpha_i \\alpha_j}{\\alpha_i + \\alpha_j} |\\mathbf{R}_A - \\mathbf{R}_B|^2 \\right] \\left[ \\frac{\\pi}{\\alpha_i + \\alpha_j} \\right]^{3/2} \\exp \\left[ -\\frac{\\alpha_i \\alpha_j}{\\alpha_i + \\alpha_j}|\\mathbf{R}_A - \\mathbf{R}_B|^2 \\right] \\\\\n",
    "    &= \\pi^{3/2} \\sum_i^{k} \\sum_j^{k} d_i d_j \\frac{\\alpha_i \\alpha_j}{(\\alpha_i + \\alpha_j)^{7/2}} (3 - 2\\alpha_i \\alpha_j) |\\mathbf{R}_A - \\mathbf{R}_B|^2 \\exp \\left[ -\\frac{\\alpha_i \\alpha_j}{\\alpha_i + \\alpha_j}|\\mathbf{R}_A - \\mathbf{R}_B|^2 \\right]\n",
    "\\end{align}\n",
    "$$\n",
    "\n",
    "la expresión general para $f_{1}^{(AB)}$."
   ]
  },
  {
   "cell_type": "code",
   "execution_count": 347,
   "id": "5afb1cb8-9f01-46a1-9d0d-be64c9207795",
   "metadata": {},
   "outputs": [],
   "source": [
    "def f1AB_term(di:float, dj:float, ai:float, aj:float, RA, RB):\n",
    "    \"\"\"\n",
    "    di : i-ésimo coeficiente de contracción\n",
    "    dj : j-ésimo coeficiente de contracción\n",
    "    ai : i-ésimo exponente orbital Gaussiano\n",
    "    aj : j-ésimo exponente orbital Gaussiano\n",
    "    RA : coord. núcleo A, [A1, A2, A3]\n",
    "    RB : coord. núcleo B, [B1, B2, B3]\n",
    "    \"\"\"\n",
    "    R = np.linalg.norm(np.array(RA)-np.array(RB), ord=1) # distancia interatómica al cuadrado\n",
    "    return di*dj*ai*aj/np.power(ai+aj, 7/2)*(3-2*ai*aj)*R*np.exp(-ai*aj*R/(ai+aj))"
   ]
  },
  {
   "cell_type": "code",
   "execution_count": 348,
   "id": "28653687-0300-4b1d-81fd-e8e237b7befc",
   "metadata": {},
   "outputs": [],
   "source": [
    "def f1AB(d, a, RA, RB):\n",
    "    \"\"\"\n",
    "    d : vector de coeficientes de contracción [d1, d2, ..., dn]\n",
    "    a : vector de exponentes orbitales Gaussianos [a1, a2, ..., an]\n",
    "    R : vector de núcleos [Ra, Rb] donde Rc = [C1, C2, C3]\n",
    "    RA : coord. núcleo A, [A1, A2, A3]\n",
    "    RB : coord. núcleo B, [B1, B2, B3]\n",
    "    \"\"\"\n",
    "    suma = 0\n",
    "    k = len(d)\n",
    "    for i in range(k):\n",
    "        for j in range(k):\n",
    "            suma += f1AB_term(d[i], d[j], a[i], a[j], RA, RB)\n",
    "    return np.power(np.pi, 3/2) * suma"
   ]
  },
  {
   "cell_type": "markdown",
   "id": "2fbf6e7c-9b6c-4cdb-9e68-eb74fb19fc5f",
   "metadata": {},
   "source": [
    "Para $f_{2}^{(AA)}$ se tiene\n",
    "\n",
    "$$\n",
    "\\begin{align}\n",
    "f_{2}^{(AA)} = (\\varphi_A | \\hat{f}_2 | \\varphi_A)\n",
    "&= \\int r^2 \\left( \\sum_i^{k} d_i \\phi_{i}^{(A)} \\right) \\hat{f}_2 \\left( \\sum_j^{k} d_j \\phi_{j}^{(A)} \\right) \\, \\mathrm{d}r\\\\\n",
    "&= \\sum_i^{k} \\sum_j^{k} d_i d_j \\int r^2 \\phi_{i}^{(A)}  \\left( - \\sum_C \\frac{Z_C}{r_C} \\right) \\phi_{j}^{(A)} \\, \\mathrm{d}r\\\\\n",
    "&= \\sum_i^{k} \\sum_j^{k} d_i d_j \\int r^2 \\phi_{i}^{(A)}  \\left( - \\sum_C \\frac{Z_C}{r_C} \\right) \\phi_{j}^{(A)} \\, \\mathrm{d}r \n",
    "\\end{align}\n",
    "$$"
   ]
  },
  {
   "cell_type": "code",
   "execution_count": 305,
   "id": "3c33fee8-5af7-4db1-a763-5c8d480d8bc6",
   "metadata": {},
   "outputs": [
    {
     "data": {
      "text/latex": [
       "$\\displaystyle \\frac{e^{\\mathbf{{r}_{A}}^{2} \\left(- a_{1} - a_{2}\\right)}}{\\mathbf{{r}_{A}}}$"
      ],
      "text/plain": [
       "exp(A.r**2*(-a1 - a2))/A.r"
      ]
     },
     "execution_count": 305,
     "metadata": {},
     "output_type": "execute_result"
    }
   ],
   "source": [
    "(1/A.r) *simplify(E**(-a1*(A.r**2)) * E**(-a2*(A.r**2)))"
   ]
  },
  {
   "cell_type": "code",
   "execution_count": 304,
   "id": "d958640a-8dc6-4999-9b0a-a53f6419807d",
   "metadata": {},
   "outputs": [
    {
     "data": {
      "text/latex": [
       "$\\displaystyle \\frac{\\operatorname{Ei}{\\left(\\mathbf{{r}_{A}}^{2} a_{1} e^{i \\pi} + \\mathbf{{r}_{A}}^{2} a_{2} e^{i \\pi} \\right)}}{2}$"
      ],
      "text/plain": [
       "Ei(A.r**2*a1*exp_polar(I*pi) + A.r**2*a2*exp_polar(I*pi))/2"
      ]
     },
     "execution_count": 304,
     "metadata": {},
     "output_type": "execute_result"
    }
   ],
   "source": [
    "integrate((1/A.r) *simplify(E**(-a1*(A.r**2)) * E**(-a2*(A.r**2))), A.r)"
   ]
  },
  {
   "cell_type": "code",
   "execution_count": 306,
   "id": "9dc6ab74-08eb-458e-a2ef-849c12570658",
   "metadata": {},
   "outputs": [
    {
     "data": {
      "text/latex": [
       "$\\displaystyle \\infty$"
      ],
      "text/plain": [
       "oo"
      ]
     },
     "execution_count": 306,
     "metadata": {},
     "output_type": "execute_result"
    }
   ],
   "source": [
    "integrate((1/A.r) *simplify(E**(-a1*(A.r**2)) * E**(-a2*(A.r**2))), (A.r, 0, oo))"
   ]
  },
  {
   "cell_type": "code",
   "execution_count": null,
   "id": "5e29bef1-1f16-4e90-b0dc-7ecbd9d05d1c",
   "metadata": {},
   "outputs": [],
   "source": []
  },
  {
   "cell_type": "code",
   "execution_count": null,
   "id": "50597cbf-5ed1-40fd-aff6-4a1c3c85cc49",
   "metadata": {},
   "outputs": [],
   "source": []
  },
  {
   "cell_type": "markdown",
   "id": "f0cefef8-2b5c-4f24-989c-e58efc0ef47c",
   "metadata": {},
   "source": [
    "Para $f_{2}^{(AB)}$ se tiene\n",
    "$$\n",
    "\\begin{align}\n",
    "    f_{2}^{(AB)} &= (\\varphi_A | \\hat{f}_2 | \\varphi_B)\n",
    "    = \\int \\varphi_A \\hat{f}_2 \\varphi_B \\, \\mathrm{d}\\mathbf{r} \\\\\n",
    "    &= \\int \\left( \\sum_i^{k} d_i \\phi_{i}^{(A)} \\right) \\left( - \\sum_C \\frac{Z_C}{r_C} \\right) \\left( \\sum_j^{k} d_j \\phi_{j}^{(B)} \\right) \\, \\mathrm{d}\\mathbf{r}\\\\\n",
    "    &= \\sum_i^{k} \\sum_j^{k} d_i d_j \\int \\phi_{i}^{(A)} \\left( - \\sum_C \\frac{Z_C}{r_C} \\right) \\phi_{j}^{(B)} \\, \\mathrm{d}\\mathbf{r} \\\\\n",
    "    &= \\sum_i^{k} \\sum_j^{k} d_i d_j \\sum_C \\left\\{ -\\frac{2\\pi}{\\alpha_i + \\alpha_j} Z_C \\, \\exp\\left[ -\\frac{\\alpha_i \\alpha_j}{\\alpha_i + \\alpha_j} |\\mathbf{R}_A - \\mathbf{R}_B|^2 \\right]\n",
    "    F_0 \\left[ (\\alpha_i + \\alpha_j) |\\mathbf{R}_P - \\mathbf{R}_C|^2 \\right] \\right\\} \\\\\n",
    "    &= -2\\pi \\sum_i^{k} \\sum_j^{k} \\left\\{ \\frac{d_i d_j}{\\alpha_i + \\alpha_j} \\exp\\left[ -\\frac{\\alpha_i \\alpha_j}{\\alpha_i + \\alpha_j} |\\mathbf{R}_A - \\mathbf{R}_B|^2 \\right]\n",
    "    \\sum_C Z_C \\,\n",
    "    F_0 \\left[ (\\alpha_i + \\alpha_j) |\\mathbf{R}_P - \\mathbf{R}_C|^2 \\right] \\right\\}\n",
    "\\end{align}\n",
    "$$\n",
    "\n",
    "donde $C \\in \\{A, B\\}$ es alguno de los dos núcleos posibles, $\\mathbf{R}_P$ es un punto en la línea que une a los centros $A$ y $B$ dado por\n",
    "$$\n",
    "\\begin{align}\n",
    "    \\mathrm{R}_P = \\frac{\\alpha_i \\mathbf{R}_A + \\alpha_j \\, \\mathbf{R}_B}{\\alpha_i + \\alpha_j}\n",
    "\\end{align}\n",
    "$$\n",
    "\n",
    "y $F_0$ es la función dada por\n",
    "$$\n",
    "\\begin{align}\n",
    "    F_0 (t) = \\frac{1}{2} \\sqrt{\\frac{\\pi}{t}} \\mathrm{erf} (\\sqrt{t})\n",
    "\\end{align}\n",
    "$$\n",
    "\n",
    "con $\\mathrm{erf}$ la función de error."
   ]
  },
  {
   "cell_type": "code",
   "execution_count": 247,
   "id": "7d3c7678-3ed1-4924-a067-7858817aaad0",
   "metadata": {},
   "outputs": [],
   "source": [
    "def Rp(a, b, RA, RB):\n",
    "    return (a*np.array(RA) + b*np.array(RB))/(a+b)"
   ]
  },
  {
   "cell_type": "code",
   "execution_count": 248,
   "id": "407e4b8a-78ff-4a19-9722-629659fcbca1",
   "metadata": {},
   "outputs": [],
   "source": [
    "def F0(t):\n",
    "    return (1/2)*np.sqrt(np.pi/t)*erf(np.sqrt(t))"
   ]
  },
  {
   "cell_type": "code",
   "execution_count": null,
   "id": "978035ab-99c0-44b3-ad7c-65521b2fbc6e",
   "metadata": {},
   "outputs": [],
   "source": [
    "erf(np.sqrt((ai+aj)*Rpc))"
   ]
  },
  {
   "cell_type": "code",
   "execution_count": 265,
   "id": "bb73fd00-adef-49c2-aeb3-c6786eb0c9f6",
   "metadata": {},
   "outputs": [],
   "source": [
    "def f2AB_term(di:float, dj:float, ai:float, aj:float, R, Z):\n",
    "    \"\"\"\n",
    "    di : i-ésimo coeficiente de contracción\n",
    "    dj : j-ésimo coeficiente de contracción\n",
    "    ai : i-ésimo exponente orbital Gaussiano\n",
    "    aj : j-ésimo exponente orbital Gaussiano\n",
    "    Ra : coord. núcleo A, [A1, A2, A3]\n",
    "    Rb : coord. núcleo B, [B1, B2, B3]\n",
    "    Za : carga nuclear núcleo A\n",
    "    Zb : carga nuclear núcleo B\n",
    "    \"\"\"\n",
    "    # len(R) = len(Z) = 2\n",
    "    Rab = np.linalg.norm(np.array(R[0])-np.array(R[1]), ord=1) # distancia interatómica al cuadrado, |RA-RB|^2\n",
    "    RP = Rp(ai, aj, R[0], R[1])\n",
    "    \n",
    "    suma = 0\n",
    "    for C in range(2):\n",
    "        Rpc = np.linalg.norm(RP - R[C], ord=1) # distancia al cuadrado entre el centro P y C |RP-RC|^2\n",
    "        suma += di*dj / (ai+aj) * np.exp(-ai*aj*Rab/(ai+aj)) * Z[C] * F0((ai+aj)*Rpc)\n",
    "    \n",
    "    return suma"
   ]
  },
  {
   "cell_type": "code",
   "execution_count": 266,
   "id": "81703932-8e99-477c-afc6-4da3ed2e7fe7",
   "metadata": {},
   "outputs": [],
   "source": [
    "def f2AB(d, a, RA, RB, ZA, ZB):\n",
    "    \"\"\"\n",
    "    d : vector de coeficientes de contracción [d1, d2, ..., dn]\n",
    "    a : vector de exponentes orbitales Gaussianos [a1, a2, ..., an]\n",
    "    RA : coord. núcleo A, [A1, A2, A3]\n",
    "    RB : coord. núcleo B, [B1, B2, B3]\n",
    "    ZA : carga nuclear núcleo A\n",
    "    ZB : carga nuclear núcleo B\n",
    "    \"\"\"\n",
    "    # len(d) = len(a) = k\n",
    "    suma = 0\n",
    "    k = len(d)\n",
    "    for i in range(k):\n",
    "        for j in range(k):\n",
    "            suma += f2AB_term(d[i], d[j], a[i], a[j], [RA, RB], [ZA, ZB])\n",
    "            \n",
    "    return -2*np.pi * suma"
   ]
  },
  {
   "cell_type": "markdown",
   "id": "fc47b9c3-bf51-4087-8e21-2ca99e17b565",
   "metadata": {},
   "source": [
    "Finalmente, es posible calcular el elemento de matriz $f_{pp} = 2 \\left[ f_{1}^{(AA)} \\pm_p f_{1}^{(AB)} + f_{2}^{(AA)} \\pm_p f_{2}^{(AB)} \\right]$. Si $p=1,2$ entonces el signo es positivo, mientras que si $p=3,4$ el signo será negativo."
   ]
  },
  {
   "cell_type": "code",
   "execution_count": 267,
   "id": "e00543ab-b748-4254-af98-84d3723585e4",
   "metadata": {},
   "outputs": [],
   "source": [
    "def fpp(p, d, a, RA, RB, ZA, ZB):\n",
    "    \"\"\"\n",
    "        Elemento de matriz f_pp\n",
    "    p : p-ésimo elemento de la base ordenada\n",
    "    d : vector de coeficientes de contracción [d1, d2, ..., dn]\n",
    "    a : vector de exponentes orbitales Gaussianos [a1, a2, ..., an]\n",
    "    RA : coord. núcleo A, [A1, A2, A3]\n",
    "    RB : coord. núcleo B, [B1, B2, B3]\n",
    "    ZA : carga nuclear núcleo A\n",
    "    ZB : carga nuclear núcleo B\n",
    "    \"\"\"\n",
    "    term1AA = f1AA(d, a)\n",
    "    term1AB = f1AB(d, a, RA, RB)\n",
    "    term2AA = f2AB(d, a, RA, RA, ZA, ZB)\n",
    "    term2AB = f2AB(d, a, RA, RB, ZA, ZB)\n",
    "\n",
    "    if p in [1,2]:\n",
    "        return 2*(term1AA + term1AB + term2AA + term2AB)\n",
    "    else:\n",
    "        return 2*(term1AA - term1AB + term2AA - term2AB)"
   ]
  },
  {
   "cell_type": "code",
   "execution_count": 292,
   "id": "509dcf92-66bd-4070-8e3d-5ea44fa40c22",
   "metadata": {},
   "outputs": [
    {
     "name": "stderr",
     "output_type": "stream",
     "text": [
      "C:\\Users\\rodri\\AppData\\Local\\Temp\\ipykernel_8104\\2241380236.py:2: RuntimeWarning: divide by zero encountered in scalar divide\n",
      "  return (1/2)*np.sqrt(np.pi/t)*erf(np.sqrt(t))\n"
     ]
    }
   ],
   "source": [
    "d = [0.44471812476789035, 0.5352716544572346, 0.1543000507808527]\n",
    "a = [0.10983311305458726, 0.40584959263313375, 2.227949029647934]\n",
    "\n",
    "RA = [0, 0, 0]\n",
    "RB = [1.401, 0, 0]\n",
    "ZA = 1\n",
    "ZB = 1\n",
    "\n",
    "f11 = fpp(1, d, a, RA, RB, ZA, ZB)\n",
    "f33 = fpp(3, d, a, RA, RB, ZA, ZB)"
   ]
  },
  {
   "cell_type": "code",
   "execution_count": 296,
   "id": "c382275b-6310-4a51-bc50-52e7096d9d41",
   "metadata": {},
   "outputs": [
    {
     "data": {
      "text/latex": [
       "$\\displaystyle 80.5208909805519$"
      ],
      "text/plain": [
       "80.5208909805519"
      ]
     },
     "execution_count": 296,
     "metadata": {},
     "output_type": "execute_result"
    }
   ],
   "source": [
    "2*(f1AA(d, a) + f1AB(d, a, RA, RB) - f2AB(d, a, RA, RB, ZA, ZB))"
   ]
  },
  {
   "cell_type": "code",
   "execution_count": 297,
   "id": "332ad587-9c43-456e-9f69-5a0fcfc0e002",
   "metadata": {},
   "outputs": [
    {
     "data": {
      "text/latex": [
       "$\\displaystyle -75.4771791595625$"
      ],
      "text/plain": [
       "-75.4771791595625"
      ]
     },
     "execution_count": 297,
     "metadata": {},
     "output_type": "execute_result"
    }
   ],
   "source": [
    "2*(f1AA(d, a) - f1AB(d, a, RA, RB) + f2AB(d, a, RA, RB, ZA, ZB))"
   ]
  },
  {
   "cell_type": "code",
   "execution_count": 269,
   "id": "e28c5fd0-7754-4b40-9c01-4c9dcd2dba39",
   "metadata": {},
   "outputs": [
    {
     "name": "stderr",
     "output_type": "stream",
     "text": [
      "C:\\Users\\rodri\\AppData\\Local\\Temp\\ipykernel_8104\\2241380236.py:2: RuntimeWarning: divide by zero encountered in scalar divide\n",
      "  return (1/2)*np.sqrt(np.pi/t)*erf(np.sqrt(t))\n"
     ]
    },
    {
     "data": {
      "text/latex": [
       "$\\displaystyle \\text{NaN}$"
      ],
      "text/plain": [
       "nan"
      ]
     },
     "execution_count": 269,
     "metadata": {},
     "output_type": "execute_result"
    }
   ],
   "source": [
    "f2AB(d, a, RB, RB, ZA, ZB)"
   ]
  },
  {
   "cell_type": "code",
   "execution_count": null,
   "id": "33e25d4e-1850-42d8-a70d-43307b2954f4",
   "metadata": {},
   "outputs": [],
   "source": []
  }
 ],
 "metadata": {
  "kernelspec": {
   "display_name": "Python 3 (ipykernel)",
   "language": "python",
   "name": "python3"
  },
  "language_info": {
   "codemirror_mode": {
    "name": "ipython",
    "version": 3
   },
   "file_extension": ".py",
   "mimetype": "text/x-python",
   "name": "python",
   "nbconvert_exporter": "python",
   "pygments_lexer": "ipython3",
   "version": "3.13.1"
  }
 },
 "nbformat": 4,
 "nbformat_minor": 5
}
