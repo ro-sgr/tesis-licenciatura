{
 "cells": [
  {
   "cell_type": "code",
   "execution_count": 1,
   "id": "24730405-9951-4145-9845-104244fd3d8d",
   "metadata": {},
   "outputs": [],
   "source": [
    "# from elementos_matriz import *\n",
    "from elementos_matriz import *\n",
    "import matplotlib.pyplot as plt\n",
    "\n",
    "from qiskit.quantum_info import SparsePauliOp\n",
    "from qiskit_nature.second_q.mappers import JordanWignerMapper\n",
    "# estimator\n",
    "from qiskit.primitives import Estimator\n",
    "# ansatz\n",
    "from qiskit_nature.second_q.circuit.library import UCCSD, HartreeFock\n",
    "# optimizers\n",
    "from qiskit_algorithms.optimizers import COBYLA, L_BFGS_B, SLSQP\n",
    "# VQE\n",
    "from qiskit_algorithms import VQE"
   ]
  },
  {
   "cell_type": "code",
   "execution_count": 2,
   "id": "3fe9bf4e-f759-49ed-a76e-a6deb49543f3",
   "metadata": {},
   "outputs": [],
   "source": [
    "def elementos_matriz(d, a, RA, RB, ZA, ZB):\n",
    "    # elementos de un cuerpo\n",
    "    f11 = fpp(1, d, a, RA, RB, ZA, ZB)\n",
    "    f33 = fpp(3, d, a, RA, RB, ZA, ZB)\n",
    "    # elementos de dos cuerpos\n",
    "    g1212 = gpqrs([1,2,1,2], d, a, RA, RB)\n",
    "    g3434 = gpqrs([3,4,3,4], d, a, RA, RB)\n",
    "    g1313 = gpqrs([1,3,1,3], d, a, RA, RB)\n",
    "    g1331 = gpqrs([1,3,3,1], d, a, RA, RB)\n",
    "\n",
    "    return f11, f33, g1212, g3434, g1313, g1331"
   ]
  },
  {
   "cell_type": "code",
   "execution_count": 3,
   "id": "27cf25a6-2a2b-4cfb-81c6-c50ab50c576f",
   "metadata": {},
   "outputs": [],
   "source": [
    "def hamiltoniano_H2(d, a, RA, RB, ZA, ZB):\n",
    "    f11, f33, g1212, g3434, g1313, g1331 = elementos_matriz(d, a, RA, RB, ZA, ZB) # elementos de matriz\n",
    "    h12 = (2*f11 + g1212 + 2*g1313 - g1331)/4\n",
    "    h34 = (2*f33 + g3434 + 2*g1313 - g1331)/4\n",
    "    h0 = f11 + f33 + g1212/4 + g3434/4 + g1313 - g1331/2\n",
    "    \n",
    "    # hamiltonian = SparsePauliOp.from_list(\n",
    "    #     [\n",
    "    #         (\"IIII\", h0),\n",
    "    #         (\"IIIZ\", -h12),\n",
    "    #         (\"IIZI\", -h12),\n",
    "    #         (\"IZII\", -h34),\n",
    "    #         (\"ZIII\", -h34),\n",
    "    #         (\"IIZZ\", g1212/4),\n",
    "    #         (\"ZZII\", g3434/4),\n",
    "    #         (\"ZIIZ\", g1313/4),\n",
    "    #         (\"IZZI\", g1313/4),\n",
    "    #         (\"IZIZ\", (g1313-g1331)/4),\n",
    "    #         (\"ZIZI\", (g1313-g1331)/4),\n",
    "    #         (\"YYYY\", g1331/4),\n",
    "    #         (\"XXYY\", g1331/4),\n",
    "    #         (\"YYXX\", g1331/4),\n",
    "    #         (\"XXXX\", g1331/4),\n",
    "    #     ]\n",
    "    # )\n",
    "    hamiltonian = SparsePauliOp.from_list(\n",
    "        [\n",
    "            (\"IIII\", h0),\n",
    "            (\"IIIZ\", -h12),\n",
    "            (\"IZII\", -h12),\n",
    "            (\"IIZI\", -h34),\n",
    "            (\"ZIII\", -h34),\n",
    "            (\"IZIZ\", g1212/4),\n",
    "            (\"IIZZ\", (g1313-g1331)/4),\n",
    "            (\"ZZII\", (g1313-g1331)/4),\n",
    "            (\"ZIIZ\", g1313/4),\n",
    "            (\"YYYY\", g1331/4),\n",
    "            (\"XXYY\", g1331/4),\n",
    "            (\"YYXX\", g1331/4),\n",
    "            (\"XXXX\", g1331/4),\n",
    "            (\"IZZI\", g1313/4),\n",
    "            (\"ZIZI\", g3434/4),\n",
    "        ]\n",
    "    )\n",
    "    return hamiltonian"
   ]
  },
  {
   "cell_type": "code",
   "execution_count": 4,
   "id": "26a7c909-047a-4c39-b8dc-04eba6e826da",
   "metadata": {},
   "outputs": [],
   "source": [
    "# Segura\n",
    "d = np.array([0.1545314772435472, 0.5354555247125108, 0.4443376735387033]) # coeficientes de contracción\n",
    "a = np.array([3.423766464751332, 0.6234266839478166, 0.1687830644383135]) # exponentes orbitales Gaussianos\n",
    "\n",
    "# Stewart\n",
    "# d = np.array([0.444635, 0.535328, 0.154329])\n",
    "# a = np.array([0.168856, 0.623913, 3.42525])"
   ]
  },
  {
   "cell_type": "code",
   "execution_count": 5,
   "id": "59372e3e-11a7-4bfb-8dce-0828b40598d4",
   "metadata": {},
   "outputs": [
    {
     "data": {
      "text/plain": [
       "(np.float64(-1.2524688526428163),\n",
       " np.float64(-0.4758189138230842),\n",
       " np.float64(0.6754975368615006),\n",
       " np.float64(0.72117995019135),\n",
       " np.float64(0.6586028733416299),\n",
       " np.float64(0.18129744028439126))"
      ]
     },
     "execution_count": 5,
     "metadata": {},
     "output_type": "execute_result"
    }
   ],
   "source": [
    "RB = np.array([1.401, 0, 0])\n",
    "f11, f33, g1212, g3434, g1313, g1331 = elementos_matriz(d, a, RA, RB, ZA, ZB) # elementos de matriz\n",
    "f11, f33, g1212, g3434, g1313, g1331"
   ]
  },
  {
   "cell_type": "code",
   "execution_count": 6,
   "id": "d4ab446f-51c5-4d74-bff3-f0fbd1d47448",
   "metadata": {},
   "outputs": [],
   "source": [
    "num_spatial_orbitals = 2\n",
    "num_particles = (1,1)\n",
    "qubit_mapper = JordanWignerMapper()"
   ]
  },
  {
   "cell_type": "markdown",
   "id": "809d0cbc-4759-4fdc-a990-2b20674b06a4",
   "metadata": {},
   "source": [
    "---\n",
    "---\n",
    "---"
   ]
  },
  {
   "cell_type": "code",
   "execution_count": 7,
   "id": "96da43d4-1cc5-4fa7-9d18-5986f1152840",
   "metadata": {},
   "outputs": [
    {
     "data": {
      "text/plain": [
       "SparsePauliOp(['IIII', 'IIIZ', 'IZII', 'IIZI', 'ZIII', 'IZIZ', 'IIZZ', 'ZZII', 'ZIIZ', 'YYYY', 'XXYY', 'YYXX', 'XXXX', 'IZZI', 'ZIZI'],\n",
       "              coeffs=[-0.8109859 +0.j,  0.17346534+0.j,  0.17346534+0.j, -0.22661717+0.j,\n",
       " -0.22661717+0.j,  0.16889934+0.j,  0.11935611+0.j,  0.11935611+0.j,\n",
       "  0.16467315+0.j,  0.04531704+0.j,  0.04531704+0.j,  0.04531704+0.j,\n",
       "  0.04531704+0.j,  0.16467315+0.j,  0.18033167+0.j])"
      ]
     },
     "execution_count": 7,
     "metadata": {},
     "output_type": "execute_result"
    }
   ],
   "source": [
    "RB = np.array([1.4,0,0])\n",
    "hamiltonian = hamiltoniano_H2(d, a, RA, RB, ZA, ZB)\n",
    "hamiltonian"
   ]
  },
  {
   "cell_type": "code",
   "execution_count": 8,
   "id": "af53a755-c29a-4641-9cd4-8730d36d35c1",
   "metadata": {},
   "outputs": [
    {
     "data": {
      "text/html": [
       "<pre style=\"word-wrap: normal;white-space: pre;background: #fff0;line-height: 1.1;font-family: &quot;Courier New&quot;,Courier,monospace\">     ┌───┐\n",
       "q_0: ┤ X ├\n",
       "     └───┘\n",
       "q_1: ─────\n",
       "     ┌───┐\n",
       "q_2: ┤ X ├\n",
       "     └───┘\n",
       "q_3: ─────\n",
       "          </pre>"
      ],
      "text/plain": [
       "     ┌───┐\n",
       "q_0: ┤ X ├\n",
       "     └───┘\n",
       "q_1: ─────\n",
       "     ┌───┐\n",
       "q_2: ┤ X ├\n",
       "     └───┘\n",
       "q_3: ─────\n",
       "          "
      ]
     },
     "execution_count": 8,
     "metadata": {},
     "output_type": "execute_result"
    }
   ],
   "source": [
    "### Initial state\n",
    "init_state = HartreeFock(num_spatial_orbitals, num_particles, qubit_mapper)\n",
    "init_state.draw()"
   ]
  },
  {
   "cell_type": "code",
   "execution_count": 9,
   "id": "2e09f1d3-06e5-42dd-8fb8-2a6d538ba69d",
   "metadata": {},
   "outputs": [
    {
     "name": "stderr",
     "output_type": "stream",
     "text": [
      "C:\\Users\\rodri\\AppData\\Local\\Temp\\ipykernel_7644\\2581567160.py:2: DeprecationWarning: The class ``qiskit.primitives.estimator.Estimator`` is deprecated as of qiskit 1.2. It will be removed no earlier than 3 months after the release date. All implementations of the `BaseEstimatorV1` interface have been deprecated in favor of their V2 counterparts. The V2 alternative for the `Estimator` class is `StatevectorEstimator`.\n",
      "  estimator = Estimator()\n"
     ]
    },
    {
     "data": {
      "text/plain": [
       "<qiskit.primitives.estimator.Estimator at 0x1fc65a096a0>"
      ]
     },
     "execution_count": 9,
     "metadata": {},
     "output_type": "execute_result"
    }
   ],
   "source": [
    "### Estimator\n",
    "estimator = Estimator()\n",
    "estimator"
   ]
  },
  {
   "cell_type": "code",
   "execution_count": 10,
   "id": "b29cc67f-7fee-4b21-a544-6aff4b58d879",
   "metadata": {},
   "outputs": [
    {
     "data": {
      "text/html": [
       "<pre style=\"word-wrap: normal;white-space: pre;background: #fff0;line-height: 1.1;font-family: &quot;Courier New&quot;,Courier,monospace\">     ┌─────────────────────────────┐\n",
       "q_0: ┤0                            ├\n",
       "     │                             │\n",
       "q_1: ┤1                            ├\n",
       "     │  EvolvedOps(t[0],t[1],t[2]) │\n",
       "q_2: ┤2                            ├\n",
       "     │                             │\n",
       "q_3: ┤3                            ├\n",
       "     └─────────────────────────────┘</pre>"
      ],
      "text/plain": [
       "     ┌─────────────────────────────┐\n",
       "q_0: ┤0                            ├\n",
       "     │                             │\n",
       "q_1: ┤1                            ├\n",
       "     │  EvolvedOps(t[0],t[1],t[2]) │\n",
       "q_2: ┤2                            ├\n",
       "     │                             │\n",
       "q_3: ┤3                            ├\n",
       "     └─────────────────────────────┘"
      ]
     },
     "execution_count": 10,
     "metadata": {},
     "output_type": "execute_result"
    }
   ],
   "source": [
    "### Ansatz\n",
    "ansatz = UCCSD(num_spatial_orbitals, num_particles, qubit_mapper, initial_state=init_state)\n",
    "ansatz.draw()"
   ]
  },
  {
   "cell_type": "code",
   "execution_count": 11,
   "id": "10821248-d17b-43a3-8596-a1a0e3d9f3b9",
   "metadata": {},
   "outputs": [
    {
     "data": {
      "text/plain": [
       "<qiskit_algorithms.optimizers.slsqp.SLSQP at 0x1fc67b4b8c0>"
      ]
     },
     "execution_count": 11,
     "metadata": {},
     "output_type": "execute_result"
    }
   ],
   "source": [
    "### Optimizer\n",
    "optimizer = SLSQP(maxiter=10)\n",
    "optimizer"
   ]
  },
  {
   "cell_type": "code",
   "execution_count": 12,
   "id": "01fff4eb-d22b-4520-8b1d-8a7bace0b6d2",
   "metadata": {},
   "outputs": [
    {
     "data": {
      "text/plain": [
       "<qiskit_algorithms.minimum_eigensolvers.vqe.VQE at 0x1fc67b4af90>"
      ]
     },
     "execution_count": 12,
     "metadata": {},
     "output_type": "execute_result"
    }
   ],
   "source": [
    "vqe = VQE(estimator, ansatz, optimizer, initial_point=[0]*ansatz.num_parameters)\n",
    "vqe"
   ]
  },
  {
   "cell_type": "code",
   "execution_count": 13,
   "id": "140f96bb-0e07-44ad-9295-534c57df2a84",
   "metadata": {},
   "outputs": [
    {
     "data": {
      "text/plain": [
       "np.float64(-1.8502536787138382)"
      ]
     },
     "execution_count": 13,
     "metadata": {},
     "output_type": "execute_result"
    }
   ],
   "source": [
    "vqe_calc = vqe.compute_minimum_eigenvalue(hamiltonian)\n",
    "vqe_calc.eigenvalue"
   ]
  },
  {
   "cell_type": "code",
   "execution_count": 14,
   "id": "5463aad0-b4b9-4395-a46b-072bfd8efa02",
   "metadata": {},
   "outputs": [
    {
     "data": {
      "text/plain": [
       "np.float64(0.7142857142857143)"
      ]
     },
     "execution_count": 14,
     "metadata": {},
     "output_type": "execute_result"
    }
   ],
   "source": [
    "1/(np.linalg.norm(RA-RB))"
   ]
  },
  {
   "cell_type": "markdown",
   "id": "66339257-e697-4502-bdf4-c1ab6a879dd7",
   "metadata": {},
   "source": [
    "---\n",
    "---\n",
    "---"
   ]
  },
  {
   "cell_type": "code",
   "execution_count": 15,
   "id": "104a019e-94e4-41e2-b730-bd3c77df6b64",
   "metadata": {},
   "outputs": [
    {
     "name": "stdout",
     "output_type": "stream",
     "text": [
      "20.0% de casos calculados.\n",
      "40.0% de casos calculados.\n",
      "60.0% de casos calculados.\n",
      "80.0% de casos calculados.\n",
      "100.0% de casos calculados.\n",
      "Las energías para las 25 distancias han sido calculadas.\n"
     ]
    }
   ],
   "source": [
    "distancias = np.arange(0.35, 7.6, 0.3)\n",
    "vqe_energies = []\n",
    "total = len(distancias)\n",
    "\n",
    "for i in range(total):\n",
    "    if (i+1)*100/total % 10 == 0:\n",
    "        print(f\"{(i+1)*100/total}% de casos calculados.\")\n",
    "    \n",
    "    RB = np.array([distancias[i], 0, 0])\n",
    "    qubit_op = hamiltoniano_H2(d, a, RA, RB, ZA, ZB)\n",
    "    hnuc = 1/(np.linalg.norm(RA-RB))\n",
    "\n",
    "    # Valores iniciales\n",
    "    init_state = HartreeFock(num_spatial_orbitals, num_particles, qubit_mapper)\n",
    "\n",
    "    ### Ansatz\n",
    "    ansatz = UCCSD(num_spatial_orbitals, num_particles, qubit_mapper, initial_state=init_state)\n",
    "\n",
    "    vqe = VQE(estimator, ansatz, optimizer, initial_point=[0]*ansatz.num_parameters)\n",
    "\n",
    "    vqe_calc = vqe.compute_minimum_eigenvalue(qubit_op)\n",
    "    vqe_energies.append(vqe_calc.eigenvalue + hnuc)\n",
    "\n",
    "print(f\"Las energías para las {total} distancias han sido calculadas.\")"
   ]
  },
  {
   "cell_type": "code",
   "execution_count": 16,
   "id": "8cfc7c09-725c-4f95-8e02-319bae61ad2c",
   "metadata": {},
   "outputs": [
    {
     "data": {
      "image/png": "[encoded data removed]",
      "text/plain": [
       "<Figure size 640x480 with 1 Axes>"
      ]
     },
     "metadata": {},
     "output_type": "display_data"
    }
   ],
   "source": [
    "plt.plot(distancias, vqe_energies, label=\"VQE Energía\")\n",
    "plt.xlabel(\"Distancia Interatómica (Unidades Atómicas)\")\n",
    "plt.ylabel(\"Energía\")\n",
    "plt.legend()\n",
    "plt.show()"
   ]
  },
  {
   "cell_type": "code",
   "execution_count": 17,
   "id": "50ab9560-3611-4aa5-8433-ecc294cf0874",
   "metadata": {},
   "outputs": [
    {
     "data": {
      "image/png": "[encoded data removed]",
      "text/plain": [
       "<Figure size 640x480 with 1 Axes>"
      ]
     },
     "metadata": {},
     "output_type": "display_data"
    }
   ],
   "source": [
    "plt.plot(distancias*0.529177249, vqe_energies, label=\"VQE Energía\")\n",
    "plt.xlabel(\"Distancia Interatómica (Angstrom)\")\n",
    "plt.ylabel(\"Energía\")\n",
    "plt.legend()\n",
    "plt.show()"
   ]
  },
  {
   "cell_type": "code",
   "execution_count": null,
   "id": "3a46f6d7-a9fb-4e7d-969c-3acb38de7147",
   "metadata": {},
   "outputs": [],
   "source": []
  }
 ],
 "metadata": {
  "kernelspec": {
   "display_name": "Python 3 (ipykernel)",
   "language": "python",
   "name": "python3"
  },
  "language_info": {
   "codemirror_mode": {
    "name": "ipython",
    "version": 3
   },
   "file_extension": ".py",
   "mimetype": "text/x-python",
   "name": "python",
   "nbconvert_exporter": "python",
   "pygments_lexer": "ipython3",
   "version": "3.13.2"
  }
 },
 "nbformat": 4,
 "nbformat_minor": 5
}
