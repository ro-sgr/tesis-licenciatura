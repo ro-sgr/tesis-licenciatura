{
 "cells": [
  {
   "cell_type": "code",
   "execution_count": 1,
   "id": "91268cef-8d81-438b-a5db-f0fd2bf57989",
   "metadata": {},
   "outputs": [],
   "source": [
    "from qiskit import transpile, QuantumCircuit\n",
    "from qiskit_aer import AerSimulator\n",
    "from qiskit.quantum_info import SparsePauliOp\n",
    "from scipy.optimize import minimize\n",
    "import numpy as np"
   ]
  },
  {
   "cell_type": "code",
   "execution_count": 15,
   "id": "4893a5f8-96b5-4189-bca8-f7ae33b615e2",
   "metadata": {},
   "outputs": [],
   "source": [
    "# Define the Hamiltonian as a SparsePauliOp: H = 0.5 * ZI + 0.5 * IZ + 0.2 * XX\n",
    "hamiltonian = SparsePauliOp([\"ZX\", \"YZ\", \"XY\"], coeffs=[0.3, 0.7, 0.2])"
   ]
  },
  {
   "cell_type": "code",
   "execution_count": 16,
   "id": "a1ff68b5-53bc-4b09-ad78-e398ec41bcdc",
   "metadata": {},
   "outputs": [],
   "source": [
    "# Define the ansatz circuit\n",
    "def ansatz_circuit(params):\n",
    "    qc = QuantumCircuit(2)\n",
    "    qc.rx(params[0], 0)\n",
    "    qc.ry(params[1], 1)\n",
    "    qc.cx(0, 1)\n",
    "    return qc"
   ]
  },
  {
   "cell_type": "code",
   "execution_count": 17,
   "id": "b6aa0999-469a-4c10-b96a-cce4d604bdc8",
   "metadata": {},
   "outputs": [],
   "source": [
    "# Backend for simulation\n",
    "simulator = AerSimulator()"
   ]
  },
  {
   "cell_type": "code",
   "execution_count": 18,
   "id": "8e4fb292-ca33-46f1-948e-727ce2cf353e",
   "metadata": {},
   "outputs": [],
   "source": [
    "# Expectation value calculation\n",
    "def expectation_value(params):\n",
    "    # Create the ansatz circuit\n",
    "    qc = ansatz_circuit(params)\n",
    "    qc.save_statevector()  # Add instruction to save the statevector\n",
    "    qc = transpile(qc, simulator)\n",
    "    \n",
    "    # Simulate the statevector\n",
    "    result = simulator.run(qc).result()\n",
    "    statevector = result.data(0)[\"statevector\"].data  # Convert to numpy array\n",
    "    \n",
    "    # Compute expectation value\n",
    "    return np.real(np.vdot(statevector, hamiltonian.to_matrix() @ statevector))"
   ]
  },
  {
   "cell_type": "code",
   "execution_count": 19,
   "id": "7743ce26-35d5-4dd0-aa52-8dc01ca85f97",
   "metadata": {},
   "outputs": [],
   "source": [
    "# Optimize the parameters\n",
    "initial_params = [0.1, 0.1]\n",
    "result = minimize(expectation_value, initial_params, method='COBYLA')"
   ]
  },
  {
   "cell_type": "code",
   "execution_count": 7,
   "id": "0e64d396-53f0-4e75-bb8b-7cff154fc830",
   "metadata": {},
   "outputs": [
    {
     "name": "stdout",
     "output_type": "stream",
     "text": [
      "Optimal Parameters: [ 3.14165354e+00 -9.15601307e-05]\n",
      "Minimum Energy: -0.999999996050397\n"
     ]
    }
   ],
   "source": [
    "# Print results\n",
    "print(\"Optimal Parameters:\", result.x)\n",
    "print(\"Minimum Energy:\", result.fun)"
   ]
  },
  {
   "cell_type": "code",
   "execution_count": 13,
   "id": "de3d3379-aacf-4fea-83c9-c56e02d8b51a",
   "metadata": {},
   "outputs": [
    {
     "name": "stdout",
     "output_type": "stream",
     "text": [
      "Optimal Parameters: [ 3.14165204e+00 -4.99203186e-05]\n",
      "Minimum Energy: -0.9999999978626422\n"
     ]
    }
   ],
   "source": [
    "# Print results\n",
    "print(\"Optimal Parameters:\", result.x)\n",
    "print(\"Minimum Energy:\", result.fun)"
   ]
  },
  {
   "cell_type": "code",
   "execution_count": 20,
   "id": "d2a7a3c8-442f-4116-9d58-1a97b321d66b",
   "metadata": {},
   "outputs": [
    {
     "name": "stdout",
     "output_type": "stream",
     "text": [
      "Optimal Parameters: [1.57090312 0.09126094]\n",
      "Minimum Energy: -0.19999999885941439\n"
     ]
    }
   ],
   "source": [
    "# Print results\n",
    "print(\"Optimal Parameters:\", result.x)\n",
    "print(\"Minimum Energy:\", result.fun)"
   ]
  },
  {
   "cell_type": "code",
   "execution_count": null,
   "id": "9090aded-1d4e-4a83-98df-cf6921731203",
   "metadata": {},
   "outputs": [],
   "source": []
  }
 ],
 "metadata": {
  "kernelspec": {
   "display_name": "Python 3 (ipykernel)",
   "language": "python",
   "name": "python3"
  },
  "language_info": {
   "codemirror_mode": {
    "name": "ipython",
    "version": 3
   },
   "file_extension": ".py",
   "mimetype": "text/x-python",
   "name": "python",
   "nbconvert_exporter": "python",
   "pygments_lexer": "ipython3",
   "version": "3.13.1"
  }
 },
 "nbformat": 4,
 "nbformat_minor": 5
}
