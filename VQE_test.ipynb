{
 "cells": [
  {
   "cell_type": "code",
   "execution_count": 24,
   "id": "91268cef-8d81-438b-a5db-f0fd2bf57989",
   "metadata": {},
   "outputs": [],
   "source": [
    "from elementos_matriz import *\n",
    "from scipy.optimize import minimize\n",
    "\n",
    "from qiskit import transpile, QuantumCircuit\n",
    "from qiskit_aer import AerSimulator\n",
    "from qiskit.quantum_info import SparsePauliOp"
   ]
  },
  {
   "cell_type": "code",
   "execution_count": 25,
   "id": "cd986dc5-0ae8-48a5-9178-4ebf38b5fe91",
   "metadata": {},
   "outputs": [],
   "source": [
    "def elementos_matriz(d, a, RA, RB, ZA, ZB):\n",
    "    # elementos de un cuerpo\n",
    "    f11 = fpp(1, d, a, RA, RB, ZA, ZB)\n",
    "    f33 = fpp(3, d, a, RA, RB, ZA, ZB)\n",
    "    # elementos de dos cuerpos\n",
    "    g1212 = gpqrs([1,2,1,2], d, a, RA, RB)\n",
    "    g3434 = gpqrs([3,4,3,4], d, a, RA, RB)\n",
    "    g1313 = gpqrs([1,3,1,3], d, a, RA, RB)\n",
    "    g1331 = gpqrs([1,3,3,1], d, a, RA, RB)\n",
    "\n",
    "    return f11, f33, g1212, g3434, g1313, g1331"
   ]
  },
  {
   "cell_type": "code",
   "execution_count": 26,
   "id": "fb0bb8ae-061b-40b2-b1be-969e4acab6d7",
   "metadata": {},
   "outputs": [],
   "source": [
    "def hamiltoniano_H2(d, a, RA, RB, ZA, ZB):\n",
    "    f11, f33, g1212, g3434, g1313, g1331 = elementos_matriz(d, a, RA, RB, ZA, ZB) # elementos de matriz\n",
    "    h12 = (2*f11 + g1212 + 2*g1313 - g1331)/4\n",
    "    h34 = (2*f33 + g3434 + 2*g1313 - g1331)/4\n",
    "    h0 = f11 + f33 + g1212/4 + g3434/4 + g1313 - g1331/2\n",
    "    \n",
    "    hamiltoniano = SparsePauliOp.from_list(\n",
    "        [\n",
    "            (\"IIII\", h0),\n",
    "            (\"IIIZ\", -h12),\n",
    "            (\"IIZI\", -h12),\n",
    "            (\"IZII\", -h34),\n",
    "            (\"ZIII\", -h34),\n",
    "            (\"IIZZ\", g1212/4),\n",
    "            (\"ZZII\", g3434/4),\n",
    "            (\"ZIIZ\", g1313/4),\n",
    "            (\"IZZI\", g1313/4),\n",
    "            (\"IZIZ\", (g1313-g1331)/4),\n",
    "            (\"ZIZI\", (g1313-g1331)/4),\n",
    "            (\"YYYY\", -g1331/4),\n",
    "            (\"XXYY\", -g1331/4),\n",
    "            (\"YYXX\", -g1331/4),\n",
    "            (\"XXXX\", -g1331/4),\n",
    "        ]\n",
    "    )\n",
    "    return hamiltoniano"
   ]
  },
  {
   "cell_type": "code",
   "execution_count": 27,
   "id": "4893a5f8-96b5-4189-bca8-f7ae33b615e2",
   "metadata": {},
   "outputs": [],
   "source": [
    "# Define the Hamiltonian as a SparsePauliOp\n",
    "hamiltonian = hamiltoniano_H2(d, a, RA, RB, ZA, ZB)"
   ]
  },
  {
   "cell_type": "code",
   "execution_count": 28,
   "id": "a1ff68b5-53bc-4b09-ad78-e398ec41bcdc",
   "metadata": {},
   "outputs": [],
   "source": [
    "# Define the ansatz circuit\n",
    "def ansatz_circuit(params):\n",
    "    qc = QuantumCircuit(4)\n",
    "    qc.rx(params[0], 0)\n",
    "    qc.ry(params[1], 1)\n",
    "    qc.rx(params[2], 2)\n",
    "    qc.ry(params[3], 3)\n",
    "    qc.cx(0, 1)\n",
    "    qc.cx(2, 3)\n",
    "    return qc"
   ]
  },
  {
   "cell_type": "code",
   "execution_count": 29,
   "id": "b6aa0999-469a-4c10-b96a-cce4d604bdc8",
   "metadata": {},
   "outputs": [],
   "source": [
    "# Backend for simulation\n",
    "simulator = AerSimulator()"
   ]
  },
  {
   "cell_type": "code",
   "execution_count": 30,
   "id": "8e4fb292-ca33-46f1-948e-727ce2cf353e",
   "metadata": {},
   "outputs": [],
   "source": [
    "# Expectation value calculation\n",
    "def expectation_value(params):\n",
    "    # Create the ansatz circuit\n",
    "    qc = ansatz_circuit(params)\n",
    "    qc.save_statevector()  # Add instruction to save the statevector\n",
    "    qc = transpile(qc, simulator)\n",
    "    \n",
    "    # Simulate the statevector\n",
    "    result = simulator.run(qc).result()\n",
    "    statevector = result.data(0)[\"statevector\"].data  # Convert to numpy array\n",
    "    \n",
    "    # Compute expectation value\n",
    "    return np.real(np.vdot(statevector, hamiltonian.to_matrix() @ statevector))"
   ]
  },
  {
   "cell_type": "code",
   "execution_count": 31,
   "id": "7743ce26-35d5-4dd0-aa52-8dc01ca85f97",
   "metadata": {},
   "outputs": [],
   "source": [
    "# Optimize the parameters\n",
    "initial_params = [0.1, 0.1, 0.1, 0.1]\n",
    "result = minimize(expectation_value, initial_params, method='COBYLA')"
   ]
  },
  {
   "cell_type": "code",
   "execution_count": 32,
   "id": "0e64d396-53f0-4e75-bb8b-7cff154fc830",
   "metadata": {},
   "outputs": [
    {
     "name": "stdout",
     "output_type": "stream",
     "text": [
      "Optimal Parameters: [3.14157280e+00 6.37028845e-06 4.73433902e-05 1.26653429e-05]\n",
      "Minimum Energy: -1.8294595432829657\n"
     ]
    }
   ],
   "source": [
    "# Print results\n",
    "print(\"Optimal Parameters:\", result.x)\n",
    "print(\"Minimum Energy:\", result.fun)"
   ]
  },
  {
   "cell_type": "code",
   "execution_count": 34,
   "id": "9090aded-1d4e-4a83-98df-cf6921731203",
   "metadata": {},
   "outputs": [
    {
     "name": "stdout",
     "output_type": "stream",
     "text": [
      "Distancia Interatómica: 0.5 Energía: -2.40306\n",
      "Distancia Interatómica: 0.7 Energía: -2.26524\n",
      "Distancia Interatómica: 0.9 Energía: -2.12996\n",
      "Distancia Interatómica: 1.1 Energía: -2.00284\n",
      "Distancia Interatómica: 1.3 Energía: -1.88515\n",
      "Distancia Interatómica: 1.5 Energía: -1.77731\n",
      "Distancia Interatómica: 1.7 Energía: -1.67911\n",
      "Distancia Interatómica: 1.9 Energía: -1.58971\n",
      "Distancia Interatómica: 2.1 Energía: -1.50806\n",
      "Distancia Interatómica: 2.3 Energía: -1.43326\n",
      "Distancia Interatómica: 2.5 Energía: -1.26255\n",
      "Distancia Interatómica: 2.7 Energía: -1.25239\n",
      "Distancia Interatómica: 2.9 Energía: -1.24114\n",
      "Distancia Interatómica: 3.1 Energía: -1.22932\n",
      "Distancia Interatómica: 3.3 Energía: -1.21734\n",
      "Distancia Interatómica: 3.5 Energía: -1.20549\n",
      "Distancia Interatómica: 3.7 Energía: -1.19397\n",
      "Distancia Interatómica: 3.9 Energía: -1.18292\n"
     ]
    }
   ],
   "source": [
    "step = 0.2\n",
    "distI = 0.5 # distancia interatómica inicial\n",
    "distF = 4.0 # distancia interatómica final\n",
    "distancias = np.arange(distI, distF, step)\n",
    "energias = []\n",
    "initial_params = [0.1, 0.1, 0.1, 0.1]\n",
    "\n",
    "for dist in distancias:\n",
    "    RB = np.array([dist, 0, 0]) # posición núcleo B\n",
    "    hamiltonian = hamiltoniano_H2(d, a, RA, RB, ZA, ZB)\n",
    "    result = minimize(expectation_value, initial_params, method='COBYLA')\n",
    "    energia = result.fun\n",
    "    energias.append(energia)\n",
    "    print(\n",
    "        f\"Distancia Interatómica: {np.round(dist, 2)}\",\n",
    "        f\"Energía: {energia:.5f}\",\n",
    "    )"
   ]
  },
  {
   "cell_type": "code",
   "execution_count": null,
   "id": "80674628-6ff9-4f8d-8f4d-1dcc4170ef24",
   "metadata": {},
   "outputs": [],
   "source": []
  }
 ],
 "metadata": {
  "kernelspec": {
   "display_name": "Python 3 (ipykernel)",
   "language": "python",
   "name": "python3"
  },
  "language_info": {
   "codemirror_mode": {
    "name": "ipython",
    "version": 3
   },
   "file_extension": ".py",
   "mimetype": "text/x-python",
   "name": "python",
   "nbconvert_exporter": "python",
   "pygments_lexer": "ipython3",
   "version": "3.13.2"
  }
 },
 "nbformat": 4,
 "nbformat_minor": 5
}
