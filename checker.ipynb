{
 "cells": [
  {
   "cell_type": "code",
   "execution_count": 1,
   "id": "49a06a9a-4b07-4ed9-89bc-7edc63564886",
   "metadata": {},
   "outputs": [],
   "source": [
    "from qiskit_ibm_runtime import QiskitRuntimeService"
   ]
  },
  {
   "cell_type": "code",
   "execution_count": 2,
   "id": "9ee6f1a8-b1ad-4227-b8bb-68b1fffc8967",
   "metadata": {},
   "outputs": [],
   "source": [
    "# Leer el API token\n",
    "with open(\"ibm_token.txt\", \"r\") as file:\n",
    "    api_token = file.read().strip()\n",
    "\n",
    "service = QiskitRuntimeService(\n",
    "    channel='ibm_quantum',\n",
    "    instance='ibm-q/open/main',\n",
    "    token=api_token\n",
    ")"
   ]
  },
  {
   "cell_type": "code",
   "execution_count": 3,
   "id": "99f70c2b-4912-435b-a9c6-277ab85e95e2",
   "metadata": {},
   "outputs": [
    {
     "name": "stdout",
     "output_type": "stream",
     "text": [
      "Expectation values for pub 0: [-0.25162524]\n"
     ]
    }
   ],
   "source": [
    "job = service.job('czhv38nzj67g008sp590')\n",
    "job_result = job.result()\n",
    "\n",
    "for idx, pub_result in enumerate(job_result):\n",
    "    print(f\"Expectation values for pub {idx}: {pub_result.data.evs}\")"
   ]
  },
  {
   "cell_type": "code",
   "execution_count": null,
   "id": "d4008f9d-92f9-44ea-a54f-a0a57f4fa381",
   "metadata": {},
   "outputs": [],
   "source": []
  }
 ],
 "metadata": {
  "kernelspec": {
   "display_name": "Python 3 (ipykernel)",
   "language": "python",
   "name": "python3"
  },
  "language_info": {
   "codemirror_mode": {
    "name": "ipython",
    "version": 3
   },
   "file_extension": ".py",
   "mimetype": "text/x-python",
   "name": "python",
   "nbconvert_exporter": "python",
   "pygments_lexer": "ipython3",
   "version": "3.13.1"
  }
 },
 "nbformat": 4,
 "nbformat_minor": 5
}
