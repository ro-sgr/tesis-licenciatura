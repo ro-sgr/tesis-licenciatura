{
 "cells": [
  {
   "cell_type": "code",
   "execution_count": 1,
   "id": "a586c2de-6366-402d-bd8f-f963bb79e393",
   "metadata": {
    "scrolled": true
   },
   "outputs": [],
   "source": [
    "from H2.f_pq import *"
   ]
  },
  {
   "cell_type": "markdown",
   "id": "cca2a774-6a6c-446d-92e6-d491cfd4b61d",
   "metadata": {},
   "source": [
    "# Elementos de matriz $g_{pqrs}$\n",
    "\n",
    "El presente archivo provee una explicación y cálculo para los elementos de matriz de dos cuerpos $g_{pqrs}$ para la molécula de hidrógeno empleando la base STO-3G. Considere que el hamiltoniano electrónico en segunda cuantización para la molécula de hidrógeno es de la forma\n",
    "\n",
    "$$ \\mathcal{H} = \\sum_{pq} f_{pq} a^\\dagger_p a_q + \\sum_{pqrs} g_{pqrs} a^\\dagger_p a^\\dagger_s a_r a_q \\,.$$\n",
    "\n",
    "---"
   ]
  },
  {
   "cell_type": "markdown",
   "id": "826ddbf3-fa80-4134-a30a-eb5adffea517",
   "metadata": {},
   "source": [
    "La base de funciones a considerar es\n",
    "$$ \\chi_1 = \\psi_+ \\alpha \\,, \\quad\n",
    "\\chi_2 = \\psi_+ \\beta \\,, \\quad\n",
    "\\chi_3 = \\psi_- \\alpha \\,, \\quad\n",
    "\\chi_4 = \\psi_- \\beta \\,,\n",
    "$$\n",
    "\n",
    "donde\n",
    "\n",
    "$$ \\psi_\\pm = c_\\pm (\\varphi_A \\pm \\varphi_B)\n",
    "\\qquad \\text{y} \\qquad\n",
    "c_\\pm = \\frac{1}{\\sqrt{2 (1 \\pm S)}}\\,, $$\n",
    "\n",
    "con $c_\\pm$ la constante de normalización y\n",
    "\n",
    "$$ \\varphi_C := R_{nl}^{k}(\\zeta, \\vec{d}, \\vec{\\alpha}, r_C) Y_{lm}(\\theta,\\phi) \\,,$$\n",
    "\n",
    "las funciones espaciales. En esto último $R_{nl}^{k}$ se trata de una combinación lineal de $k$ funciones Gaussianas o como también es conocido, una $k$-contracción de gaussianas:\n",
    "\n",
    "$$ R_{nl}^{k}(\\zeta, \\vec{d}, \\vec{\\alpha}, r) = \\sum_{i=1}^{k} d_i R_{l}^{\\mathrm{GTO}} (\\zeta^2 \\alpha_i, r) \\,;\n",
    "\\qquad \\qquad\n",
    "R_l^{\\mathrm{GTO}} (\\alpha, r) = \\frac{2(2\\alpha)^{3/4}}{\\pi^{1/4}} \\sqrt{\\frac{2^l}{(2l+1)!!}} (\\sqrt{2\\alpha}r)^l \\exp(-\\alpha r^2) \\,.\n",
    "$$"
   ]
  },
  {
   "cell_type": "markdown",
   "id": "1617cabd-4259-4c0c-ac6b-712d472b5353",
   "metadata": {},
   "source": [
    "Los elementos de matriz por calcular son de la forma\n",
    "\n",
    "$$ g_{pqrs} = \\int \\frac{\\chi_p^* (\\mathbf{x}_1) \\chi_q^* (\\mathbf{x}_2) \\chi_r (\\mathbf{x}_1) \\chi_s (\\mathbf{x}_2)}{r_{12}} \\mathrm{d}\\vec{\\mathbf{x}}_1 \\, \\mathrm{d}\\vec{\\mathbf{x}}_2 $$\n",
    "\n",
    "Sustituyendo a las funciones base se sigue\n",
    "\n",
    "$$\\begin{align}\n",
    "g_{pqrs}\n",
    "    &= \\int \\frac{\\psi_{\\pm_p}^* (\\mathbf{r}_1)\n",
    "        \\psi_{\\pm_q}^* (\\mathbf{r}_2)\n",
    "        \\psi_{\\pm_r} (\\mathbf{r}_1)\n",
    "        \\psi_{\\pm_s} (\\mathbf{r}_2)}{r_{12}}\n",
    "        \\mathrm{d}V_1 \\, \\mathrm{d}V_2\n",
    "    \\int \\sigma_p^* (\\omega_1) \\sigma_r (\\omega_1) \\mathrm{d}\\omega_1\n",
    "    \\int \\sigma_q^* (\\omega_2) \\sigma_s (\\omega_2) \\mathrm{d}\\omega_2\n",
    "\\end{align}\n",
    "$$\n",
    "\n",
    "Note que las integrales sobre las coordenadas de espín serán diferentes de 0 sí y solo sí $p$ y $r$ ($q$ y $s$) son simultáneamente par o impar, i.e. (2,4) o (1,3)."
   ]
  },
  {
   "cell_type": "markdown",
   "id": "b24ce3da-9735-40c5-b7ff-60ee91f200c4",
   "metadata": {},
   "source": [
    "Desarrollamos para los términos iniciales de la forma $\\psi_{\\pm_p}^* (\\mathbf{r}_1) \\psi_{\\pm_q}^* (\\mathbf{r}_2) \\psi_{\\pm_r} (\\mathbf{r}_1) \\psi_{\\pm_s} (\\mathbf{r}_2)$:\n",
    "\n",
    "$$\\psi_{\\pm_p}^* (\\mathbf{r}_1) \\psi_{\\pm_q}^* (\\mathbf{r}_2) \\psi_{\\pm_r} (\\mathbf{r}_1) \\psi_{\\pm_s} (\\mathbf{r}_2)\n",
    "    = c_{\\pm_p} c_{\\pm_q} c_{\\pm_r} c_{\\pm_s} [\\varphi_A (\\mathbf{r}_1) \\pm_p \\varphi_B (\\mathbf{r}_1)]^* [\\varphi_A (\\mathbf{r}_2) \\pm_q \\varphi_B (\\mathbf{r}_2)]^* [\\varphi_A (\\mathbf{r}_1) \\pm_r \\varphi_B (\\mathbf{r}_1)] [\\varphi_A (\\mathbf{r}_2) \\pm_s \\varphi_B (\\mathbf{r}_2)]\n",
    "$$\n",
    "\n",
    "Multiplicando todos los factores del lado derecho de la igualdad se obtienen un total de 16 términos. Considere el código siguiente donde se imprime la forma de cada uno de los términos junto con el signo del mismo."
   ]
  },
  {
   "cell_type": "code",
   "execution_count": 2,
   "id": "b26f355a-d6b6-43db-b4ac-674dc1be0413",
   "metadata": {
    "jupyter": {
     "source_hidden": true
    }
   },
   "outputs": [
    {
     "name": "stdout",
     "output_type": "stream",
     "text": [
      "1 - A A A A - \n",
      "2 - A A A B - s\n",
      "3 - A A B A - r\n",
      "4 - A A B B - rs\n",
      "5 - A B A A - q\n",
      "6 - A B A B - qs\n",
      "7 - A B B A - qr\n",
      "8 - A B B B - qrs\n",
      "9 - B A A A - p\n",
      "10 - B A A B - ps\n",
      "11 - B A B A - pr\n",
      "12 - B A B B - prs\n",
      "13 - B B A A - pq\n",
      "14 - B B A B - pqs\n",
      "15 - B B B A - pqr\n",
      "16 - B B B B - pqrs\n"
     ]
    }
   ],
   "source": [
    "nuc = ['A', 'B']\n",
    "\n",
    "term = 1\n",
    "for p in nuc:\n",
    "    for q in nuc:\n",
    "        for r in nuc:\n",
    "            for s in nuc:\n",
    "                sign = ''\n",
    "                if p == 'B':\n",
    "                    sign += 'p'\n",
    "                if q == 'B':\n",
    "                    sign += 'q'\n",
    "                if r == 'B':\n",
    "                    sign += 'r'\n",
    "                if s == 'B':\n",
    "                    sign += 's'\n",
    "                print(term, '-', p, q, r, s, '-' , sign,)\n",
    "                term += 1\n",
    "\n",
    "# Aquí p, q, s, r representan el signo de p, q, r ,s. Entonces, por ejemplo el término prs, no es más que el producto de los signos de p, r, s."
   ]
  },
  {
   "cell_type": "markdown",
   "id": "f0649281-30e6-4b68-9a85-dc77b27b7d60",
   "metadata": {},
   "source": [
    "En general se tendrá un subtérmino de la forma\n",
    "\n",
    "$$ \\varphi_A^* (\\mathbf{r}_1) \\varphi_B^* (\\mathbf{r}_2) \\varphi_C (\\mathbf{r}_1) \\varphi_D (\\mathbf{r}_2)\n",
    "= G_{\\mu}^* (\\vec{r}_1, \\vec{\\alpha}, \\vec{A}) G_{\\nu}^* (\\vec{r}_2, \\vec{\\beta}, \\vec{B}) G_{\\lambda} (\\vec{r}_1, \\vec{\\gamma}, \\vec{C}) G_{\\sigma} (\\vec{r}_2, \\vec{\\delta}, \\vec{D})\n",
    "$$\n",
    "\n",
    "donde\n",
    "\n",
    "$$ G_{\\mu} (\\vec{r}, \\vec{\\alpha}, \\vec{A}) = \\sum_{i = 1}^{k} d_{i \\mu} G (\\vec{r}, \\alpha_{i \\mu}, \\vec{A}) $$\n",
    "\n",
    "De lo cual es posible notar que la cantidad de subsubtérminos para un subtérmino arbitrario $\\varphi_A (\\mathbf{r}_1) \\varphi_B (\\mathbf{r}_2) \\varphi_C (\\mathbf{r}_1) \\varphi_D (\\mathbf{r}_2)$ son $k^4$. En nuestro caso $k=3$, i.e. un total de $3^4$ subsubtérminos."
   ]
  },
  {
   "cell_type": "markdown",
   "id": "4ccfaa28-9fe9-4a86-8268-eb47133d67cd",
   "metadata": {},
   "source": [
    "Más explícitamente un subtérmino lucirá de la siguiente forma:\n",
    "\n",
    "$$ \\varphi_A^* (\\mathbf{r}_1) \\varphi_B^* (\\mathbf{r}_2) \\varphi_C (\\mathbf{r}_1) \\varphi_D (\\mathbf{r}_2)\n",
    "    = \\sum_{i = 1}^{3} \\sum_{j = 1}^{3} \\sum_{k = 1}^{3} \\sum_{l = 1}^{3} d_{i \\mu}^* \\, d_{j \\nu}^* \\, d_{k \\lambda} \\, d_{l \\sigma} \\,\n",
    "        G^* (\\vec{r}_1, \\alpha_{i \\mu}, \\vec{A}) \\, G^* (\\vec{r}_2, \\beta_{j \\nu}, \\vec{B}) \\,\n",
    "        G (\\vec{r}_1, \\gamma_{k \\lambda}, \\vec{C}) \\,  G (\\vec{r}_2, \\delta_{l \\sigma}, \\vec{D})\n",
    "$$\n",
    "\n",
    "Introduciendo a la integral original se sigue que\n",
    "\n",
    "$$ \\int \\frac{1}{r_{12}} \\varphi_A^* (\\mathbf{r}_1) \\varphi_B^* (\\mathbf{r}_2) \\varphi_C (\\mathbf{r}_1) \\varphi_D (\\mathbf{r}_2) \\, \\mathrm{d}V_1 \\, \\mathrm{d}V_2\n",
    "= \\sum_{i = 1}^{3} \\sum_{j = 1}^{3} \\sum_{k = 1}^{3} \\sum_{l = 1}^{3} d_{i \\mu}^* \\, d_{j \\nu}^* \\, d_{k \\lambda} \\, d_{l \\sigma} \\,\n",
    "        \\mathcal{V}_{ijkl}\n",
    "$$"
   ]
  },
  {
   "cell_type": "markdown",
   "id": "3c9486ae-eb41-4cfb-91c6-17df300f3e94",
   "metadata": {},
   "source": [
    "Donde la integral $\\mathcal{V}_{ijkl}$ es\n",
    "\n",
    "$$\\begin{align}\n",
    "    \\mathcal{V}_{ijkl}\n",
    "    & = \\int \\frac{1}{r_{12}}\n",
    "        G^* (\\vec{r}_1, \\alpha_{i \\mu}, \\vec{A}) \\, G^* (\\vec{r}_2, \\beta_{j \\nu}, \\vec{B}) \\,\n",
    "        G (\\vec{r}_1, \\gamma_{k \\lambda}, \\vec{C}) \\,  G (\\vec{r}_2, \\delta_{l \\sigma}, \\vec{D}) \\,\n",
    "        \\mathrm{d}V_1 \\, \\mathrm{d}V_2 \\\\\n",
    "    & = \\left( \\frac{2\\alpha_{i \\mu}}{\\pi} \\right)^{3/4} \\left( \\frac{2\\beta_{j \\nu}}{\\pi} \\right)^{3/4}\n",
    "        \\left( \\frac{2\\gamma_{k \\lambda}}{\\pi} \\right)^{3/4} \\left( \\frac{2\\delta_{l \\sigma}}{\\pi} \\right)^{3/4}\n",
    "        \\underbrace{\\int \\frac{1}{r_{12}}\n",
    "        \\exp(-\\alpha_{i \\mu} r^2_{1A}) \\, \\exp(-\\beta_{j \\nu} r^2_{2B}) \\,\n",
    "        \\exp(-\\gamma_{k \\lambda} r^2_{1C}) \\, \\exp(-\\delta_{l \\sigma} r^2_{2D}) \\, \\mathrm{d}V_1 \\, \\mathrm{d}V_2}_{(AB | CD)}\n",
    "\\end{align}\n",
    "$$"
   ]
  },
  {
   "cell_type": "markdown",
   "id": "00f99cce-bed0-4632-81e9-06fee684d2b8",
   "metadata": {},
   "source": [
    "<div class=\"alert alert-block alert-info\">\n",
    "<strong>Caso $(AB|CD)$ donde $A\\neq B\\neq C\\neq D$.</strong>\n",
    "</div>\n",
    "\n",
    "La integral $(AB|CD)$ de acuerdo con Szabo y Ostlund [1, p.416] es:\n",
    "\n",
    "$$ (AB|CD)\n",
    "        = \\frac{2 \\pi^{5/2}}{(\\alpha + \\beta)(\\gamma + \\delta)(\\alpha + \\beta + \\gamma + \\delta)^{1/2}} \\,\n",
    "        \\exp\\left[ -\\frac{\\alpha \\, \\beta}{\\alpha + \\beta} |\\mathbf{R}_A-\\mathbf{R}_B|^2 -\\frac{\\gamma \\, \\delta}{\\gamma + \\delta} |\\mathbf{R}_C-\\mathbf{R}_D|^2 \\right]\n",
    "        F_0 \\left[ \\frac{(\\alpha + \\beta)(\\gamma + \\delta)}{\\alpha + \\beta + \\gamma + \\delta} |\\mathbf{R}_P-\\mathbf{R}_Q|^2 \\right]\n",
    "$$\n",
    "\n",
    "donde $F_0(t)$ es\n",
    "$$ F_0(t) = \\frac{1}{2} \\left( \\frac{\\pi}{t} \\right)^{1/2} \\mathrm{erf}(t^{1/2}) \\,;\n",
    "\\quad\n",
    "\\text{con} \\quad \\mathrm{erf}(z) = \\frac{2}{\\sqrt{\\pi}} \\int_0^{z} e^{-t^2} \\, \\mathrm{d}t\n",
    "$$\n",
    "\n",
    "y $\\mathbf{R}_P$, $\\mathbf{R}_Q$ son\n",
    "\n",
    "$$ \\mathbf{R}_P = \\frac{\\alpha \\mathbf{R}_A + \\beta \\, \\mathbf{R}_B}{\\alpha + \\beta} \\,,\n",
    "\\quad\n",
    "\\mathbf{R}_Q = \\frac{\\gamma \\mathbf{R}_C + \\delta \\, \\mathbf{R}_D}{\\gamma + \\delta} \\,.$$"
   ]
  },
  {
   "cell_type": "markdown",
   "id": "e672eeca-ecd3-40ed-8078-3fdf3e7d5471",
   "metadata": {},
   "source": [
    "<div class=\"alert alert-block alert-warning\">\n",
    "<strong>Observación.</strong> Para Szabo y Ostlund las Gaussianas centradas en $A$, $B$ están asociadas al electrón 1, mientras que las centradas en $C$ y $D$ están asociadas al electrón 2. En nuestro caso $A$, $C$ están asociadas al electrón 1, mientras que $B$ y $D$ al electrón 2.\n",
    "\n",
    "Por esto último, es necesario considerar las equivalencias siguientes:\n",
    "- A -> A , $\\alpha$ -> $\\alpha$\n",
    "- B -> C , $\\beta$ -> $\\gamma$\n",
    "- C -> B , $\\gamma$ -> $\\beta$\n",
    "- D -> D , $\\delta$ -> $\\delta$\n",
    "</div>"
   ]
  },
  {
   "cell_type": "code",
   "execution_count": 3,
   "id": "0b06a3c4-a2d6-48ff-bba3-c9fdc5c07ff8",
   "metadata": {},
   "outputs": [],
   "source": [
    "def K2(α: float, β: float, γ: float, δ: float, RA: NDArray, RB: NDArray, RC: NDArray, RD: NDArray) -> float:\n",
    "    \"\"\" Factor pre-exponencial\n",
    "\n",
    "    Parámetros\n",
    "        (α, β, γ, d) : exponente orbital Gaussiano\n",
    "        (RA, RB, RC, RD) : coordenada del núcleo (A, B, C, D)\n",
    "    \"\"\"\n",
    "    return np.exp(arg(α, γ, RA, RC) + arg(β, δ, RB, RD))"
   ]
  },
  {
   "cell_type": "markdown",
   "id": "c3599d81-6f36-4d52-a0e7-58308b8346bc",
   "metadata": {},
   "source": [
    "En nuestra notación se tiene entonces que\n",
    "$$ (AC|BD)\n",
    "        = \\frac{2 \\pi^{5/2}}{(\\alpha + \\gamma)(\\beta + \\delta)(\\alpha + \\beta + \\gamma + \\delta)^{1/2}} \\,\n",
    "        \\exp\\left[ -\\frac{\\alpha \\, \\delta}{\\alpha + \\delta} |\\mathbf{R}_A-\\mathbf{R}_C|^2 -\\frac{\\beta \\, \\delta}{\\beta + \\delta} |\\mathbf{R}_B-\\mathbf{R}_D|^2 \\right]\n",
    "        F_0 \\left[ \\frac{(\\alpha + \\gamma)(\\beta + \\delta)}{\\alpha + \\beta + \\gamma + \\delta} |\\mathbf{R}_P-\\mathbf{R}_Q|^2 \\right]\n",
    "$$\n",
    "\n",
    "donde $\\mathbf{R}_P$, $\\mathbf{R}_Q$ serían\n",
    "$$ \\mathbf{R}_P = \\frac{\\alpha \\mathbf{R}_A + \\gamma \\, \\mathbf{R}_C}{\\alpha + \\gamma} \\,,\n",
    "\\quad\n",
    "\\mathbf{R}_Q = \\frac{\\beta \\, \\mathbf{R}_B + \\delta \\, \\mathbf{R}_D}{\\beta + \\delta} \\,.$$\n",
    "\n",
    "Observe que $(AC|BD) = (AD|BC) = (CA|DB)$, lo cual implica que de las 16 integrales iniciales por calcular solo hay 4 valores únicos."
   ]
  },
  {
   "cell_type": "markdown",
   "id": "6c808430-0637-427c-a29f-466d7830b097",
   "metadata": {},
   "source": [
    "<div class=\"alert alert-block alert-info\">\n",
    "<strong>Caso $(AA|AA)$.</strong>\n",
    "</div>\n",
    "\n",
    "La integral $(AC|BD)$ considera todos las posibles combinaciones de núcleos $A$, $B$, $C$, $D$ dado que el sistema solo tiene dos núcleos, a excepción de un caso. Cuando todos los núcleos son iguales, i.e. $A = B = C = D$, la expresión diverge puesto que $\\mathbf{R}_P = \\mathbf{R}_Q = \\mathbf{R}_A$. En cuyo caso, la expresión a considerar se puede deducir a partir de la igualdad (A.40) en [1, 416]:\n",
    "\n",
    "$$ (AA|AA)\n",
    "    = \\frac{M}{2\\pi^2} \\left( \\frac{\\pi^2}{pq} \\right)^{3/2} \\int k^{-2} \\exp\\left[-\\frac{(p+q)}{4pq} k^2 \\right]\n",
    "        \\exp\\left[i \\mathbf{k} \\cdot (\\mathbf{R}_P - \\mathbf{R}_Q) \\right] \\, \\mathrm{d}\\vec{\\mathbf{k}}\n",
    "$$\n",
    "\n",
    "donde $p = \\alpha + \\gamma$, $q = \\beta + \\delta$. No obstante, como $A = B = C = D$, entonces $M = 1$ y $\\mathbf{R}_P - \\mathbf{R}_Q = 0$. De lo cual, la integral en cuestión se reduce a\n",
    "\n",
    "$$ (AA|AA) = \\frac{2 \\pi^{5/2}}{(\\alpha + \\gamma) (\\beta + \\delta) (\\alpha + \\beta + \\gamma + \\delta)^{1/2}} $$"
   ]
  },
  {
   "cell_type": "code",
   "execution_count": 4,
   "id": "a6622c48-8ae2-4d22-aae7-da7c08944ab7",
   "metadata": {},
   "outputs": [],
   "source": [
    "def ACBD(α: float, β: float, γ: float, δ: float, RA: NDArray, RB: NDArray, RC: NDArray, RD: NDArray) -> float:\n",
    "    \"\"\" Integral de dos electrones (AC|BD)\n",
    "    \n",
    "    (α, β, γ, δ) : exponentes orbitales Gaussianos\n",
    "    (RA, RB, RC, RD) : coordenadas del núcleo (A, B, C, D)\n",
    "\n",
    "        A, C : asociados al electrón 1\n",
    "        B, D : asociados al electrón 2\n",
    "    \"\"\"\n",
    "\n",
    "    factor = 2*np.power(np.pi, 5/2) / ((α + γ)*(β + δ)*np.sqrt(α + β + γ + δ))\n",
    "\n",
    "    # caso RA=RB y RB=RC y RC=RD (i.e. 4 núcleos iguales)\n",
    "    if np.array_equal(RA, RB) and np.array_equal(RB, RC) and np.array_equal(RC, RD):\n",
    "        return factor\n",
    "    else:\n",
    "        Rp = RP(α, γ, RA, RC)\n",
    "        Rq = RP(β, δ, RB, RD)\n",
    "        RPQ2 = np.square(np.linalg.norm(Rp-Rq))\n",
    "\n",
    "        # caso (α = β ^ γ = δ) o (a = γ ^ β = δ) o (a = δ ^ β = c)\n",
    "        if (α == β and γ == δ) or (α == γ and β == δ) or (α == δ and β == γ):\n",
    "            # caso RA=RB ^ RC=RD\n",
    "            if (np.array_equal(RA, RB) and np.array_equal(RC, RD)):\n",
    "                term = factor * K2(α, β, γ, δ, RA, RB, RC, RD)\n",
    "            # caso RA=RD ^ RB=RC\n",
    "            elif (np.array_equal(RA, RD) and np.array_equal(RB, RC)):\n",
    "                term = factor * K2(α, β, γ, δ, RA, RB, RC, RD)\n",
    "            # caso RA=RC ^ RB=RD\n",
    "            elif (np.array_equal(RA, RC) and np.array_equal(RB, RD)):\n",
    "                term = factor * F0((α + γ)*(β + δ)/(α + β + γ + δ)*RPQ2)\n",
    "            else:\n",
    "                term = factor * K2(α, β, γ, δ, RA, RB, RC, RD) * F0((α + γ)*(β + δ)/(α + β + γ + δ)*RPQ2)\n",
    "        else:\n",
    "            term = factor * K2(α, β, γ, δ, RA, RB, RC, RD) * F0((α + γ)*(β + δ)/(α + β + γ + δ)*RPQ2)\n",
    "\n",
    "        return term"
   ]
  },
  {
   "cell_type": "markdown",
   "id": "f5454cf9-78cd-466a-9424-53c724dabb6a",
   "metadata": {},
   "source": [
    "En el código la función `V12` se tratará de la integral $\\mathcal{V}_{ijkl}$\n",
    "\n",
    "$$ \\mathcal{V}_{ijkl}\n",
    "    = \\left( \\frac{2\\alpha_{i \\mu}}{\\pi} \\right)^{3/4} \\left( \\frac{2\\beta_{j \\nu}}{\\pi} \\right)^{3/4} \\left( \\frac{2\\gamma_{k \\lambda}}{\\pi} \\right)^{3/4} \\left( \\frac{2\\delta_{l \\sigma}}{\\pi} \\right)^{3/4} (AC | BD)\n",
    "$$"
   ]
  },
  {
   "cell_type": "code",
   "execution_count": 5,
   "id": "4e454c4f-a234-4d43-9e1b-2f9470c16257",
   "metadata": {},
   "outputs": [],
   "source": [
    "def V12(α: float, β: float, γ: float, δ: float, RA: NDArray, RB: NDArray, RC: NDArray, RD: NDArray):\n",
    "    \"\"\" Integral de dos electrones total (normalizada)\n",
    "        \n",
    "    (α, β, γ, δ) : exponentes orbitales Gaussianos\n",
    "    (RA, RB, RC, RD) : coordenadas del núcleo (A, B, C, D)\n",
    "\n",
    "        A, C : asociados al electrón 1\n",
    "        B, D : asociados al electrón 2\n",
    "    \"\"\"\n",
    "    v12 = GaussNorm(α) * GaussNorm(β) * GaussNorm(γ) * GaussNorm(δ) * ACBD(α, β, γ, δ, RA, RB, RC, RD)\n",
    "    return v12"
   ]
  },
  {
   "cell_type": "markdown",
   "id": "34056aea-4487-4bb6-a893-520b361623ee",
   "metadata": {},
   "source": [
    "En el código la función `Vmn` se tratará de la suma $\\mathcal{V}_{mn}$ dada por\n",
    "\n",
    "$$ \\mathcal{V}_{mn}\n",
    "= \\int \\frac{1}{r_{12}} \\varphi_A^* (\\mathbf{r}_1) \\varphi_B^* (\\mathbf{r}_2) \\varphi_C (\\mathbf{r}_1) \\varphi_D (\\mathbf{r}_2) \\, \\mathrm{d}V_1 \\, \\mathrm{d}V_2\n",
    "= \\sum_{i = 1}^{3} \\sum_{j = 1}^{3} \\sum_{k = 1}^{3} \\sum_{l = 1}^{3} d_{i \\mu}^* \\, d_{j \\nu}^* \\, d_{k \\lambda} \\, d_{l \\sigma} \\, \\mathcal{V}_{ijkl}\n",
    "$$"
   ]
  },
  {
   "cell_type": "code",
   "execution_count": 6,
   "id": "ee25d827-71e8-473d-8ec3-8e8516baff37",
   "metadata": {},
   "outputs": [],
   "source": [
    "def Vmn(d: NDArray, a: NDArray, RA: NDArray, RB: NDArray, RC: NDArray, RD: NDArray):\n",
    "    \"\"\" Elemento de matriz de interacción de dos electrones\n",
    "\n",
    "    d : vector de coeficientes de expansión (d1, d2, ..., dk)\n",
    "    a : vector de exponentes orbitales Gaussianos (α1, α2, ..., αk)\n",
    "    (RA, RB, RC, RD) : coordenada del núcleo (A, B, C, D)\n",
    "    \"\"\"\n",
    "    Mijkl = 0 # elemento de tensor\n",
    "    for di, αi in zip(d, a):\n",
    "        for dj, αj in zip(d, a):\n",
    "            for dk, αk in zip(d, a):\n",
    "                for dl, αl in zip(d, a):\n",
    "                    Mijkl += di * dj * dk * dl * V12(αi, αj, αk, αl, RA, RB, RC, RD)\n",
    "    \n",
    "    return Mijkl"
   ]
  },
  {
   "cell_type": "markdown",
   "id": "6887a9a5-5176-4a98-a65d-ec472937fad7",
   "metadata": {},
   "source": [
    "<div class=\"alert alert-block alert-warning\">\n",
    "<strong>Revisión de control.</strong>\n",
    "</div>"
   ]
  },
  {
   "cell_type": "code",
   "execution_count": 7,
   "id": "34c43593-aa24-4063-b36c-4f4c6f8d7bc5",
   "metadata": {
    "jupyter": {
     "source_hidden": true
    }
   },
   "outputs": [
    {
     "name": "stdout",
     "output_type": "stream",
     "text": [
      "--- Szabo & Ostlund ---\n",
      "(AA|AA): 0.7746079055149163\n",
      "(AB|AB): 0.5696774985883127\n",
      "(AA|AB): 0.44410895821293006\n",
      "(AA|BB): 0.2997938735581481\n",
      "\n",
      "--- Este trabajo ---\n",
      "(AA|AA): 0.7746079610602591\n",
      "(AB|AB): 0.5696771232827854\n",
      "(AA|AB): 0.44410744195746105\n",
      "(AA|BB): 0.2997953102608419\n"
     ]
    }
   ],
   "source": [
    "# distancia interatómica de 1.4 u.a.\n",
    "RA = np.array([0, 0, 0])\n",
    "RB = np.array([1.4, 0, 0])\n",
    "\n",
    "# Szabo & Ostlund\n",
    "AA_AA = Vmn(d_Szabo, a_Szabo, RA, RA, RA, RA)\n",
    "AB_AB = Vmn(d_Szabo, a_Szabo, RA, RB, RA, RB)\n",
    "AA_AB = Vmn(d_Szabo, a_Szabo, RA, RA, RA, RB)\n",
    "AA_BB = Vmn(d_Szabo, a_Szabo, RA, RA, RB, RB)\n",
    "print(\"--- Szabo & Ostlund ---\")\n",
    "print('(AA|AA):', AA_AA)\n",
    "print('(AB|AB):', AB_AB)\n",
    "print('(AA|AB):', AA_AB)\n",
    "print('(AA|BB):', AA_BB)\n",
    "\n",
    "# Este trabajo\n",
    "AA_AA = Vmn(d, a, RA, RA, RA, RA)\n",
    "AB_AB = Vmn(d, a, RA, RB, RA, RB)\n",
    "AA_AB = Vmn(d, a, RA, RA, RA, RB)\n",
    "AA_BB = Vmn(d, a, RA, RA, RB, RB)\n",
    "print(\"\\n--- Este trabajo ---\")\n",
    "print('(AA|AA):', AA_AA)\n",
    "print('(AB|AB):', AB_AB)\n",
    "print('(AA|AB):', AA_AB)\n",
    "print('(AA|BB):', AA_BB)"
   ]
  },
  {
   "cell_type": "markdown",
   "id": "277c5ae8-27c9-4112-98fa-c2a2d063e22b",
   "metadata": {},
   "source": [
    "A continuación una tabla comparativa de las integrales de dos electrones entre los valores obtenidos y los de la literatura (Szabo).\n",
    "\n",
    "|  Integral  |  $(AA|AA)$ |  $(AB|AB)$ |  $(AA|AB)$ | $(AA|BB)$ |\n",
    "|:-----------|:----------:|:----------:|:----------:|:----------:|\n",
    "|   Szabo    | 0.7746   | 0.5697   | 0.4441   | 0.2970   |\n",
    "|   Este trabajo   | 0.7746079610602591  | 0.5696771232827854 | 0.44410744195746105 | 0.2997953102608419  |\n",
    "\n",
    "Como aclaración, Szabo reporta los valores previos con los subíndices 1 y 2, estos corresponden (en ese mismo orden) a los núcleos $A$ y $B$. Además, para Szabo la integral $(AB|CD)$ es de tal forma que los núcleos $(A,B)$ están asociados al electrón 1 y $(C,D)$ están asociados al electrón 2. En nuestro caso los núcleos $(A,C)$ están asociados al electrón 1 y $(B,D)$ están asociados al electrón 2."
   ]
  },
  {
   "cell_type": "markdown",
   "id": "f56b6a6b-8684-40c1-81e9-e2a1b53da545",
   "metadata": {},
   "source": [
    "<div class=\"alert alert-block alert-info\">\n",
    "<strong>Elemento de matriz $g_{pqrs}$</strong>\n",
    "</div>"
   ]
  },
  {
   "cell_type": "code",
   "execution_count": 8,
   "id": "a50abd56-808a-48a8-9832-349061c752c6",
   "metadata": {},
   "outputs": [],
   "source": [
    "def gpqrs(P: NDArray, d: NDArray, a: NDArray, RA: NDArray, RB: NDArray):\n",
    "    \"\"\" Elemento de matriz g_pqrs\n",
    "\n",
    "    Parámetros\n",
    "        P : vector de elementos de la base, P = (p,q,r,s)\n",
    "        d : vector de coeficientes de expansión (d1, d2, ..., dk)\n",
    "        a : vector de exponentes orbitales Gaussianos (α1, α2, ..., αk)\n",
    "        (RA, RB) : coordenada del núcleo (A, B)\n",
    "    \"\"\"\n",
    "    p,q,r,s = P\n",
    "    nucleos: list[NDArray] = [RA, RB]\n",
    "\n",
    "    Mpqrs: float = 0.0 # elemento de tensor\n",
    "\n",
    "    # si ocurre que (p,r) o (q,s) no son simultáneamente par o impar, g_pqrs = 0 (debido al espín)\n",
    "    if (((p in [1,3] and r not in [1,3]) or (p in [2,4] and r not in [2,4]))\n",
    "            or ((q in [1,3] and s not in [1,3]) or (q in [2,4] and s not in [2,4]))):\n",
    "        Mpqrs = 0 # elemento de tensor\n",
    "    else:\n",
    "        sgn_p: int = 1 if p in [1,2] else -1 # signo de p\n",
    "        sgn_q: int = 1 if q in [1,2] else -1 # signo de q\n",
    "        sgn_r: int = 1 if r in [1,2] else -1 # signo de r\n",
    "        sgn_s: int = 1 if s in [1,2] else -1 # signo de s\n",
    "    \n",
    "        # coeficientes de normalización (p,q,r,s)\n",
    "        cp = cPM(d, a, RA, RB, sgn_p)\n",
    "        cq = cPM(d, a, RA, RB, sgn_q)\n",
    "        cr = cPM(d, a, RA, RB, sgn_r)\n",
    "        cs = cPM(d, a, RA, RB, sgn_s)\n",
    "        \n",
    "        for A in nucleos:\n",
    "            for B in nucleos:\n",
    "                for C in nucleos:\n",
    "                    for D in nucleos:\n",
    "                        sign = 1\n",
    "                        if np.array_equal(A, RB):\n",
    "                            sign *= sgn_p\n",
    "                        if np.array_equal(B, RB):\n",
    "                            sign *= sgn_q\n",
    "                        if np.array_equal(C, RB):\n",
    "                            sign *= sgn_r\n",
    "                        if np.array_equal(D, RB):\n",
    "                            sign *= sgn_s\n",
    "\n",
    "                        mpqrs = sign*Vmn(d, a, A, B, C, D)\n",
    "                        Mpqrs += mpqrs\n",
    "    \n",
    "        Mpqrs = cp*cq*cr*cs*Mpqrs # multiplicar Mpqrs por coefs. de normalización\n",
    "        \n",
    "    return Mpqrs"
   ]
  },
  {
   "cell_type": "code",
   "execution_count": 9,
   "id": "70a9f0c8-2ccf-4e07-8619-3708a34472a2",
   "metadata": {
    "jupyter": {
     "source_hidden": true
    }
   },
   "outputs": [
    {
     "name": "stdout",
     "output_type": "stream",
     "text": [
      "--- Szabo & Ostlund ---\n",
      "J11 = 0.6756067100561275\n",
      "J22 = 0.7212793383844265\n",
      "J12 = 0.6586627074571746\n",
      "K12 = 0.18125478897397107\n",
      "\n",
      "--- Este trabajo ---\n",
      "J11 = 0.6756011864877296\n",
      "J22 = 0.7213418728496461\n",
      "J12 = 0.6586691015495469\n",
      "K12 = 0.1812577068265467\n"
     ]
    }
   ],
   "source": [
    "list_P = [[1,2,1,2], [3,4,3,4], [1,3,1,3], [3,2,1,4]]\n",
    "\n",
    "# Szabo\n",
    "valores = [gpqrs(P, d_Szabo, a_Szabo, RA, RB) for P in list_P]\n",
    "print(\"--- Szabo & Ostlund ---\")\n",
    "print(f'J11 = {valores[0]}')\n",
    "print(f'J22 = {valores[1]}')\n",
    "print(f'J12 = {valores[2]}')\n",
    "print(f'K12 = {valores[3]}')\n",
    "\n",
    "# Este trabajo\n",
    "valores = [gpqrs(P, d, a, RA, RB) for P in list_P]\n",
    "print(\"\\n--- Este trabajo ---\")\n",
    "print(f'J11 = {valores[0]}')\n",
    "print(f'J22 = {valores[1]}')\n",
    "print(f'J12 = {valores[2]}')\n",
    "print(f'K12 = {valores[3]}')"
   ]
  },
  {
   "cell_type": "markdown",
   "id": "283b604b-3f36-4927-82e5-7347865f969d",
   "metadata": {},
   "source": [
    "A continuación una tabla comparativa de las integrales de dos electrones entre los valores obtenidos y los reportados por Szabo & Ostlund.\n",
    "\n",
    "|  Integral  |  $J_{11}$ |  $J_{12}$ |  $J_{22}$ | $K_{12}$ |\n",
    "|:-----------|:----------:|:----------:|:----------:|:----------:|\n",
    "|   Szabo    | 0.6746   | 0.6636   | 0.6975   | 0.1813   |\n",
    "| Este trabajo | 0.6756011864877296 | 0.7213418728496461  | 0.6586691015495469 | 0.1812577068265467 |"
   ]
  },
  {
   "cell_type": "markdown",
   "id": "8cc393d2-410e-44ef-982f-c5d9d8eee03d",
   "metadata": {},
   "source": [
    "La diferencia entre los valores reportados por Szabo & Ostlund y los valores obtenidos emlpleando el presente código a partir de sus coeficientes de contracción y exponentes orbitales Gaussianos se deben al error numérico acumulado."
   ]
  },
  {
   "cell_type": "markdown",
   "id": "c7a33703-452a-4c72-9ac6-6b3ec6da2367",
   "metadata": {},
   "source": [
    "## Corrección de precisión decimal\n",
    "\n",
    "A continuación calculamos todos elementos de matriz diferentes de cero para $R_{AB} = 1.4 a_0$ con la finalidad de comparar sus valores numéricos y realizar algún ajuste a los valores $g_{pqrs}$."
   ]
  },
  {
   "cell_type": "code",
   "execution_count": 10,
   "id": "9a09ec90-b2ac-4549-974e-19578457b9ea",
   "metadata": {
    "scrolled": true
   },
   "outputs": [],
   "source": [
    "elementos = set()\n",
    "terminos = dict()\n",
    "\n",
    "for p in range(1,5):\n",
    "    for q in range(1,5):\n",
    "        for r in range(1,5):\n",
    "            for s in range(1,5):\n",
    "                if p == q or r == s:\n",
    "                    # la acción de los 4 operadores escalera asociados a g_iijj es 0, por lo tanto se omiten dichos elementos\n",
    "                    continue\n",
    "                else:\n",
    "                    elemento = gpqrs([p,q,r,s], d, a, RA, RB)\n",
    "                    if elemento == 0 or elemento < 1e-10:\n",
    "                        # elemento es 0\n",
    "                        continue\n",
    "                    if elemento in elementos:\n",
    "                        # si existe el valor, asocia el índice pqrs este mismo\n",
    "                        terminos[f'{elemento}'].append(f'{p}{q}{r}{s}')\n",
    "                    else:\n",
    "                        # si no existe el valor, lo añade al conjunto y asocia el índice pqrs este mismo\n",
    "                        elementos.add(elemento)\n",
    "                        terminos[f'{elemento}'] = [f'{p}{q}{r}{s}']"
   ]
  },
  {
   "cell_type": "code",
   "execution_count": 11,
   "id": "65ccff84-0d76-49f8-90e7-f62725351f28",
   "metadata": {},
   "outputs": [
    {
     "name": "stdout",
     "output_type": "stream",
     "text": [
      "0.6756011864877296 : ['1212', '2121']\n",
      "0.6586691015495469 : ['1313', '1414', '2323', '2424']\n",
      "0.18125770682654677 : ['1331', '1432', '2341', '2442']\n",
      "0.18125770682654668 : ['1234', '2143']\n",
      "0.1812577068265467 : ['3113', '3214', '4123', '4224']\n",
      "0.6586691015495475 : ['3131', '3232', '4141', '4242']\n",
      "0.18125770682654666 : ['3412', '4321']\n",
      "0.7213418728496461 : ['3434', '4343']\n"
     ]
    }
   ],
   "source": [
    "for elemento in elementos:\n",
    "    print(elemento, \":\", terminos[f'{elemento}'])"
   ]
  },
  {
   "cell_type": "markdown",
   "id": "7d14efda-ea15-4d81-9126-7c36aa9608c5",
   "metadata": {},
   "source": [
    "<br>\n",
    "\n",
    "Como las siguientes igualdades entre coeficientes se sabe ocurren:\n",
    "- 1212 = 2121\n",
    "- 1313 = 1414 = 2323 = 2424 = 3131 = 3232 = 4141 = 4242\n",
    "- 1331 = 1432 = 2341 = 2442 = 1234 = 2134 = 3113 = 3214 = 4123 = 4224 = 3412 = 4321\n",
    "- 3434 = 4343"
   ]
  },
  {
   "cell_type": "markdown",
   "id": "26ec70ba-e805-4f4c-a948-4d65ff94f82b",
   "metadata": {},
   "source": [
    "Los valores que se reportarán de $J_{11}$, $J_{22}$, $J_{12}$ y $K_{12}$ del presente trabajo se truncarán hasta la cifra decimal no coincidente, i.e.\n",
    "- $g_{1212} = J_{11} =$ 0.6756011864877296\n",
    "- $g_{3434} = J_{12} =$ 0.7213418728496461\n",
    "- $g_{1313} = J_{22} =$ 0.65866910154954\n",
    "- $g_{1331} = K_{12} =$ 0.181257706826546"
   ]
  },
  {
   "cell_type": "code",
   "execution_count": null,
   "id": "b6e1c78d-d973-4247-aa49-2ee3dfaec2ea",
   "metadata": {},
   "outputs": [],
   "source": []
  }
 ],
 "metadata": {
  "kernelspec": {
   "display_name": "Python 3 (ipykernel)",
   "language": "python",
   "name": "python3"
  },
  "language_info": {
   "codemirror_mode": {
    "name": "ipython",
    "version": 3
   },
   "file_extension": ".py",
   "mimetype": "text/x-python",
   "name": "python",
   "nbconvert_exporter": "python",
   "pygments_lexer": "ipython3",
   "version": "3.13.5"
  }
 },
 "nbformat": 4,
 "nbformat_minor": 5
}
