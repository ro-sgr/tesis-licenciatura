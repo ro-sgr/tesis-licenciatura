{
 "cells": [
  {
   "cell_type": "code",
   "execution_count": 1,
   "id": "a586c2de-6366-402d-bd8f-f963bb79e393",
   "metadata": {},
   "outputs": [],
   "source": [
    "import numpy as np\n",
    "from scipy.special import erf\n",
    "from f_pq import * # constante de normalización e integral de traslape"
   ]
  },
  {
   "cell_type": "code",
   "execution_count": 2,
   "id": "ec872291-ce4e-4af3-900b-8f34e0225a19",
   "metadata": {},
   "outputs": [],
   "source": [
    "vdecimal = 6 # precisión decimal\n",
    "# los valores se redondearán a un orden de magnitud previo del primer dígito diferente de cero para la condición de normalización."
   ]
  },
  {
   "cell_type": "markdown",
   "id": "826ddbf3-fa80-4134-a30a-eb5adffea517",
   "metadata": {},
   "source": [
    "La base de funciones a considerar es\n",
    "$$ \\chi_1 = \\psi_+ \\alpha \\,, \\quad\n",
    "\\chi_2 = \\psi_+ \\beta \\,, \\quad\n",
    "\\chi_3 = \\psi_- \\alpha \\,, \\quad\n",
    "\\chi_4 = \\psi_- \\beta \\,,\n",
    "$$\n",
    "\n",
    "donde $\\psi_\\pm = c_\\pm (\\varphi_A \\pm \\varphi_B)$ con\n",
    "\n",
    "$$ c_\\pm = \\frac{1}{\\sqrt{2 (1 \\pm S)}}\\,, $$\n",
    "\n",
    "la constante de normalización y\n",
    "\n",
    "$$ \\varphi_C := R_{nl}^{k}(\\zeta, \\vec{d}, \\vec{\\alpha}, r_C) Y_{lm}(\\theta,\\phi) \\,,$$\n",
    "\n",
    "las funciones espaciales. En esto último $R_{nl}^{k}$ se trata de una combinación lineal de $k$ funciones Gaussianas o como también es conocido, una $k$-contracción de gaussianas:\n",
    "\n",
    "$$ R_{nl}^{k}(\\zeta, \\vec{d}, \\vec{\\alpha}, r) = \\sum_{i=1}^{k} d_i R_{l}^{\\mathrm{GTO}} (\\zeta^2 \\alpha_i, r) \\,;\n",
    "\\qquad \\qquad\n",
    "R_l^{\\mathrm{GTO}} (\\alpha, r) = \\frac{2(2\\alpha)^{3/4}}{\\pi^{1/4}} \\sqrt{\\frac{2^l}{(2l+1)!!}} (\\sqrt{2\\alpha}r)^l \\exp(-\\alpha r^2) \\,.\n",
    "$$"
   ]
  },
  {
   "cell_type": "markdown",
   "id": "1617cabd-4259-4c0c-ac6b-712d472b5353",
   "metadata": {},
   "source": [
    "Los elementos de matriz por calcular son de la forma\n",
    "\n",
    "$$ g_{pqrs} = \\int \\frac{\\chi_p^* (\\mathbf{x}_1) \\chi_q^* (\\mathbf{x}_2) \\chi_r (\\mathbf{x}_1) \\chi_s (\\mathbf{x}_2)}{r_{12}} \\mathrm{d}\\vec{\\mathbf{x}}_1 \\, \\mathrm{d}\\vec{\\mathbf{x}}_2 $$\n",
    "\n",
    "Sustituyendo a las funciones base se sigue\n",
    "\n",
    "$$\\begin{align}\n",
    "g_{pqrs}\n",
    "    &= \\int \\frac{\\psi_{\\pm_p}^* (\\mathbf{r}_1)\n",
    "        \\psi_{\\pm_q}^* (\\mathbf{r}_2)\n",
    "        \\psi_{\\pm_r} (\\mathbf{r}_1)\n",
    "        \\psi_{\\pm_s} (\\mathbf{r}_1)}{r_{12}}\n",
    "        \\mathrm{d}V_1 \\, \\mathrm{d}V_2\n",
    "    \\int \\sigma_p^* (\\omega_1) \\sigma_r (\\omega_1) \\mathrm{d}\\omega_1\n",
    "    \\int \\sigma_q^* (\\omega_2) \\sigma_s (\\omega_2) \\mathrm{d}\\omega_2\n",
    "\\end{align}\n",
    "$$\n",
    "\n",
    "Note que las integrales sobre las coordenadas de espín serán diferentes de 0 sí y solo sí $p$ y $r$ ($q$ y $s$) son simultáneamente par o impar, i.e. (2,4) o (1,3)."
   ]
  },
  {
   "cell_type": "markdown",
   "id": "b24ce3da-9735-40c5-b7ff-60ee91f200c4",
   "metadata": {},
   "source": [
    "Desarrollamos para los términos iniciales de la forma $\\psi_{\\pm_p}^* (\\mathbf{r}_1) \\psi_{\\pm_q}^* (\\mathbf{r}_2) \\psi_{\\pm_r} (\\mathbf{r}_1) \\psi_{\\pm_s} (\\mathbf{r}_1)$:\n",
    "\n",
    "$$\\psi_{\\pm_p}^* (\\mathbf{r}_1) \\psi_{\\pm_q}^* (\\mathbf{r}_2) \\psi_{\\pm_r} (\\mathbf{r}_1) \\psi_{\\pm_s} (\\mathbf{r}_1)\n",
    "    = c_{\\pm_p} c_{\\pm_q} c_{\\pm_r} c_{\\pm_s} [\\varphi_A (\\mathbf{r}_1) \\pm_p \\varphi_B (\\mathbf{r}_1)]^* [\\varphi_A (\\mathbf{r}_2) \\pm_q \\varphi_B (\\mathbf{r}_2)]^* [\\varphi_A (\\mathbf{r}_1) \\pm_r \\varphi_B (\\mathbf{r}_1)] [\\varphi_A (\\mathbf{r}_2) \\pm_s \\varphi_B (\\mathbf{r}_2)]\n",
    "$$\n",
    "\n",
    "Multiplicando todos los factores del lado derecho de la igualdad se obtienen un total de 16 términos. Considere el código siguiente donde se imprime la forma de cada uno de los términos junto con el signo del mismo."
   ]
  },
  {
   "cell_type": "code",
   "execution_count": 3,
   "id": "b26f355a-d6b6-43db-b4ac-674dc1be0413",
   "metadata": {
    "jupyter": {
     "source_hidden": true
    }
   },
   "outputs": [
    {
     "name": "stdout",
     "output_type": "stream",
     "text": [
      "1 - A A A A - \n",
      "2 - A A A B - s\n",
      "3 - A A B A - r\n",
      "4 - A A B B - rs\n",
      "5 - A B A A - q\n",
      "6 - A B A B - qs\n",
      "7 - A B B A - qr\n",
      "8 - A B B B - qrs\n",
      "9 - B A A A - p\n",
      "10 - B A A B - ps\n",
      "11 - B A B A - pr\n",
      "12 - B A B B - prs\n",
      "13 - B B A A - pq\n",
      "14 - B B A B - pqs\n",
      "15 - B B B A - pqr\n",
      "16 - B B B B - pqrs\n"
     ]
    }
   ],
   "source": [
    "nuc = ['A', 'B']\n",
    "\n",
    "term = 1\n",
    "for p in nuc:\n",
    "    for q in nuc:\n",
    "        for r in nuc:\n",
    "            for s in nuc:\n",
    "                sign = ''\n",
    "                if p == 'B':\n",
    "                    sign += 'p'\n",
    "                if q == 'B':\n",
    "                    sign += 'q'\n",
    "                if r == 'B':\n",
    "                    sign += 'r'\n",
    "                if s == 'B':\n",
    "                    sign += 's'\n",
    "                print(term, '-', p, q, r, s, '-' , sign,)\n",
    "                term += 1\n",
    "\n",
    "# Aquí p, q, s, r representan el signo de p, q, r ,s. Entonces, por ejemplo el término prs, no es más que el producto de los signos de p, r, s."
   ]
  },
  {
   "cell_type": "markdown",
   "id": "f0649281-30e6-4b68-9a85-dc77b27b7d60",
   "metadata": {},
   "source": [
    "En general se tendrá un subtérmino de la forma\n",
    "\n",
    "$$ \\varphi_A^* (\\mathbf{r}_1) \\varphi_B^* (\\mathbf{r}_2) \\varphi_C (\\mathbf{r}_1) \\varphi_D (\\mathbf{r}_2)\n",
    "= G_{\\mu}^* (\\vec{r}_1, \\vec{\\alpha}, \\vec{A}) G_{\\nu}^* (\\vec{r}_2, \\vec{\\beta}, \\vec{B}) G_{\\lambda} (\\vec{r}_1, \\vec{\\gamma}, \\vec{C}) G_{\\sigma} (\\vec{r}_2, \\vec{\\delta}, \\vec{D})\n",
    "$$\n",
    "\n",
    "donde\n",
    "\n",
    "$$ G_{\\mu} (\\vec{r}, \\vec{\\alpha}, \\vec{A}) = \\sum_{i = 1}^{k} d_{i \\mu} G (\\vec{r}, \\alpha_{i \\mu}, \\vec{A}) $$\n",
    "\n",
    "De lo cual es posible notar que la cantidad de subsubtérminos para un subtérmino arbitrario $\\varphi_A (\\mathbf{r}_1) \\varphi_B (\\mathbf{r}_2) \\varphi_C (\\mathbf{r}_1) \\varphi_D (\\mathbf{r}_2)$ son $k^4$. En nuestro caso $k=3$, i.e. un total de $3^4$ subsubtérminos."
   ]
  },
  {
   "cell_type": "markdown",
   "id": "4ccfaa28-9fe9-4a86-8268-eb47133d67cd",
   "metadata": {},
   "source": [
    "Más explícitamente un subtérmino lucirá de la siguiente forma:\n",
    "\n",
    "$$ \\begin{align}\n",
    "    \\varphi_A^* (\\mathbf{r}_1) \\varphi_B^* (\\mathbf{r}_2) \\varphi_C (\\mathbf{r}_1) \\varphi_D (\\mathbf{r}_2)\n",
    "    &= \\sum_{i = 1}^{3} d_{i \\mu}^* G^* (\\vec{r}_1, \\alpha_{i \\mu}, \\vec{A}) \\sum_{j = 1}^{3} d_{j \\nu}^* G^* (\\vec{r}_2, \\beta_{j \\nu}, \\vec{B})\n",
    "        \\sum_{k = 1}^{3} d_{k \\lambda} G (\\vec{r}_1, \\gamma_{k \\lambda}, \\vec{C}) \\sum_{l = 1}^{3} d_{l \\sigma} G (\\vec{r}_2, \\delta_{l \\sigma}, \\vec{D}) \\\\\n",
    "    &= \\sum_{i = 1}^{3} \\sum_{j = 1}^{3} \\sum_{k = 1}^{3} \\sum_{l = 1}^{3} d_{i \\mu}^* \\, d_{j \\nu}^* \\, d_{k \\lambda} \\, d_{l \\sigma} \\,\n",
    "        G^* (\\vec{r}_1, \\alpha_{i \\mu}, \\vec{A}) \\, G^* (\\vec{r}_2, \\beta_{j \\nu}, \\vec{B}) \\,\n",
    "        G (\\vec{r}_1, \\gamma_{k \\lambda}, \\vec{C}) \\,  G (\\vec{r}_2, \\delta_{l \\sigma}, \\vec{D})\n",
    "\\end{align}\n",
    "$$\n",
    "\n",
    "Introduciendo a la integral original se sigue que\n",
    "\n",
    "$$ \\begin{align}\n",
    "\\int & \\mathrm{d}V_1 \\, \\mathrm{d}V_2 \\frac{1}{r_{12}}\n",
    "\\sum_{i = 1}^{3} \\sum_{j = 1}^{3} \\sum_{k = 1}^{3} \\sum_{l = 1}^{3} d_{i \\mu}^* \\, d_{j \\nu}^* \\, d_{k \\lambda} \\, d_{l \\sigma} \\,\n",
    "        G^* (\\vec{r}_1, \\alpha_{i \\mu}, \\vec{A}) \\, G^* (\\vec{r}_2, \\beta_{j \\nu}, \\vec{B}) \\,\n",
    "        G (\\vec{r}_1, \\gamma_{k \\lambda}, \\vec{C}) \\,  G (\\vec{r}_2, \\delta_{l \\sigma}, \\vec{D}) = \\\\\n",
    "&= \\sum_{i = 1}^{3} \\sum_{j = 1}^{3} \\sum_{k = 1}^{3} \\sum_{l = 1}^{3} d_{i \\mu}^* \\, d_{j \\nu}^* \\, d_{k \\lambda} \\, d_{l \\sigma} \\,\n",
    "        \\int \\frac{1}{r_{12}}\n",
    "        G^* (\\vec{r}_1, \\alpha_{i \\mu}, \\vec{A}) \\, G^* (\\vec{r}_2, \\beta_{j \\nu}, \\vec{B}) \\,\n",
    "        G (\\vec{r}_1, \\gamma_{k \\lambda}, \\vec{C}) \\,  G (\\vec{r}_2, \\delta_{l \\sigma}, \\vec{D}) \\,\n",
    "        \\mathrm{d}V_1 \\, \\mathrm{d}V_2 \\\\\n",
    "&= \\sum_{i = 1}^{3} \\sum_{j = 1}^{3} \\sum_{k = 1}^{3} \\sum_{l = 1}^{3} d_{i \\mu}^* \\, d_{j \\nu}^* \\, d_{k \\lambda} \\, d_{l \\sigma} \\,\n",
    "        \\mathcal{V}_{ijkl}^{(12)}\n",
    "\\end{align}\n",
    "$$"
   ]
  },
  {
   "cell_type": "markdown",
   "id": "3c9486ae-eb41-4cfb-91c6-17df300f3e94",
   "metadata": {},
   "source": [
    "Desarrollando para la integral $\\mathcal{V}_{12}$ se sigue\n",
    "\n",
    "$$\\begin{align}\n",
    "    \\mathcal{V}_{ijkl}^{(12)}\n",
    "    & = \\int \\frac{1}{r_{12}}\n",
    "        G^* (\\vec{r}_1, \\alpha_{i \\mu}, \\vec{A}) \\, G^* (\\vec{r}_2, \\beta_{j \\nu}, \\vec{B}) \\,\n",
    "        G (\\vec{r}_1, \\gamma_{k \\lambda}, \\vec{C}) \\,  G (\\vec{r}_2, \\delta_{l \\sigma}, \\vec{D}) \\,\n",
    "        \\mathrm{d}V_1 \\, \\mathrm{d}V_2 \\\\\n",
    "    & = \\left( \\frac{2\\alpha_{i \\mu}}{\\pi} \\right)^{3/4} \\left( \\frac{2\\beta_{j \\nu}}{\\pi} \\right)^{3/4}\n",
    "        \\left( \\frac{2\\gamma_{k \\lambda}}{\\pi} \\right)^{3/4} \\left( \\frac{2\\delta_{l \\sigma}}{\\pi} \\right)^{3/4}\n",
    "        \\underbrace{\\int \\frac{1}{r_{12}}\n",
    "        \\exp(-\\alpha_{i \\mu} r^2_{1A}) \\, \\exp(-\\beta_{j \\nu} r^2_{2B}) \\,\n",
    "        \\exp(-\\gamma_{k \\lambda} r^2_{1C}) \\, \\exp(-\\delta_{l \\sigma} r^2_{2D}) \\, \\mathrm{d}V_1 \\, \\mathrm{d}V_2}_{(AB | CD)}\n",
    "\\end{align}\n",
    "$$"
   ]
  },
  {
   "cell_type": "code",
   "execution_count": 4,
   "id": "4e4cd939-71c1-451d-bca2-ef50d8ee169b",
   "metadata": {},
   "outputs": [],
   "source": [
    "def GaussNorm(a : int):\n",
    "    \"\"\" Factor de normalización Gaussiano 1s\n",
    "    \n",
    "    a : exponente Gaussiano\n",
    "    \"\"\"\n",
    "    return np.power(2*a/np.pi, 3/4)"
   ]
  },
  {
   "cell_type": "markdown",
   "id": "00f99cce-bed0-4632-81e9-06fee684d2b8",
   "metadata": {},
   "source": [
    "La integral $(AB|CD)$ de acuerdo con Szabo y Ostlund [1, p.416] es:\n",
    "\n",
    "$$ \\begin{align}\n",
    "    (AB|CD)\n",
    "        = \\frac{2 \\pi^{5/2}}{(\\alpha + \\beta)(\\gamma + \\delta)(\\alpha + \\beta + \\gamma + \\delta)^{1/2}} \\,\n",
    "        \\exp\\left[ -\\frac{\\alpha \\, \\beta}{\\alpha + \\beta} |\\mathbf{R}_A-\\mathbf{R}_B|^2 -\\frac{\\gamma \\, \\delta}{\\gamma + \\delta} |\\mathbf{R}_C-\\mathbf{R}_D|^2 \\right]\n",
    "        F_0 \\left[ \\frac{(\\alpha + \\beta)(\\gamma + \\delta)}{\\alpha + \\beta + \\gamma + \\delta} |\\mathbf{R}_P-\\mathbf{R}_Q|^2 \\right]\n",
    "\\end{align}$$\n",
    "\n",
    "donde $F_0(t)$ es\n",
    "\n",
    "$$ F_0(t) = \\frac{1}{2} \\left( \\frac{\\pi}{t} \\right)^{1/2} \\mathrm{erf}(t^{1/2}) \\,;\n",
    "\\quad\n",
    "\\text{con} \\quad \\mathrm{erf}(z) = \\frac{2}{\\sqrt{\\pi}} \\int_0^{z} e^{-t^2} \\, \\mathrm{d}t\n",
    "$$\n",
    "\n",
    "y $\\mathbf{R}_P$, $\\mathbf{R}_Q$ son\n",
    "\n",
    "$$ \\mathbf{R}_P = \\frac{\\alpha \\mathbf{R}_A + \\beta \\, \\mathbf{R}_B}{\\alpha + \\beta} \\,,\n",
    "\\quad\n",
    "\\mathbf{R}_Q = \\frac{\\gamma \\mathbf{R}_C + \\delta \\, \\mathbf{R}_D}{\\gamma + \\delta} \\,.$$"
   ]
  },
  {
   "cell_type": "code",
   "execution_count": 5,
   "id": "36ea9711-2dc1-467e-aa5b-2d7d21c0d709",
   "metadata": {},
   "outputs": [],
   "source": [
    "def F0(t : float):\n",
    "    \"\"\" Función de Boys, n=0\n",
    "    \n",
    "    t : argumento de la función\n",
    "    \"\"\"\n",
    "    return (1/2) * np.sqrt(np.pi/t) * erf(np.sqrt(t))"
   ]
  },
  {
   "cell_type": "markdown",
   "id": "e672eeca-ecd3-40ed-8078-3fdf3e7d5471",
   "metadata": {},
   "source": [
    "<div class=\"alert alert-block alert-warning\">\n",
    "<strong>Observación.</strong> Para Szabo y Ostlund las Gaussianas centradas en $A$, $B$ están asociadas al electrón 1, mientras que las centradas en $C$ y $D$ están asociadas al electrón 2. En nuestro caso $A$, $C$ están asociadas al electrón 1, mientras que $B$ y $D$ al electrón 2.\n",
    "\n",
    "Por esto último, es necesario considerar las equivalencias siguientes:\n",
    "- A -> A , $\\alpha$ -> $\\alpha$\n",
    "- B -> C , $\\beta$ -> $\\gamma$\n",
    "- C -> B , $\\gamma$ -> $\\beta$\n",
    "- D -> D , $\\delta$ -> $\\delta$\n",
    "</div>"
   ]
  },
  {
   "cell_type": "code",
   "execution_count": 6,
   "id": "a895e556-4e93-4f9a-afd8-2063b4c1aadb",
   "metadata": {},
   "outputs": [],
   "source": [
    "def arg(a : float, b : float, RA : np.array, RB : np.array):\n",
    "    \"\"\" Argumento del factor pre-exponencial K\n",
    "    \n",
    "    (a, b) : exponente orbital Gaussiano\n",
    "    (RA, RB) : coordenada del núcleo (A, B)\n",
    "    \"\"\"\n",
    "    p = a+b # exponente total\n",
    "    mu = a*b/p\n",
    "    RAB2 = np.square(np.linalg.norm(RA-RB))\n",
    "    return -mu*RAB2"
   ]
  },
  {
   "cell_type": "code",
   "execution_count": 7,
   "id": "0b06a3c4-a2d6-48ff-bba3-c9fdc5c07ff8",
   "metadata": {},
   "outputs": [],
   "source": [
    "def K(a : float, b : float, c : float, d : float, RA : np.array, RB : np.array, RC : np.array, RD : np.array):\n",
    "    \"\"\" Factor pre-exponencial\n",
    "    \n",
    "    (a, b, c, d) : exponente orbital Gaussiano\n",
    "    (RA, RB, RC, RD) : coordenada del núcleo (A, B, C, D)\n",
    "    \"\"\"\n",
    "    return np.exp(arg(a, c, RA, RC) + arg(b, d, RB, RD))"
   ]
  },
  {
   "cell_type": "markdown",
   "id": "c3599d81-6f36-4d52-a0e7-58308b8346bc",
   "metadata": {},
   "source": [
    "En nuestra notación se tiene entonces que\n",
    "\n",
    "$$ \\begin{align}\n",
    "    (AC|BD)\n",
    "        = \\frac{2 \\pi^{5/2}}{(\\alpha + \\gamma)(\\beta + \\delta)(\\alpha + \\beta + \\gamma + \\delta)^{1/2}} \\,\n",
    "        \\exp\\left[ -\\frac{\\alpha \\, \\delta}{\\alpha + \\delta} |\\mathbf{R}_A-\\mathbf{R}_C|^2 -\\frac{\\beta \\, \\delta}{\\beta + \\delta} |\\mathbf{R}_B-\\mathbf{R}_D|^2 \\right]\n",
    "        F_0 \\left[ \\frac{(\\alpha + \\gamma)(\\beta + \\delta)}{\\alpha + \\beta + \\gamma + \\delta} |\\mathbf{R}_P-\\mathbf{R}_Q|^2 \\right]\n",
    "\\end{align}\n",
    "$$\n",
    "\n",
    "donde $\\mathbf{R}_P$, $\\mathbf{R}_Q$ serían\n",
    "\n",
    "$$ \\mathbf{R}_P = \\frac{\\alpha \\mathbf{R}_A + \\gamma \\, \\mathbf{R}_C}{\\alpha + \\gamma} \\,,\n",
    "\\quad\n",
    "\\mathbf{R}_Q = \\frac{\\beta \\, \\mathbf{R}_B + \\delta \\, \\mathbf{R}_D}{\\beta + \\delta} \\,.$$\n",
    "\n",
    "Observe que $(AC|BD) = (AD|BC) = (CA|DB)$, lo cual implica que de las 16 integrales iniciales por calcular solo hay 4 valores únicos."
   ]
  },
  {
   "cell_type": "code",
   "execution_count": 8,
   "id": "bba53f0d-1a5b-48b2-87c6-fa5657b97854",
   "metadata": {},
   "outputs": [],
   "source": [
    "def RP(a : float, b : float, RA : np.array, RB : np.array):\n",
    "    \"\"\" Coordenada de centro de carga\n",
    "    \n",
    "    (a, b) : exponente orbital Gaussiano\n",
    "    (RA, RB) : coordenada del núcleo (A, B)\n",
    "    \"\"\"\n",
    "    p = a + b # exponente total\n",
    "    return (a*RA+b*RB)/p"
   ]
  },
  {
   "cell_type": "markdown",
   "id": "6c808430-0637-427c-a29f-466d7830b097",
   "metadata": {},
   "source": [
    "La integral $(AC|BD)$ considera todos las posibles combinaciones de núcleos $A$, $B$, $C$, $D$ dado que el sistema solo tiene dos núcleos, a excepción de un caso. Cuando todos los núcleos son iguales, i.e. $A = B = C = D$, la expresión diverge puesto que $\\mathbf{R}_P = \\mathbf{R}_Q = \\mathbf{R}_A$. En cuyo caso, la expresión a considerar se puede deducir a partir de la igualdad (A.40) en [1, 416]:\n",
    "\n",
    "$$ (AA|AA)\n",
    "    = \\frac{M}{2\\pi^2} \\left( \\frac{\\pi^2}{pq} \\right)^{3/2} \\int k^{-2} \\exp\\left[-\\frac{(p+q)}{4pq} k^2 \\right]\n",
    "        \\exp\\left[i \\mathbf{k} \\cdot (\\mathbf{R}_P - \\mathbf{R}_Q) \\right] \\, \\mathrm{d}\\vec{\\mathbf{k}}\n",
    "$$\n",
    "\n",
    "donde $p = \\alpha + \\gamma$, $q = \\beta + \\delta$. No obstante, como $A = B = C = D$, entonces $M = 1$ y $\\mathbf{R}_P - \\mathbf{R}_Q = 0$. De lo cual, la integral en cuestión se reduce a\n",
    "\n",
    "$$\\begin{align}\n",
    "    (AA|AA)\n",
    "    &= \\frac{1}{2\\pi^2} \\left( \\frac{\\pi^2}{pq} \\right)^{3/2} \\int k^{-2} \\exp\\left[-\\frac{p+q}{4pq} k^2 \\right] \\mathrm{d}\\vec{\\mathbf{k}} \\\\\n",
    "    &= \\frac{1}{2} \\frac{\\pi}{(pq)^{3/2}} (4\\pi) \\int_0^\\infty \\exp\\left[-\\frac{p+q}{4pq} k^2 \\right] \\mathrm{d}k \\\\\n",
    "    &= \\frac{2\\pi^2}{(pq)^{3/2}} \\frac{\\pi^{1/2}}{2} \\left( \\frac{4pq}{p+q} \\right)^{1/2} \\\\\n",
    "    &= \\frac{2 \\pi^{5/2}}{pq} \\left( \\frac{1}{p+q} \\right)^{1/2} \\\\\n",
    "    &= \\frac{2 \\pi^{5/2}}{(\\alpha + \\gamma) (\\beta + \\delta) (\\alpha + \\beta + \\gamma + \\delta)^{1/2}}\n",
    "\\end{align}$$"
   ]
  },
  {
   "cell_type": "code",
   "execution_count": 9,
   "id": "a6622c48-8ae2-4d22-aae7-da7c08944ab7",
   "metadata": {},
   "outputs": [],
   "source": [
    "def ACBD(a : float, b : float, c : float, d : float, RA : np.array, RB : np.array, RC : np.array, RD : np.array):\n",
    "    \"\"\" Integral de dos electrones (AC|BD)\n",
    "    \n",
    "    (a, b, c, d) : exponentes orbitales Gaussianos\n",
    "    (RA, RB, RC, RD) : coordenadas del núcleo (A, B, C, D)\n",
    "\n",
    "        A, C : asociados al electrón 1\n",
    "        B, D : asociados al electrón 2\n",
    "    \"\"\"\n",
    "\n",
    "    factor = 2*np.power(np.pi, 5/2)/((a+c)*(b+d)*np.sqrt(a+b+c+d))\n",
    "\n",
    "    if np.array_equal(RA, RB) and np.array_equal(RB, RC) and np.array_equal(RC, RD):\n",
    "        return factor\n",
    "    else:\n",
    "        Rp = RP(a, c, RA, RC)\n",
    "        Rq = RP(b, d, RB, RD)\n",
    "        RPQ2 = np.square(np.linalg.norm(Rp-Rq))\n",
    "    \n",
    "        if (np.array_equal(RA, RB) and np.array_equal(RC, RD)) and ( (a==b and c==d) or (a==c and b==d) or (a==d and c==b) ):\n",
    "            term = factor * K(a, b, c, d, RA, RB, RC, RD)\n",
    "            \n",
    "        elif (np.array_equal(RA, RD) and np.array_equal(RB, RC)) and ( (a==b and c==d) or (a==c and b==d) or (a==d and c==b) ):\n",
    "            term = factor * K(a, b, c, d, RA, RB, RC, RD)\n",
    "\n",
    "        elif (np.array_equal(RA, RC) and np.array_equal(RB, RD)) and ( (a==b and c==d) or (a==c and b==d) or (a==d and c==b) ):\n",
    "            term = factor * F0((a+c)*(b+d)/(a+b+c+d)*RPQ2)\n",
    "            \n",
    "        else:\n",
    "            term = factor * K(a, b, c, d, RA, RB, RC, RD) * F0((a+c)*(b+d)/(a+b+c+d)*RPQ2)\n",
    "\n",
    "        return term"
   ]
  },
  {
   "cell_type": "code",
   "execution_count": 10,
   "id": "4e454c4f-a234-4d43-9e1b-2f9470c16257",
   "metadata": {},
   "outputs": [],
   "source": [
    "def V12(a : float, b : float, c : float, d : float, RA : np.array, RB : np.array, RC : np.array, RD : np.array):\n",
    "    \"\"\" Integral de dos electrones total (normalizada)\n",
    "        \n",
    "    (a, b, c, d) : exponentes orbitales Gaussianos\n",
    "    (RA, RB, RC, RD) : coordenadas del núcleo (A, B, C, D)\n",
    "\n",
    "        A, C : asociados al electrón 1\n",
    "        B, D : asociados al electrón 2\n",
    "    \"\"\"\n",
    "    v12 = GaussNorm(a) * GaussNorm(b) * GaussNorm(c) * GaussNorm(d) * ACBD(a, b, c, d, RA, RB, RC, RD)\n",
    "    return v12"
   ]
  },
  {
   "cell_type": "code",
   "execution_count": 11,
   "id": "ee25d827-71e8-473d-8ec3-8e8516baff37",
   "metadata": {},
   "outputs": [],
   "source": [
    "def Vmn(d : np.array, a : np.array, RA : np.array, RB : np.array, RC : np.array, RD : np.array):\n",
    "    \"\"\" Elemento de matriz de interacción de dos electrones\n",
    "\n",
    "    d : vector de coeficientes de expansión (d1, d2, ..., dk)\n",
    "    a : vector de exponentes orbitales Gaussianos (a1, a2, ..., ak)\n",
    "    (RA, RB, RC, RD) : coordenada del núcleo (A, B, C, D)\n",
    "    \"\"\"\n",
    "    Mijkl = 0 # elemento de tensor\n",
    "    L = len(d)\n",
    "    for i in range(L):\n",
    "        for j in range(L):\n",
    "            for k in range(L):\n",
    "                for l in range(L):\n",
    "                    Mijkl += d[i] * d[j] * d[k] * d[l] * V12(a[i], a[j], a[k], a[l], RA, RB, RC, RD)\n",
    "    \n",
    "    return Mijkl"
   ]
  },
  {
   "cell_type": "markdown",
   "id": "6887a9a5-5176-4a98-a65d-ec472937fad7",
   "metadata": {},
   "source": [
    "<div class=\"alert alert-block alert-warning\">\n",
    "<strong>Revisión de control.</strong>\n",
    "</div>"
   ]
  },
  {
   "cell_type": "code",
   "execution_count": 14,
   "id": "34c43593-aa24-4063-b36c-4f4c6f8d7bc5",
   "metadata": {},
   "outputs": [
    {
     "name": "stdout",
     "output_type": "stream",
     "text": [
      "0.7746132090951571 0.5694796377720256 0.4438060734237675 0.2994412111404783\n"
     ]
    }
   ],
   "source": [
    "d = np.array([0.44471812476789035, 0.5352716544572346, 0.1543000507808527])\n",
    "a = np.array([0.16887939463273338, 0.6240343336327064, 3.4256944279866635])\n",
    "\n",
    "# distancia interatómica de 1.401 u.a.\n",
    "RA = np.array([0, 0, 0])\n",
    "RB = np.array([1.401, 0, 0])\n",
    "\n",
    "# valores calculados\n",
    "AA_AA = Vmn(d, a, RA, RA, RA, RA)\n",
    "AB_AB = Vmn(d, a, RA, RB, RA, RB)\n",
    "AA_AB = Vmn(d, a, RA, RA, RA, RB)\n",
    "AA_BB = Vmn(d, a, RA, RA, RB, RB)\n",
    "\n",
    "print(AA_AA, AB_AB, AA_AB, AA_BB)"
   ]
  },
  {
   "cell_type": "markdown",
   "id": "277c5ae8-27c9-4112-98fa-c2a2d063e22b",
   "metadata": {},
   "source": [
    "A continuación una tabla comparativa de las integrales de dos electrones entre los valores obtenidos (Segura) y los de la literatura (Szabo).\n",
    "\n",
    "|  Integral  |  $(AA|AA)$ |  $(AB|AB)$ |  $(AA|AB)$ | $(AA|BB)$ |\n",
    "|:-----------|:----------:|:----------:|:----------:|:----------:|\n",
    "|   Segura   | 0.7746132090951571 | 0.5694796377720256  | 0.4438060734237675  | 0.2994412111404783  |\n",
    "|   Szabo    | 0.7746   | 0.5697   | 0.4441   | 0.2970   |\n",
    "\n",
    "Como aclaración, Szabo reporta los valores precios con los subíndices 1 y 2, estos corresponden (en ese mismo orden) a los núcleos $A$ y $B$. Además, para Szabo la integral $(AB|CD)$ es de tal forma que los núcleos $(A,B)$ están asociados al electrón 1 y $(C,D)$ están asociados al electrón 2. En nuestro caso los núcleos $(A,C)$ están asociados al electrón 1 y $(B,D)$ están asociados al electrón 2."
   ]
  },
  {
   "cell_type": "markdown",
   "id": "46d21cb3-e9e0-4aa8-a6c0-5aec7370239c",
   "metadata": {},
   "source": [
    "<div class=\"alert alert-block alert-info\">\n",
    "<strong>Coeficiente de normalización $c_{\\pm}$</strong>\n",
    "</div>"
   ]
  },
  {
   "cell_type": "code",
   "execution_count": 15,
   "id": "51c9f279-d47f-4fce-9e5e-335a6ecfbafd",
   "metadata": {},
   "outputs": [],
   "source": [
    "def cPM(d: np.array, a: np.array, RA: np.array, RB: np.array, signo : int):\n",
    "    \"\"\"\n",
    "        Constante de normalización c+-\n",
    "            Psi = c+- (Phi_A +- Phi_B)\n",
    "            \n",
    "    d : vector de coeficientes de expansión (d1, d2, ..., dk)\n",
    "    a : vector de exponentes orbitales Gaussianos (a1, a2, ..., ak)\n",
    "    (RA, RB) : coordenada del núcleo (A, B)\n",
    "    signo : signo de la normalización\n",
    "         1 -> positivo\n",
    "        -1 -> negativo\n",
    "    \"\"\"\n",
    "    S = np.round(Smn(d, a, RA, RB), vdecimal)\n",
    "    if signo == 1: # positivo\n",
    "        return 1/np.sqrt(2*(1+S))\n",
    "    else: # negativo\n",
    "        return 1/np.sqrt(2*(1-S))"
   ]
  },
  {
   "cell_type": "markdown",
   "id": "f56b6a6b-8684-40c1-81e9-e2a1b53da545",
   "metadata": {},
   "source": [
    "<div class=\"alert alert-block alert-info\">\n",
    "<strong>Elemento de matriz $g_{pqrs}$</strong>\n",
    "</div>"
   ]
  },
  {
   "cell_type": "code",
   "execution_count": 229,
   "id": "a50abd56-808a-48a8-9832-349061c752c6",
   "metadata": {},
   "outputs": [],
   "source": [
    "def gpqrs(P : np.array, d : np.array, a : np.array, RA : np.array, RB : np.array):\n",
    "    \"\"\" Elemento de matriz g_pqrs\n",
    "    \n",
    "    P : vector de elementos de la base, P = (p,q,r,s)\n",
    "    d : vector de coeficientes de expansión (d1, d2, ..., dk)\n",
    "    a : vector de exponentes orbitales Gaussianos (a1, a2, ..., ak)\n",
    "    (RA, RB) : coordenada del núcleo (A, B)\n",
    "    \"\"\"\n",
    "    p,q,r,s = P\n",
    "    nucleos = [RA, RB]\n",
    "\n",
    "    Mpqrs = 0 # elemento de tensor\n",
    "\n",
    "    # si ocurre que (p,r) o (q,s) no son simultáneamente par o impar, g_pqrs = 0 (debido al espín)\n",
    "    if ((p in [1,3] and r not in [1,3]) or (p in [2,4] and r not in [2,4])) or ((q in [1,3] and s not in [1,3]) or (q in [2,4] and s not in [2,4])):\n",
    "        Mpqrs = 0 # elemento de tensor\n",
    "    else:        \n",
    "        sgn_p = 1 if p in [1,2] else -1 # signo de p\n",
    "        sgn_q = 1 if q in [1,2] else -1 # signo de q\n",
    "        sgn_r = 1 if r in [1,2] else -1 # signo de r\n",
    "        sgn_s = 1 if s in [1,2] else -1 # signo de s\n",
    "    \n",
    "        # coeficientes de normalización (p,q,r,s)\n",
    "        cp = cPM(d, a, RA, RB, sgn_p)\n",
    "        cq = cPM(d, a, RA, RB, sgn_q)\n",
    "        cr = cPM(d, a, RA, RB, sgn_r)\n",
    "        cs = cPM(d, a, RA, RB, sgn_s)\n",
    "        \n",
    "        for A in nucleos:\n",
    "            for B in nucleos:\n",
    "                for C in nucleos:\n",
    "                    for D in nucleos:\n",
    "                        sign = 1\n",
    "                        if np.array_equal(A, RB):\n",
    "                            sign *= sgn_p\n",
    "                        if np.array_equal(B, RB):\n",
    "                            sign *= sgn_q\n",
    "                        if np.array_equal(C, RB):\n",
    "                            sign *= sgn_r\n",
    "                        if np.array_equal(D, RB):\n",
    "                            sign *= sgn_s\n",
    "\n",
    "                        mpqrs = sign*Vmn(d, a, A, B, C, D)\n",
    "                        Mpqrs += mpqrs\n",
    "    \n",
    "        Mpqrs = cp*cq*cr*cs*Mpqrs # multiplicar Mpqrs por coefs. de normalización\n",
    "        \n",
    "    return Mpqrs"
   ]
  },
  {
   "cell_type": "code",
   "execution_count": 230,
   "id": "70a9f0c8-2ccf-4e07-8619-3708a34472a2",
   "metadata": {},
   "outputs": [
    {
     "data": {
      "text/plain": [
       "np.float64(0.6755020664086598)"
      ]
     },
     "execution_count": 230,
     "metadata": {},
     "output_type": "execute_result"
    }
   ],
   "source": [
    "P = [1,2,1,2]\n",
    "gpqrs(P, d, a, RA, RB)"
   ]
  },
  {
   "cell_type": "code",
   "execution_count": 231,
   "id": "931aba29-5a09-45b7-9a28-2efcbb3d2b14",
   "metadata": {},
   "outputs": [
    {
     "data": {
      "text/plain": [
       "np.float64(0.7211818604511658)"
      ]
     },
     "execution_count": 231,
     "metadata": {},
     "output_type": "execute_result"
    }
   ],
   "source": [
    "P = [3,4,3,4]\n",
    "gpqrs(P, d, a, RA, RB)"
   ]
  },
  {
   "cell_type": "code",
   "execution_count": 232,
   "id": "6b4283a8-9e64-4bd0-b4e3-25a5da1bba35",
   "metadata": {},
   "outputs": [
    {
     "data": {
      "text/plain": [
       "np.float64(0.6585909899330212)"
      ]
     },
     "execution_count": 232,
     "metadata": {},
     "output_type": "execute_result"
    }
   ],
   "source": [
    "P = [1,3,1,3]\n",
    "gpqrs(P, d, a, RA, RB)"
   ]
  },
  {
   "cell_type": "code",
   "execution_count": 233,
   "id": "93f333c2-8300-4cdf-a74a-770067902389",
   "metadata": {},
   "outputs": [
    {
     "data": {
      "text/plain": [
       "np.float64(0.18128989792542163)"
      ]
     },
     "execution_count": 233,
     "metadata": {},
     "output_type": "execute_result"
    }
   ],
   "source": [
    "P = [3,2,1,4]\n",
    "gpqrs(P, d, a, RA, RB)"
   ]
  },
  {
   "cell_type": "markdown",
   "id": "283b604b-3f36-4927-82e5-7347865f969d",
   "metadata": {},
   "source": [
    "A continuación una tabla comparativa de las integrales de dos electrones entre los valores obtenidos (Segura) y los de la literatura (Szabo).\n",
    "\n",
    "|  Integral  |  $J_{11}$ |  $J_{12}$ |  $J_{22}$ | $K_{12}$ |\n",
    "|:-----------|:----------:|:----------:|:----------:|:----------:|\n",
    "|   Segura   | 0.6755020664086598 | 0.7211818604511658  | 0.6585909899330212 | 0.18128989792542163 |\n",
    "|   Szabo    | 0.6746   | 0.6636   | 0.6975   | 0.1813   |"
   ]
  },
  {
   "cell_type": "markdown",
   "id": "8cc393d2-410e-44ef-982f-c5d9d8eee03d",
   "metadata": {},
   "source": [
    "Los valores obtenidos coinciden con la suma hecha a mano. Por lo cual, la diferencia entre estos valores con los de la literatura se deben al error numérico acumulado."
   ]
  },
  {
   "cell_type": "code",
   "execution_count": 246,
   "id": "9a09ec90-b2ac-4549-974e-19578457b9ea",
   "metadata": {},
   "outputs": [],
   "source": [
    "elementos = set()\n",
    "terminos = dict()\n",
    "\n",
    "for p in range(1,5):\n",
    "    for q in range(1,5):\n",
    "        for r in range(1,5):\n",
    "            for s in range(1,5):\n",
    "                # la acción de los 4 operadores escalera asociados a g_iiii es 0, por lo tanto se omiten dichos elementos\n",
    "                if p == q and q == r and r == s:\n",
    "                    continue\n",
    "                # la acción de los 4 operadores escalera asociados a g_iijj es 0, por lo tanto se omiten dichos elementos\n",
    "                elif ((p == 1 and q == 1) and (r == 3 and s == 3)) or ((p == 3 and q == 3) and (r == 1 and s == 1)) \\\n",
    "                    or ((p == 2 and q == 2) and (r == 4 and s == 4)) or ((p == 4 and q == 4) and (r == 2 and s == 2)):\n",
    "                    continue\n",
    "                else:\n",
    "                    elemento = float(np.round(gpqrs([p,q,r,s], d, a, RA, RB),vdecimal))\n",
    "                    if elemento == 0:\n",
    "                        continue\n",
    "                    else:\n",
    "                        if elemento in elementos:\n",
    "                            terminos[f'{elemento}'].append(f'{p}{q}{r}{s}')\n",
    "                        else:\n",
    "                            elementos.add(elemento)\n",
    "                            terminos[f'{elemento}'] = [f'{p}{q}{r}{s}']"
   ]
  },
  {
   "cell_type": "code",
   "execution_count": 247,
   "id": "65ccff84-0d76-49f8-90e7-f62725351f28",
   "metadata": {},
   "outputs": [
    {
     "name": "stdout",
     "output_type": "stream",
     "text": [
      "0.675502 : ['1212', '2121']\n",
      "0.658591 : ['1313', '1414', '2323', '2424', '3131', '3232', '4141', '4242']\n",
      "0.721182 : ['3434', '4343']\n",
      "0.18129 : ['1234', '1331', '1432', '2143', '2341', '2442', '3113', '3214', '3412', '4123', '4224', '4321']\n"
     ]
    }
   ],
   "source": [
    "for elemento in elementos:\n",
    "    print(elemento, \":\", terminos[f'{elemento}'])"
   ]
  },
  {
   "cell_type": "code",
   "execution_count": null,
   "id": "b1e5adf8-6a60-473d-9243-3d0946972704",
   "metadata": {},
   "outputs": [],
   "source": []
  },
  {
   "cell_type": "code",
   "execution_count": null,
   "id": "289f191f-2dc9-4ca7-a893-e2f638c4cdbe",
   "metadata": {},
   "outputs": [],
   "source": []
  },
  {
   "cell_type": "code",
   "execution_count": null,
   "id": "ddb5ce69-c45a-4f9d-9859-cc44db3d9544",
   "metadata": {},
   "outputs": [],
   "source": []
  },
  {
   "cell_type": "code",
   "execution_count": null,
   "id": "9774cdbd-738c-48f4-bc6e-ceae8a546e41",
   "metadata": {},
   "outputs": [],
   "source": []
  },
  {
   "cell_type": "code",
   "execution_count": 166,
   "id": "1d97d642-bc79-4343-920a-13d92f423acd",
   "metadata": {},
   "outputs": [],
   "source": [
    "import numpy as np\n",
    "import matplotlib.pyplot as plt\n",
    "from matplotlib.colors import ListedColormap"
   ]
  },
  {
   "cell_type": "code",
   "execution_count": 194,
   "id": "8a0fc68b-caea-49e9-ae46-d5bd8ed10383",
   "metadata": {},
   "outputs": [],
   "source": [
    "def gpqrs(P : np.array, d : np.array, a : np.array, RA : np.array, RB : np.array):\n",
    "    \"\"\" Elemento de matriz g_pqrs\n",
    "    \n",
    "    P : vector de elementos de la base, P = (p,q,r,s)\n",
    "    d : vector de coeficientes de expansión (d1, d2, ..., dk)\n",
    "    a : vector de exponentes orbitales Gaussianos (a1, a2, ..., ak)\n",
    "    (RA, RB) : coordenada del núcleo (A, B)\n",
    "    \"\"\"\n",
    "    p,q,r,s = P\n",
    "    nucleos = [RA, RB]\n",
    "\n",
    "    Mpqrs = 0 # elemento de tensor\n",
    "\n",
    "    sgn_p = 1 if p in [1,2] else -1 # signo de p\n",
    "    sgn_q = 1 if q in [1,2] else -1 # signo de q\n",
    "    sgn_r = 1 if r in [1,2] else -1 # signo de r\n",
    "    sgn_s = 1 if s in [1,2] else -1 # signo de s\n",
    "\n",
    "    # coeficientes de normalización (p,q,r,s)\n",
    "    cp = cPM(d, a, RA, RB, sgn_p)\n",
    "    cq = cPM(d, a, RA, RB, sgn_q)\n",
    "    cr = cPM(d, a, RA, RB, sgn_r)\n",
    "    cs = cPM(d, a, RA, RB, sgn_s)\n",
    "    \n",
    "    for A in nucleos:\n",
    "        for B in nucleos:\n",
    "            for C in nucleos:\n",
    "                for D in nucleos:\n",
    "                    sign = 1\n",
    "                    if np.array_equal(A, RB):\n",
    "                        sign *= sgn_p\n",
    "                    if np.array_equal(B, RB):\n",
    "                        sign *= sgn_q\n",
    "                    if np.array_equal(C, RB):\n",
    "                        sign *= sgn_r\n",
    "                    if np.array_equal(D, RB):\n",
    "                        sign *= sgn_s\n",
    "\n",
    "                    mpqrs = sign*Vmn(d, a, A, B, C, D)\n",
    "                    Mpqrs += mpqrs\n",
    "    \n",
    "    Mpqrs = cp*cq*cr*cs*Mpqrs # multiplicar Mpqrs por coefs. de normalización\n",
    "        \n",
    "    return Mpqrs"
   ]
  },
  {
   "cell_type": "code",
   "execution_count": 234,
   "id": "20f08556-bc90-4fe4-ad0f-fa6c6ec40a98",
   "metadata": {},
   "outputs": [],
   "source": [
    "elementos = set()\n",
    "terminos = dict()\n",
    "\n",
    "for p in range(1,5):\n",
    "    for q in range(1,5):\n",
    "        for r in range(1,5):\n",
    "            for s in range(1,5):\n",
    "                elemento = float(np.round(gpqrs([p,q,r,s], d, a, RA, RB),vdecimal))\n",
    "                if elemento == 0:\n",
    "                    continue\n",
    "                else:\n",
    "                    if elemento in elementos:\n",
    "                        terminos[f'{elemento}'].append(f'{p}{q}{r}{s}')\n",
    "                    else:\n",
    "                        elementos.add(elemento)\n",
    "                        terminos[f'{elemento}'] = [f'{p}{q}{r}{s}']"
   ]
  },
  {
   "cell_type": "code",
   "execution_count": 248,
   "id": "759f2802-854b-4c05-b563-8e9fbd2d3297",
   "metadata": {},
   "outputs": [],
   "source": [
    "n = 4\n",
    "matriz = []\n",
    "\n",
    "for i in range(n):\n",
    "    matriz.append([])\n",
    "    for j in range(n):\n",
    "        matriz[i].append(np.zeros(shape=(n,n)))\n",
    "\n",
    "factor = 100\n",
    "\n",
    "for elemento in elementos:\n",
    "    for termino in terminos[f'{elemento}']:\n",
    "        p, q, r, s = int(termino[0])-1, int(termino[1])-1, int(termino[2])-1, int(termino[3])-1\n",
    "        # print(p,q,r,s)\n",
    "        if elemento == 0.18129:\n",
    "            matriz[s][r][q][p] = 1*factor\n",
    "        if elemento == 0.658591:\n",
    "            matriz[s][r][q][p] = 2*factor\n",
    "        if elemento == 0.675502:\n",
    "            matriz[s][r][q][p] = 3*factor\n",
    "        if elemento == 0.721182:\n",
    "            matriz[s][r][q][p] = 4*factor"
   ]
  },
  {
   "cell_type": "code",
   "execution_count": 249,
   "id": "508d98b2-a8a1-474f-a5ad-082a17a67c7f",
   "metadata": {},
   "outputs": [
    {
     "data": {
      "image/png": "[encoded data removed]",
      "text/plain": [
       "<Figure size 640x480 with 4 Axes>"
      ]
     },
     "metadata": {},
     "output_type": "display_data"
    },
    {
     "data": {
      "image/png": "[encoded data removed]",
      "text/plain": [
       "<Figure size 640x480 with 4 Axes>"
      ]
     },
     "metadata": {},
     "output_type": "display_data"
    },
    {
     "data": {
      "image/png": "[encoded data removed]",
      "text/plain": [
       "<Figure size 640x480 with 4 Axes>"
      ]
     },
     "metadata": {},
     "output_type": "display_data"
    },
    {
     "data": {
      "image/png": "[encoded data removed]",
      "text/plain": [
       "<Figure size 640x480 with 4 Axes>"
      ]
     },
     "metadata": {},
     "output_type": "display_data"
    }
   ],
   "source": [
    "vmax = n*factor\n",
    "\n",
    "for p in range(n):\n",
    "    m1 = matriz[p][0]\n",
    "    m2 = matriz[p][1]\n",
    "    m3 = matriz[p][2]\n",
    "    m4 = matriz[p][3]\n",
    "\n",
    "    fig, (ax1, ax2, ax3, ax4) = plt.subplots(1, n)\n",
    "\n",
    "    ax1.matshow(m1, cmap=plt.cm.Blues, vmin=0, vmax=vmax)\n",
    "    ax2.matshow(m2, cmap=plt.cm.Blues, vmin=0, vmax=vmax)\n",
    "    ax3.matshow(m3, cmap=plt.cm.Blues, vmin=0, vmax=vmax)\n",
    "    ax4.matshow(m4, cmap=plt.cm.Blues, vmin=0, vmax=vmax)\n",
    "\n",
    "    # for i in range(n):\n",
    "    #     for j in range(n):\n",
    "    #         c = m1[j,i]\n",
    "    #         if c != 0:\n",
    "    #             ax1.text(i, j, str(c/factor), va='center', ha='center')\n",
    "    \n",
    "    # for i in range(n):\n",
    "    #     for j in range(n):\n",
    "    #         c = m2[j,i]\n",
    "    #         if c != 0:\n",
    "    #             ax2.text(i, j, str(c/factor), va='center', ha='center')\n",
    "    \n",
    "    # for i in range(n):\n",
    "    #     for j in range(n):\n",
    "    #         c = m3[j,i]\n",
    "    #         if c != 0:\n",
    "    #             ax3.text(i, j, str(c/factor), va='center', ha='center')\n",
    "    \n",
    "    # for i in range(n):\n",
    "    #     for j in range(n):\n",
    "    #         c = m4[j,i]\n",
    "    #         if c != 0:\n",
    "    #           ax4.text(i, j, str(c/factor), va='center', ha='center')\n",
    "\n",
    "    plt.show()\n",
    "    fig.savefig(f'matrix/matrix-{p}.png');"
   ]
  },
  {
   "cell_type": "code",
   "execution_count": 250,
   "id": "956fb624-63b5-413b-8959-670430f571ad",
   "metadata": {},
   "outputs": [],
   "source": [
    "import glob\n",
    "import contextlib\n",
    "from PIL import Image"
   ]
  },
  {
   "cell_type": "code",
   "execution_count": 253,
   "id": "e63057d2-433c-4007-a714-bf1ad9fb4694",
   "metadata": {},
   "outputs": [],
   "source": [
    "# filepaths\n",
    "fp_in = \"matrix/matrix-*.png\"\n",
    "fp_out = \"matrix/matrix.gif\"\n",
    "\n",
    "# use exit stack to automatically close opened images\n",
    "with contextlib.ExitStack() as stack:\n",
    "\n",
    "    # lazily load images\n",
    "    imgs = (stack.enter_context(Image.open(f))\n",
    "            for f in sorted(glob.glob(fp_in)))\n",
    "\n",
    "    # extract  first image from iterator\n",
    "    img = next(imgs)\n",
    "\n",
    "    # https://pillow.readthedocs.io/en/stable/handbook/image-file-formats.html#gif\n",
    "    img.save(fp=fp_out, format='GIF', append_images=imgs, save_all=True, duration=300, loop=0)"
   ]
  },
  {
   "cell_type": "code",
   "execution_count": null,
   "id": "4262b808-440e-49a3-b873-f51fbe198357",
   "metadata": {},
   "outputs": [],
   "source": []
  }
 ],
 "metadata": {
  "kernelspec": {
   "display_name": "Python 3 (ipykernel)",
   "language": "python",
   "name": "python3"
  },
  "language_info": {
   "codemirror_mode": {
    "name": "ipython",
    "version": 3
   },
   "file_extension": ".py",
   "mimetype": "text/x-python",
   "name": "python",
   "nbconvert_exporter": "python",
   "pygments_lexer": "ipython3",
   "version": "3.13.1"
  }
 },
 "nbformat": 4,
 "nbformat_minor": 5
}
