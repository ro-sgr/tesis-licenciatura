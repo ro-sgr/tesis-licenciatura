{
 "cells": [
  {
   "cell_type": "markdown",
   "id": "f8e29090-4fe1-408b-9880-97b122826a03",
   "metadata": {},
   "source": [
    "Archivo de Jupyter para cálculo simbólico de elementos de matriz"
   ]
  },
  {
   "cell_type": "code",
   "execution_count": 1,
   "id": "77edf5a3-0e5d-40ac-9f65-ca81307c28b7",
   "metadata": {},
   "outputs": [],
   "source": [
    "# Computación numérica\n",
    "import numpy as np\n",
    "from scipy.special import erf, factorial, gammainc\n",
    "# Computación simbólica\n",
    "from sympy import symbols, simplify, integrate, oo, E\n",
    "from sympy.vector import CoordSys3D, laplacian"
   ]
  },
  {
   "cell_type": "code",
   "execution_count": 2,
   "id": "94902e71-4300-4e90-aafd-e90bd7d43c27",
   "metadata": {},
   "outputs": [],
   "source": [
    "A = CoordSys3D('A', transformation='spherical') # Sistema coordenado esférico, centrado en A\n",
    "B = CoordSys3D('b', transformation='spherical') # Sistema coordenado esférico, centrado en B\n",
    "a, b = symbols('a b', positive=True) # exponentes orbitales Gaussianos"
   ]
  },
  {
   "cell_type": "markdown",
   "id": "0815853a-68f5-452e-b410-c6eee19579d7",
   "metadata": {},
   "source": [
    "En general un elemento de matriz $f_{pq}$ será dado por\n",
    "$$ f_{pq} = \\int \\chi_p^{*} (\\hat{f}_1 + \\hat{f}_2) \\chi_q \\, \\mathrm{d}\\mathbf{x}\n",
    "    = \\int \\psi_p^{*} (\\hat{f}_1 + \\hat{f}_2) \\psi_q \\, \\mathrm{d}\\mathbf{r} \\int Y_{00}^2 \\, \\mathrm{d}\\Omega \\int \\sigma_p^{*}(\\omega) \\sigma_q(\\omega) \\, \\mathrm{d}\\omega\n",
    "$$\n",
    "\n",
    "La parte angular es 1 y la parte espinorial se trata de una delta de Kronecker, por lo cual solo los elementos de matriz $f_{pq}$ tal que sus partes espinoriales coincidan serán diferentes de cero. Las funciones radiales $\\psi$ son dadas por $\\psi = \\varphi_A \\pm \\varphi_B$ donde $\\varphi_C$ se trata de una $k$-contracción Gaussiana $1\\mathrm{s}$ centrada en $C$ de la forma:\n",
    "\n",
    "$$ \\varphi_C = \\sum_{i=1}^{k} d_i \\phi_i^{(C)} \\,; \\qquad\n",
    "\\phi_i^{(C)} = c_i \\exp(-\\alpha_i |\\mathbf{r} - \\mathbf{R}_C|^2) = c_i \\exp(-\\alpha_i r_C^2)\n",
    "$$\n",
    "\n",
    "donde $c_i$ es el factor de normalización de la función Gaussiana $1\\mathrm{s}$ :\n",
    "\n",
    "$$ c_i = \\frac{2(2\\alpha_i)^{3/4}}{\\pi^{1/4}} \\,.$$"
   ]
  },
  {
   "cell_type": "markdown",
   "id": "66bf2c89-0f6d-46fd-8219-2d3ba4fb5d9d",
   "metadata": {},
   "source": [
    "<div class='alert alert-block alert-warning'>\n",
    "    Dado que las constantes $c_i$ no dependen más que en los coeficientes orbitales Gaussianos $\\alpha_i$ estos serán añadidos en los cálculos hasta el final.\n",
    "</div>"
   ]
  },
  {
   "cell_type": "markdown",
   "id": "63af3ddc-84c4-4d3e-80e1-bd697b114178",
   "metadata": {},
   "source": [
    "Desarrollando la parte radial donde $\\mathrm{d}\\mathbf{r} = r^2 \\mathrm{d}r$ se obtiene\n",
    "$$\n",
    "\\int \\psi_p (\\hat{f}_1 + \\hat{f}_2) \\psi_q \\, \\mathrm{d}\\mathbf{r}\n",
    "    = (\\varphi_A | \\hat{f}_1 | \\varphi_A) \\pm_p (\\varphi_B | \\hat{f}_1 | \\varphi_A) \\pm_q (\\varphi_A | \\hat{f}_1 | \\varphi_B) \\pm_p \\pm_q (\\varphi_B | \\hat{f}_1 | \\varphi_B)\n",
    "    + (\\varphi_A | \\hat{f}_2 | \\varphi_A) \\pm_p (\\varphi_B | \\hat{f}_2 | \\varphi_A) \\pm_q (\\varphi_A | \\hat{f}_2 | \\varphi_B) \\pm_p \\pm_q (\\varphi_B | \\hat{f}_2 | \\varphi_B)\n",
    "$$\n",
    "\n",
    "Por simplicidad, se empleará la convención de notación $f_{i}^{(CD)} = (\\varphi_C | \\hat{f}_i | \\varphi_D)$ donde $i \\in \\{1,2\\}$ y $C, D \\in \\{A,B\\}$. Esto para cada uno de los términos del elemento de matriz. En cuyo caso, el elemento de matriz $f_{pq}$ luciría como\n",
    "\n",
    "$$ f_{pq} =\n",
    "    f_{1}^{(AA)} \\pm_p f_{1}^{(BA)} \\pm_q f_{1}^{(AB)} \\pm_p \\pm_q f_{1}^{(BB)}\n",
    "    + f_{2}^{(AA)} \\pm_p f_{2}^{(BA)} \\pm_q f_{2}^{(AB)} \\pm_p \\pm_q f_{2}^{(BB)}\n",
    "$$"
   ]
  },
  {
   "cell_type": "markdown",
   "id": "2e144914-c716-44ce-aeee-11a2b4f132f6",
   "metadata": {},
   "source": [
    "Como ambos núcleos son hidrógenos y espacialmente las funciones $\\varphi_A$ y $\\varphi_B$ son iguales, es posible garantizar que $f_{1}^{(AA)} = f_{1}^{(BB)}$, $f_{1}^{(AB)} = f_{1}^{(BA)}$, $f_{2}^{(AA)} = f_{2}^{(BB)}$ y $f_{2}^{(AB)} = f_{2}^{(BA)}$, así pues el elemento de matriz $f_{pq}$ será:\n",
    "\n",
    "$$ f_{pq} = 2\\delta_{pq} \\left[ f_{1}^{(AA)} \\pm_p f_{1}^{(AB)} + f_{2}^{(AA)} \\pm_p f_{2}^{(AB)} \\right] $$\n",
    "\n",
    "Entonces los elementos de matriz fuera de la diagonal $f_{pq}$, aunque $p$ y $q$ sean ambos pares o nones, son cero. Es decir, solo los elementos en la diagonal son diferentes de cero.\n",
    "\n",
    "$$ f_{pp} = 2 \\left[ f_{1}^{(AA)} \\pm_p f_{1}^{(AB)} + f_{2}^{(AA)} \\pm_p f_{2}^{(AB)} \\right] $$"
   ]
  },
  {
   "cell_type": "code",
   "execution_count": 3,
   "id": "8b9d876f-e633-43ae-9ac0-aa2c7b1cb1cc",
   "metadata": {},
   "outputs": [],
   "source": [
    "def const(a:float):\n",
    "    \"\"\"\n",
    "        Constante de normalización de una función tipo Gaussiana 1s\n",
    "    a : exponente orbital Gaussiano\n",
    "    \"\"\"\n",
    "    return 2*np.power(2*a, 0.75) / np.power(np.pi, 0.25)"
   ]
  },
  {
   "cell_type": "markdown",
   "id": "f7781d2d-b3dc-4e7f-8d12-b3c3545c063c",
   "metadata": {},
   "source": [
    "<div class='alert alert-block alert-info'><strong>Término $f_{1}^{(AA)}$</strong></div>\n",
    "\n",
    "El término $f_{1}^{(AA)}$ puede ser calculado facilidad:\n",
    "\n",
    "$$ f_{1}^{(AA)}\n",
    "= (\\varphi_A | \\hat{f}_1 | \\varphi_A)\n",
    "= \\int \\left( \\sum_i^{k} d_i \\phi_{i}^{(A)} \\right) \\hat{f}_1 \\left( \\sum_j^{k} d_j \\phi_{j}^{(A)} \\right) \\mathrm{d}\\mathbf{r}\n",
    "= \\sum_i^{k} \\sum_j^{k} d_i d_j \\int \\phi_{i}^{(A)} \\hat{f}_1 \\phi_{j}^{(A)} \\mathrm{d}\\mathbf{r}\n",
    "$$\n",
    "\n",
    "Para los términos $\\hat{f}_1 \\phi_{j}^{(A)}$ se tiene que\n",
    "\n",
    "$$ \\hat{f}_1 \\phi_{j}^{(A)}\n",
    "= \\left( -\\frac{1}{2} \\nabla^2 \\right) \\exp(-\\alpha_j r^2)\n",
    "= -\\frac{1}{2} \\frac{1}{r^2} \\frac{\\partial}{\\partial r} \\left( r^2 \\frac{\\partial}{\\partial r}\\exp\\left[-\\alpha_j r^2 \\right] \\right)\n",
    "= \\alpha_j (3 - 2 \\alpha_j r^2) \\exp(-\\alpha_j r^2)\n",
    "= \\alpha_j (3 - 2 \\alpha_j r^2) \\phi_{j}^{(A)}\n",
    "$$"
   ]
  },
  {
   "cell_type": "code",
   "execution_count": 4,
   "id": "f52f8d5f-0155-4ee8-aab1-5520f709ccd5",
   "metadata": {},
   "outputs": [
    {
     "data": {
      "text/latex": [
       "$\\displaystyle b \\left(- 2.0 \\mathbf{{r}_{A}}^{2} b + 3.0\\right) e^{- \\mathbf{{r}_{A}}^{2} b}$"
      ],
      "text/plain": [
       "b*(-2.0*A.r**2*b + 3.0)*exp(-A.r**2*b)"
      ]
     },
     "execution_count": 4,
     "metadata": {},
     "output_type": "execute_result"
    }
   ],
   "source": [
    "# corroboración trabajo previo\n",
    "lapAA = simplify((-1/2) * laplacian(E**(-b*(A.r**2))))\n",
    "lapAA"
   ]
  },
  {
   "cell_type": "code",
   "execution_count": 5,
   "id": "3b1c7430-22b5-4a40-b52e-04e066e388a4",
   "metadata": {},
   "outputs": [
    {
     "data": {
      "text/latex": [
       "$\\displaystyle \\frac{0.75 \\sqrt{\\pi} a b}{\\left(a + b\\right)^{\\frac{5}{2}}}$"
      ],
      "text/plain": [
       "0.75*sqrt(pi)*a*b/(a + b)**(5/2)"
      ]
     },
     "execution_count": 5,
     "metadata": {},
     "output_type": "execute_result"
    }
   ],
   "source": [
    "ind_f1AA = simplify((A.r**2) * E**(-a*(A.r**2)) * lapAA) # integrando\n",
    "int_f1AA = simplify(integrate(ind_f1AA, (A.r,0,oo))) # integral\n",
    "int_f1AA\n",
    "# Nota: Al integrando se añade el elemento radial r^2 pues SymPy no lo añade a pesar que A.r es una coordenada radial"
   ]
  },
  {
   "cell_type": "markdown",
   "id": "cd2988dd-ee66-4b26-8cde-0daf014095dc",
   "metadata": {},
   "source": [
    "De este modo, el elemento de matriz $f_1^{AA}$ será dado por\n",
    "$$ f_{1}^{(AA)}\n",
    "= \\sum_i^{k} \\sum_j^{k} d_i d_j \\int r^2 \\phi_{i}^{(A)} \\alpha_j(3 - 2 \\, \\alpha_j \\, r^2) \\phi_{j}^{(A)} \\mathrm{d}r\n",
    "= \\frac{3}{4} \\sqrt{\\pi} \\sum_i^{k} \\sum_j^{k} d_i d_j \\frac{\\alpha_i \\alpha_j}{(\\alpha_i + \\alpha_j)^{5/2}}\n",
    "$$\n",
    "\n",
    "Incluyendo los factores de normalización $c_i$ y $c_j$ :\n",
    "\n",
    "$$ f_{1}^{(AA)}\n",
    "= \\frac{3}{4} \\sqrt{\\pi} \\sum_i^{k} \\sum_j^{k} \\left( \\frac{2(2\\alpha_i)^{3/4}}{\\pi^{1/4}} \\right) \\left( \\frac{2(2\\alpha_j)^{3/4}}{\\pi^{1/4}} \\right) d_i d_j \\frac{\\alpha_i \\alpha_j}{(\\alpha_i + \\alpha_j)^{5/2}}\n",
    "= \\boxed{3 (2^{3/2}) \\sum_i^{k} \\sum_j^{k} d_i d_j \\frac{(\\alpha_i \\alpha_j)^{7/4}}{(\\alpha_i + \\alpha_j)^{5/2}}}\n",
    "$$"
   ]
  },
  {
   "cell_type": "code",
   "execution_count": 6,
   "id": "dce7af01-6023-434c-be69-4ef36d7256ed",
   "metadata": {},
   "outputs": [],
   "source": [
    "def f1AA(d:np.array, a:np.array):\n",
    "    \"\"\"\n",
    "        Término f_1^AA\n",
    "    d : vector de coeficientes de contracción [d1, d2, ..., dn]\n",
    "    a : vector de exponentes orbitales Gaussianos [a1, a2, ..., an]\n",
    "    \"\"\"\n",
    "    k = len(d)\n",
    "    suma = 0\n",
    "    for i in range(k):\n",
    "        for j in range(k):\n",
    "            # const(a) = const. de normalización de Gaussianas 1s\n",
    "            suma += d[i]*d[j]*np.power(a[i]*a[j], 1.75)/np.power(a[i]+a[j], 2.5)\n",
    "    return 3*np.power(2,1.5)*suma"
   ]
  },
  {
   "cell_type": "code",
   "execution_count": 7,
   "id": "c4dccaf8-4eb3-4cc4-92bf-5d2bc28be6b0",
   "metadata": {},
   "outputs": [
    {
     "name": "stdout",
     "output_type": "stream",
     "text": [
      "Se fijan todos los parámetros igual a 1.\n",
      "Cómputo directo:   1.5\n",
      "Cómputo simbólico: 1.50000000000000\n"
     ]
    }
   ],
   "source": [
    "print(\"Se fijan todos los parámetros igual a 1.\")\n",
    "print(\"Cómputo directo:  \", f1AA([1],[1]))\n",
    "print(\"Cómputo simbólico:\", const(1)*const(1)*int_f1AA.subs({a:1, b:1}).evalf())"
   ]
  },
  {
   "cell_type": "markdown",
   "id": "9196a5d2-b992-46f0-beb0-e2e60e517f60",
   "metadata": {},
   "source": [
    "<div class='alert alert-block alert-info'><strong>Término $f_{1}^{(AB)}$</strong></div>\n",
    "\n",
    "Observe que $f_{1}^{(AB)}$ constará de $k^2$ términos pues\n",
    "\n",
    "$$ f_{1}^{(AB)} = (\\varphi_A | \\hat{f}_1 | \\varphi_B)\n",
    "= \\int \\left( \\sum_i^{k} d_i \\phi_{i}^{(A)} \\right) \\hat{f}_1 \\left( \\sum_j^{k} d_j \\phi_{j}^{(B)} \\right) \\, \\mathrm{d}\\mathbf{r}\n",
    "= \\sum_i^{k} \\sum_j^{k} d_i d_j \\underbrace{\\int \\phi_{i}^{(A)} \\hat{f}_1 \\phi_{j}^{(B)} \\, \\mathrm{d}\\mathbf{r}}_{I_1^{(AB)}}\n",
    "$$"
   ]
  },
  {
   "cell_type": "code",
   "execution_count": 8,
   "id": "f780f7c0-17a6-4569-9e37-727bf2caddd0",
   "metadata": {},
   "outputs": [
    {
     "data": {
      "text/latex": [
       "$\\displaystyle - b \\left(2.0 \\mathbf{{r}_{b}}^{2} b - 3.0\\right) e^{- \\mathbf{{r}_{A}}^{2} a - \\mathbf{{r}_{b}}^{2} b}$"
      ],
      "text/plain": [
       "-b*(2.0*b.r**2*b - 3.0)*exp(-A.r**2*a - b.r**2*b)"
      ]
     },
     "execution_count": 8,
     "metadata": {},
     "output_type": "execute_result"
    }
   ],
   "source": [
    "# integrando\n",
    "lapAB = simplify((-1/2) * laplacian(E**(-b*(B.r**2))))\n",
    "ind_f1AB = simplify(E**(-a*(A.r**2)) * lapAB) # integrando\n",
    "ind_f1AB"
   ]
  },
  {
   "cell_type": "markdown",
   "id": "0d59df87-d13d-4271-a7ed-079ec6960015",
   "metadata": {},
   "source": [
    "La integral es entonces\n",
    "\n",
    "$$ \\begin{align}\n",
    "I_1^{(AB)}\n",
    "&= 3\\beta \\int \\exp\\left(-\\alpha \\, r_A^2\\right) \\exp\\left(-\\beta \\, r_B^2\\right) \\, \\mathrm{d}\\mathbf{r}\n",
    "    - 2 \\beta^2 \\int r_B^2 \\exp\\left(-\\alpha \\, r_A^2\\right) \\exp\\left(-\\beta \\, r_B^2\\right) \\, \\mathrm{d}\\mathbf{r} \\\\\n",
    "&= 3\\beta K_{ab} \\int \\exp\\left(-p \\, r_P^2\\right) \\, \\mathrm{d}\\mathbf{r}\n",
    "    - 2 \\beta^2 K_{\\alpha \\beta} \\int \\left( r_P + \\frac{\\alpha}{p} R_{AB} \\right)^2 \\exp\\left(-p \\, r_P^2\\right) \\, \\mathrm{d}\\mathbf{r} \\\\\n",
    "&= 3\\beta K_{ab} \\frac{\\sqrt{\\pi}}{4 p^{3/2}}\n",
    "    - 2 \\beta^2 K_{\\alpha \\beta} \\int \\left( r_P + \\frac{\\alpha}{p} R_{AB} \\right)^2 \\exp\\left(-p \\, r_P^2\\right) \\, \\mathrm{d}\\mathbf{r}\n",
    "\\end{align}\n",
    "$$"
   ]
  },
  {
   "cell_type": "markdown",
   "id": "8f544cd7-9cda-4660-b0a9-82e4f84fcd87",
   "metadata": {},
   "source": [
    "<div class='alert alert-block alert-warning'>\n",
    "Szabo y Ostlund dan una expresión para la integral $I_{1}^{(AB)}$ sobre todo el espacio [1, pág.412], es decir consideran a $\\mathrm{d}\\mathbf{r} = r^2 \\sin \\theta \\, \\mathrm{d}r \\, \\mathrm{d}\\theta \\, \\mathrm{d}\\phi$. Para el presente trabajo ya se integró sobre las coordenadas angulares lo cual resultaba en un factor de 1 debido al armónico esférico $Y_{00}$. Por lo tanto, es necesario considerar un factor de $1/(4\\pi)$ adicional en nuestro caso.\n",
    "</div>"
   ]
  },
  {
   "cell_type": "code",
   "execution_count": null,
   "id": "593875e6-6a1c-49b4-aa7b-07da73e47cc8",
   "metadata": {},
   "outputs": [],
   "source": []
  },
  {
   "cell_type": "markdown",
   "id": "2336661d-5a7b-4055-a893-1cf45fc6e5af",
   "metadata": {},
   "source": [
    "La expresión de $I_1^{(AB)}$ obtenida por Szabo y Ostlund, multiplicado por un factor de $1/(4\\pi)$, al ser sustituido en el término $f_{1}^{(AB)}$ resulta en:\n",
    "$$\n",
    "\\begin{align}\n",
    "    f_{1}^{(AB)}\n",
    "    &= \\frac{1}{4\\pi} \\sum_i^{k} \\sum_j^{k} d_i d_j \\frac{\\alpha_i \\alpha_j}{\\alpha_i + \\alpha_j} \\left[ \\frac{3 - 2\\alpha_i \\alpha_j}{\\alpha_i + \\alpha_j} |\\mathbf{R}_A - \\mathbf{R}_B|^2 \\right] \\left[ \\frac{\\pi}{\\alpha_i + \\alpha_j} \\right]^{3/2} \\exp \\left[ -\\frac{\\alpha_i \\alpha_j}{\\alpha_i + \\alpha_j}|\\mathbf{R}_A - \\mathbf{R}_B|^2 \\right] \\\\\n",
    "    &= \\frac{1}{4\\sqrt{\\pi}} \\sum_i^{k} \\sum_j^{k} d_i d_j \\frac{\\alpha_i \\alpha_j}{(\\alpha_i + \\alpha_j)^{7/2}} (3 - 2\\alpha_i \\alpha_j) |\\mathbf{R}_A - \\mathbf{R}_B|^2 \\exp \\left[ -\\frac{\\alpha_i \\alpha_j}{\\alpha_i + \\alpha_j}|\\mathbf{R}_A - \\mathbf{R}_B|^2 \\right]\n",
    "\\end{align}\n",
    "$$\n",
    "\n",
    "la expresión general para $f_{1}^{(AB)}$ sin factores de normalización."
   ]
  },
  {
   "cell_type": "markdown",
   "id": "24666fe9-9b00-4002-841d-93c8b775b4a7",
   "metadata": {},
   "source": [
    "Considere el siguiente desarrollo al incluir a los factores de normalización\n",
    "\n",
    "$$ \\begin{align*}\n",
    "f_{1}^{(AB)}\n",
    "&= \\frac{\\sqrt{\\pi}}{4} \\sum_i^{k} \\sum_j^{k} \\left( \\frac{2(2\\alpha_i)^{3/4}}{\\pi^{1/4}} \\right) \\left( \\frac{2(2\\alpha_j)^{3/4}}{\\pi^{1/4}} \\right)\n",
    "d_i d_j \\frac{\\alpha_i \\alpha_j}{(\\alpha_i + \\alpha_j)^{7/2}} (3 - 2\\alpha_i \\alpha_j) |\\mathbf{R}_A - \\mathbf{R}_B|^2 \\exp \\left[ -\\frac{\\alpha_i \\alpha_j}{\\alpha_i + \\alpha_j}|\\mathbf{R}_A - \\mathbf{R}_B|^2 \\right] \\\\\n",
    "&= \\boxed{2^{3/2} \\sum_i^{k} \\sum_j^{k}\n",
    "d_i d_j \\frac{(\\alpha_i \\alpha_j)^{7/4}}{(\\alpha_i + \\alpha_j)^{7/2}} (3 - 2\\alpha_i \\alpha_j) |\\mathbf{R}_A - \\mathbf{R}_B|^2 \\exp \\left[ -\\frac{\\alpha_i \\alpha_j}{\\alpha_i + \\alpha_j}|\\mathbf{R}_A - \\mathbf{R}_B|^2 \\right]}\n",
    "\\end{align*}\n",
    "$$"
   ]
  },
  {
   "cell_type": "code",
   "execution_count": 9,
   "id": "5afb1cb8-9f01-46a1-9d0d-be64c9207795",
   "metadata": {},
   "outputs": [],
   "source": [
    "def f1AB(d:np.array, a:np.array, RA:np.array, RB:np.array):\n",
    "    \"\"\"\n",
    "        Término f_1^AB. Suma de funciones base\n",
    "    d : vector de coeficientes de contracción [d1, d2, ..., dn]\n",
    "    a : vector de exponentes orbitales Gaussianos [a1, a2, ..., an]\n",
    "    (RA, RB) : coord. núcleo (A,B) -> np.array\n",
    "    \"\"\"\n",
    "    RAB2 = np.square(np.linalg.norm(RA-RB)) # distancia interatómica al cuadrado, |RA-RB|^2\n",
    "    \n",
    "    suma = 0\n",
    "    k = len(d)\n",
    "    for i in range(k):\n",
    "        for j in range(k):\n",
    "            p = a[i]+a[j] # exponente total\n",
    "            mu = a[i]*a[j]/p # exponente reducido\n",
    "            suma += d[i]*d[j]*np.power(a[i]*a[j], 1.75) / np.power(p, 3.5) * (3-2*a[i]*a[j]) * RAB2 * np.exp(-mu*RAB2)\n",
    "    return np.power(2, 1.5)/np.pi * suma"
   ]
  },
  {
   "cell_type": "markdown",
   "id": "2fbf6e7c-9b6c-4cdb-9e68-eb74fb19fc5f",
   "metadata": {},
   "source": [
    "<div class='alert alert-block alert-info'><strong>Término $f_{2}^{(AB)}$</strong></div>\n",
    "\n",
    "Para $f_{2}^{(AB)}$ se tiene\n",
    "\n",
    "$$\n",
    "f_{2}^{(AB)} = (\\varphi_A | \\hat{f}_2 | \\varphi_B)\n",
    "= \\int \\left( \\sum_i^{k} d_i \\phi_{i}^{(A)} \\right) \\left( - \\sum_C \\frac{Z_C}{r_C} \\right) \\left( \\sum_j^{k} d_j \\phi_{j}^{(B)} \\right) \\, \\mathrm{d}\\mathbf{r}\\\\\n",
    "= - \\sum_i^{k} \\sum_j^{k} d_i d_j \\Bigg( \\sum_C Z_C \\underbrace{\\int \\frac{\\phi_{i}^{(A)} \\phi_{j}^{(B)}}{r_C} \\, \\mathrm{d}\\mathbf{r}}_{I_2^{AB}} \\, \\Bigg)\n",
    "$$"
   ]
  },
  {
   "cell_type": "markdown",
   "id": "b319b697-3feb-466b-8df3-d551380297de",
   "metadata": {},
   "source": [
    "Para la multiplicación de Gaussianas $\\phi^{(A)} \\phi^{(B)}$ de la integral $I_2^{AB}$ considere el resultado [2, pág. 341]:\n",
    "\n",
    "$$ \\phi^{(A)} \\phi^{(B)} = \\exp(-\\alpha |\\mathbf{r} - \\mathbf{R}_A|^2) \\exp(-\\beta |\\mathbf{r} - \\mathbf{R}_B|^2)\n",
    "= \\tilde{K}_{AB} \\exp(-p|\\mathbf{r} - \\mathbf{R}_P|^2)\n",
    "= \\tilde{K}_{AB} \\exp(-p \\, r_P^2)\n",
    "$$\n",
    "\n",
    "con\n",
    "\n",
    "$$\\tilde{K}_{AB} = \\exp\\Big( - \\frac{\\alpha \\beta}{\\alpha + \\beta} |\\mathbf{R}_A - \\mathbf{R}_B|^2 \\Big)\\,, \\qquad\n",
    "p = \\alpha + \\beta \\,, \\qquad\n",
    "\\mathbf{R}_P = \\frac{\\alpha \\mathbf{R}_A + \\beta \\, \\mathbf{R}_B}{\\alpha + \\beta} $$\n",
    "\n",
    "donde $\\tilde{K}_{AB}$ es el factor pre-exponencial, $p$ es el exponente total y $\\mathbf{R}_P$ es la coordenada del centro de carga."
   ]
  },
  {
   "cell_type": "code",
   "execution_count": 10,
   "id": "c984e833-dc9f-4b5f-8d4f-c9c098148d02",
   "metadata": {},
   "outputs": [],
   "source": [
    "def K(a:float, b:float, RA:np.array, RB:np.array):\n",
    "    \"\"\"\n",
    "        Factor pre-exponencial\n",
    "    (a, b) : exponente orbital Gaussiano de la función centrada en (A, B)\n",
    "    (RA, RB) : coordenadas del núcleo (A, B)\n",
    "    \"\"\"\n",
    "    RAB2 = np.square(np.linalg.norm(RA-RB)) # distancia interatómica al cuadrado, |RA - RB|^2\n",
    "    return np.exp(-(a*b) / (a+b) * RAB2)"
   ]
  },
  {
   "cell_type": "code",
   "execution_count": 11,
   "id": "70d6a7c3-f9a2-43ce-a203-1da2de609c8b",
   "metadata": {},
   "outputs": [],
   "source": [
    "def RP(a:float, b:float, RA:np.array, RB:np.array):\n",
    "    \"\"\"\n",
    "        Coordenada del centro de carga RP\n",
    "    (a, b) : exponente orbital Gaussiano de la función centrada en (A, B)\n",
    "    (RA, RB) : coordenadas del núcleo (A, B)\n",
    "    \"\"\"\n",
    "    return (a*RA + b*RB)/(a+b)"
   ]
  },
  {
   "cell_type": "markdown",
   "id": "c73cee14-dc0c-4522-a775-f5225f3c5b5e",
   "metadata": {},
   "source": [
    "Para el término $1/r_C$ de la integral $I_2^{AB}$ considere que [2, pág.344]\n",
    "\n",
    "$$ \\int_{-\\infty}^{\\infty} \\exp(-a x^2) \\, \\mathrm{d}x = \\sqrt{\\frac{\\pi}{a}} \\,, \\quad \\alpha \\in \\mathbb{R}_{> 0} $$\n",
    "\n",
    "de lo cual\n",
    "\n",
    "$$ \\frac{1}{r_C} = \\frac{1}{\\sqrt{\\pi}} \\int_{-\\infty}^{\\infty} \\exp(-r_C^2 t^2) \\, \\mathrm{d}t $$"
   ]
  },
  {
   "cell_type": "markdown",
   "id": "fa2ef168-8324-4e14-ad9f-1ab6aad64446",
   "metadata": {},
   "source": [
    "Del trabajo previo se tendrá que la integral $I_2^{AB}$ es\n",
    "\n",
    "$$ I_2^{AB} = \\tilde{K}_{AB} \\int \\exp(-p \\, r_P^2) \\left[ \\frac{1}{\\sqrt{\\pi}} \\int_{-\\infty}^{\\infty} \\exp(-r_C^2 t^2) \\, \\mathrm{d}t \\right] \\, \\mathrm{d}\\mathbf{r} $$\n",
    "\n",
    "Se multiplican ambas Gaussianas [2, pág341] similarmente a como se hizo previamente con $\\phi^{A}$ y $\\phi^{B}$:\n",
    "\n",
    "$$ \\exp(-p |\\mathbf{r} - \\mathbf{R}_P|^2) \\exp(-t^2 |\\mathbf{r} - \\mathbf{R}_C|^2)\n",
    "= \\tilde{K}_{PC} \\exp(- (p + t^2) |\\mathbf{r} - \\mathbf{R}_S|^2)\n",
    "= \\tilde{K}_{PC} \\exp(- (p + t^2) \\, r_S^2)\n",
    "$$\n",
    "\n",
    "donde\n",
    "\n",
    "$$ \\tilde{K}_{PC} = \\exp \\left( - \\frac{p \\, t^2}{p + t^2} R_{PC}^2 \\right)\\,, \\qquad\n",
    "\\mathbf{R}_S = \\frac{p \\mathbf{R}_P + t^2 \\mathbf{R}_C}{p + t^2} $$\n",
    "\n",
    "con $R_{PC} = |\\mathbf{R}_P - \\mathbf{R}_C|$ y $\\mathbf{R}_S$ es un punto en la línea que conecta a $\\mathbf{R}_P$ y $\\mathbf{R}_C$."
   ]
  },
  {
   "cell_type": "markdown",
   "id": "cc3c6e22-3742-486e-925b-bf9d5cd42455",
   "metadata": {},
   "source": [
    "Así pues, la integral $I_2^{AB}$ es entonces\n",
    "\n",
    "$$ I_2^{AB} = \\frac{\\tilde{K}_{AB}}{\\sqrt{\\pi}} \\int_{-\\infty}^{\\infty} \\Bigg\\{ \\underbrace{\\int \\exp[- (p + t^2) \\, r_S^2] \\, \\mathrm{d}\\mathbf{r}}_{I_S} \\Bigg\\} \\exp \\left( - \\frac{p \\, t^2}{p + t^2} R_{PC}^2 \\right) \\, \\mathrm{d}t $$\n",
    "\n",
    "<div class='alert alert-block alert-warning'>\n",
    "Helgaker evalúa a la integral $I_{S}$ sobre todo el espacio [2, pág.362], es decir considera $\\mathrm{d}\\mathbf{r} = r^2 \\sin \\theta \\, \\mathrm{d}r \\, \\mathrm{d}\\theta \\, \\mathrm{d}\\phi$. Para el presente trabajo ya se integró sobre las coordenadas angulares lo cual resultaba en un factor de 1 debido al armónico esférico $Y_{00}$.\n",
    "</div>\n",
    "\n",
    "Por lo discutido previamente, aquí $\\mathrm{d}\\mathbf{r} = r^2 \\mathrm{d}r$ en cuyo caso la integral $I_S$ será\n",
    "\n",
    "$$ I_S = \\frac{\\sqrt{\\pi}}{4 \\, (p + t^2)^{3/2}} $$"
   ]
  },
  {
   "cell_type": "markdown",
   "id": "72b542b5-9eb9-49e0-9903-ada494c9f6a7",
   "metadata": {},
   "source": [
    "Mas aún, fíjese $I_S$ y $\\exp \\left( - \\frac{p \\, t^2}{p + t^2} R_{PC}^2 \\right)$ son funciones pares, así puede tomarse dos veces la integral respecto a $t$ con límites de integración de 0 a $\\infty$. La integral $I_{2}^{AB}$ se reduce a\n",
    "\n",
    "$$ I_2^{AB}\n",
    "= \\tfrac{1}{2} \\tilde{K}_{AB} \\int_{0}^{\\infty} (p + t^2)^{-3/2} \\exp \\left( - p \\, R_{PC}^2 \\frac{t^2}{p + t^2} \\right) \\, \\mathrm{d}t\n",
    "$$\n",
    "\n",
    "Haciendo el cambio de variable $u^2 = t^2/(p + t^2)$ que lleva a $\\mathrm{d}t = \\sqrt{p}(1-u^2)^{-3/2}$ se sigue que\n",
    "\n",
    "$$ I_2^{AB} = \\frac{\\tilde{K}_{AB}}{2 p} \\int_{0}^{1} \\exp \\left( - p \\, R_{PC}^2 \\, u^2 \\right) \\, \\mathrm{d}u $$"
   ]
  },
  {
   "cell_type": "markdown",
   "id": "97416e40-9662-4f3d-9821-09459432f9c8",
   "metadata": {},
   "source": [
    "Esta última integral pertenece a una clase de funciones conocidas por *funciones de Boys* y son de la forma\n",
    "$$ F_n(x) = \\int_0^1 \\exp(-x t^2) t^{2n} \\, \\mathrm{d}t $$\n",
    "\n",
    "Función la cual está relacionada con las función Gamma $\\Gamma(n)$ y la función Gamma inferior incompleta $P(n,x)$ [2, pág.368]:\n",
    "\n",
    "$$ F_n(x) = \\frac{\\Gamma(n+\\frac{1}{2}) P(n+\\frac{1}{2},x)}{2 x^{n + 1/2}}\n",
    "$$\n",
    "\n",
    "donde\n",
    "\n",
    "$$ \\Gamma(n) = \\int_{0}^{\\infty} \\exp(-t) t^{n-1} \\, \\mathrm{d}t\\,, \\qquad\n",
    "P(n,x) = \\frac{1}{\\Gamma(n)} \\int_{0}^{x} \\exp(-t) t^{n-1} \\, \\mathrm{d}t\n",
    "$$\n",
    "\n",
    "Así, el valor final de la integral buscada es\n",
    "\n",
    "$$ \\boxed{I_2^{AB} = \\frac{\\tilde{K}_{AB}}{2 p} F_{0}(p \\, R_{PC}^2)} $$"
   ]
  },
  {
   "cell_type": "code",
   "execution_count": 12,
   "id": "31d00f67-0983-4b1f-80e1-0e580e3349a7",
   "metadata": {},
   "outputs": [],
   "source": [
    "def Boys(n:float, x:float):\n",
    "    \"\"\"\n",
    "        Función de Boys Fn(x)\n",
    "    n : orden de la función\n",
    "    x : argumento\n",
    "    \"\"\"\n",
    "    return factorial(n+1/2) * gammainc(n,x) / (2 * np.power(x, n+1/2))"
   ]
  },
  {
   "cell_type": "markdown",
   "id": "8f029e2f-12e6-4c99-958a-1b282669b07f",
   "metadata": {},
   "source": [
    "Finalmente, para $f_{2}^{(AB)}$ se tiene entonces que\n",
    "\n",
    "$$ f_{2}^{(AB)}\n",
    "= -\\sum_i^{k} \\sum_j^{k} d_i d_j \\Bigg\\{ \\sum_C Z_C \\Bigg[ \\frac{\\tilde{K}_{AB}}{2 p} F_{0}(p \\, R_{PC}^2) \\Bigg] \\Bigg\\}\n",
    "= -\\frac{1}{2} \\sum_i^{k} \\sum_j^{k} \\left\\{ \\frac{d_i d_j}{\\alpha_i + \\alpha_j} \\tilde{K}_{AB} \\Bigg[ \\sum_C Z_C F_{0}((\\alpha_i + \\alpha_j) \\, R_{PC}^2) \\Bigg] \\right\\}\n",
    "$$\n",
    "\n",
    "donde\n",
    "\n",
    "$$ \\tilde{K}_{AB} = \\exp\\Big( - \\frac{\\alpha_i \\alpha_j}{\\alpha_i + \\alpha_j} |\\mathbf{R}_A - \\mathbf{R}_B|^2 \\Big)\\,, \\qquad\n",
    "R_{PC} = |\\mathbf{R}_P - \\mathbf{R}_C|\\,, \\qquad\n",
    "\\mathbf{R}_P = \\frac{\\alpha_i \\mathbf{R}_A + \\alpha_j \\mathbf{R}_B}{\\alpha_i + \\alpha_j}\n",
    "$$"
   ]
  },
  {
   "cell_type": "markdown",
   "id": "07b98797-7fc5-40df-97e8-7610a5119d7d",
   "metadata": {},
   "source": [
    "Incluyendo los factores de normalización se obtiene:\n",
    "\n",
    "$$ \\begin{align*}\n",
    "f_{2}^{(AB)}\n",
    "&= -\\frac{1}{2} \\sum_i^{k} \\sum_j^{k} \\left\\{ \\left( \\frac{2(2\\alpha_i)^{3/4}}{\\pi^{1/4}} \\right) \\left( \\frac{2(2\\alpha_j)^{3/4}}{\\pi^{1/4}} \\right) \\frac{d_i d_j}{\\alpha_i + \\alpha_j} \\tilde{K}_{AB} \\Bigg[ \\sum_C Z_C F_{0}((\\alpha_i + \\alpha_j) \\, R_{PC}^2) \\Bigg] \\right\\} \\\\\n",
    "&= \\boxed{- \\frac{2^{5/2}}{\\sqrt{\\pi}} \\sum_i^{k} \\sum_j^{k} d_i d_j \\frac{(\\alpha_i \\alpha_j)^{3/4}}{\\alpha_i + \\alpha_j} \\tilde{K}_{AB} \\Bigg[ \\sum_C Z_C F_{0}((\\alpha_i + \\alpha_j) \\, R_{PC}^2) \\Bigg] }\n",
    "\\end{align*}\n",
    "$$"
   ]
  },
  {
   "cell_type": "code",
   "execution_count": 21,
   "id": "9aebb4e8-c611-4892-ad70-f2a4777f0c3e",
   "metadata": {},
   "outputs": [],
   "source": [
    "def Z2AB(ai:float, aj:float, R:list, Z:np.array, RP:np.array):\n",
    "    \"\"\"\n",
    "        Suma sobre los núcleos A y B\n",
    "    (ai, aj) : exponente orbital Gaussiano de la función centrada en (A, B)\n",
    "    R : vector de núcleos [Ra, Rb] donde Rc = [C1, C2, C3]\n",
    "    Z : vector de cargas atómicas [Za, Zb]\n",
    "    RP : coordenada del centro de carga\n",
    "    \"\"\"\n",
    "    suma = 0\n",
    "    for C in range(len(Z)):\n",
    "        RPC2 = np.square(np.linalg.norm(RP-R[C])) # distancia interatómica al cuadrado, |RP-RC|^2\n",
    "        suma += Z[C] * Boys(0, (ai+aj)*RPC2)\n",
    "    return suma"
   ]
  },
  {
   "cell_type": "code",
   "execution_count": 23,
   "id": "716e3116-da29-4133-8eab-e0b0dde8f7ea",
   "metadata": {},
   "outputs": [],
   "source": [
    "def f2AB(d:np.array, a:np.array, RA:float, RB:float, ZA:float, ZB:float):\n",
    "    \"\"\"\n",
    "    d : vector de coeficientes de contracción [d1, d2, ..., dn]\n",
    "    a : vector de exponentes orbitales Gaussianos [a1, a2, ..., an]\n",
    "    (RA, RB) : coord. núcleo (A, B)\n",
    "    (ZA, ZB) : carga nuclear del núcleo (A, B)\n",
    "    \"\"\"\n",
    "    suma = 0\n",
    "    k = len(d)\n",
    "    for i in range(k):\n",
    "        for j in range(k):\n",
    "            KAB = K(a[i], a[j], RA, RB) # factor pre-exponencial\n",
    "            Rp = RP(a[i], a[j], RA, RB) # coordenada del centro de carga\n",
    "            suma += d[i]*d[j] *np.power(a[i]*a[j], 0.75) / (a[i]+a[j]) * KAB * Z2AB(a[i], a[j], [RA, RB], [ZA, ZB], Rp)\n",
    "    return -np.power(2,2.5)/np.sqrt(np.pi) * suma"
   ]
  },
  {
   "cell_type": "markdown",
   "id": "26584ee1-f51f-42e2-a5cc-d9e948f5598e",
   "metadata": {},
   "source": [
    "<div class='alert alert-block alert-info'><strong>Término $f_{2}^{(AA)}$</strong></div>\n",
    "\n",
    "Para $f_{2}^{(AA)}$ se tiene\n",
    "\n",
    "$$\n",
    "f_{2}^{(AB)} = (\\varphi_A | \\hat{f}_2 | \\varphi_A)\n",
    "= \\sum_i^{k} \\sum_j^{k} d_i d_j \\Big( - \\sum_C Z_C \\int \\frac{\\phi_{i}^{(A)} \\phi_{j}^{(A)}}{r_C} \\, \\mathrm{d}\\mathbf{r} \\Big)\n",
    "= \\sum_i^{k} \\sum_j^{k} d_i d_j \\Bigg( - Z_A \\underbrace{\\int \\frac{\\phi_{i}^{(A)} \\phi_{j}^{(A)}}{r_A} \\, \\mathrm{d}\\mathbf{r}}_{I_1} - Z_B \\underbrace{\\int \\frac{\\phi_{i}^{(A)} \\phi_{j}^{(A)}}{r_B} \\, \\mathrm{d}\\mathbf{r}}_{I_2} \\Bigg) \\,.\n",
    "$$\n",
    "\n",
    "La multiplicación de Gaussianas $\\phi_i^{(A)} \\phi_j^{(A)}$ no es más que:\n",
    "\n",
    "$$ \\phi_i^{(A)} \\phi_j^{(A)} = \\exp(-\\alpha_i |\\mathbf{r} - \\mathbf{R}_A|^2) \\exp(-\\alpha_i |\\mathbf{r} - \\mathbf{R}_A|^2)\n",
    "= \\exp[-(\\alpha_i + \\alpha_j) |\\mathbf{r} - \\mathbf{R}_A|^2]\n",
    "= \\exp[-(\\alpha_i + \\alpha_j) r_A^2] \\,.\n",
    "$$"
   ]
  },
  {
   "cell_type": "markdown",
   "id": "b9b1d5a1-9425-4336-ae05-6fafc6385146",
   "metadata": {},
   "source": [
    "Para la integral $I_1$ considere el siguiente desarrollo:\n",
    "\n",
    "$$ I_1\n",
    "= \\int \\frac{\\exp[-(\\alpha_i + \\alpha_j) r_A^2]}{r_A} \\, \\mathrm{d}\\mathbf{r}\n",
    "= \\int_0^\\infty r \\exp[-(\\alpha_i + \\alpha_j) r^2] \\, \\mathrm{d}r\n",
    "= \\frac{1}{2(\\alpha_i + \\alpha_j)} \\,.\n",
    "$$\n",
    "\n",
    "Observe que $I_2$ tiene la misma estructura que $I_2^{(AB)}$ desarrollado para el caso del término $f_2^{(AB)}$. No obstante, para este caso se tiene que $\\tilde{K}_{AB} = 1$, $\\mathbf{R}_P = \\mathbf{R}_A$ y $\\mathbf{R}_C = \\mathbf{R}_B$, de lo cual\n",
    "\n",
    "$$ I_2\n",
    "= \\frac{1}{2 p} F_{0}(p \\, R_{AB}^2)\n",
    "= \\frac{1}{2 (\\alpha_i + \\alpha_j)} F_{0}\\big[ (\\alpha_i + \\alpha_j) \\, R_{AB}^2 \\big] \\,.\n",
    "$$"
   ]
  },
  {
   "cell_type": "markdown",
   "id": "b80d4ee3-bde2-4f55-a07f-ae1d4d4dffcf",
   "metadata": {},
   "source": [
    "Finalmente, el término $f_2^{(AA)}$ es\n",
    "\n",
    "$$ f_{2}^{(AA)}\n",
    "= - \\tfrac{1}{2} \\sum_i^{k} \\sum_j^{k} \\frac{d_i d_j}{\\alpha_i + \\alpha_j} \\Big\\{ Z_A + Z_B F_0 \\big[(\\alpha_i + \\alpha_j) R_{AB}^2 \\big] \\Big\\}\n",
    "$$"
   ]
  },
  {
   "cell_type": "code",
   "execution_count": 24,
   "id": "ad54f852-7868-457d-b9f1-6661dbf7bc03",
   "metadata": {},
   "outputs": [],
   "source": [
    "def f2AA(d:np.array, a:np.array, RA:np.array, RB:np.array, ZA:float, ZB:float):\n",
    "    \"\"\"\n",
    "    d : vector de coeficientes de contracción [d1, d2, ..., dn]\n",
    "    a : vector de exponentes orbitales Gaussianos [a1, a2, ..., an]\n",
    "    (RA, RB) : coord. núcleo (A, B)\n",
    "    (ZA, ZB) : carga nuclear del núcleo (A, B)\n",
    "    \"\"\"\n",
    "    RAB2 = np.square(np.linalg.norm(RA-RB)) # distancia interatómica al cuadrado, |RA-RB|^2\n",
    "    \n",
    "    suma = 0\n",
    "    k = len(d)\n",
    "    for i in range(k):\n",
    "        for j in range(k):\n",
    "            # const(a) = const. de normalización de Gaussianas 1s\n",
    "            suma += const(a[i]) * const(a[j]) * d[i]*d[j]/(a[i]+a[j]) * ( ZA + ZB*Boys(0, (a[i]+a[j])*RAB2) )\n",
    "    \n",
    "    return (-1/2) * suma"
   ]
  },
  {
   "cell_type": "markdown",
   "id": "fc47b9c3-bf51-4087-8e21-2ca99e17b565",
   "metadata": {},
   "source": [
    "<div class='alert alert-block alert-success'><strong>Elemento de matriz $f_{pp}$</strong></div>\n",
    "\n",
    "Finalmente, es posible calcular el elemento de matriz $f_{pp} = 2 \\left[ f_{1}^{(AA)} \\pm_p f_{1}^{(AB)} + f_{2}^{(AA)} \\pm_p f_{2}^{(AB)} \\right]$. Si $p=1,2$ entonces el signo es positivo, mientras que si $p=3,4$ el signo será negativo."
   ]
  },
  {
   "cell_type": "code",
   "execution_count": 25,
   "id": "e00543ab-b748-4254-af98-84d3723585e4",
   "metadata": {},
   "outputs": [],
   "source": [
    "def fpp(p:int, d:np.array, a:np.array, RA:np.array, RB:np.array, ZA:float, ZB:float):\n",
    "    \"\"\"\n",
    "        Elemento de matriz f_pp\n",
    "    p : p-ésimo elemento de la base ordenada\n",
    "    d : vector de coeficientes de contracción [d1, d2, ..., dn]\n",
    "    a : vector de exponentes orbitales Gaussianos [a1, a2, ..., an]\n",
    "    (RA, RB) : coord. núcleo (A,B)\n",
    "    (ZA, ZB) : carga nuclear, núcleo (A, B)\n",
    "    \"\"\"\n",
    "    term1AA = f1AA(d, a)\n",
    "    term1AB = f1AB(d, a, RA, RB)\n",
    "    term2AA = f2AA(d, a, RA, RB, ZA, ZB)\n",
    "    term2AB = f2AB(d, a, RA, RB, ZA, ZB)\n",
    "\n",
    "    if p in [1,2]:\n",
    "        return 2*(term1AA + term1AB + term2AA + term2AB)\n",
    "    else:\n",
    "        return 2*(term1AA - term1AB + term2AA - term2AB)"
   ]
  },
  {
   "cell_type": "code",
   "execution_count": 93,
   "id": "509dcf92-66bd-4070-8e3d-5ea44fa40c22",
   "metadata": {},
   "outputs": [],
   "source": [
    "# Parámetros Gaussianos obtenidos en `(1) STO-3G.ipynb`\n",
    "d = np.array([0.44471812476789035, 0.5352716544572346, 0.1543000507808527])\n",
    "a = np.array([0.10983311305458726, 0.40584959263313375, 2.227949029647934])\n",
    "\n",
    "RA = np.array([0, 0, 0])\n",
    "RB = np.array([1.401, 0, 0])\n",
    "ZA = 1\n",
    "ZB = 1\n",
    "\n",
    "f11 = fpp(1, d, a, RA, RB, ZA, ZB)\n",
    "f33 = fpp(3, d, a, RA, RB, ZA, ZB)"
   ]
  },
  {
   "cell_type": "code",
   "execution_count": 94,
   "id": "3ab84353-9c4e-4c12-8837-81e63abadae6",
   "metadata": {},
   "outputs": [
    {
     "data": {
      "text/plain": [
       "np.float64(-4.292930320257096)"
      ]
     },
     "execution_count": 94,
     "metadata": {},
     "output_type": "execute_result"
    }
   ],
   "source": [
    "f11"
   ]
  },
  {
   "cell_type": "code",
   "execution_count": 95,
   "id": "27631436-818f-4e05-8199-ef2779d7fbbf",
   "metadata": {},
   "outputs": [
    {
     "data": {
      "text/plain": [
       "np.float64(0.885745439483749)"
      ]
     },
     "execution_count": 95,
     "metadata": {},
     "output_type": "execute_result"
    }
   ],
   "source": [
    "f33"
   ]
  },
  {
   "cell_type": "code",
   "execution_count": 96,
   "id": "1e3f36f6-3a8d-482f-b619-13627912ae96",
   "metadata": {},
   "outputs": [
    {
     "name": "stdout",
     "output_type": "stream",
     "text": [
      "f1AB: 0.25782165875825447\n",
      "f1BA: 0.25782165875825447\n"
     ]
    }
   ],
   "source": [
    "# revisión: f1AB = f1BA\n",
    "print('f1AB:', f1AB(d, a, RA, RB))\n",
    "print('f1BA:', f1AB(d, a, RB, RA))"
   ]
  },
  {
   "cell_type": "code",
   "execution_count": 97,
   "id": "c0ff6fc4-2123-46e6-a266-8a6ed08a0304",
   "metadata": {},
   "outputs": [
    {
     "name": "stdout",
     "output_type": "stream",
     "text": [
      "f2AA: -1.3461013356356974\n",
      "f2BB: -1.3461013356356974\n"
     ]
    }
   ],
   "source": [
    "# revisión: f2AA = f2BB\n",
    "print('f2AA:', f2AA(d, a, RA, RB, ZA, ZB))\n",
    "print('f2BB:', f2AA(d, a, RB, RA, ZA, ZB))"
   ]
  },
  {
   "cell_type": "code",
   "execution_count": 98,
   "id": "f6477c27-7765-4d27-bfa6-5702d8760a88",
   "metadata": {},
   "outputs": [
    {
     "name": "stdout",
     "output_type": "stream",
     "text": [
      "f2AB: -1.5524905986934656\n",
      "f2BA: -1.5524905986934658\n"
     ]
    }
   ],
   "source": [
    "# revisión: f2AA = f2BB\n",
    "print('f2AB:', f2AB(d, a, RA, RB, ZA, ZB))\n",
    "print('f2BA:', f2AB(d, a, RB, RA, ZA, ZB))"
   ]
  },
  {
   "cell_type": "code",
   "execution_count": null,
   "id": "297e3bec-635e-4878-8b24-a8c1cf81f189",
   "metadata": {},
   "outputs": [],
   "source": []
  },
  {
   "cell_type": "code",
   "execution_count": null,
   "id": "df607806-802f-4f07-99ec-d8d0ce85c851",
   "metadata": {},
   "outputs": [],
   "source": []
  },
  {
   "cell_type": "code",
   "execution_count": null,
   "id": "31bf3e6e-db5a-445e-bb6a-7e9e14db377e",
   "metadata": {},
   "outputs": [],
   "source": [
    "def f2AB_v2(d:np.array, a:np.array, RA:float, RB:float, ZA:float, ZB:float):\n",
    "    \"\"\"\n",
    "        Modern quantum chemistry\n",
    "    d : vector de coeficientes de contracción [d1, d2, ..., dn]\n",
    "    a : vector de exponentes orbitales Gaussianos [a1, a2, ..., an]\n",
    "    (RA, RB) : coord. núcleo (A, B)\n",
    "    (ZA, ZB) : carga nuclear del núcleo (A, B)\n",
    "    \"\"\"\n",
    "    suma = 0\n",
    "    k = len(d)\n",
    "    for i in range(k):\n",
    "        for j in range(k):\n",
    "            suma +=\n",
    "    return suma"
   ]
  }
 ],
 "metadata": {
  "kernelspec": {
   "display_name": "Python 3 (ipykernel)",
   "language": "python",
   "name": "python3"
  },
  "language_info": {
   "codemirror_mode": {
    "name": "ipython",
    "version": 3
   },
   "file_extension": ".py",
   "mimetype": "text/x-python",
   "name": "python",
   "nbconvert_exporter": "python",
   "pygments_lexer": "ipython3",
   "version": "3.13.1"
  }
 },
 "nbformat": 4,
 "nbformat_minor": 5
}
